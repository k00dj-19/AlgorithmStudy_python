{
  "nbformat": 4,
  "nbformat_minor": 0,
  "metadata": {
    "colab": {
      "name": "baekjoon_stage2.ipynb",
      "provenance": [],
      "collapsed_sections": [],
      "authorship_tag": "ABX9TyN3bNejVu1JoTig3Qf0THKw",
      "include_colab_link": true
    },
    "kernelspec": {
      "name": "python3",
      "display_name": "Python 3"
    },
    "language_info": {
      "name": "python"
    }
  },
  "cells": [
    {
      "cell_type": "markdown",
      "metadata": {
        "id": "view-in-github",
        "colab_type": "text"
      },
      "source": [
        "<a href=\"https://colab.research.google.com/github/k00dj-19/AlgorithmStudy_python/blob/master/baekjoon_stage2.ipynb\" target=\"_parent\"><img src=\"https://colab.research.google.com/assets/colab-badge.svg\" alt=\"Open In Colab\"/></a>"
      ]
    },
    {
      "cell_type": "code",
      "metadata": {
        "colab": {
          "base_uri": "https://localhost:8080/"
        },
        "id": "NfWl_HmNronP",
        "outputId": "4df2eedf-a6c4-4653-b9cd-9182417d8fd7"
      },
      "source": [
        "#1\n",
        "a, b = map(int, input().split())\n",
        "if a > b : print(\">\")\n",
        "elif a < b : print(\"<\")\n",
        "else : print(\"==\")"
      ],
      "execution_count": null,
      "outputs": [
        {
          "output_type": "stream",
          "text": [
            "5 5\n",
            "==\n"
          ],
          "name": "stdout"
        }
      ]
    },
    {
      "cell_type": "code",
      "metadata": {
        "colab": {
          "base_uri": "https://localhost:8080/"
        },
        "id": "YSM9o2lMr_gU",
        "outputId": "57848ae5-1739-4336-bdba-8466beb3007e"
      },
      "source": [
        "#2\n",
        "score = int(input())\n",
        "if score >= 90 and score <= 100 : print(\"A\")\n",
        "elif score >= 80 and score <= 89 : print(\"B\")\n",
        "elif score >= 70 and score <= 79 : print(\"C\")\n",
        "elif score >= 60 and score <= 69 : print(\"D\")\n",
        "else : print(\"F\")"
      ],
      "execution_count": null,
      "outputs": [
        {
          "output_type": "stream",
          "text": [
            "100\n",
            "A\n"
          ],
          "name": "stdout"
        }
      ]
    },
    {
      "cell_type": "code",
      "metadata": {
        "colab": {
          "base_uri": "https://localhost:8080/"
        },
        "id": "QnyilgPIssmG",
        "outputId": "7b177e33-ce2f-4624-a215-c84e6fcaac87"
      },
      "source": [
        "#3\n",
        "year = int(input())\n",
        "if (year%4 == 0 and year%100 != 0) or year%400 == 0 : print(1)\n",
        "else : print(0)"
      ],
      "execution_count": null,
      "outputs": [
        {
          "output_type": "stream",
          "text": [
            "2000\n",
            "1\n"
          ],
          "name": "stdout"
        }
      ]
    },
    {
      "cell_type": "code",
      "metadata": {
        "colab": {
          "base_uri": "https://localhost:8080/"
        },
        "id": "EQLKFNxAtTa0",
        "outputId": "9fa9eb7a-6180-4934-b23a-2b6c3f0a9612"
      },
      "source": [
        "#4\n",
        "x = int(input())\n",
        "y = int(input())\n",
        "if x>0 and y>0 : print(1)\n",
        "elif x<0 and y>0 : print(2)\n",
        "elif x<0 and y<0 : print(3)\n",
        "else : print(4)"
      ],
      "execution_count": null,
      "outputs": [
        {
          "output_type": "stream",
          "text": [
            "-1\n",
            "23\n",
            "2\n"
          ],
          "name": "stdout"
        }
      ]
    },
    {
      "cell_type": "code",
      "metadata": {
        "colab": {
          "base_uri": "https://localhost:8080/"
        },
        "id": "Roi7TIBft-lS",
        "outputId": "fb780cbd-5ef3-4d9d-9b64-24a45867c4e7"
      },
      "source": [
        "#5\n",
        "h, m = map(int, input().split())\n",
        "if m < 45 :\n",
        "  if h == 0 :\n",
        "    h = 23\n",
        "  else : \n",
        "    h -= 1\n",
        "  m += 15 \n",
        "  print(h, m)\n",
        "else :\n",
        "  m -= 45\n",
        "  print(h, m)"
      ],
      "execution_count": null,
      "outputs": [
        {
          "output_type": "stream",
          "text": [
            "23 45\n",
            "23 0\n"
          ],
          "name": "stdout"
        }
      ]
    },
    {
      "cell_type": "code",
      "metadata": {
        "id": "nLV-Sftiu-sk"
      },
      "source": [
        ""
      ],
      "execution_count": null,
      "outputs": []
    }
  ]
}