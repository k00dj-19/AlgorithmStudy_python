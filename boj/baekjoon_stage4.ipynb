{
  "nbformat": 4,
  "nbformat_minor": 0,
  "metadata": {
    "colab": {
      "name": "baekjoon_stage4.ipynb",
      "provenance": [],
      "authorship_tag": "ABX9TyML97jwZDU/a78xOjkf7SMH",
      "include_colab_link": true
    },
    "kernelspec": {
      "name": "python3",
      "display_name": "Python 3"
    },
    "language_info": {
      "name": "python"
    }
  },
  "cells": [
    {
      "cell_type": "markdown",
      "metadata": {
        "id": "view-in-github",
        "colab_type": "text"
      },
      "source": [
        "<a href=\"https://colab.research.google.com/github/k00dj-19/AlgorithmStudy_python/blob/master/baekjoon_stage4.ipynb\" target=\"_parent\"><img src=\"https://colab.research.google.com/assets/colab-badge.svg\" alt=\"Open In Colab\"/></a>"
      ]
    },
    {
      "cell_type": "code",
      "metadata": {
        "colab": {
          "base_uri": "https://localhost:8080/"
        },
        "id": "cUx_a6HYAqYN",
        "outputId": "13697e12-7545-4c36-efc8-cebf99271aea"
      },
      "source": [
        "#1\n",
        "import sys\n",
        "sum_list = []\n",
        "while 1:\n",
        "  a, b = map(int, sys.stdin.readline().split())\n",
        "  if a == 0 and b == 0 :\n",
        "    break\n",
        "  sum_list.append(a+b)\n",
        "\n",
        "i = 0\n",
        "while i < len(sum_list):\n",
        "  print(sum_list[i])\n",
        "  i+=1"
      ],
      "execution_count": null,
      "outputs": [
        {
          "output_type": "stream",
          "text": [
            "1 1\n",
            "2 1\n",
            "21 1\n",
            "2 2\n",
            "2 3\n",
            "0 0\n",
            "2\n",
            "3\n",
            "22\n",
            "4\n",
            "5\n"
          ],
          "name": "stdout"
        }
      ]
    },
    {
      "cell_type": "code",
      "metadata": {
        "id": "2XN0qx-XCD7s"
      },
      "source": [
        "#2\n",
        "import sys\n",
        "while True:\n",
        "  try:\n",
        "    a, b = map(int, sys.stdin.readline().split())\n",
        "    print(a+b)\n",
        "  except:\n",
        "    break"
      ],
      "execution_count": null,
      "outputs": []
    },
    {
      "cell_type": "code",
      "metadata": {
        "colab": {
          "base_uri": "https://localhost:8080/"
        },
        "id": "BzFK1DLYDoYX",
        "outputId": "47d484b7-9475-4e28-e1ec-1d6de15b6b1f"
      },
      "source": [
        "#3\n",
        "n = int(input())\n",
        "sycle = 1\n",
        "temp_1 = n\n",
        "temp_2 = temp_1%10 + temp_1//10\n",
        "temp_3 = (temp_1%10)*10 + temp_2%10\n",
        "while n != temp_3 :\n",
        "  sycle += 1\n",
        "  temp_1 = temp_3\n",
        "  temp_2 = temp_1%10 + temp_1//10\n",
        "  temp_3 = (temp_1%10)*10 + temp_2%10\n",
        "print(sycle)"
      ],
      "execution_count": null,
      "outputs": [
        {
          "output_type": "stream",
          "text": [
            "0\n",
            "1\n"
          ],
          "name": "stdout"
        }
      ]
    }
  ]
}