{
  "nbformat": 4,
  "nbformat_minor": 0,
  "metadata": {
    "colab": {
      "name": "baekjoon_stage5.ipynb",
      "provenance": [],
      "authorship_tag": "ABX9TyO6ImTD3dqPZBMJjuWN0hhG",
      "include_colab_link": true
    },
    "kernelspec": {
      "name": "python3",
      "display_name": "Python 3"
    },
    "language_info": {
      "name": "python"
    }
  },
  "cells": [
    {
      "cell_type": "markdown",
      "metadata": {
        "id": "view-in-github",
        "colab_type": "text"
      },
      "source": [
        "<a href=\"https://colab.research.google.com/github/k00dj-19/AlgorithmStudy_python/blob/master/baekjoon_stage5.ipynb\" target=\"_parent\"><img src=\"https://colab.research.google.com/assets/colab-badge.svg\" alt=\"Open In Colab\"/></a>"
      ]
    },
    {
      "cell_type": "code",
      "metadata": {
        "colab": {
          "base_uri": "https://localhost:8080/"
        },
        "id": "H8ef_ubDIJRd",
        "outputId": "d847ec67-35c9-46b9-a98e-d5495850e665"
      },
      "source": [
        "#1\n",
        "n = int(input())\n",
        "arr = list(map(int, input().split()))\n",
        "if len(arr) != n : exit()\n",
        "min_a = 1000000\n",
        "max_a = -1000000\n",
        "for i in arr:\n",
        "  if min_a > i : min_a = i\n",
        "  if max_a < i : max_a = i\n",
        "print(min_a, max_a)"
      ],
      "execution_count": null,
      "outputs": [
        {
          "output_type": "stream",
          "text": [
            "5\n",
            "432 23\n",
            "23 432\n"
          ],
          "name": "stdout"
        }
      ]
    },
    {
      "cell_type": "code",
      "metadata": {
        "colab": {
          "base_uri": "https://localhost:8080/",
          "height": 226
        },
        "id": "D7aCdsGhLsAI",
        "outputId": "634c9acf-a2b7-41e2-c0fb-7305d7e48be5"
      },
      "source": [
        "#1-2\n",
        "import sys\n",
        "n = int(input())\n",
        "arr = list(map(int, sys.stdin.readline().split()))\n",
        "if len(arr) != n : exit()\n",
        "print(min(arr), max(arr))"
      ],
      "execution_count": null,
      "outputs": [
        {
          "output_type": "stream",
          "text": [
            "4\n"
          ],
          "name": "stdout"
        },
        {
          "output_type": "error",
          "ename": "ValueError",
          "evalue": "ignored",
          "traceback": [
            "\u001b[0;31m---------------------------------------------------------------------------\u001b[0m",
            "\u001b[0;31mValueError\u001b[0m                                Traceback (most recent call last)",
            "\u001b[0;32m<ipython-input-1-323193dea54b>\u001b[0m in \u001b[0;36m<module>\u001b[0;34m()\u001b[0m\n\u001b[1;32m      4\u001b[0m \u001b[0marr\u001b[0m \u001b[0;34m=\u001b[0m \u001b[0mlist\u001b[0m\u001b[0;34m(\u001b[0m\u001b[0mmap\u001b[0m\u001b[0;34m(\u001b[0m\u001b[0mint\u001b[0m\u001b[0;34m,\u001b[0m \u001b[0msys\u001b[0m\u001b[0;34m.\u001b[0m\u001b[0mstdin\u001b[0m\u001b[0;34m.\u001b[0m\u001b[0mreadline\u001b[0m\u001b[0;34m(\u001b[0m\u001b[0;34m)\u001b[0m\u001b[0;34m.\u001b[0m\u001b[0msplit\u001b[0m\u001b[0;34m(\u001b[0m\u001b[0;34m)\u001b[0m\u001b[0;34m)\u001b[0m\u001b[0;34m)\u001b[0m\u001b[0;34m\u001b[0m\u001b[0;34m\u001b[0m\u001b[0m\n\u001b[1;32m      5\u001b[0m \u001b[0;32mif\u001b[0m \u001b[0mlen\u001b[0m\u001b[0;34m(\u001b[0m\u001b[0marr\u001b[0m\u001b[0;34m)\u001b[0m \u001b[0;34m!=\u001b[0m \u001b[0mn\u001b[0m \u001b[0;34m:\u001b[0m \u001b[0mexit\u001b[0m\u001b[0;34m(\u001b[0m\u001b[0;34m)\u001b[0m\u001b[0;34m\u001b[0m\u001b[0;34m\u001b[0m\u001b[0m\n\u001b[0;32m----> 6\u001b[0;31m \u001b[0mprint\u001b[0m\u001b[0;34m(\u001b[0m\u001b[0mmin\u001b[0m\u001b[0;34m(\u001b[0m\u001b[0marr\u001b[0m\u001b[0;34m)\u001b[0m\u001b[0;34m,\u001b[0m \u001b[0mmax\u001b[0m\u001b[0;34m(\u001b[0m\u001b[0marr\u001b[0m\u001b[0;34m)\u001b[0m\u001b[0;34m)\u001b[0m\u001b[0;34m\u001b[0m\u001b[0;34m\u001b[0m\u001b[0m\n\u001b[0m",
            "\u001b[0;31mValueError\u001b[0m: min() arg is an empty sequence"
          ]
        }
      ]
    },
    {
      "cell_type": "code",
      "metadata": {
        "colab": {
          "base_uri": "https://localhost:8080/"
        },
        "id": "dmPu9y_sNwM-",
        "outputId": "3ac149c0-01ed-4dad-e552-6dd87d703421"
      },
      "source": [
        "#2\n",
        "arr_2 = []\n",
        "for i in range(9):\n",
        "  arr_2.append(int(input()))\n",
        "idx = arr_2.index(max(arr_2)) + 1\n",
        "print(max(arr_2))\n",
        "print(idx)"
      ],
      "execution_count": null,
      "outputs": [
        {
          "output_type": "stream",
          "text": [
            "1\n",
            "2\n",
            "3\n",
            "4\n",
            "5\n",
            "6\n",
            "7\n",
            "83\n",
            "4\n",
            "83\n",
            "8\n"
          ],
          "name": "stdout"
        }
      ]
    },
    {
      "cell_type": "code",
      "metadata": {
        "id": "WBCQCM51SnSw"
      },
      "source": [
        "#3\n",
        "a = int(input())\n",
        "b = int(input())\n",
        "c = int(input())\n",
        "d = str(a*b*c)\n",
        "arr_3 = []\n",
        "for i in range(10):\n",
        "  arr_3.append(d.count(str(i)))\n",
        "for j in arr_3:\n",
        "  print(j)"
      ],
      "execution_count": null,
      "outputs": []
    },
    {
      "cell_type": "code",
      "metadata": {
        "colab": {
          "base_uri": "https://localhost:8080/"
        },
        "id": "WwFyhjDCP8Z7",
        "outputId": "fa1e9758-b3af-46e2-bcb1-e6b0282e5856"
      },
      "source": [
        "#3-2\n",
        "a = int(input())\n",
        "b = int(input())\n",
        "c = int(input())\n",
        "d = str(a*b*c)\n",
        "for i in range(10):\n",
        "  print(d.count(str(i)))\n"
      ],
      "execution_count": null,
      "outputs": [
        {
          "output_type": "stream",
          "text": [
            "231\n",
            "123\n",
            "123\n",
            "0\n",
            "0\n",
            "0\n",
            "1\n",
            "2\n",
            "0\n",
            "0\n",
            "1\n",
            "0\n",
            "3\n"
          ],
          "name": "stdout"
        }
      ]
    },
    {
      "cell_type": "code",
      "metadata": {
        "colab": {
          "base_uri": "https://localhost:8080/"
        },
        "id": "EX5aE4gZTCmx",
        "outputId": "5dfd5572-32e6-479b-f453-4fcbf46c9d6c"
      },
      "source": [
        "#4\n",
        "arr_4 = [0]*42\n",
        "for i in range(10):\n",
        "  a = int(input())%42\n",
        "  arr_4[a] = arr_4[a] + 1\n",
        "print(42 - arr_4.count(0))\n"
      ],
      "execution_count": null,
      "outputs": [
        {
          "output_type": "stream",
          "text": [
            "39\n",
            "40\n",
            "41\n",
            "42\n",
            "43\n",
            "44\n",
            "82\n",
            "83\n",
            "84\n",
            "85\n",
            "6\n"
          ],
          "name": "stdout"
        }
      ]
    },
    {
      "cell_type": "code",
      "metadata": {
        "colab": {
          "base_uri": "https://localhost:8080/"
        },
        "id": "AJFjKwRlVBvM",
        "outputId": "40839930-641f-4957-f712-2d15f527a171"
      },
      "source": [
        "#5\n",
        "n = int(input())\n",
        "score = list(map(int, input().split()))\n",
        "new_score = []\n",
        "sum = 0\n",
        "for i in range(n):\n",
        "  new = score[i]/max(score)*100\n",
        "  new_score.append(score[i]/max(score)*100)\n",
        "  sum += new\n",
        "avg = sum/n\n",
        "print(avg)"
      ],
      "execution_count": null,
      "outputs": [
        {
          "output_type": "stream",
          "text": [
            "2\n",
            "3 10\n",
            "65.0\n"
          ],
          "name": "stdout"
        }
      ]
    },
    {
      "cell_type": "code",
      "metadata": {
        "id": "4cS-dG3QS2dU",
        "colab": {
          "base_uri": "https://localhost:8080/"
        },
        "outputId": "8f4d5fab-460e-4042-91c8-4e151cc041c5"
      },
      "source": [
        "#6\n",
        "n = int(input())\n",
        "arr_6 = []\n",
        "\n",
        "for i in range(n):\n",
        "  st = input()\n",
        "  score = 0\n",
        "  score_arr = []\n",
        "  for j in range(len(st)):\n",
        "    if st[j] == \"O\":\n",
        "      score += 1\n",
        "      score_arr.append(score)\n",
        "    elif st[j] == \"X\":\n",
        "      score = 0\n",
        "    else : exit()\n",
        "  sum_score = sum(score_arr)\n",
        "  arr_6.append(sum_score)\n",
        "for i in range(n):\n",
        "  print(arr_6[i])"
      ],
      "execution_count": null,
      "outputs": [
        {
          "output_type": "stream",
          "text": [
            "5\n",
            "OOXXOXXOOO\n",
            "OOXXOOXXOO\n",
            "OXOXOXOXOXOXOX\n",
            "OOOOOOOOOO\n",
            "OOOOXOOOOXOOOOX\n",
            "[10, 9, 7, 55, 30]\n"
          ],
          "name": "stdout"
        }
      ]
    },
    {
      "cell_type": "code",
      "metadata": {
        "colab": {
          "base_uri": "https://localhost:8080/"
        },
        "id": "oz4YXNL4PbCH",
        "outputId": "f2cca281-a480-494c-b0de-1460ef438a9b"
      },
      "source": [
        "#7\n",
        "import sys\n",
        "c = int(input())\n",
        "for i in range(c):\n",
        "  arr = list(map(int, sys.stdin.readline().split()))\n",
        "  avg = (sum(arr)-arr[0])/arr[0]\n",
        "  arr2 = [k for k in arr[1:] if k > avg]\n",
        "  ratio = len(arr2)/(len(arr)-1)*100\n",
        "  print(\"{:.3f}%\".format(ratio))"
      ],
      "execution_count": null,
      "outputs": [
        {
          "output_type": "stream",
          "text": [
            "5\n",
            "5 50 50 70 80 100\n",
            "40.000%\n",
            "7 100 95 90 80 70 60 50\n",
            "57.143%\n",
            "3 70 90 80\n",
            "33.333%\n",
            "3 70 90 81\n",
            "66.667%\n",
            "9 100 99 98 97 96 95 94 93 91\n",
            "55.556%\n"
          ],
          "name": "stdout"
        }
      ]
    },
    {
      "cell_type": "code",
      "metadata": {
        "colab": {
          "base_uri": "https://localhost:8080/"
        },
        "id": "dgdXdBIISlrm",
        "outputId": "d1585716-e508-46c0-e17e-67df666d31a0"
      },
      "source": [
        "print(\"{:.4f}\".format(1.0/3))"
      ],
      "execution_count": null,
      "outputs": [
        {
          "output_type": "stream",
          "text": [
            "0.3333\n"
          ],
          "name": "stdout"
        }
      ]
    }
  ]
}