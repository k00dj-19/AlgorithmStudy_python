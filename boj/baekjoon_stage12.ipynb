{
  "nbformat": 4,
  "nbformat_minor": 0,
  "metadata": {
    "colab": {
      "name": "baekjoon_stage12.ipynb",
      "provenance": [],
      "authorship_tag": "ABX9TyMHKHzdy+TMc3G5F+QXmIR1",
      "include_colab_link": true
    },
    "kernelspec": {
      "name": "python3",
      "display_name": "Python 3"
    },
    "language_info": {
      "name": "python"
    }
  },
  "cells": [
    {
      "cell_type": "markdown",
      "metadata": {
        "id": "view-in-github",
        "colab_type": "text"
      },
      "source": [
        "<a href=\"https://colab.research.google.com/github/k00dj-19/AlgorithmStudy_python/blob/master/baekjoon_stage12.ipynb\" target=\"_parent\"><img src=\"https://colab.research.google.com/assets/colab-badge.svg\" alt=\"Open In Colab\"/></a>"
      ]
    },
    {
      "cell_type": "markdown",
      "metadata": {
        "id": "X2HRMVgLt6x8"
      },
      "source": [
        "정렬"
      ]
    },
    {
      "cell_type": "code",
      "metadata": {
        "colab": {
          "base_uri": "https://localhost:8080/"
        },
        "id": "sdX4HbBFt-hy",
        "outputId": "51df43a8-bcb4-4358-c521-3dfc5d5f4063"
      },
      "source": [
        "#1 수 정렬하기 - 2750\n",
        "n = int(input())\n",
        "arr = []\n",
        "for i in range(n):\n",
        "  arr.append(int(input()))\n",
        "arr.sort()\n",
        "for j in arr:\n",
        "  print(j)"
      ],
      "execution_count": null,
      "outputs": [
        {
          "output_type": "stream",
          "text": [
            "5\n",
            "5\n",
            "2\n",
            "3\n",
            "4\n",
            "1\n",
            "1\n",
            "2\n",
            "3\n",
            "4\n",
            "5\n"
          ],
          "name": "stdout"
        }
      ]
    },
    {
      "cell_type": "code",
      "metadata": {
        "id": "K3thzpnLu6DA"
      },
      "source": [
        "#2 수 정렬하기2 - 2751\n",
        "n = int(input())\n",
        "arr = []\n",
        "for i in range(n):\n",
        "  arr.append(int(input()))\n",
        "arr.sort()\n",
        "for j in arr:\n",
        "  print(j)"
      ],
      "execution_count": null,
      "outputs": []
    },
    {
      "cell_type": "code",
      "metadata": {
        "colab": {
          "base_uri": "https://localhost:8080/"
        },
        "id": "Oz-fW_bgwVji",
        "outputId": "29c72a95-cf0f-4f74-b4fc-6094a5893b5d"
      },
      "source": [
        "#3 수 정렬하기3 - 10989\n",
        "# 카운팅 정렬\n",
        "import sys\n",
        "def sortedArr(n):\n",
        "  inputArr = []\n",
        "  outputArr = [-1]*n\n",
        "  countingArr = [0]*10000\n",
        "  for i in range(n):\n",
        "    inputArr.append(int(sys.stdin.readline()))\n",
        "    #inputArr.append(int(input()))\n",
        "  for num in inputArr:\n",
        "    countingArr[num] += 1\n",
        "  for k in range(10000):\n",
        "    countingArr[k+1] += countingArr[k]\n",
        "  for j in arr:\n",
        "    outputArr[countingArr[j] - 1] = j\n",
        "    countingArr[j] -= 1\n",
        "  return outputArr\n",
        "N = int(input())\n",
        "for k in sortedArr(N):\n",
        "  print(k)\n",
        "\n",
        "# 시간초과.."
      ],
      "execution_count": null,
      "outputs": [
        {
          "output_type": "stream",
          "text": [
            "10\n",
            "5\n",
            "2\n",
            "3\n",
            "1\n",
            "4\n",
            "2\n",
            "3\n",
            "5\n",
            "1\n",
            "7\n",
            "1\n",
            "1\n",
            "2\n",
            "2\n",
            "3\n",
            "3\n",
            "4\n",
            "5\n",
            "5\n",
            "7\n"
          ],
          "name": "stdout"
        }
      ]
    },
    {
      "cell_type": "code",
      "metadata": {
        "id": "6IyC8J146-Pg"
      },
      "source": [
        "#3 \n",
        "import sys\n",
        "N = int(input())\n",
        "check_list = [0] * 10001\n",
        "\n",
        "for i in range(N):\n",
        "  input_num = int(sys.stdin.readline())\n",
        "  check_list[input_num] += 1 \n",
        "\n",
        "for i in range(10001): \n",
        "  if check_list[i] != 0: \n",
        "    for j in range(check_list[i]): \n",
        "      print(i)\n",
        "\n"
      ],
      "execution_count": null,
      "outputs": []
    },
    {
      "cell_type": "code",
      "metadata": {
        "id": "8NV7SoM1A--5"
      },
      "source": [
        "\n",
        "del range"
      ],
      "execution_count": null,
      "outputs": []
    },
    {
      "cell_type": "code",
      "metadata": {
        "colab": {
          "base_uri": "https://localhost:8080/"
        },
        "id": "Xh7oR98e1kfL",
        "outputId": "0cdf8a3e-7a5d-45ab-8d91-ccffd9cb435d"
      },
      "source": [
        "#4 통계학 - 2108\n",
        "import sys\n",
        "N = int(input())\n",
        "arr = []\n",
        "for i in range(N):\n",
        "  arr.append(int(sys.stdin.readline()))\n",
        "avg = round(sum(arr)/N)\n",
        "arr.sort()\n",
        "mid = arr[N//2]\n",
        "range1 = arr[N-1] - arr[0]\n",
        "\n",
        "countArr = [0]*8001\n",
        "for j in arr:\n",
        "  countArr[4000+j] += arr.count(j)\n",
        "mode = []  \n",
        "for k in range(len(countArr)):\n",
        "  if countArr[k] == max(countArr):\n",
        "    mode.append(k)\n",
        "many = mode[0] - 4000\n",
        "if len(mode) > 1:\n",
        "  many = mode[1] - 4000\n",
        "\n",
        "print(avg)\n",
        "print(mid)\n",
        "print(many)\n",
        "print(range1)\n",
        "\n",
        "# 시간 초과..."
      ],
      "execution_count": null,
      "outputs": [
        {
          "output_type": "stream",
          "text": [
            "5\n",
            "-1\n",
            "-2\n",
            "-3\n",
            "-1\n",
            "-2\n",
            "-2\n",
            "-2\n",
            "-1\n",
            "2\n"
          ],
          "name": "stdout"
        }
      ]
    },
    {
      "cell_type": "code",
      "metadata": {
        "colab": {
          "base_uri": "https://localhost:8080/"
        },
        "id": "s2xW6m2vAKhS",
        "outputId": "f5d8bf7a-218c-4bd2-d22a-107e0e7404b8"
      },
      "source": [
        "#4\n",
        "# collections.Counter 이용\n",
        "from collections import Counter\n",
        "import sys\n",
        "N = int(input())\n",
        "arr = []\n",
        "for i in range(N):\n",
        "  arr.append(int(input()))\n",
        "  #arr.append(int(sys.stdin.readline()))\n",
        "avg = round(sum(arr)/N)\n",
        "arr.sort()\n",
        "mid = arr[N//2]\n",
        "range1 = arr[N-1] - arr[0]\n",
        "\n",
        "mode_dict = Counter(arr)\n",
        "modes = mode_dict.most_common()\n",
        "if len(arr) > 1:\n",
        "  if modes[0][1] == modes[1][1]:\n",
        "    mode = modes[1][0]\n",
        "  else:\n",
        "    mode = modes[0][0]\n",
        "else :\n",
        "  mode = modes[0][0] \n",
        "# print(type(modes))\n",
        "# print(modes)\n",
        "\n",
        "\n",
        "print(avg)\n",
        "print(mid)\n",
        "print(mode)\n",
        "print(range1)"
      ],
      "execution_count": null,
      "outputs": [
        {
          "output_type": "stream",
          "text": [
            "5\n",
            "-1\n",
            "-2\n",
            "-3\n",
            "-1\n",
            "-2\n",
            "<class 'list'>\n",
            "[(-2, 2), (-1, 2), (-3, 1)]\n",
            "-2\n",
            "-2\n",
            "-1\n",
            "2\n"
          ],
          "name": "stdout"
        }
      ]
    },
    {
      "cell_type": "code",
      "metadata": {
        "id": "4E4aY81_9lTg",
        "colab": {
          "base_uri": "https://localhost:8080/"
        },
        "outputId": "fc1c8501-622c-439e-e4cc-7876b48ae3b7"
      },
      "source": [
        "#5 소트인사이드 - 1427\n",
        "n = int(input())\n",
        "arr = []\n",
        "for i in str(n):\n",
        "  arr.append(i)\n",
        "arr.sort(reverse=True)\n",
        "for j in arr:\n",
        "  print(j, end=\"\")\n"
      ],
      "execution_count": 4,
      "outputs": [
        {
          "output_type": "stream",
          "text": [
            "2461\n",
            "6421"
          ],
          "name": "stdout"
        }
      ]
    },
    {
      "cell_type": "code",
      "metadata": {
        "colab": {
          "base_uri": "https://localhost:8080/"
        },
        "id": "tGQLqd28-Ej3",
        "outputId": "31e2d6d8-160d-4ae7-86e0-4d93ffed1cb1"
      },
      "source": [
        "#6 좌표 정렬하기 - 11650\n",
        "N = int(input())\n",
        "arr = []\n",
        "for i in range(N):\n",
        "  x, y = map(int,input().split())\n",
        "  arr.append((x,y))\n",
        "arr.sort()\n",
        "for (x,y) in arr:\n",
        "  print(x,y)"
      ],
      "execution_count": 10,
      "outputs": [
        {
          "output_type": "stream",
          "text": [
            "5\n",
            "3 4\n",
            "1 1\n",
            "1 -1\n",
            "2 2\n",
            "3 3\n",
            "1 -1\n",
            "1 1\n",
            "2 2\n",
            "3 3\n",
            "3 4\n"
          ],
          "name": "stdout"
        }
      ]
    },
    {
      "cell_type": "code",
      "metadata": {
        "colab": {
          "base_uri": "https://localhost:8080/",
          "height": 556
        },
        "id": "jR5Li3Zi_rfp",
        "outputId": "3f1f3f4e-baae-4c69-95c9-b9eacefde0ba"
      },
      "source": [
        "#7 좌표 정렬하기2 - 11651\n",
        "import sys\n",
        "N = int(input())\n",
        "arr = []\n",
        "for i in range(N):\n",
        "  x, y = map(int,sys.stdin.readline().split())\n",
        "  arr.append((y,x))\n",
        "arr.sort()\n",
        "for (y,x) in arr:\n",
        "  print(x,y)"
      ],
      "execution_count": 12,
      "outputs": [
        {
          "output_type": "error",
          "ename": "KeyboardInterrupt",
          "evalue": "ignored",
          "traceback": [
            "\u001b[0;31m---------------------------------------------------------------------------\u001b[0m",
            "\u001b[0;31mKeyboardInterrupt\u001b[0m                         Traceback (most recent call last)",
            "\u001b[0;32m/usr/local/lib/python3.7/dist-packages/ipykernel/kernelbase.py\u001b[0m in \u001b[0;36m_input_request\u001b[0;34m(self, prompt, ident, parent, password)\u001b[0m\n\u001b[1;32m    728\u001b[0m             \u001b[0;32mtry\u001b[0m\u001b[0;34m:\u001b[0m\u001b[0;34m\u001b[0m\u001b[0;34m\u001b[0m\u001b[0m\n\u001b[0;32m--> 729\u001b[0;31m                 \u001b[0mident\u001b[0m\u001b[0;34m,\u001b[0m \u001b[0mreply\u001b[0m \u001b[0;34m=\u001b[0m \u001b[0mself\u001b[0m\u001b[0;34m.\u001b[0m\u001b[0msession\u001b[0m\u001b[0;34m.\u001b[0m\u001b[0mrecv\u001b[0m\u001b[0;34m(\u001b[0m\u001b[0mself\u001b[0m\u001b[0;34m.\u001b[0m\u001b[0mstdin_socket\u001b[0m\u001b[0;34m,\u001b[0m \u001b[0;36m0\u001b[0m\u001b[0;34m)\u001b[0m\u001b[0;34m\u001b[0m\u001b[0;34m\u001b[0m\u001b[0m\n\u001b[0m\u001b[1;32m    730\u001b[0m             \u001b[0;32mexcept\u001b[0m \u001b[0mException\u001b[0m\u001b[0;34m:\u001b[0m\u001b[0;34m\u001b[0m\u001b[0;34m\u001b[0m\u001b[0m\n",
            "\u001b[0;32m/usr/local/lib/python3.7/dist-packages/jupyter_client/session.py\u001b[0m in \u001b[0;36mrecv\u001b[0;34m(self, socket, mode, content, copy)\u001b[0m\n\u001b[1;32m    802\u001b[0m         \u001b[0;32mtry\u001b[0m\u001b[0;34m:\u001b[0m\u001b[0;34m\u001b[0m\u001b[0;34m\u001b[0m\u001b[0m\n\u001b[0;32m--> 803\u001b[0;31m             \u001b[0mmsg_list\u001b[0m \u001b[0;34m=\u001b[0m \u001b[0msocket\u001b[0m\u001b[0;34m.\u001b[0m\u001b[0mrecv_multipart\u001b[0m\u001b[0;34m(\u001b[0m\u001b[0mmode\u001b[0m\u001b[0;34m,\u001b[0m \u001b[0mcopy\u001b[0m\u001b[0;34m=\u001b[0m\u001b[0mcopy\u001b[0m\u001b[0;34m)\u001b[0m\u001b[0;34m\u001b[0m\u001b[0;34m\u001b[0m\u001b[0m\n\u001b[0m\u001b[1;32m    804\u001b[0m         \u001b[0;32mexcept\u001b[0m \u001b[0mzmq\u001b[0m\u001b[0;34m.\u001b[0m\u001b[0mZMQError\u001b[0m \u001b[0;32mas\u001b[0m \u001b[0me\u001b[0m\u001b[0;34m:\u001b[0m\u001b[0;34m\u001b[0m\u001b[0;34m\u001b[0m\u001b[0m\n",
            "\u001b[0;32m/usr/local/lib/python3.7/dist-packages/zmq/sugar/socket.py\u001b[0m in \u001b[0;36mrecv_multipart\u001b[0;34m(self, flags, copy, track)\u001b[0m\n\u001b[1;32m    582\u001b[0m         \"\"\"\n\u001b[0;32m--> 583\u001b[0;31m         \u001b[0mparts\u001b[0m \u001b[0;34m=\u001b[0m \u001b[0;34m[\u001b[0m\u001b[0mself\u001b[0m\u001b[0;34m.\u001b[0m\u001b[0mrecv\u001b[0m\u001b[0;34m(\u001b[0m\u001b[0mflags\u001b[0m\u001b[0;34m,\u001b[0m \u001b[0mcopy\u001b[0m\u001b[0;34m=\u001b[0m\u001b[0mcopy\u001b[0m\u001b[0;34m,\u001b[0m \u001b[0mtrack\u001b[0m\u001b[0;34m=\u001b[0m\u001b[0mtrack\u001b[0m\u001b[0;34m)\u001b[0m\u001b[0;34m]\u001b[0m\u001b[0;34m\u001b[0m\u001b[0;34m\u001b[0m\u001b[0m\n\u001b[0m\u001b[1;32m    584\u001b[0m         \u001b[0;31m# have first part already, only loop while more to receive\u001b[0m\u001b[0;34m\u001b[0m\u001b[0;34m\u001b[0m\u001b[0;34m\u001b[0m\u001b[0m\n",
            "\u001b[0;32mzmq/backend/cython/socket.pyx\u001b[0m in \u001b[0;36mzmq.backend.cython.socket.Socket.recv\u001b[0;34m()\u001b[0m\n",
            "\u001b[0;32mzmq/backend/cython/socket.pyx\u001b[0m in \u001b[0;36mzmq.backend.cython.socket.Socket.recv\u001b[0;34m()\u001b[0m\n",
            "\u001b[0;32mzmq/backend/cython/socket.pyx\u001b[0m in \u001b[0;36mzmq.backend.cython.socket._recv_copy\u001b[0;34m()\u001b[0m\n",
            "\u001b[0;32m/usr/local/lib/python3.7/dist-packages/zmq/backend/cython/checkrc.pxd\u001b[0m in \u001b[0;36mzmq.backend.cython.checkrc._check_rc\u001b[0;34m()\u001b[0m\n",
            "\u001b[0;31mKeyboardInterrupt\u001b[0m: ",
            "\nDuring handling of the above exception, another exception occurred:\n",
            "\u001b[0;31mKeyboardInterrupt\u001b[0m                         Traceback (most recent call last)",
            "\u001b[0;32m<ipython-input-12-b4bb0d058112>\u001b[0m in \u001b[0;36m<module>\u001b[0;34m()\u001b[0m\n\u001b[1;32m      1\u001b[0m \u001b[0;31m#7 좌표 정렬하기2 - 11651\u001b[0m\u001b[0;34m\u001b[0m\u001b[0;34m\u001b[0m\u001b[0;34m\u001b[0m\u001b[0m\n\u001b[1;32m      2\u001b[0m \u001b[0;32mimport\u001b[0m \u001b[0msys\u001b[0m\u001b[0;34m\u001b[0m\u001b[0;34m\u001b[0m\u001b[0m\n\u001b[0;32m----> 3\u001b[0;31m \u001b[0mN\u001b[0m \u001b[0;34m=\u001b[0m \u001b[0mint\u001b[0m\u001b[0;34m(\u001b[0m\u001b[0minput\u001b[0m\u001b[0;34m(\u001b[0m\u001b[0;34m)\u001b[0m\u001b[0;34m)\u001b[0m\u001b[0;34m\u001b[0m\u001b[0;34m\u001b[0m\u001b[0m\n\u001b[0m\u001b[1;32m      4\u001b[0m \u001b[0marr\u001b[0m \u001b[0;34m=\u001b[0m \u001b[0;34m[\u001b[0m\u001b[0;34m]\u001b[0m\u001b[0;34m\u001b[0m\u001b[0;34m\u001b[0m\u001b[0m\n\u001b[1;32m      5\u001b[0m \u001b[0;32mfor\u001b[0m \u001b[0mi\u001b[0m \u001b[0;32min\u001b[0m \u001b[0mrange\u001b[0m\u001b[0;34m(\u001b[0m\u001b[0mN\u001b[0m\u001b[0;34m)\u001b[0m\u001b[0;34m:\u001b[0m\u001b[0;34m\u001b[0m\u001b[0;34m\u001b[0m\u001b[0m\n",
            "\u001b[0;32m/usr/local/lib/python3.7/dist-packages/ipykernel/kernelbase.py\u001b[0m in \u001b[0;36mraw_input\u001b[0;34m(self, prompt)\u001b[0m\n\u001b[1;32m    702\u001b[0m             \u001b[0mself\u001b[0m\u001b[0;34m.\u001b[0m\u001b[0m_parent_ident\u001b[0m\u001b[0;34m,\u001b[0m\u001b[0;34m\u001b[0m\u001b[0;34m\u001b[0m\u001b[0m\n\u001b[1;32m    703\u001b[0m             \u001b[0mself\u001b[0m\u001b[0;34m.\u001b[0m\u001b[0m_parent_header\u001b[0m\u001b[0;34m,\u001b[0m\u001b[0;34m\u001b[0m\u001b[0;34m\u001b[0m\u001b[0m\n\u001b[0;32m--> 704\u001b[0;31m             \u001b[0mpassword\u001b[0m\u001b[0;34m=\u001b[0m\u001b[0;32mFalse\u001b[0m\u001b[0;34m,\u001b[0m\u001b[0;34m\u001b[0m\u001b[0;34m\u001b[0m\u001b[0m\n\u001b[0m\u001b[1;32m    705\u001b[0m         )\n\u001b[1;32m    706\u001b[0m \u001b[0;34m\u001b[0m\u001b[0m\n",
            "\u001b[0;32m/usr/local/lib/python3.7/dist-packages/ipykernel/kernelbase.py\u001b[0m in \u001b[0;36m_input_request\u001b[0;34m(self, prompt, ident, parent, password)\u001b[0m\n\u001b[1;32m    732\u001b[0m             \u001b[0;32mexcept\u001b[0m \u001b[0mKeyboardInterrupt\u001b[0m\u001b[0;34m:\u001b[0m\u001b[0;34m\u001b[0m\u001b[0;34m\u001b[0m\u001b[0m\n\u001b[1;32m    733\u001b[0m                 \u001b[0;31m# re-raise KeyboardInterrupt, to truncate traceback\u001b[0m\u001b[0;34m\u001b[0m\u001b[0;34m\u001b[0m\u001b[0;34m\u001b[0m\u001b[0m\n\u001b[0;32m--> 734\u001b[0;31m                 \u001b[0;32mraise\u001b[0m \u001b[0mKeyboardInterrupt\u001b[0m\u001b[0;34m\u001b[0m\u001b[0;34m\u001b[0m\u001b[0m\n\u001b[0m\u001b[1;32m    735\u001b[0m             \u001b[0;32melse\u001b[0m\u001b[0;34m:\u001b[0m\u001b[0;34m\u001b[0m\u001b[0;34m\u001b[0m\u001b[0m\n\u001b[1;32m    736\u001b[0m                 \u001b[0;32mbreak\u001b[0m\u001b[0;34m\u001b[0m\u001b[0;34m\u001b[0m\u001b[0m\n",
            "\u001b[0;31mKeyboardInterrupt\u001b[0m: "
          ]
        }
      ]
    },
    {
      "cell_type": "code",
      "metadata": {
        "colab": {
          "base_uri": "https://localhost:8080/"
        },
        "id": "RvlTB-y-DsZ2",
        "outputId": "1578dffc-b22c-44f3-d2d8-fae5f6c9e3e7"
      },
      "source": [
        "#8 단어 정렬 - 1181\n",
        "N=int(input())\n",
        "arr = []\n",
        "for i in range(N):\n",
        "  s = input()\n",
        "  if s in arr:\n",
        "    continue\n",
        "  arr.append(s)\n",
        "for j in range(len(arr)-1):\n",
        "  for k in range(j+1, len(arr)):\n",
        "    if len(arr[j]) > len(arr[k]):\n",
        "      temp = arr[j]\n",
        "      arr[j] = arr[k]\n",
        "      arr[k] = temp\n",
        "    elif len(arr[j]) == len(arr[k]) and arr[j] > arr[k]:\n",
        "      temp = arr[j]\n",
        "      arr[j] = arr[k]\n",
        "      arr[k] = temp\n",
        "for m in arr:\n",
        "  print(m)"
      ],
      "execution_count": 19,
      "outputs": [
        {
          "output_type": "stream",
          "text": [
            "13\n",
            "but\n",
            "i\n",
            "wont\n",
            "hesitate\n",
            "no\n",
            "more\n",
            "no\n",
            "more\n",
            "it\n",
            "cannot\n",
            "wait\n",
            "im\n",
            "yours\n",
            "i\n",
            "im\n",
            "it\n",
            "no\n",
            "but\n",
            "more\n",
            "wait\n",
            "wont\n",
            "yours\n",
            "cannot\n",
            "hesitate\n"
          ],
          "name": "stdout"
        }
      ]
    },
    {
      "cell_type": "code",
      "metadata": {
        "colab": {
          "base_uri": "https://localhost:8080/"
        },
        "id": "YZBN9fqRMzN0",
        "outputId": "340b1c5f-a4e9-4f25-8cdf-ae7a2a4f4c63"
      },
      "source": [
        "#9 나이순 정렬 - 10814\n",
        "N = int(input())\n",
        "arr = []\n",
        "for i in range(N):\n",
        "  age, name = input().split()\n",
        "  age = int(age)\n",
        "  arr.append((age, name))\n",
        "arr.sort(key=lambda x : x[0])\n",
        "for age, name in arr:\n",
        "  print(age, name)"
      ],
      "execution_count": 21,
      "outputs": [
        {
          "output_type": "stream",
          "text": [
            "3\n",
            "21 jdf\n",
            "21 dfasfd\n",
            "20 dfa\n",
            "20 dfa\n",
            "21 jdf\n",
            "21 dfasfd\n"
          ],
          "name": "stdout"
        }
      ]
    },
    {
      "cell_type": "code",
      "metadata": {
        "colab": {
          "base_uri": "https://localhost:8080/"
        },
        "id": "E0LvT3Y6Hwzs",
        "outputId": "9a3c9496-7479-41f2-c96a-2581fbbf0df3"
      },
      "source": [
        "#10 좌표 압축 - 18870\n",
        "import sys\n",
        "N = int(input())\n",
        "arr = list(map(int,sys.stdin.readline().split()))\n",
        "arr2 = sorted(list(set(arr)))\n",
        "dic = {arr2[i] : i for i in range(len(arr2))} \n",
        "for j in arr:\n",
        "  print(dic[j], end=\" \")"
      ],
      "execution_count": 31,
      "outputs": [
        {
          "output_type": "stream",
          "text": [
            "5\n",
            "2 4 -10 4 -9\n",
            "2 3 0 3 1 "
          ],
          "name": "stdout"
        }
      ]
    },
    {
      "cell_type": "code",
      "metadata": {
        "id": "SLnLEK_DOmCi"
      },
      "source": [
        "()"
      ],
      "execution_count": null,
      "outputs": []
    }
  ]
}