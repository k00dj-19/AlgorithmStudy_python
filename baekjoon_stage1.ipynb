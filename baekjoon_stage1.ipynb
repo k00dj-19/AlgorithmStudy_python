{
  "nbformat": 4,
  "nbformat_minor": 0,
  "metadata": {
    "colab": {
      "name": "baekjoon_stage1.ipynb",
      "provenance": [],
      "collapsed_sections": [],
      "authorship_tag": "ABX9TyNd8P2hTvWjEaBe3XvE2dph",
      "include_colab_link": true
    },
    "kernelspec": {
      "name": "python3",
      "display_name": "Python 3"
    },
    "language_info": {
      "name": "python"
    }
  },
  "cells": [
    {
      "cell_type": "markdown",
      "metadata": {
        "id": "view-in-github",
        "colab_type": "text"
      },
      "source": [
        "<a href=\"https://colab.research.google.com/github/k00dj-19/AlgorithmStudy_python/blob/master/baekjoon_stage1.ipynb\" target=\"_parent\"><img src=\"https://colab.research.google.com/assets/colab-badge.svg\" alt=\"Open In Colab\"/></a>"
      ]
    },
    {
      "cell_type": "markdown",
      "metadata": {
        "id": "iCASDt3umJht"
      },
      "source": [
        "다시 봐야할 문제 : 5번"
      ]
    },
    {
      "cell_type": "code",
      "metadata": {
        "colab": {
          "base_uri": "https://localhost:8080/"
        },
        "id": "XZ3e8oz5gDkg",
        "outputId": "3f3ad4b1-f2bd-4e09-fe82-6d3c98bfaa2c"
      },
      "source": [
        "#1\n",
        "print(\"Hello World!\")"
      ],
      "execution_count": null,
      "outputs": [
        {
          "output_type": "stream",
          "text": [
            "Hello World!\n"
          ],
          "name": "stdout"
        }
      ]
    },
    {
      "cell_type": "code",
      "metadata": {
        "colab": {
          "base_uri": "https://localhost:8080/"
        },
        "id": "FTTYCtC1gk2q",
        "outputId": "4f50c53f-56bc-488f-ec3f-4b6333fad71c"
      },
      "source": [
        "#2\n",
        "print(\"강한친구 대한육군\")\n",
        "print(\"강한친구 대한육군\")"
      ],
      "execution_count": null,
      "outputs": [
        {
          "output_type": "stream",
          "text": [
            "강한친구 대한육군\n",
            "강한친구 대한육군\n"
          ],
          "name": "stdout"
        }
      ]
    },
    {
      "cell_type": "code",
      "metadata": {
        "colab": {
          "base_uri": "https://localhost:8080/"
        },
        "id": "WyHxaKJCg20Y",
        "outputId": "e3e993cf-a456-4484-ebb8-f64f7a28254d"
      },
      "source": [
        "#3\n",
        "a = \"\\    /\\\\\"\n",
        "b = \" )  ( ')\"\n",
        "c = \"(  /  )\"\n",
        "d = \" \\(__)|\"\n",
        "\n",
        "print(a)\n",
        "print(b)\n",
        "print(c)\n",
        "print(d)\n"
      ],
      "execution_count": null,
      "outputs": [
        {
          "output_type": "stream",
          "text": [
            "\\    /\\\n",
            " )  ( ')\n",
            "(  /  )\n",
            " \\(__)|\n"
          ],
          "name": "stdout"
        }
      ]
    },
    {
      "cell_type": "code",
      "metadata": {
        "colab": {
          "base_uri": "https://localhost:8080/"
        },
        "id": "vcpOi4a5iThE",
        "outputId": "eaa4abca-4e83-4068-ddf5-78fc56954ff3"
      },
      "source": [
        "#4\n",
        "a = \"|\\_/|\"\n",
        "b = \"|q p|   /}\"\n",
        "c = '( 0 )\"\"\"\\\\'\n",
        "d = '|\"^\"`    |'\n",
        "e = '||_/=\\\\\\__|'\n",
        "\n",
        "print(a)\n",
        "print(b)\n",
        "print(c)\n",
        "print(d)\n",
        "print(e)\n"
      ],
      "execution_count": null,
      "outputs": [
        {
          "output_type": "stream",
          "text": [
            "|\\_/|\n",
            "|q p|   /}\n",
            "( 0 )\"\"\"\\\n",
            "|\"^\"`    |\n",
            "||_/=\\\\__|\n"
          ],
          "name": "stdout"
        }
      ]
    },
    {
      "cell_type": "code",
      "metadata": {
        "colab": {
          "base_uri": "https://localhost:8080/"
        },
        "id": "XY-9deQJjTxZ",
        "outputId": "aec6d242-0423-464e-ccca-196f005326f4"
      },
      "source": [
        "#5\n",
        "a, b = map(int, input().split())\n",
        "\n",
        "print(a+b)"
      ],
      "execution_count": null,
      "outputs": [
        {
          "output_type": "stream",
          "text": [
            "2 3\n",
            "5\n"
          ],
          "name": "stdout"
        }
      ]
    },
    {
      "cell_type": "code",
      "metadata": {
        "colab": {
          "base_uri": "https://localhost:8080/"
        },
        "id": "72Iep6RmmZAV",
        "outputId": "47ce3e50-87e7-4429-f829-60b07f892090"
      },
      "source": [
        "#6\n",
        "a, b = map(int, input().split())\n",
        "\n",
        "print(a-b)"
      ],
      "execution_count": null,
      "outputs": [
        {
          "output_type": "stream",
          "text": [
            "1 2\n",
            "2\n"
          ],
          "name": "stdout"
        }
      ]
    },
    {
      "cell_type": "code",
      "metadata": {
        "colab": {
          "base_uri": "https://localhost:8080/"
        },
        "id": "uMaMb-LTndEy",
        "outputId": "110c2c6b-2718-4590-fc83-ee926a705b34"
      },
      "source": [
        "#7\n",
        "a, b = map(int, input().split())\n",
        "\n",
        "print(a*b)"
      ],
      "execution_count": null,
      "outputs": [
        {
          "output_type": "stream",
          "text": [
            "3 45\n",
            "135\n"
          ],
          "name": "stdout"
        }
      ]
    },
    {
      "cell_type": "code",
      "metadata": {
        "colab": {
          "base_uri": "https://localhost:8080/"
        },
        "id": "gbuHehm9nu_8",
        "outputId": "f6a73e63-246c-46bf-d82f-80373de418d8"
      },
      "source": [
        "#8\n",
        "a, b = map(int, input().split())\n",
        "\n",
        "print(a/b)"
      ],
      "execution_count": null,
      "outputs": [
        {
          "output_type": "stream",
          "text": [
            "4 5\n",
            "0.8\n"
          ],
          "name": "stdout"
        }
      ]
    },
    {
      "cell_type": "code",
      "metadata": {
        "colab": {
          "base_uri": "https://localhost:8080/"
        },
        "id": "FVwo9o2UoD_3",
        "outputId": "f763c622-f47c-4de4-952f-0201a075f3de"
      },
      "source": [
        "#9\n",
        "a, b = map(int, input().split())\n",
        "print(a+b)\n",
        "print(a-b)\n",
        "print(a*b)\n",
        "print(a//b)\n",
        "print(a%b)"
      ],
      "execution_count": null,
      "outputs": [
        {
          "output_type": "stream",
          "text": [
            "7 3\n",
            "10\n",
            "4\n",
            "21\n",
            "2\n",
            "1\n"
          ],
          "name": "stdout"
        }
      ]
    },
    {
      "cell_type": "code",
      "metadata": {
        "colab": {
          "base_uri": "https://localhost:8080/"
        },
        "id": "zwpX7-maocwd",
        "outputId": "659b7b28-b6bc-4b1b-b410-8786432804fc"
      },
      "source": [
        "#10\n",
        "a, b, c = map(int, input().split())\n",
        "print((a+b)%c)\n",
        "print(((a%c)+(b%c))%c)\n",
        "print((a*b)%c)\n",
        "print(((a%c)*(b%c))%c)"
      ],
      "execution_count": null,
      "outputs": [
        {
          "output_type": "stream",
          "text": [
            "3 12312 213\n",
            "174\n",
            "174\n",
            "87\n",
            "87\n"
          ],
          "name": "stdout"
        }
      ]
    },
    {
      "cell_type": "code",
      "metadata": {
        "colab": {
          "base_uri": "https://localhost:8080/"
        },
        "id": "92W0KsKupXRo",
        "outputId": "8e6c1ca7-7c59-4f82-a8bd-02c17d9535be"
      },
      "source": [
        "#11\n",
        "a = input()\n",
        "b = input()\n",
        "b_ = b[::-1]\n",
        "for i in b_ :\n",
        "  print(int(a)*int(i))\n",
        "print(int(a)*int(b))"
      ],
      "execution_count": null,
      "outputs": [
        {
          "output_type": "stream",
          "text": [
            "472\n",
            "385\n",
            "2360\n",
            "3776\n",
            "1416\n",
            "181720\n"
          ],
          "name": "stdout"
        }
      ]
    }
  ]
}