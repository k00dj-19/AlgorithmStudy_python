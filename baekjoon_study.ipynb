{
  "nbformat": 4,
  "nbformat_minor": 0,
  "metadata": {
    "colab": {
      "name": "baekjoon_study.ipynb",
      "provenance": [],
      "collapsed_sections": [],
      "authorship_tag": "ABX9TyPWK2SwekGJz20G45PZuYuy",
      "include_colab_link": true
    },
    "kernelspec": {
      "name": "python3",
      "display_name": "Python 3"
    },
    "language_info": {
      "name": "python"
    }
  },
  "cells": [
    {
      "cell_type": "markdown",
      "metadata": {
        "id": "view-in-github",
        "colab_type": "text"
      },
      "source": [
        "<a href=\"https://colab.research.google.com/github/k00dj-19/AlgorithmStudy_python/blob/master/baekjoon_study.ipynb\" target=\"_parent\"><img src=\"https://colab.research.google.com/assets/colab-badge.svg\" alt=\"Open In Colab\"/></a>"
      ]
    },
    {
      "cell_type": "markdown",
      "metadata": {
        "id": "htz6sBzGO24B"
      },
      "source": [
        "# 교육지원중대 알고리즘 스터디 문제 풀이 공간"
      ]
    },
    {
      "cell_type": "code",
      "metadata": {
        "colab": {
          "base_uri": "https://localhost:8080/"
        },
        "id": "tDluc6JrGrWz",
        "outputId": "3025952a-fd48-4aae-fd2d-daf8a6c7afcd"
      },
      "source": [
        "#11005. 진법변환2 - 브론즈1\n",
        "n, b = map(int,input().split())\n",
        "change_reverse = \"\"\n",
        "a = True\n",
        "while a:\n",
        "    if n < b:\n",
        "        a = False\n",
        "    remainder = str(n%b)\n",
        "    if n%b >= 10:\n",
        "        # A : 65\n",
        "        remainder = chr(n%b+ 55)    # 아스키코드 사용하여 변환\n",
        "    change_reverse += remainder\n",
        "    n = n//b\n",
        "change = change_reverse[::-1]\n",
        "print(change)\n",
        "    "
      ],
      "execution_count": null,
      "outputs": [
        {
          "output_type": "stream",
          "text": [
            "10 2\n",
            "1010\n",
            "0101\n"
          ],
          "name": "stdout"
        }
      ]
    },
    {
      "cell_type": "markdown",
      "metadata": {
        "id": "IFmTKK78eDu3"
      },
      "source": [
        "## 3주차"
      ]
    },
    {
      "cell_type": "code",
      "metadata": {
        "colab": {
          "base_uri": "https://localhost:8080/"
        },
        "id": "7oI2vXdVeHyB",
        "outputId": "07ed50ea-b200-4ad3-abca-ae4e7ab7bb1f"
      },
      "source": [
        "# 10162. 전자레인지 - 브론즈5\n",
        "# a,b,c : 300, 60, 10초\n",
        "t = int(input())\n",
        "a,b,c = 0,0,0\n",
        "# t초를 맞출 수 없을 경우\n",
        "if t%10 != 0:\n",
        "    print(-1)\n",
        "else:\n",
        "    if t//300 != 0:\n",
        "        a = t//300\n",
        "        t -= a*300\n",
        "    if  t//60 !=0:\n",
        "        b = t//60\n",
        "        t -= b*60\n",
        "    if t//10 !=0:\n",
        "        c = t//10\n",
        "        t -= c*10\n",
        "    if t == 0:\n",
        "        print(a,b,c)"
      ],
      "execution_count": null,
      "outputs": [
        {
          "output_type": "stream",
          "text": [
            "19230\n",
            "64 0 3\n"
          ],
          "name": "stdout"
        }
      ]
    },
    {
      "cell_type": "code",
      "metadata": {
        "id": "0MW90M8llosH"
      },
      "source": [
        "# 2805. 나무 자르기 - 실버3\n",
        "# n : 나무의 수, m : 가져가려는 나무 길이\n",
        "\n",
        "# 시간 초과 실패\n",
        "n,m = map(int,input().split())\n",
        "tree_height = list(map(int,input().split()))\n",
        "for i in range(max(tree_height),0,-1):\n",
        "    # cut : 자르고 가져갈 나무를 담은 리스트(음수일 시 0으로 저장)\n",
        "    cut = [tree - i if tree - i >= 0 else 0 for tree in tree_height]\n",
        "    if sum(cut) >= m:\n",
        "        print(i)\n",
        "        break"
      ],
      "execution_count": null,
      "outputs": []
    },
    {
      "cell_type": "code",
      "metadata": {
        "colab": {
          "base_uri": "https://localhost:8080/"
        },
        "id": "1Hf7FT8lqMk4",
        "outputId": "8a28622e-0c83-4cbd-dde1-676519c3739e"
      },
      "source": [
        "# 2차시도, 이분 탐색으로 실시, 성공!\n",
        "def check(trees, h):\n",
        "    sum_tree = 0\n",
        "    for tree in trees:\n",
        "        if tree - h > 0:\n",
        "            sum_tree += tree - h\n",
        "    if sum_tree >= m : \n",
        "        return True\n",
        "    else:\n",
        "        return False\n",
        "\n",
        "n,m = map(int,input().split())\n",
        "tree_height = list(map(int,input().split()))\n",
        "left = 0\n",
        "right = max(tree_height)\n",
        "\n",
        "while left < right:\n",
        "    h = (left+right) // 2     \n",
        "    if left == h or right == h:\n",
        "        break\n",
        "    if check(tree_height,h):\n",
        "        left = h\n",
        "    else:\n",
        "        right = h\n",
        "print(h)\n",
        "        "
      ],
      "execution_count": null,
      "outputs": [
        {
          "output_type": "stream",
          "text": [
            "5 20\n",
            "4 42 40 26 46\n",
            "36\n",
            "36\n"
          ],
          "name": "stdout"
        }
      ]
    },
    {
      "cell_type": "code",
      "metadata": {
        "id": "DAkPsMHRlsu3"
      },
      "source": [
        "# 15686. 치킨 배달 - 골드5\n",
        "from itertools import combinations\n",
        "\n",
        "def chicken_distance(chicken_store,home,m):\n",
        "    k = len(chicken_store) # k는 치킨집 개수\n",
        "    h = len(home)   # h는 집 개수\n",
        "    chosen_chicken_store = list(combinations(chicken_store, m)) # k개의 치킨집 중 m개를 뽑아 리스트로 저장\n",
        "\n",
        "    city_chicken_distance_list = [] # 도시의 치킨 거리들을 담는 리스트\n",
        "    for chicken_stores in chosen_chicken_store:\n",
        "        city_chicken_distance = 0    # 도시의 치킨 거리\n",
        "        for hx, hy in home:\n",
        "            min_distance = 100  # 최소 치킨 거리\n",
        "            for kx, ky in chicken_stores:\n",
        "                distance = abs(hx-kx) + abs(hy-ky)  # 치킨 거리\n",
        "                min_distance = min(min_distance,distance)\n",
        "            city_chicken_distance += min_distance\n",
        "        city_chicken_distance_list.append(city_chicken_distance)\n",
        "    print(min(city_chicken_distance_list))\n",
        "\n",
        "n, m = map(int,input().split())\n",
        "chicken_store = []\n",
        "home = []\n",
        "for i in range(n):\n",
        "    temp = list(map(int,input().split()))\n",
        "    for j in range(n):\n",
        "        # 치킨집 위치 리스트(chicken_store)에 저장\n",
        "        if temp[j] == 2:\n",
        "            chicken_store.append((i,j))\n",
        "        # 집 위치 리스트(home)에 저장\n",
        "        elif temp[j] == 1:\n",
        "            home.append((i,j))\n",
        "\n",
        "chicken_distance(chicken_store,home,m)\n",
        "        "
      ],
      "execution_count": null,
      "outputs": []
    },
    {
      "cell_type": "code",
      "metadata": {
        "id": "BlwcBZ8plyl7",
        "colab": {
          "base_uri": "https://localhost:8080/"
        },
        "outputId": "47a38bb6-55f3-4463-cfa3-8594e8550a4c"
      },
      "source": [
        "# 15591. MooTube(Silver) - 골드5\n",
        "# 시간 초과 ㅠㅠ\n",
        "n, q = map(int,input().split())\n",
        "INF = 1e9 + 1\n",
        "graph = [[INF] * (n+1) for _ in range(n+1)]\n",
        "for _ in range(n-1):\n",
        "    a,b,r = map(int,input().split())\n",
        "    graph[a][b] = r\n",
        "    graph[b][a] = r\n",
        "for i in range(1,n+1):\n",
        "    for j in range(i,n+1):\n",
        "        # i != j 일 때 수행\n",
        "        if i != j:\n",
        "            for k in range(1,n+1):\n",
        "                if graph[i][k] != INF and graph[k][j] != INF:\n",
        "                    graph[i][j] = min(graph[i][j],graph[i][k],graph[k][j])\n",
        "                    graph[j][i] = graph[i][j]\n",
        "for _ in range(q):\n",
        "    k, v = map(int,input().split())\n",
        "    count = 0\n",
        "    for i in range(1,n+1):\n",
        "        if k <= graph[v][i] < INF:\n",
        "            count += 1\n",
        "    print(count)\n"
      ],
      "execution_count": 11,
      "outputs": [
        {
          "output_type": "stream",
          "text": [
            "4 3\n",
            "1 2 3\n",
            "2 3 2\n",
            "2 4 4\n",
            "1000000001.0 1000000001.0 1000000001.0 1000000001.0 1000000001.0\n",
            "1000000001.0 1000000001.0 3 2 3\n",
            "1000000001.0 3 1000000001.0 2 3\n",
            "1000000001.0 2 2 1000000001.0 2\n",
            "1000000001.0 3 3 2 1000000001.0\n",
            "1 2\n",
            "3\n",
            "4 1\n",
            "0\n",
            "3 1\n",
            "2\n"
          ],
          "name": "stdout"
        }
      ]
    },
    {
      "cell_type": "code",
      "metadata": {
        "id": "1Elp7Kgzl3zP",
        "colab": {
          "base_uri": "https://localhost:8080/"
        },
        "outputId": "8090d413-82a3-4ae4-9387-937b52792de5"
      },
      "source": [
        "# 2493. 탑 - 골드5\n",
        "# 실패.. 어렵다\n",
        "\n",
        "from collections import deque\n",
        "n = int(input()) # 탑의 수\n",
        "tower = deque(list(map(int,input().split())))\n",
        "# 수행에 불편하니 역으로 바꿈\n",
        "tower.reverse()\n",
        "sorted_tower = sorted(tower)\n",
        "idx_list = [-1] * n\n",
        "# 정렬리스트의 요소에 해당하는 인덱스 값을 저장\n",
        "for i in range(n):\n",
        "    idx_list[i] = tower.index(sorted_tower[i])\n",
        "result = [0]*n\n",
        "count = 0\n",
        "while len(tower) > 0:\n",
        "    # 뒤집었으니 왼쪽에서 부터 제거\n",
        "    current = tower.popleft()\n",
        "    start = sorted_tower.index(current) + 1\n",
        "    # current보다 높은 것 중 인덱스 차이가 최소인 것 탐색\n",
        "    min_idx_interval = n\n",
        "    target_idx = n\n",
        "    # 현재 탑의 sorted_tower 인덱스 저장\n",
        "    current_sorted_idx = idx_list[start-1]\n",
        "    for i in range(start, n):\n",
        "        temp = idx_list[i] - current_sorted_idx\n",
        "        if 0 < temp < min_idx_interval:\n",
        "            min_idx_interval = temp\n",
        "            target_idx = idx_list[i]\n",
        "    result[count] = n - target_idx  \n",
        "    count += 1\n",
        "\n",
        "result.reverse()\n",
        "print(result)"
      ],
      "execution_count": 45,
      "outputs": [
        {
          "output_type": "stream",
          "text": [
            "5\n",
            "7 2 9 1 4\n",
            "tower:  deque([4, 1, 9, 2, 7])\n",
            "sorted_tower:  [1, 2, 4, 7, 9]\n",
            "idx_list:  [1, 3, 0, 4, 2]\n",
            "current:  4\n",
            "start:  3\n",
            "current_sorted_idx:  0\n",
            "result:  [3, 0, 0, 0, 0]\n",
            "current:  1\n",
            "start:  1\n",
            "current_sorted_idx:  1\n",
            "result:  [3, 3, 0, 0, 0]\n",
            "current:  9\n",
            "start:  5\n",
            "current_sorted_idx:  2\n",
            "result:  [3, 3, 0, 0, 0]\n",
            "current:  2\n",
            "start:  2\n",
            "current_sorted_idx:  3\n",
            "result:  [3, 3, 0, 1, 0]\n",
            "current:  7\n",
            "start:  4\n",
            "current_sorted_idx:  4\n",
            "result:  [3, 3, 0, 1, 0]\n",
            "[0, 1, 0, 3, 3]\n"
          ],
          "name": "stdout"
        }
      ]
    },
    {
      "cell_type": "code",
      "metadata": {
        "colab": {
          "base_uri": "https://localhost:8080/"
        },
        "id": "XXbzJYHgD28J",
        "outputId": "e45af19d-6cc7-4920-d149-f49cb8b47587"
      },
      "source": [
        "# 답은 맞지만 시간초과\n",
        "n = int(input()) # 탑의 수\n",
        "tower = list(map(int,input().split()))\n",
        "result = [0]*n\n",
        "for i in range(n-1,0,-1):\n",
        "    for j in range(i-1,0,-1):\n",
        "        if tower[i] <= tower[j]:\n",
        "            result[i] = j+1\n",
        "            break\n",
        "print(result)"
      ],
      "execution_count": null,
      "outputs": [
        {
          "output_type": "stream",
          "text": [
            "5\n",
            "6 9 5 7 4\n",
            "[0, 0, 2, 2, 4]\n"
          ],
          "name": "stdout"
        }
      ]
    },
    {
      "cell_type": "code",
      "metadata": {
        "colab": {
          "base_uri": "https://localhost:8080/"
        },
        "id": "Er2BIjKboblK",
        "outputId": "c96c2758-ccf5-4fdf-87b5-546b44abcbb8"
      },
      "source": [
        "# 블로그 참고\n",
        "# 스택 활용\n",
        "n = int(input()) # 탑의 수\n",
        "tower = list(map(int,input().split()))\n",
        "stack = []\n",
        "for i in range(n):\n",
        "    h = tower[i]\n",
        "    if len(stack) == 0:\n",
        "        print(0)\n",
        "        stack.append([h,i])\n",
        "    else:\n",
        "        while stack:\n",
        "            # 자신보다 높이가 낮으면\n",
        "            if stack[-1][0] < h:\n",
        "                stack.pop()\n",
        "            elif stack[-1][0] > h:\n",
        "                \n",
        "\n"
      ],
      "execution_count": 44,
      "outputs": [
        {
          "output_type": "stream",
          "text": [
            "5\n",
            "6 9 5 7 4\n",
            "0\n",
            "0\n",
            "0\n"
          ],
          "name": "stdout"
        }
      ]
    },
    {
      "cell_type": "code",
      "metadata": {
        "colab": {
          "base_uri": "https://localhost:8080/"
        },
        "id": "MFA3FjWfB5Zw",
        "outputId": "5152f72a-d820-4766-c0e2-22047ab9f05c"
      },
      "source": [
        "4 2 6 9 1 4 3\n",
        "\n",
        "0 1 0 0 1 0 1\n",
        "check[i]가 1이면 그 전 반환\n",
        "           0이면 1나올때 까지 진행"
      ],
      "execution_count": null,
      "outputs": [
        {
          "output_type": "stream",
          "text": [
            "10\n",
            "9\n",
            "8\n",
            "7\n",
            "6\n",
            "5\n",
            "4\n",
            "3\n",
            "2\n"
          ],
          "name": "stdout"
        }
      ]
    },
    {
      "cell_type": "code",
      "metadata": {
        "colab": {
          "base_uri": "https://localhost:8080/"
        },
        "id": "63mmvY81GSSs",
        "outputId": "e12515bd-5c84-43f3-af6c-656706d53c6e"
      },
      "source": [
        "ls = [1,2,3]\n",
        "n = len(ls)\n",
        "ls.append(3)\n",
        "print(n)\n",
        "print(ls)"
      ],
      "execution_count": null,
      "outputs": [
        {
          "output_type": "stream",
          "text": [
            "3\n",
            "[1, 2, 3, 3]\n"
          ],
          "name": "stdout"
        }
      ]
    },
    {
      "cell_type": "code",
      "metadata": {
        "id": "6FNpMcBtl6Zr",
        "colab": {
          "base_uri": "https://localhost:8080/"
        },
        "outputId": "6942ad3c-9c16-463a-c16f-955bd9b5b8e6"
      },
      "source": [
        "# 5052. 전화번호 목록 - 골드4\n",
        "# 트라이 알고리즘 사용\n",
        "class Node(object):\n",
        "    def __init__(self, key, data=None):\n",
        "        self.key = key\n",
        "        self.data = data\n",
        "        self.children = {}\n",
        "\n",
        "class Trie(object):\n",
        "    def __init__(self):\n",
        "        self.head = Node(None)\n",
        "        self.consistency = \"YES\"\n",
        "    # 전화번호(문자로 입력 받음) 저장\n",
        "    def insert_and_check(self, phone_number):\n",
        "        current_node = self.head   \n",
        "        # 삽입할 전화번호의 각각의 숫자(문자)에 대해 자식 Node를 만들며 내려간다.\n",
        "        for num in phone_number:\n",
        "            # 자식 Node들 중 같은 숫자가 없으면 Node 새로 생성\n",
        "            if num not in current_node.children:\n",
        "                current_node.children[num] = Node(num)  # 딕셔너리 생성\n",
        "                # 현재 노드에 data가 존재한다면, 일관성이 없는 것\n",
        "                if current_node.data != None:\n",
        "                    self.consistency = \"NO\"\n",
        "            # 같은 문자가 있으면 노드를 따로 생성하지 않고, 해당 노드로 이동\n",
        "            current_node = current_node.children[num]\n",
        "            \n",
        "        # 전화번호가 끝난 지점의 노드의 data값에 해당 전화번호를 입력\n",
        "        current_node.data = phone_number\n",
        "for _ in range(int(input())):\n",
        "    n = int(input())\n",
        "    phones = []\n",
        "    for i in range(n):\n",
        "        phones.append(input())  # 전화번호 문자열로 저장\n",
        "    phones.sort() # 전화번호부 정렬\n",
        "    tree = Trie()\n",
        "    for phone_number in phones:\n",
        "        tree.insert_and_check(phone_number)\n",
        "        # 불필요한 시간소모 줄이기 위함.\n",
        "        if tree.consistency == \"NO\":\n",
        "            break\n",
        "    print(tree.consistency)\n",
        "\n",
        "\n"
      ],
      "execution_count": null,
      "outputs": [
        {
          "output_type": "stream",
          "text": [
            "2\n",
            "3\n",
            "911\n",
            "976546\n",
            "91125\n",
            "NO\n",
            "5\n",
            "113\n",
            "123450\n",
            "12313\n",
            "1654663\n",
            "11305\n",
            "NO\n"
          ],
          "name": "stdout"
        }
      ]
    },
    {
      "cell_type": "code",
      "metadata": {
        "colab": {
          "base_uri": "https://localhost:8080/"
        },
        "id": "C7Omh2VT6PlD",
        "outputId": "0000595b-6374-4a81-d4b6-21db98e5cdba"
      },
      "source": [
        "d = [12345,12432,123456,932]\n",
        "d.sort()\n",
        "print(d)"
      ],
      "execution_count": null,
      "outputs": [
        {
          "output_type": "stream",
          "text": [
            "[932, 12345, 12432, 123456]\n"
          ],
          "name": "stdout"
        }
      ]
    }
  ]
}