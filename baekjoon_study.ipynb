{
  "nbformat": 4,
  "nbformat_minor": 0,
  "metadata": {
    "colab": {
      "name": "baekjoon_study.ipynb",
      "provenance": [],
      "collapsed_sections": [],
      "authorship_tag": "ABX9TyOmyv2hE9tqVT4BQQ217eYe",
      "include_colab_link": true
    },
    "kernelspec": {
      "name": "python3",
      "display_name": "Python 3"
    },
    "language_info": {
      "name": "python"
    }
  },
  "cells": [
    {
      "cell_type": "markdown",
      "metadata": {
        "id": "view-in-github",
        "colab_type": "text"
      },
      "source": [
        "<a href=\"https://colab.research.google.com/github/k00dj-19/AlgorithmStudy_python/blob/master/baekjoon_study.ipynb\" target=\"_parent\"><img src=\"https://colab.research.google.com/assets/colab-badge.svg\" alt=\"Open In Colab\"/></a>"
      ]
    },
    {
      "cell_type": "markdown",
      "metadata": {
        "id": "htz6sBzGO24B"
      },
      "source": [
        "# 교육지원중대 알고리즘 스터디 문제 풀이 공간"
      ]
    },
    {
      "cell_type": "code",
      "metadata": {
        "colab": {
          "base_uri": "https://localhost:8080/"
        },
        "id": "tDluc6JrGrWz",
        "outputId": "3025952a-fd48-4aae-fd2d-daf8a6c7afcd"
      },
      "source": [
        "#11005. 진법변환2 - 브론즈1\n",
        "n, b = map(int,input().split())\n",
        "change_reverse = \"\"\n",
        "a = True\n",
        "while a:\n",
        "    if n < b:\n",
        "        a = False\n",
        "    remainder = str(n%b)\n",
        "    if n%b >= 10:\n",
        "        # A : 65\n",
        "        remainder = chr(n%b+ 55)    # 아스키코드 사용하여 변환\n",
        "    change_reverse += remainder\n",
        "    n = n//b\n",
        "change = change_reverse[::-1]\n",
        "print(change)\n",
        "    "
      ],
      "execution_count": null,
      "outputs": [
        {
          "output_type": "stream",
          "text": [
            "10 2\n",
            "1010\n",
            "0101\n"
          ],
          "name": "stdout"
        }
      ]
    },
    {
      "cell_type": "markdown",
      "metadata": {
        "id": "IFmTKK78eDu3"
      },
      "source": [
        "## 3주차"
      ]
    },
    {
      "cell_type": "code",
      "metadata": {
        "colab": {
          "base_uri": "https://localhost:8080/"
        },
        "id": "7oI2vXdVeHyB",
        "outputId": "07ed50ea-b200-4ad3-abca-ae4e7ab7bb1f"
      },
      "source": [
        "# 10162. 전자레인지 - 브론즈5\n",
        "# a,b,c : 300, 60, 10초\n",
        "t = int(input())\n",
        "a,b,c = 0,0,0\n",
        "# t초를 맞출 수 없을 경우\n",
        "if t%10 != 0:\n",
        "    print(-1)\n",
        "else:\n",
        "    if t//300 != 0:\n",
        "        a = t//300\n",
        "        t -= a*300\n",
        "    if  t//60 !=0:\n",
        "        b = t//60\n",
        "        t -= b*60\n",
        "    if t//10 !=0:\n",
        "        c = t//10\n",
        "        t -= c*10\n",
        "    if t == 0:\n",
        "        print(a,b,c)"
      ],
      "execution_count": null,
      "outputs": [
        {
          "output_type": "stream",
          "text": [
            "19230\n",
            "64 0 3\n"
          ],
          "name": "stdout"
        }
      ]
    },
    {
      "cell_type": "code",
      "metadata": {
        "id": "0MW90M8llosH"
      },
      "source": [
        "# 2805. 나무 자르기 - 실버3\n",
        "# n : 나무의 수, m : 가져가려는 나무 길이\n",
        "\n",
        "# 시간 초과 실패\n",
        "n,m = map(int,input().split())\n",
        "tree_height = list(map(int,input().split()))\n",
        "for i in range(max(tree_height),0,-1):\n",
        "    # cut : 자르고 가져갈 나무를 담은 리스트(음수일 시 0으로 저장)\n",
        "    cut = [tree - i if tree - i >= 0 else 0 for tree in tree_height]\n",
        "    if sum(cut) >= m:\n",
        "        print(i)\n",
        "        break"
      ],
      "execution_count": null,
      "outputs": []
    },
    {
      "cell_type": "code",
      "metadata": {
        "colab": {
          "base_uri": "https://localhost:8080/"
        },
        "id": "1Hf7FT8lqMk4",
        "outputId": "8a28622e-0c83-4cbd-dde1-676519c3739e"
      },
      "source": [
        "# 2차시도, 이분 탐색으로 실시, 성공!\n",
        "def check(trees, h):\n",
        "    sum_tree = 0\n",
        "    for tree in trees:\n",
        "        if tree - h > 0:\n",
        "            sum_tree += tree - h\n",
        "    if sum_tree >= m : \n",
        "        return True\n",
        "    else:\n",
        "        return False\n",
        "\n",
        "n,m = map(int,input().split())\n",
        "tree_height = list(map(int,input().split()))\n",
        "left = 0\n",
        "right = max(tree_height)\n",
        "\n",
        "while left < right:\n",
        "    h = (left+right) // 2     \n",
        "    if left == h or right == h:\n",
        "        break\n",
        "    if check(tree_height,h):\n",
        "        left = h\n",
        "    else:\n",
        "        right = h\n",
        "print(h)\n",
        "        "
      ],
      "execution_count": null,
      "outputs": [
        {
          "output_type": "stream",
          "text": [
            "5 20\n",
            "4 42 40 26 46\n",
            "36\n",
            "36\n"
          ],
          "name": "stdout"
        }
      ]
    },
    {
      "cell_type": "code",
      "metadata": {
        "id": "DAkPsMHRlsu3"
      },
      "source": [
        "# 15686. 치킨 배달 - 골드5"
      ],
      "execution_count": null,
      "outputs": []
    },
    {
      "cell_type": "code",
      "metadata": {
        "id": "BlwcBZ8plyl7"
      },
      "source": [
        "# 15591. MooTube(Silver) - 골드5\n",
        "\n"
      ],
      "execution_count": null,
      "outputs": []
    },
    {
      "cell_type": "code",
      "metadata": {
        "id": "1Elp7Kgzl3zP"
      },
      "source": [
        "# 2493. 탑 - 골드5\n",
        "n = int(input()) # 탑의 수\n",
        "tower = list(map(int,input().split()))\n",
        "check = [0]*n   # 바로 왼쪽이 자신보다 높다면 1, 아니면 0\n",
        "for i in range(n-1,0,-1):\n",
        "    if tower[i] <= tower[i-1]:\n",
        "        check[i] = 1\n",
        "\n",
        "for i in range(len(tower)-1,0,-1):  #끝부터 idx 1까지\n"
      ],
      "execution_count": null,
      "outputs": []
    },
    {
      "cell_type": "code",
      "metadata": {
        "colab": {
          "base_uri": "https://localhost:8080/"
        },
        "id": "XXbzJYHgD28J",
        "outputId": "e45af19d-6cc7-4920-d149-f49cb8b47587"
      },
      "source": [
        "# 답은 맞지만 시간초과\n",
        "n = int(input()) # 탑의 수\n",
        "tower = list(map(int,input().split()))\n",
        "result = [0]*n\n",
        "for i in range(n-1,0,-1):\n",
        "    for j in range(i-1,0,-1):\n",
        "        if tower[i] <= tower[j]:\n",
        "            result[i] = j+1\n",
        "            break\n",
        "print(result)"
      ],
      "execution_count": null,
      "outputs": [
        {
          "output_type": "stream",
          "text": [
            "5\n",
            "6 9 5 7 4\n",
            "[0, 0, 2, 2, 4]\n"
          ],
          "name": "stdout"
        }
      ]
    },
    {
      "cell_type": "code",
      "metadata": {
        "colab": {
          "base_uri": "https://localhost:8080/"
        },
        "id": "MFA3FjWfB5Zw",
        "outputId": "5152f72a-d820-4766-c0e2-22047ab9f05c"
      },
      "source": [
        "4 2 6 9 1 4 3\n",
        "\n",
        "0 1 0 0 1 0 1\n",
        "check[i]가 1이면 그 전 반환\n",
        "           0이면 1나올때 까지 진행"
      ],
      "execution_count": null,
      "outputs": [
        {
          "output_type": "stream",
          "text": [
            "10\n",
            "9\n",
            "8\n",
            "7\n",
            "6\n",
            "5\n",
            "4\n",
            "3\n",
            "2\n"
          ],
          "name": "stdout"
        }
      ]
    },
    {
      "cell_type": "code",
      "metadata": {
        "colab": {
          "base_uri": "https://localhost:8080/"
        },
        "id": "63mmvY81GSSs",
        "outputId": "e12515bd-5c84-43f3-af6c-656706d53c6e"
      },
      "source": [
        "ls = [1,2,3]\n",
        "n = len(ls)\n",
        "ls.append(3)\n",
        "print(n)\n",
        "print(ls)"
      ],
      "execution_count": null,
      "outputs": [
        {
          "output_type": "stream",
          "text": [
            "3\n",
            "[1, 2, 3, 3]\n"
          ],
          "name": "stdout"
        }
      ]
    },
    {
      "cell_type": "code",
      "metadata": {
        "id": "6FNpMcBtl6Zr",
        "colab": {
          "base_uri": "https://localhost:8080/"
        },
        "outputId": "6942ad3c-9c16-463a-c16f-955bd9b5b8e6"
      },
      "source": [
        "# 5052. 전화번호 목록 - 골드4\n",
        "# 트라이 알고리즘 사용\n",
        "class Node(object):\n",
        "    def __init__(self, key, data=None):\n",
        "        self.key = key\n",
        "        self.data = data\n",
        "        self.children = {}\n",
        "\n",
        "class Trie(object):\n",
        "    def __init__(self):\n",
        "        self.head = Node(None)\n",
        "        self.consistency = \"YES\"\n",
        "    # 전화번호(문자로 입력 받음) 저장\n",
        "    def insert_and_check(self, phone_number):\n",
        "        current_node = self.head   \n",
        "        # 삽입할 전화번호의 각각의 숫자(문자)에 대해 자식 Node를 만들며 내려간다.\n",
        "        for num in phone_number:\n",
        "            # 자식 Node들 중 같은 숫자가 없으면 Node 새로 생성\n",
        "            if num not in current_node.children:\n",
        "                current_node.children[num] = Node(num)  # 딕셔너리 생성\n",
        "                # 현재 노드에 data가 존재한다면, 일관성이 없는 것\n",
        "                if current_node.data != None:\n",
        "                    self.consistency = \"NO\"\n",
        "            # 같은 문자가 있으면 노드를 따로 생성하지 않고, 해당 노드로 이동\n",
        "            current_node = current_node.children[num]\n",
        "            \n",
        "        # 전화번호가 끝난 지점의 노드의 data값에 해당 전화번호를 입력\n",
        "        current_node.data = phone_number\n",
        "for _ in range(int(input())):\n",
        "    n = int(input())\n",
        "    phones = []\n",
        "    for i in range(n):\n",
        "        phones.append(input())  # 전화번호 문자열로 저장\n",
        "    phones.sort() # 전화번호부 정렬\n",
        "    tree = Trie()\n",
        "    for phone_number in phones:\n",
        "        tree.insert_and_check(phone_number)\n",
        "        # 불필요한 시간소모 줄이기 위함.\n",
        "        if tree.consistency == \"NO\":\n",
        "            break\n",
        "    print(tree.consistency)\n",
        "\n",
        "\n"
      ],
      "execution_count": 16,
      "outputs": [
        {
          "output_type": "stream",
          "text": [
            "2\n",
            "3\n",
            "911\n",
            "976546\n",
            "91125\n",
            "NO\n",
            "5\n",
            "113\n",
            "123450\n",
            "12313\n",
            "1654663\n",
            "11305\n",
            "NO\n"
          ],
          "name": "stdout"
        }
      ]
    },
    {
      "cell_type": "code",
      "metadata": {
        "colab": {
          "base_uri": "https://localhost:8080/"
        },
        "id": "C7Omh2VT6PlD",
        "outputId": "0000595b-6374-4a81-d4b6-21db98e5cdba"
      },
      "source": [
        "d = [12345,12432,123456,932]\n",
        "d.sort()\n",
        "print(d)"
      ],
      "execution_count": 2,
      "outputs": [
        {
          "output_type": "stream",
          "text": [
            "[932, 12345, 12432, 123456]\n"
          ],
          "name": "stdout"
        }
      ]
    }
  ]
}