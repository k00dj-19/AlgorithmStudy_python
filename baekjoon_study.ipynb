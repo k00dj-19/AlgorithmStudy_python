{
  "nbformat": 4,
  "nbformat_minor": 0,
  "metadata": {
    "colab": {
      "name": "baekjoon_study.ipynb",
      "provenance": [],
      "collapsed_sections": [
        "LHo1-wilqp7_",
        "IFmTKK78eDu3",
        "Z_2zzj6itrug",
        "d2eL-fsTGUoW",
        "kiUYxSgQ5UAU",
        "WeAzAikbq3QK"
      ],
      "mount_file_id": "14KKQHYh16FB-8KJrBt9vR-5Ul-wnoDTM",
      "authorship_tag": "ABX9TyNjxTDRh2/CEmcwpxdaCk76",
      "include_colab_link": true
    },
    "kernelspec": {
      "name": "python3",
      "display_name": "Python 3"
    },
    "language_info": {
      "name": "python"
    }
  },
  "cells": [
    {
      "cell_type": "markdown",
      "metadata": {
        "id": "view-in-github",
        "colab_type": "text"
      },
      "source": [
        "<a href=\"https://colab.research.google.com/github/k00dj-19/AlgorithmStudy_python/blob/master/baekjoon_study.ipynb\" target=\"_parent\"><img src=\"https://colab.research.google.com/assets/colab-badge.svg\" alt=\"Open In Colab\"/></a>"
      ]
    },
    {
      "cell_type": "markdown",
      "metadata": {
        "id": "htz6sBzGO24B"
      },
      "source": [
        "# 교육지원중대 알고리즘 스터디 문제 풀이 공간"
      ]
    },
    {
      "cell_type": "markdown",
      "metadata": {
        "id": "LHo1-wilqp7_"
      },
      "source": [
        "## 시즌 1"
      ]
    },
    {
      "cell_type": "code",
      "metadata": {
        "colab": {
          "base_uri": "https://localhost:8080/"
        },
        "id": "tDluc6JrGrWz",
        "outputId": "3025952a-fd48-4aae-fd2d-daf8a6c7afcd"
      },
      "source": [
        "#11005. 진법변환2 - 브론즈1\n",
        "n, b = map(int,input().split())\n",
        "change_reverse = \"\"\n",
        "a = True\n",
        "while a:\n",
        "    if n < b:\n",
        "        a = False\n",
        "    remainder = str(n%b)\n",
        "    if n%b >= 10:\n",
        "        # A : 65\n",
        "        remainder = chr(n%b+ 55)    # 아스키코드 사용하여 변환\n",
        "    change_reverse += remainder\n",
        "    n = n//b\n",
        "change = change_reverse[::-1]\n",
        "print(change)\n",
        "    "
      ],
      "execution_count": null,
      "outputs": [
        {
          "output_type": "stream",
          "text": [
            "10 2\n",
            "1010\n",
            "0101\n"
          ],
          "name": "stdout"
        }
      ]
    },
    {
      "cell_type": "markdown",
      "metadata": {
        "id": "IFmTKK78eDu3"
      },
      "source": [
        "### 3주차\n",
        "https://k00dj-19.tistory.com/category/%EC%95%8C%EA%B3%A0%EB%A6%AC%EC%A6%98/3%EC%A3%BC%EC%B0%A8%20-%2021.08.16~08.22"
      ]
    },
    {
      "cell_type": "code",
      "metadata": {
        "colab": {
          "base_uri": "https://localhost:8080/"
        },
        "id": "7oI2vXdVeHyB",
        "outputId": "07ed50ea-b200-4ad3-abca-ae4e7ab7bb1f"
      },
      "source": [
        "# 10162. 전자레인지 - 브론즈5\n",
        "# a,b,c : 300, 60, 10초\n",
        "t = int(input())\n",
        "a,b,c = 0,0,0\n",
        "# t초를 맞출 수 없을 경우\n",
        "if t%10 != 0:\n",
        "    print(-1)\n",
        "else:\n",
        "    if t//300 != 0:\n",
        "        a = t//300\n",
        "        t -= a*300\n",
        "    if  t//60 !=0:\n",
        "        b = t//60\n",
        "        t -= b*60\n",
        "    if t//10 !=0:\n",
        "        c = t//10\n",
        "        t -= c*10\n",
        "    if t == 0:\n",
        "        print(a,b,c)"
      ],
      "execution_count": null,
      "outputs": [
        {
          "output_type": "stream",
          "text": [
            "19230\n",
            "64 0 3\n"
          ],
          "name": "stdout"
        }
      ]
    },
    {
      "cell_type": "code",
      "metadata": {
        "id": "0MW90M8llosH"
      },
      "source": [
        "# 2805. 나무 자르기 - 실버3\n",
        "# n : 나무의 수, m : 가져가려는 나무 길이\n",
        "\n",
        "# 시간 초과 실패\n",
        "n,m = map(int,input().split())\n",
        "tree_height = list(map(int,input().split()))\n",
        "for i in range(max(tree_height),0,-1):\n",
        "    # cut : 자르고 가져갈 나무를 담은 리스트(음수일 시 0으로 저장)\n",
        "    cut = [tree - i if tree - i >= 0 else 0 for tree in tree_height]\n",
        "    if sum(cut) >= m:\n",
        "        print(i)\n",
        "        break"
      ],
      "execution_count": null,
      "outputs": []
    },
    {
      "cell_type": "code",
      "metadata": {
        "colab": {
          "base_uri": "https://localhost:8080/"
        },
        "id": "1Hf7FT8lqMk4",
        "outputId": "8a28622e-0c83-4cbd-dde1-676519c3739e"
      },
      "source": [
        "# 2차시도, 이분 탐색으로 실시, 성공!\n",
        "def check(trees, h):\n",
        "    sum_tree = 0\n",
        "    for tree in trees:\n",
        "        if tree - h > 0:\n",
        "            sum_tree += tree - h\n",
        "    if sum_tree >= m : \n",
        "        return True\n",
        "    else:\n",
        "        return False\n",
        "\n",
        "n,m = map(int,input().split())\n",
        "tree_height = list(map(int,input().split()))\n",
        "left = 0\n",
        "right = max(tree_height)\n",
        "\n",
        "while left < right:\n",
        "    h = (left+right) // 2     \n",
        "    if left == h or right == h:\n",
        "        break\n",
        "    if check(tree_height,h):\n",
        "        left = h\n",
        "    else:\n",
        "        right = h\n",
        "print(h)\n",
        "        "
      ],
      "execution_count": null,
      "outputs": [
        {
          "output_type": "stream",
          "text": [
            "5 20\n",
            "4 42 40 26 46\n",
            "36\n",
            "36\n"
          ],
          "name": "stdout"
        }
      ]
    },
    {
      "cell_type": "code",
      "metadata": {
        "id": "DAkPsMHRlsu3"
      },
      "source": [
        "# 15686. 치킨 배달 - 골드5\n",
        "from itertools import combinations\n",
        "\n",
        "def chicken_distance(chicken_store,home,m):\n",
        "    k = len(chicken_store) # k는 치킨집 개수\n",
        "    h = len(home)   # h는 집 개수\n",
        "    chosen_chicken_store = list(combinations(chicken_store, m)) # k개의 치킨집 중 m개를 뽑아 리스트로 저장\n",
        "\n",
        "    city_chicken_distance_list = [] # 도시의 치킨 거리들을 담는 리스트\n",
        "    for chicken_stores in chosen_chicken_store:\n",
        "        city_chicken_distance = 0    # 도시의 치킨 거리\n",
        "        for hx, hy in home:\n",
        "            min_distance = 100  # 최소 치킨 거리\n",
        "            for kx, ky in chicken_stores:\n",
        "                distance = abs(hx-kx) + abs(hy-ky)  # 치킨 거리\n",
        "                min_distance = min(min_distance,distance)\n",
        "            city_chicken_distance += min_distance\n",
        "        city_chicken_distance_list.append(city_chicken_distance)\n",
        "    print(min(city_chicken_distance_list))\n",
        "\n",
        "n, m = map(int,input().split())\n",
        "chicken_store = []\n",
        "home = []\n",
        "for i in range(n):\n",
        "    temp = list(map(int,input().split()))\n",
        "    for j in range(n):\n",
        "        # 치킨집 위치 리스트(chicken_store)에 저장\n",
        "        if temp[j] == 2:\n",
        "            chicken_store.append((i,j))\n",
        "        # 집 위치 리스트(home)에 저장\n",
        "        elif temp[j] == 1:\n",
        "            home.append((i,j))\n",
        "\n",
        "chicken_distance(chicken_store,home,m)\n",
        "        "
      ],
      "execution_count": null,
      "outputs": []
    },
    {
      "cell_type": "code",
      "metadata": {
        "id": "BlwcBZ8plyl7",
        "colab": {
          "base_uri": "https://localhost:8080/"
        },
        "outputId": "47a38bb6-55f3-4463-cfa3-8594e8550a4c"
      },
      "source": [
        "# 15591. MooTube(Silver) - 골드5\n",
        "# 시간 초과 ㅠㅠ\n",
        "n, q = map(int,input().split())\n",
        "INF = 1e9 + 1\n",
        "graph = [[INF] * (n+1) for _ in range(n+1)]\n",
        "for _ in range(n-1):\n",
        "    a,b,r = map(int,input().split())\n",
        "    graph[a][b] = r\n",
        "    graph[b][a] = r\n",
        "for i in range(1,n+1):\n",
        "    for j in range(i,n+1):\n",
        "        # i != j 일 때 수행\n",
        "        if i != j:\n",
        "            for k in range(1,n+1):\n",
        "                if graph[i][k] != INF and graph[k][j] != INF:\n",
        "                    graph[i][j] = min(graph[i][j],graph[i][k],graph[k][j])\n",
        "                    graph[j][i] = graph[i][j]\n",
        "for _ in range(q):\n",
        "    k, v = map(int,input().split())\n",
        "    count = 0\n",
        "    for i in range(1,n+1):\n",
        "        if k <= graph[v][i] < INF:\n",
        "            count += 1\n",
        "    print(count)\n"
      ],
      "execution_count": null,
      "outputs": [
        {
          "output_type": "stream",
          "text": [
            "4 3\n",
            "1 2 3\n",
            "2 3 2\n",
            "2 4 4\n",
            "1000000001.0 1000000001.0 1000000001.0 1000000001.0 1000000001.0\n",
            "1000000001.0 1000000001.0 3 2 3\n",
            "1000000001.0 3 1000000001.0 2 3\n",
            "1000000001.0 2 2 1000000001.0 2\n",
            "1000000001.0 3 3 2 1000000001.0\n",
            "1 2\n",
            "3\n",
            "4 1\n",
            "0\n",
            "3 1\n",
            "2\n"
          ],
          "name": "stdout"
        }
      ]
    },
    {
      "cell_type": "code",
      "metadata": {
        "id": "1Elp7Kgzl3zP",
        "colab": {
          "base_uri": "https://localhost:8080/"
        },
        "outputId": "8090d413-82a3-4ae4-9387-937b52792de5"
      },
      "source": [
        "# 2493. 탑 - 골드5\n",
        "# 실패.. 어렵다\n",
        "\n",
        "from collections import deque\n",
        "n = int(input()) # 탑의 수\n",
        "tower = deque(list(map(int,input().split())))\n",
        "# 수행에 불편하니 역으로 바꿈\n",
        "tower.reverse()\n",
        "sorted_tower = sorted(tower)\n",
        "idx_list = [-1] * n\n",
        "# 정렬리스트의 요소에 해당하는 인덱스 값을 저장\n",
        "for i in range(n):\n",
        "    idx_list[i] = tower.index(sorted_tower[i])\n",
        "result = [0]*n\n",
        "count = 0\n",
        "while len(tower) > 0:\n",
        "    # 뒤집었으니 왼쪽에서 부터 제거\n",
        "    current = tower.popleft()\n",
        "    start = sorted_tower.index(current) + 1\n",
        "    # current보다 높은 것 중 인덱스 차이가 최소인 것 탐색\n",
        "    min_idx_interval = n\n",
        "    target_idx = n\n",
        "    # 현재 탑의 sorted_tower 인덱스 저장\n",
        "    current_sorted_idx = idx_list[start-1]\n",
        "    for i in range(start, n):\n",
        "        temp = idx_list[i] - current_sorted_idx\n",
        "        if 0 < temp < min_idx_interval:\n",
        "            min_idx_interval = temp\n",
        "            target_idx = idx_list[i]\n",
        "    result[count] = n - target_idx  \n",
        "    count += 1\n",
        "\n",
        "result.reverse()\n",
        "print(result)"
      ],
      "execution_count": null,
      "outputs": [
        {
          "output_type": "stream",
          "text": [
            "5\n",
            "7 2 9 1 4\n",
            "tower:  deque([4, 1, 9, 2, 7])\n",
            "sorted_tower:  [1, 2, 4, 7, 9]\n",
            "idx_list:  [1, 3, 0, 4, 2]\n",
            "current:  4\n",
            "start:  3\n",
            "current_sorted_idx:  0\n",
            "result:  [3, 0, 0, 0, 0]\n",
            "current:  1\n",
            "start:  1\n",
            "current_sorted_idx:  1\n",
            "result:  [3, 3, 0, 0, 0]\n",
            "current:  9\n",
            "start:  5\n",
            "current_sorted_idx:  2\n",
            "result:  [3, 3, 0, 0, 0]\n",
            "current:  2\n",
            "start:  2\n",
            "current_sorted_idx:  3\n",
            "result:  [3, 3, 0, 1, 0]\n",
            "current:  7\n",
            "start:  4\n",
            "current_sorted_idx:  4\n",
            "result:  [3, 3, 0, 1, 0]\n",
            "[0, 1, 0, 3, 3]\n"
          ],
          "name": "stdout"
        }
      ]
    },
    {
      "cell_type": "code",
      "metadata": {
        "colab": {
          "base_uri": "https://localhost:8080/"
        },
        "id": "XXbzJYHgD28J",
        "outputId": "e45af19d-6cc7-4920-d149-f49cb8b47587"
      },
      "source": [
        "# 답은 맞지만 시간초과\n",
        "n = int(input()) # 탑의 수\n",
        "tower = list(map(int,input().split()))\n",
        "result = [0]*n\n",
        "for i in range(n-1,0,-1):\n",
        "    for j in range(i-1,0,-1):\n",
        "        if tower[i] <= tower[j]:\n",
        "            result[i] = j+1\n",
        "            break\n",
        "print(result)"
      ],
      "execution_count": null,
      "outputs": [
        {
          "output_type": "stream",
          "text": [
            "5\n",
            "6 9 5 7 4\n",
            "[0, 0, 2, 2, 4]\n"
          ],
          "name": "stdout"
        }
      ]
    },
    {
      "cell_type": "code",
      "metadata": {
        "colab": {
          "base_uri": "https://localhost:8080/"
        },
        "id": "Er2BIjKboblK",
        "outputId": "d627f689-eb04-42dc-d5f3-221afff4ae64"
      },
      "source": [
        "# 블로그 참고\n",
        "# 스택 활용... 결국 풀었다!!!!\n",
        "n = int(input()) # 탑의 수\n",
        "tower = list(map(int,input().split()))\n",
        "stack = []\n",
        "# 비어있다면, print(0) and push\n",
        "# 비어있지않다면, -> 자신보다 높이가 낮으면, -> pop \n",
        "#                 -> 자신보다 높이가 높으면 print(idx), 다시 push 자신도 push\n",
        "for i in range(n):\n",
        "    h = tower[i]\n",
        "    if len(stack) == 0:\n",
        "        print(0, end=\" \")\n",
        "        stack.append([h,i+1])\n",
        "    else:\n",
        "        while stack:\n",
        "            # 자신보다 높이가 낮으면\n",
        "            if stack[-1][0] < h:\n",
        "                stack.pop()\n",
        "                if len(stack) == 0:\n",
        "                    print(0, end=\" \")\n",
        "            # 자신보다 높이가 높으면    \n",
        "            elif stack[-1][0] > h:\n",
        "                print(stack[-1][1], end=\" \")\n",
        "                break\n",
        "    stack.append([h,i+1])\n",
        "    #print(stack)\n",
        "\n"
      ],
      "execution_count": null,
      "outputs": [
        {
          "output_type": "stream",
          "text": [
            "5\n",
            "6 9 5 7 4\n",
            "0 0 2 2 4 "
          ],
          "name": "stdout"
        }
      ]
    },
    {
      "cell_type": "code",
      "metadata": {
        "id": "6FNpMcBtl6Zr",
        "colab": {
          "base_uri": "https://localhost:8080/"
        },
        "outputId": "f871321c-d97d-4216-8707-f8fb7d7f87b7"
      },
      "source": [
        "# 5052. 전화번호 목록 - 골드4\n",
        "# 트라이 알고리즘 사용\n",
        "class Node(object):\n",
        "    def __init__(self, key, data=None):\n",
        "        self.data = data\n",
        "        self.children = {}\n",
        "\n",
        "class Trie(object):\n",
        "    def __init__(self):\n",
        "        self.head = Node(None)\n",
        "        self.consistency = \"YES\"\n",
        "    # 전화번호(문자로 입력 받음) 저장\n",
        "    def insert_and_check(self, phone_number):\n",
        "        current_node = self.head   \n",
        "        # 삽입할 전화번호의 각각의 숫자(문자)에 대해 자식 Node를 만들며 내려간다.\n",
        "        for num in phone_number:\n",
        "            # 자식 Node들 중 같은 숫자가 없으면 Node 새로 생성\n",
        "            if num not in current_node.children:\n",
        "                current_node.children[num] = Node(num)  # 딕셔너리 생성\n",
        "                # 현재 노드에 data가 존재한다면, 일관성이 없는 것\n",
        "                if current_node.data != None:\n",
        "                    self.consistency = \"NO\"\n",
        "            # 같은 문자가 있으면 노드를 따로 생성하지 않고, 해당 노드로 이동\n",
        "            current_node = current_node.children[num]\n",
        "            \n",
        "        # 전화번호가 끝난 지점의 노드의 data값에 해당 전화번호를 입력\n",
        "        current_node.data = phone_number\n",
        "for _ in range(int(input())):\n",
        "    n = int(input())\n",
        "    phones = []\n",
        "    for i in range(n):\n",
        "        phones.append(input())  # 전화번호 문자열로 저장\n",
        "    phones.sort() # 전화번호부 정렬\n",
        "    tree = Trie()\n",
        "    for phone_number in phones:\n",
        "        tree.insert_and_check(phone_number)\n",
        "        # 불필요한 시간소모 줄이기 위함.\n",
        "        if tree.consistency == \"NO\":\n",
        "            break\n",
        "    print(tree.consistency)\n",
        "\n",
        "\n"
      ],
      "execution_count": null,
      "outputs": [
        {
          "output_type": "stream",
          "text": [
            "2\n",
            "3\n",
            "911\n",
            "973621\n",
            "9112\n",
            "NO\n",
            "5\n",
            "123\n",
            "\n",
            "121\n",
            "5\n",
            "\n",
            "NO\n"
          ],
          "name": "stdout"
        }
      ]
    },
    {
      "cell_type": "markdown",
      "metadata": {
        "id": "Z_2zzj6itrug"
      },
      "source": [
        "### 4주차\n",
        "https://k00dj-19.tistory.com/category/%EC%95%8C%EA%B3%A0%EB%A6%AC%EC%A6%98/4%EC%A3%BC%EC%B0%A8%20-%2021.08.23~08.29"
      ]
    },
    {
      "cell_type": "code",
      "metadata": {
        "id": "b6It5CdUtuMz",
        "colab": {
          "base_uri": "https://localhost:8080/"
        },
        "outputId": "a5f73123-59b9-40d0-b4a0-e727fd11c940"
      },
      "source": [
        "# 1268. 임시 반장 정하기 - 브론즈1\n",
        "n = int(input())\n",
        "same_class = [[] for _ in range(n+1)]    # index : 학생번호, element : 같은 반을 해봤던 학생들 번호\n",
        "matrix = [[0,0,0,0,0]]\n",
        "for _ in range(n):\n",
        "    matrix.append(list(map(int,input().split())))\n",
        "for i in range(1,n+1):\n",
        "    for k in range(i+1,n+1):\n",
        "        for j in range(0,5):\n",
        "            # 반이 같다면 같은 반 학생이었던 학생의 번호를 same_class에 저장\n",
        "            if matrix[i][j] == matrix[k][j]:\n",
        "                if k not in same_class[i]: \n",
        "                    same_class[i].append(k)\n",
        "                if i not in same_class[k]:\n",
        "                    same_class[k].append(i)\n",
        "# for i, friends in enumerate(same_class):\n",
        "#     print(f'{i}번 학생과 같은 반이였던 친구들: ', friends)\n",
        "\n",
        "# 임시 반장 정하기    \n",
        "most_friendliest = 1 # 아무도 같은 반이었던 적이 없는 경우를 대비해 1로 초기화\n",
        "friends = 0\n",
        "for i in range(1,n+1):\n",
        "    if len(same_class[i]) > friends:\n",
        "        most_friendliest = i\n",
        "        friends = len(same_class[i])\n",
        "print(most_friendliest)"
      ],
      "execution_count": null,
      "outputs": [
        {
          "output_type": "stream",
          "text": [
            "3\n",
            "1 1 1 1 1\n",
            "2 2 2 2 2\n",
            "3 3 3 3 3\n",
            "0번 학생과 같은 반이였던 친구들:  []\n",
            "1번 학생과 같은 반이였던 친구들:  []\n",
            "2번 학생과 같은 반이였던 친구들:  []\n",
            "3번 학생과 같은 반이였던 친구들:  []\n",
            "0\n"
          ],
          "name": "stdout"
        }
      ]
    },
    {
      "cell_type": "code",
      "metadata": {
        "id": "a2u6Jr9Pr08v",
        "colab": {
          "base_uri": "https://localhost:8080/"
        },
        "outputId": "161dc87e-d684-493d-aa06-890fe14af687"
      },
      "source": [
        "# 15900. 나무 탈출 - 실버1\n",
        "# 배열 활용\n",
        "# 문제 발생.. 입력이 순서대로가 아니라 리프 노드부터 연결하고 루트 노드랑 연결되면 작동 불가..\n",
        "n = int(input())\n",
        "# [1까지의 거리,children개수] in arr\n",
        "arr = [[-1,0] for _ in range(n+1)]\n",
        "arr[1][0] = 0 # 1은 루트노드이므로 1까지의 거리를 0으로 초기화\n",
        "for _ in range(n-1):\n",
        "    a,b = map(int,input().split())\n",
        "    # a가 1까지의 거리가 -1이 아니라면, 즉 이미 다른 노드와 연결되어 있는 경우, b는 a의 children \n",
        "    if arr[a][0] != -1:\n",
        "        arr[b][0] = arr[a][0] + 1\n",
        "        arr[a][1] += 1\n",
        "    # a가 b의 children일 경우,\n",
        "    elif arr[b][0] != -1:\n",
        "        arr[a][0] = arr[b][0] + 1\n",
        "        arr[b][1] += 1\n",
        "# count : 게임 진행 횟수 == 게임말의 이동횟수의 합 == 리프 노드의 1까지의 거리의 합\n",
        "count = 0\n",
        "# count가 홀수면, 성원 win -> Yes 출력\n",
        "#         짝수면, 형석 win -> No 출력\n",
        "for i in range(1,n+1):\n",
        "    # children이 0이면 리프 노드.\n",
        "    if arr[i][1] == 0:\n",
        "        count += arr[i][0]\n",
        "    print(f'{i}: {arr[i]}')\n",
        "print(\"count : \",count)\n",
        "print(\"Yes\" if count%2 == 1 else \"No\")"
      ],
      "execution_count": null,
      "outputs": [
        {
          "output_type": "stream",
          "text": [
            "10\n",
            "8 10\n",
            "8 9\n",
            "8 1\n",
            "1 2\n",
            "2 3\n",
            "5 7\n",
            "5 4\n",
            "4 1\n",
            "5 6\n",
            "1: [0, 3]\n",
            "2: [1, 1]\n",
            "3: [2, 0]\n",
            "4: [1, 0]\n",
            "5: [-1, 0]\n",
            "6: [-1, 0]\n",
            "7: [-1, 0]\n",
            "8: [1, 0]\n",
            "9: [-1, 0]\n",
            "10: [-1, 0]\n",
            "count :  -1\n",
            "Yes\n"
          ],
          "name": "stdout"
        }
      ]
    },
    {
      "cell_type": "code",
      "metadata": {
        "colab": {
          "base_uri": "https://localhost:8080/"
        },
        "id": "25uyRyM22n7c",
        "outputId": "f4bd9342-3a70-4779-a072-ed866afef48a"
      },
      "source": [
        "# 15900. 나무 탈출 - 실버1 / 2번째 시도 .. 성공!\n",
        "# 그래프 이론\n",
        "n = int(input())\n",
        "# 2차원 인접 리스트 생성\n",
        "arr = [[] for _ in range(n+1)]\n",
        "for _ in range(n-1):\n",
        "    a,b = map(int,input().split())\n",
        "    arr[a].append(b)\n",
        "    arr[b].append(a)\n",
        "\n",
        "visited = [-1] * (n+1)\n",
        "visited[1] = 0\n",
        "stack = [1]\n",
        "count = 0\n",
        "value = [0] * (n+1) # 1과의 거리\n",
        "while stack:\n",
        "    curr = stack.pop()\n",
        "    if len(arr[curr]) == 1 and curr != 1:\n",
        "        count += value[curr]\n",
        "    else:\n",
        "        for i in arr[curr]:\n",
        "            # 방문하지 않았다면,\n",
        "            if visited[i] == -1:\n",
        "                stack.append(i)\n",
        "                visited[i] = 0\n",
        "                value[i] = value[curr] + 1\n",
        "print(\"Yes\" if count%2 == 1 else \"No\")\n"
      ],
      "execution_count": null,
      "outputs": [
        {
          "output_type": "stream",
          "text": [
            "2\n",
            "1 2\n",
            "Yes\n"
          ],
          "name": "stdout"
        }
      ]
    },
    {
      "cell_type": "code",
      "metadata": {
        "colab": {
          "base_uri": "https://localhost:8080/"
        },
        "id": "4Je-VRlXr4Ds",
        "outputId": "c45a0d8b-e25c-4756-e1c5-9c2de0caae46"
      },
      "source": [
        "# 16967. 배열 복원하기 - 실버3\n",
        "# 배열은 무조건 겹침\n",
        "h, w ,x ,y = map(int,input().split())\n",
        "b = []\n",
        "a = [[0] * w for _ in range(h) ]\n",
        "for _ in range(h+x):\n",
        "    b.append(list(map(int,input().split())))\n",
        "# for i in a:\n",
        "#     print(*i)\n",
        "# print()\n",
        "# for i in b:\n",
        "#     print(*i)\n",
        "for i in range(h):\n",
        "    for j in range(w):\n",
        "        if i >= x and j >= y:\n",
        "            a[i][j] = b[i][j] - a[i-x][j-y]\n",
        "        else:\n",
        "            a[i][j] = b[i][j]\n",
        "print()\n",
        "for i in a:\n",
        "    print(*i)"
      ],
      "execution_count": null,
      "outputs": [
        {
          "output_type": "stream",
          "text": [
            "3 4 2 2\n",
            "1 2 3 4 0 0\n",
            "5 6 7 8 0 0\n",
            "9 10 12 14 3 4\n",
            "0 0 5 6 7 8\n",
            "0 0 9 10 11 12\n",
            "\n",
            "1 2 3 4\n",
            "5 6 7 8\n",
            "9 10 11 12\n"
          ],
          "name": "stdout"
        }
      ]
    },
    {
      "cell_type": "code",
      "metadata": {
        "id": "xh477tOUr8mB",
        "colab": {
          "base_uri": "https://localhost:8080/"
        },
        "outputId": "3630f26c-c3ee-4272-b03c-28be200d0fd1"
      },
      "source": [
        "# 1937. 욕심쟁이 판다 - 골드3\n",
        "# 겨우 풀었다...2시간걸림\n",
        "def findValue(x, y):\n",
        "    # cnt : 상하좌우에 자신 보다 큰 값의 개수\n",
        "    cnt = 0\n",
        "    # dfs\n",
        "    for dx,dy in d:\n",
        "        nx = x + dx\n",
        "        ny = y + dy\n",
        "        if 0 <= nx < n and 0 <= ny < n and forest[x][y] < forest[nx][ny]:\n",
        "            dp[x][y] = max(dp[x][y],dp[x+dx][y+dy] + 1)\n",
        "            cnt += 1\n",
        "    # 주위에서 가장 클 때,\n",
        "    if cnt == 0:\n",
        "        dp[x][y] = 1\n",
        "n = int(input())\n",
        "forest = []\n",
        "d = [(0,1),(1,0),(0,-1),(-1,0)]\n",
        "# dp[x,y] : x,y좌표에서 시작했을 때 이동할 수 있는 칸의 최댓값\n",
        "dp = [[0] * n for _ in range(n)]\n",
        "\n",
        "# location에 좌표 저장\n",
        "location = [[] for _ in range(1000001)]\n",
        "for i in range(n):\n",
        "    temp = list(map(int,input().split()))\n",
        "    forest.append(temp)\n",
        "    for j in range(n):\n",
        "        location[temp[j]].append((i,j))\n",
        "max_value = max(map(max,forest))\n",
        "# dp 계산\n",
        "for i in range(max_value,0,-1):\n",
        "    if len(location[i]) == 0:\n",
        "        continue\n",
        "    else:\n",
        "        for x,y in location[i]:\n",
        "            findValue(x,y)\n",
        "print(max(map(max,dp)))\n",
        "\n",
        "    \n"
      ],
      "execution_count": null,
      "outputs": [
        {
          "output_type": "stream",
          "text": [
            "4\n",
            "14 9 42 10\n",
            "10 11 5 4\n",
            "3 5 6 4\n",
            "74 5 1 3\n",
            "[1, 2, 1, 2]\n",
            "[2, 1, 2, 3]\n",
            "[3, 2, 1, 2]\n",
            "[1, 2, 4, 3]\n",
            "4\n"
          ],
          "name": "stdout"
        }
      ]
    },
    {
      "cell_type": "code",
      "metadata": {
        "id": "tR2Dj5Frr_Ix"
      },
      "source": [
        "# 1261. 알고스팟 - 골드4\n",
        "from collections import deque\n",
        "m,n = map(int,input().split())\n",
        "maze = []\n",
        "for _ in range(n):\n",
        "    # 문자열로 입력받기\n",
        "    maze.append(list(input()))\n",
        "#bfs활용\n",
        "dq = deque([[0,0,0]])   # [x,y,전까지의 벽개수]\n",
        "d_list = [(1,0),(0,1)]\n",
        "wall_list = []\n",
        "\n",
        "# 방문하면 maze[x][y] = '-1'로 변경\n",
        "while dq:\n",
        "    x,y,wall = dq.popleft()\n",
        "\n",
        "    for dx,dy in d_list:\n",
        "        nx = x + dx\n",
        "        ny = y + dy\n",
        "        # 이동할 곳이 마지막 장소이면, wall_list에 부술 벽 개수 삽입\n",
        "        if nx == n-1 and ny == m-1:\n",
        "            wall_list.append(wall)\n",
        "            break\n",
        "        if 0 <= nx < n and 0 <= ny < m:\n",
        "            # 이동할 곳이 방문한 곳이라면,\n",
        "            if maze[nx,ny] == '-1':\n",
        "                continue\n",
        "            # 이동할 곳이 벽이라면, 그 다음에도 벽이 없으면 전진\n",
        "            elif maze[nx,ny] == '1':\n",
        "\n",
        "        "
      ],
      "execution_count": null,
      "outputs": []
    },
    {
      "cell_type": "markdown",
      "metadata": {
        "id": "d2eL-fsTGUoW"
      },
      "source": [
        "### 5주차\n",
        "https://k00dj-19.tistory.com/category/%EC%95%8C%EA%B3%A0%EB%A6%AC%EC%A6%98/5%EC%A3%BC%EC%B0%A8%20-%2021.08.30~09.05"
      ]
    },
    {
      "cell_type": "code",
      "metadata": {
        "colab": {
          "base_uri": "https://localhost:8080/"
        },
        "id": "MCJYFFxdGXay",
        "outputId": "64f1fb56-1255-49f3-f070-cfdcff78aa58"
      },
      "source": [
        "# 2839. 설탕 배달 - 브론즈1\n",
        "dp = [1e9] * 5001\n",
        "dp[3] = 1\n",
        "dp[5] = 1\n",
        "n = int(input())\n",
        "for i in range(6,n+1):\n",
        "    dp[i] = min(dp[i-3] + 1, dp[i-5] + 1)\n",
        "print(dp[n] if dp[n] < 1e9 else -1 )"
      ],
      "execution_count": null,
      "outputs": [
        {
          "output_type": "stream",
          "name": "stdout",
          "text": [
            "5\n",
            "1\n"
          ]
        }
      ]
    },
    {
      "cell_type": "code",
      "metadata": {
        "colab": {
          "base_uri": "https://localhost:8080/"
        },
        "id": "Yzt8hhhPIO9G",
        "outputId": "002a8d07-7642-4856-a02c-116a7da174ed"
      },
      "source": [
        "# 1890. 점프 - 실버2\n",
        "# 재귀사용..시간초과\n",
        "def jump(x,y):\n",
        "    if x == n-1 and y == n-1:\n",
        "        pass\n",
        "    else:\n",
        "        value = game[x][y] # value : 점프해야할 값\n",
        "        if 0 <= x + value < n and 0 <= y < n:\n",
        "            result[x + value][y] += result[x][y] \n",
        "            jump(x + value,y)\n",
        "        if 0 <= x < n and 0 <= y + value < n:\n",
        "            result[x][y + value] += result[x][y] \n",
        "            jump(x,y + value)\n",
        "\n",
        "n = int(input())\n",
        "game = []\n",
        "result = [[0] * n for _ in range(n)]\n",
        "result[0][0] = 1\n",
        "for _ in range(n):\n",
        "    game.append(list(map(int,input().split())))\n",
        "jump(0,0)\n",
        "print(result[n-1][n-1])"
      ],
      "execution_count": null,
      "outputs": [
        {
          "output_type": "stream",
          "name": "stdout",
          "text": [
            "4\n",
            "2 3 3 1\n",
            "1 2 1 3\n",
            "1 2 3 1\n",
            "3 1 1 0\n",
            "3\n"
          ]
        }
      ]
    },
    {
      "cell_type": "code",
      "metadata": {
        "colab": {
          "base_uri": "https://localhost:8080/"
        },
        "id": "u3rKmVX7PNWS",
        "outputId": "85bee4e1-4811-47a2-ae7c-7e902677e4b5"
      },
      "source": [
        "# 1890. 점프 - 실버2 / 두번째시도\n",
        "# dfs stack사용..시간초과\n",
        "n = int(input())\n",
        "game = []\n",
        "result = [[0] * n for _ in range(n)]\n",
        "result[0][0] = 1\n",
        "for _ in range(n):\n",
        "    game.append(list(map(int,input().split())))\n",
        "stack = [(0,0)]\n",
        "while stack:\n",
        "    x,y = stack.pop()\n",
        "    if (x,y) == (n-1,n-1):\n",
        "        continue\n",
        "    else:\n",
        "        value = game[x][y]  # value : 점프할 값\n",
        "        if 0 <= x + value < n and 0 <= y < n:\n",
        "            result[x+value][y] += result[x][y]\n",
        "            stack.append((x + value,y))\n",
        "        if 0 <= x < n and 0 <= y + value < n:\n",
        "            result[x][y + value] += result[x][y] \n",
        "            stack.append((x,y + value))\n",
        "print(result[n-1][n-1])"
      ],
      "execution_count": null,
      "outputs": [
        {
          "output_type": "stream",
          "name": "stdout",
          "text": [
            "4\n",
            "2 3 3 1\n",
            "1 2 1 3\n",
            "1 2 3 1\n",
            "3 1 1 0\n",
            "[[1, 0, 1, 0], [0, 0, 0, 0], [1, 1, 0, 1], [1, 0, 1, 3]]\n",
            "3\n"
          ]
        }
      ]
    },
    {
      "cell_type": "code",
      "metadata": {
        "colab": {
          "base_uri": "https://localhost:8080/"
        },
        "id": "WJXl8Jz_MU0s",
        "outputId": "f1a78bc9-f4a0-443f-b1c4-fca3fb0d0d17"
      },
      "source": [
        "# 1890. 점프 - 실버2 / 세번째시도\n",
        "# 다시 재귀 사용...성공!\n",
        "def jump(x,y):\n",
        "    # 끝까지 갔다면, \n",
        "    if x == n-1 and y == n-1:\n",
        "        return 1\n",
        "    if result[x][y] == -1:\n",
        "        result[x][y] = 0\n",
        "        value = game[x][y]  # value : 점프할 값\n",
        "        # r[0][0] = r[2][0] + r[0][2] = r[2][3] + (r[1][2] + r[0][3]) = 1 + r[1][4] + 1 = 1 + 1 + 1 = 3\n",
        "        if 0 <= x + value < n and 0 <= y < n:\n",
        "            result[x][y] += jump(x+value,y)\n",
        "        if 0 <= x < n and 0 <= y + value < n:\n",
        "            result[x][y] += jump(x,y+value)\n",
        "    return result[x][y]\n",
        "n = int(input())\n",
        "game = []\n",
        "result = [[-1] * n for _ in range(n)]\n",
        "for _ in range(n):\n",
        "    game.append(list(map(int,input().split())))\n",
        "print(jump(0,0))"
      ],
      "execution_count": null,
      "outputs": [
        {
          "output_type": "stream",
          "name": "stdout",
          "text": [
            "4\n",
            "2 3 3 1\n",
            "1 2 1 3\n",
            "1 2 3 1\n",
            "3 1 1 0\n",
            "3\n"
          ]
        }
      ]
    },
    {
      "cell_type": "code",
      "metadata": {
        "id": "tMrOyIUNIRWG",
        "colab": {
          "base_uri": "https://localhost:8080/"
        },
        "outputId": "4d9b8c36-85b9-4bbb-dc13-3deef85a1def"
      },
      "source": [
        "# 1946. 신입 사원 - 실버1\n",
        "def selection(grades, n):\n",
        "    temp = grades[0][1] # 첫 temp : 서류심사 1등의 면접 순위\n",
        "    count = 1 # 1등은 무조건 선발\n",
        "    for i in range(1,n):\n",
        "        if temp > grades[i][1]: # temp보다 다음 사람의 면접 순위가 낮아야 선발\n",
        "            temp = grades[i][1] # temp 업데이트\n",
        "            count += 1\n",
        "    print(count)\n",
        "t = int(input())\n",
        "\n",
        "for _ in range(t):\n",
        "    n = int(input())\n",
        "    ranking = []\n",
        "    for _ in range(n):\n",
        "        ranking.append(tuple(map(int,input().split())))\n",
        "    ranking.sort()  # 서류 심사 순위를 기준으로 정렬\n",
        "    selection(ranking, n)"
      ],
      "execution_count": null,
      "outputs": [
        {
          "output_type": "stream",
          "name": "stdout",
          "text": [
            "2\n",
            "5\n",
            "3 2\n",
            "1 4\n",
            "4 1\n",
            "2 3\n",
            "5 5\n",
            "4\n",
            "7\n",
            "3 6\n",
            "7 3\n",
            "4 2\n",
            "1 4\n",
            "5 7\n",
            "2 5\n",
            "6 1\n",
            "3\n"
          ]
        }
      ]
    },
    {
      "cell_type": "code",
      "metadata": {
        "id": "3tXPZOYtKDop",
        "colab": {
          "base_uri": "https://localhost:8080/"
        },
        "outputId": "61b75e94-970f-4f39-87cd-b4a69d77529e"
      },
      "source": [
        "# 1339. 단어 수학 - 골드4\n",
        "n = int(input())\n",
        "# (A : 0) ~ (Z : 25)\n",
        "arr = [0] * 26\n",
        "for _ in range(n):\n",
        "    temp = input()\n",
        "    k = len(temp)\n",
        "    for i in range(k):\n",
        "        arr[ord(temp[i]) - 65] += pow(10, k-i-1)\n",
        "# arr를 내림차순으로 정렬한 후 앞에서 부터 9~0까지 곱해서 더한다.\n",
        "arr.sort(reverse=True)\n",
        "sum_words = 0\n",
        "for i in range(10):\n",
        "    sum_words += arr[i] * (9-i)\n",
        "print(sum_words)    "
      ],
      "execution_count": null,
      "outputs": [
        {
          "output_type": "stream",
          "name": "stdout",
          "text": [
            "2\n",
            "AB\n",
            "BA\n",
            "187\n"
          ]
        }
      ]
    },
    {
      "cell_type": "code",
      "metadata": {
        "id": "qChDhGcEKFsz",
        "colab": {
          "base_uri": "https://localhost:8080/"
        },
        "outputId": "428c459f-160a-4d80-cf1e-31f5f5d4b4ba"
      },
      "source": [
        "# 3109. 빵집 - 골드2\n",
        "# 파이프라인의 최대개수는 R개 이다.\n",
        "# 결론..stack활용하니 사용하지않고 버려지는 메모리도 많고, 시간초과도 나옴..실패\n",
        "def installPipeline(x,y):\n",
        "    # 끝까지 다다르면 종료\n",
        "    # temp_visited = []\n",
        "    stack = [(x,y)]\n",
        "    while stack:\n",
        "        cur_x,cur_y = stack.pop()\n",
        "        #temp_visited.append((cur_x,cur_y))\n",
        "        # 끝에 도달했을 때, cnt와 visited 업데이트\n",
        "        if cur_y == c-1:\n",
        "            # for i,j in temp_visited:\n",
        "            #     visited[i][j] = 1\n",
        "            \n",
        "            return 1\n",
        "        # stack에 먼저 집어 넣으면 나중에 꺼내오므로, 오른쪽 대각선 위 방향부터 탐색하기 위해 오른쪽 대각선 아래 방향부터 스택에 넣는다. \n",
        "        for i in range(1,-2,-1):\n",
        "            nx = cur_x + i\n",
        "            ny = cur_y + 1\n",
        "            if 0 <= nx < r and 0 <= ny < c:\n",
        "                if visited[nx][ny] == 0:\n",
        "                    visited[nx][ny] = 1\n",
        "                    stack.append((nx,ny))\n",
        "    return 0\n",
        "\n",
        "r,c = map(int,input().split())\n",
        "visited = [[0] * c for _ in range(r)]\n",
        "for i in range(r):\n",
        "    temp = input()\n",
        "    for j in range(c):\n",
        "        if temp[j] == \"x\":\n",
        "            visited[i][j] = 1\n",
        "count = 0\n",
        "for i in range(r):\n",
        "    count += installPipeline(i,0)\n",
        "print(count)"
      ],
      "execution_count": null,
      "outputs": [
        {
          "output_type": "stream",
          "name": "stdout",
          "text": [
            "5 5\n",
            ".xx..\n",
            "..x..\n",
            "..x..\n",
            "...x.\n",
            "..x..\n",
            "1\n"
          ]
        }
      ]
    },
    {
      "cell_type": "code",
      "metadata": {
        "colab": {
          "base_uri": "https://localhost:8080/"
        },
        "id": "Rt8u6ktjHz2E",
        "outputId": "682d630d-03a5-4204-a74b-186325dc6fb3"
      },
      "source": [
        "# 3109. 빵집 - 골드2 / 두번째 시도\n",
        "# 재귀로 시도..성공!\n",
        "def installPipeline(x,y):\n",
        "    if y == c-1:\n",
        "        return True\n",
        "    for i in range(-1,2,1):\n",
        "        if 0 <= x+i < r and 0 <= y+1 < c:\n",
        "            if visited[x+i][y+1] == False:\n",
        "                visited[x+i][y+1] = True\n",
        "                if installPipeline(x+i,y+1) == True:\n",
        "                    return True\n",
        "    return False\n",
        "\n",
        "r,c = map(int,input().split())\n",
        "visited = [[False] * c for _ in range(r)]\n",
        "for i in range(r):\n",
        "    temp = input()\n",
        "    for j in range(c):\n",
        "        if temp[j] == \"x\":\n",
        "            visited[i][j] = True\n",
        "count = 0\n",
        "for i in range(r):\n",
        "    if installPipeline(i,0):\n",
        "        count += 1\n",
        "print(count)"
      ],
      "execution_count": null,
      "outputs": [
        {
          "output_type": "stream",
          "name": "stdout",
          "text": [
            "5 5\n",
            ".xx..\n",
            "..x..\n",
            "..x..\n",
            "...x.\n",
            "..x..\n",
            "1\n"
          ]
        }
      ]
    },
    {
      "cell_type": "markdown",
      "metadata": {
        "id": "kiUYxSgQ5UAU"
      },
      "source": [
        "### 6주차\n",
        "https://k00dj-19.tistory.com/category/%EC%95%8C%EA%B3%A0%EB%A6%AC%EC%A6%98/6%EC%A3%BC%EC%B0%A8%20-%2021.09.06~09.12"
      ]
    },
    {
      "cell_type": "code",
      "metadata": {
        "id": "EykyouXGiMVR",
        "colab": {
          "base_uri": "https://localhost:8080/"
        },
        "outputId": "3aed929a-43af-4a46-d400-501ab2aefba4"
      },
      "source": [
        "# 2798. 블랙잭 - 브론즈2\n",
        "def solve():\n",
        "    result = 0\n",
        "    for i in range(n-2):\n",
        "        for j in range(i+1,n-1):\n",
        "            for k in range(j+1,n):\n",
        "                temp = cards[i] + cards[j] + cards[k]\n",
        "                if temp == m:\n",
        "                    return temp\n",
        "                if temp <= m and abs(temp - m) < abs(result-m):\n",
        "                    result = temp\n",
        "    return result\n",
        "n, m = map(int,input().split())\n",
        "cards = list(map(int,input().split()))\n",
        "cards.sort()\n",
        "print(solve())"
      ],
      "execution_count": null,
      "outputs": [
        {
          "output_type": "stream",
          "name": "stdout",
          "text": [
            "10 500\n",
            "93 181 245 214 315 36 185 138 216 295\n",
            "497\n"
          ]
        }
      ]
    },
    {
      "cell_type": "code",
      "metadata": {
        "id": "1Y8ShGrGiMb9",
        "colab": {
          "base_uri": "https://localhost:8080/"
        },
        "outputId": "4880892d-da47-436d-c2b3-b855ccee3547"
      },
      "source": [
        "# 2231. 분해합 - 브론즈2\n",
        "def findConstructor(N):\n",
        "  for i in range(1, N+1):\n",
        "    temp = i\n",
        "    for j in str(i):\n",
        "      temp += int(j)\n",
        "    if temp == N:\n",
        "       print(i)\n",
        "       break\n",
        "    if i == N:\n",
        "      print(0)\n",
        "      \n",
        "n = int(input()) \n",
        "findConstructor(n)"
      ],
      "execution_count": null,
      "outputs": [
        {
          "output_type": "stream",
          "name": "stdout",
          "text": [
            "216\n",
            "189\n",
            "190\n",
            "191\n",
            "192\n",
            "193\n",
            "194\n",
            "195\n",
            "196\n",
            "197\n",
            "198\n",
            "198\n"
          ]
        }
      ]
    },
    {
      "cell_type": "code",
      "metadata": {
        "colab": {
          "base_uri": "https://localhost:8080/"
        },
        "id": "3vQ-SkHn5XDx",
        "outputId": "3e306ffd-54c2-4dc9-90fc-60ee7b38e2bf"
      },
      "source": [
        "# 1699. 제곱수의 합 - 실버3\n",
        "# python3로 하면 시간초과..pypy로 하니 정답!\n",
        "n = int(input())\n",
        "dp = [i for i in range(n+1)]\n",
        "for i in range(1,n+1):\n",
        "    for j in range(int(i**0.5),0,-1):\n",
        "        dp[i] = min(dp[i], 1 + dp[i-j*j])\n",
        "print(dp[n])"
      ],
      "execution_count": null,
      "outputs": [
        {
          "output_type": "stream",
          "name": "stdout",
          "text": [
            "43\n",
            "[0, 1, 2, 3, 4, 5, 6, 7, 8, 9, 10, 11, 12, 13, 14, 15, 16, 17, 18, 19, 20, 21, 22, 23, 24, 25, 26, 27, 28, 29, 30, 31, 32, 33, 34, 35, 36, 37, 38, 39, 40, 41, 42, 43]\n",
            "3\n"
          ]
        }
      ]
    },
    {
      "cell_type": "code",
      "metadata": {
        "colab": {
          "base_uri": "https://localhost:8080/"
        },
        "id": "s0yox-TyiAGy",
        "outputId": "2affbaa4-df30-42e7-cc86-b69194523921"
      },
      "source": [
        "# 2343. 기타 레슨 - 실버1\n",
        "# 메모리 초과!!\n",
        "# n-1개중 m-1개를 뽑아서 구분 칸을 만든다.\n",
        "from itertools import combinations\n",
        "n, m = map(int,input().split())\n",
        "# item에 1~n-1까지 저장 후 조합을 이용해 m-1개 만큼 뽑아 새로운 리스트 생성\n",
        "items = [i for i in range(1,n)]\n",
        "division = list(combinations(items,m-1))\n",
        "lesson_list = list(map(int,input().split()))\n",
        "min_size = sum(lesson_list)\n",
        "for div_list in division:\n",
        "    for i,val in enumerate(div_list):\n",
        "        if i == 0:\n",
        "            size = sum(lesson_list[0:val])\n",
        "        else:\n",
        "            size = max(size, sum(lesson_list[div_list[i-1]:val]))\n",
        "    size = max(size, sum(lesson_list[val::]))\n",
        "    min_size = min(min_size,size)\n",
        "print(min_size)"
      ],
      "execution_count": null,
      "outputs": [
        {
          "output_type": "stream",
          "name": "stdout",
          "text": [
            "6 2\n",
            "2 5 4 6 8 2\n",
            "16\n"
          ]
        }
      ]
    },
    {
      "cell_type": "code",
      "metadata": {
        "id": "ySWlFvRXosn-",
        "colab": {
          "base_uri": "https://localhost:8080/"
        },
        "outputId": "a0a9d75d-45c3-4c5b-9a61-0553a67da811"
      },
      "source": [
        "# 2343. 기타 레슨 - 실버1 / 2번째 시도\n",
        "# 이분탐색\n",
        "def binarySearch(left,right):\n",
        "    result = size\n",
        "    while left <= right:\n",
        "        mid = (left + right) // 2\n",
        "        if mid < max(lesson_list):\n",
        "            left = mid + 1\n",
        "            continue\n",
        "        count = 0\n",
        "        temp = 0\n",
        "        for i in range(n):\n",
        "            temp += lesson_list[i]\n",
        "            if temp > mid:\n",
        "                temp = lesson_list[i]\n",
        "                count += 1\n",
        "        if count < m:   # 가능한 경우\n",
        "            right = mid - 1\n",
        "            result = min(mid,result)\n",
        "        else:\n",
        "            left = mid + 1\n",
        "        #print(count, left, right,mid)\n",
        "    return result\n",
        "n, m = map(int,input().split())\n",
        "lesson_list = list(map(int,input().split()))\n",
        "size = sum(lesson_list)\n",
        "#print(size)\n",
        "print(binarySearch(size//m,size))"
      ],
      "execution_count": null,
      "outputs": [
        {
          "output_type": "stream",
          "name": "stdout",
          "text": [
            "9 3\n",
            "1 2 3 4 5 6 7 8 9\n",
            "17\n"
          ]
        }
      ]
    },
    {
      "cell_type": "code",
      "metadata": {
        "id": "-5zmrJ-iiShZ",
        "colab": {
          "base_uri": "https://localhost:8080/"
        },
        "outputId": "f97326be-69e9-4248-ab80-eda62e817d31"
      },
      "source": [
        "# 1062. 가르침 - 골드4\n",
        "n,k = map(int,input().split())\n",
        "# alpabet 0~25까지의 배열값에 a~z까지 개수 초기화 \n",
        "alpabet = [0] * 26\n",
        "alpabet[0] = 9\n",
        "alpabet[2] = 3\n",
        "alpabet[8] = 3\n",
        "alpabet[13] = 3\n",
        "alpabet[19] = 6\n",
        "words = []\n",
        "for _ in range(n):\n",
        "    word = input()\n",
        "    words.append(word)\n",
        "    for i in word[4:-4]:\n",
        "        alpabet[ord(i)-97] += 1\n",
        "print(alpabet)\n",
        "temp = sorted(alpabet, reverse=True)\n",
        "# k 번째로 많이 나온 알파벳의 나온 개수\n",
        "k_alpabet = temp[k-1]\n",
        "print(temp)\n",
        "print(k_alpabet)\n",
        "count = n\n",
        "for word in words:\n",
        "    for i in word[4:-4]:\n",
        "        if alpabet[ord(i)-97] < k_alpabet:\n",
        "            count -= 1\n",
        "            print(i,alpabet[ord(i)-97])\n",
        "            break\n",
        "print(count)"
      ],
      "execution_count": null,
      "outputs": [
        {
          "output_type": "stream",
          "name": "stdout",
          "text": [
            "9 8\n",
            "antabtica\n",
            "antaxtica\n",
            "antadtica\n",
            "antaetica\n",
            "antaftica\n",
            "antagtica\n",
            "antahtica\n",
            "antajtica\n",
            "antaktica\n",
            "[9, 1, 3, 1, 1, 1, 1, 1, 3, 1, 1, 0, 0, 3, 0, 0, 0, 0, 0, 6, 0, 0, 0, 1, 0, 0]\n",
            "[9, 6, 3, 3, 3, 1, 1, 1, 1, 1, 1, 1, 1, 1, 0, 0, 0, 0, 0, 0, 0, 0, 0, 0, 0, 0]\n",
            "1\n",
            "9\n"
          ]
        }
      ]
    },
    {
      "cell_type": "code",
      "metadata": {
        "colab": {
          "base_uri": "https://localhost:8080/"
        },
        "id": "CAfAOrrr0Xag",
        "outputId": "474c9ea3-b076-4915-f12b-6af0ac0b7021"
      },
      "source": [
        "# 1062. 가르침 - 골드4\n",
        "# dictionary 사용...왜 틀렸다는 거지?\n",
        "def solve(n,k):\n",
        "    if k < 5:\n",
        "        return 0\n",
        "    elif k == 26:\n",
        "        return n\n",
        "    can_read = [\"a\",\"t\",\"n\",\"i\",\"c\"]\n",
        "    counter = {}\n",
        "    word_list = []\n",
        "    for _ in range(n):\n",
        "        word = input()\n",
        "        word_list.append(word)\n",
        "        for letter in word[4:-4]:\n",
        "            if letter in can_read:\n",
        "                continue\n",
        "            if letter not in counter:\n",
        "                counter[letter] = 0\n",
        "            counter[letter] += 1\n",
        "    print(word_list)\n",
        "    sorted_counter = sorted(counter.items(), key=lambda x: x[1], reverse=True)\n",
        "    print(sorted_counter)\n",
        "    temp = 5\n",
        "    for letter,count in sorted_counter:\n",
        "        if temp >= k :\n",
        "            break\n",
        "        if letter not in can_read:\n",
        "            can_read.append(letter)\n",
        "            temp += 1\n",
        "    print(can_read)\n",
        "    result = n\n",
        "    for word in word_list:\n",
        "        for letter in word[4:-4]:\n",
        "            if letter not in can_read:\n",
        "                result -= 1\n",
        "                print(letter)\n",
        "                break\n",
        "    return result\n",
        "n,k = map(int,input().split())\n",
        "print(solve(n,k))"
      ],
      "execution_count": null,
      "outputs": [
        {
          "output_type": "stream",
          "name": "stdout",
          "text": [
            "3 6\n",
            "antarctica\n",
            "antahellotica\n",
            "antacartica\n",
            "['antarctica', 'antahellotica', 'antacartica']\n",
            "[('r', 2), ('l', 2), ('h', 1), ('e', 1), ('o', 1)]\n",
            "['a', 't', 'n', 'i', 'c', 'r']\n",
            "h\n",
            "2\n"
          ]
        }
      ]
    },
    {
      "cell_type": "code",
      "metadata": {
        "id": "PmihglnwiSlQ",
        "colab": {
          "base_uri": "https://localhost:8080/"
        },
        "outputId": "c251f563-ea74-49cc-da94-07481920b08b"
      },
      "source": [
        "# 2342. Dance Dance Revolution - 골드3\n",
        "def solve(left,right,next):\n",
        "    if next == 0:\n",
        "        break\n",
        "    # 첫번째,\n",
        "    if left == 0 and right == 0:\n",
        "        # 처음엔 왼발 먼저 움직이게 설정\n",
        "        left = next\n",
        "        power[i] = 2\n",
        "        i += 1\n",
        "        solve(left,right,arr[i])\n",
        "    # 두번째,\n",
        "    elif left != 0 and right == 0:\n",
        "        right = next\n",
        "        power[i] = power[i-1] + 2\n",
        "        i += 1\n",
        "        solve(left,right,arr[i])\n",
        "    # 세번째 부터 left,right가 0일 수 없다.\n",
        "    else:    \n",
        "        # 다음 지시가 두 발 중 한 발과 동일할 경우,\n",
        "        if next == left or next == right:\n",
        "            power[i] = power[i-1] + 1\n",
        "            i += 1\n",
        "            solve(left,right,arr[i])\n",
        "        # 다음 지시가 두 발과 다른 경우\n",
        "        else:\n",
        "            # d_foot : 다음 지시와 왼or오른발의 거리\n",
        "            d_left = pos[0] - next \n",
        "            d_right = pos[1] - next\n",
        "            power[i] = power[i-1]\n",
        "            power[i] += min\n",
        "\n",
        "arr = list(map(int,input().split()))\n",
        "pos = [0,0] # 왼발, 오른발의 위치\n",
        "cur = 0 # 현재 지시\n",
        "power = [0] * len(arr)   # 사용한 힘\n",
        "foot = 0    # 움직인 발의 위치, 0은 왼발, 1은 오른발\n",
        "i = 0\n",
        "solve(0,0,arr[0])\n",
        "    \n",
        "        \n",
        "        \n"
      ],
      "execution_count": null,
      "outputs": [
        {
          "output_type": "stream",
          "name": "stdout",
          "text": [
            "1 2 2 4 0\n",
            "[0, 0]\n",
            "[0, 0]\n",
            "[0, 0]\n",
            "[0, 0]\n"
          ]
        }
      ]
    },
    {
      "cell_type": "markdown",
      "metadata": {
        "id": "9ssxQFeupsf0"
      },
      "source": [
        "## 시즌2 - 21.10.18~"
      ]
    },
    {
      "cell_type": "markdown",
      "metadata": {
        "id": "WeAzAikbq3QK"
      },
      "source": [
        "### 1회차. 그리디 - 21.10.18~10.31\n",
        "https://k00dj-19.tistory.com/category/%EC%95%8C%EA%B3%A0%EB%A6%AC%EC%A6%98/%EC%8B%9C%EC%A6%8C2-%EA%B7%B8%EB%A6%AC%EB%94%94-21.10.18~10.31"
      ]
    },
    {
      "cell_type": "code",
      "metadata": {
        "colab": {
          "base_uri": "https://localhost:8080/"
        },
        "id": "DLm3A0bQrEuG",
        "outputId": "5506952e-7e00-4e5d-9e42-a5a5324e2f1f"
      },
      "source": [
        "# 1449. 수리공 항승 - 실버3\n",
        "n,l = map(int,input().split())\n",
        "arr = list(map(int,input().split()))\n",
        "arr.sort()\n",
        "cnt = 0 # 필요한 테이프 개수\n",
        "temp = 0\n",
        "for i in range(n):\n",
        "    if i == n-1:\n",
        "        cnt += 1\n",
        "    else:    \n",
        "        temp += arr[i+1] - arr[i]\n",
        "        if temp >= l:\n",
        "            cnt += 1\n",
        "            temp = 0\n",
        "print(cnt)\n"
      ],
      "execution_count": null,
      "outputs": [
        {
          "output_type": "stream",
          "name": "stdout",
          "text": [
            "5 3\n",
            "1 10 12 14 176\n",
            "4\n"
          ]
        }
      ]
    },
    {
      "cell_type": "code",
      "metadata": {
        "colab": {
          "base_uri": "https://localhost:8080/"
        },
        "id": "dVpLvSBErKa7",
        "outputId": "416df580-bd09-4dac-9804-973d1e59c2b0"
      },
      "source": [
        "# 1080. 행렬 - 실버2\n",
        "# 배열의 맨 왼쪽 위부터 배열을 비교하며 값이 다른 경우 3x3으로 값 변경.\n",
        "n,m = map(int,input().split())\n",
        "\n",
        "a = [list(map(int,input())) for _ in range(n)]\n",
        "b = [list(map(int,input())) for _ in range(n)]\n",
        "cnt = 0\n",
        "\n",
        "def changeMatrix3x3(x,y):\n",
        "    for i in range(3):\n",
        "        for j in range(3):\n",
        "            a[x+i][y+j] = 1 - a[x+i][y+j]\n",
        "\n",
        "for i in range(n-2):\n",
        "    for j in range(m-2):\n",
        "        if a[i][j] != b[i][j]:\n",
        "            changeMatrix3x3(i,j)\n",
        "            cnt += 1\n",
        "check = False\n",
        "for i in range(n):\n",
        "    for j in range(m):\n",
        "        if a[i][j] != b[i][j]:\n",
        "            check = True;\n",
        "            break\n",
        "    if check:\n",
        "        break\n",
        "\n",
        "if check:\n",
        "    print(-1)\n",
        "else:\n",
        "    print(cnt)"
      ],
      "execution_count": null,
      "outputs": [
        {
          "output_type": "stream",
          "name": "stdout",
          "text": [
            "18 3\n",
            "001\n",
            "100\n",
            "100\n",
            "000\n",
            "011\n",
            "010\n",
            "100\n",
            "100\n",
            "010\n",
            "0140\n",
            "010\n",
            "110\n",
            "101\n",
            "101\n",
            "000\n",
            "110\n",
            "000\n",
            "110\n",
            "001\n",
            "100\n",
            "011\n",
            "000\n",
            "100\n",
            "010\n",
            "011\n",
            "100\n",
            "101\n",
            "101\n",
            "010\n",
            "001\n",
            "010\n",
            "010\n",
            "111\n",
            "110\n",
            "111\n",
            "001\n",
            "7\n",
            "-1\n"
          ]
        }
      ]
    },
    {
      "cell_type": "code",
      "metadata": {
        "id": "xEHxsjhvrAWv",
        "colab": {
          "base_uri": "https://localhost:8080/"
        },
        "outputId": "9fd5532f-3f34-454c-aafa-bdba81354f07"
      },
      "source": [
        "# 11000. 강의실 배정 - 골드5\n",
        "# 시간초과!\n",
        "# 생각해보니까 classroom 전체를 비교해줄 필요가 없다!\n",
        "import heapq\n",
        "n = int(input())\n",
        "time = []\n",
        "for i in range(n):\n",
        "    s, t = map(int,input().split())\n",
        "    time.append((s,t))\n",
        "time.sort()\n",
        "classroom = []\n",
        "classroom.append(time.pop(0))\n",
        "temp = []\n",
        "while time:\n",
        "    check = True\n",
        "    s, t = heapq.heappop(time)\n",
        "    while classroom:\n",
        "        a = heapq.heappop(classroom)\n",
        "        if a <= s:\n",
        "            heapq.heappush(classroom,t)\n",
        "            check = False\n",
        "            break\n",
        "        temp.append(a)\n",
        "    if check:\n",
        "        classroom += temp\n",
        "        classroom.append(t)\n",
        "        heapq.heapify(classroom)\n",
        "        temp.clear()\n",
        "print(len(classroom))      \n",
        "    \n",
        "\n",
        "\n"
      ],
      "execution_count": null,
      "outputs": [
        {
          "output_type": "stream",
          "name": "stdout",
          "text": [
            "5\n",
            "10 20\n",
            "1 4\n",
            "3 8\n",
            "5 10\n",
            "2 7\n",
            "3\n"
          ]
        }
      ]
    },
    {
      "cell_type": "code",
      "metadata": {
        "colab": {
          "base_uri": "https://localhost:8080/"
        },
        "id": "IsTr8bEziFX0",
        "outputId": "d22c19d7-97f7-4126-ae61-427b0a746503"
      },
      "source": [
        "# 11000. 강의실 배정 - 골드5\n",
        "# 시간초과... => input = sys.stdin.readline 했더니 성공!\n",
        "import heapq\n",
        "n = int(input())\n",
        "time = []\n",
        "for i in range(n):\n",
        "    s, t = map(int,input().split())\n",
        "    time.append((s,t))\n",
        "time.sort()\n",
        "cls = []\n",
        "heapq.heappush(cls,time[0][1])\n",
        "for i in range(1,n):\n",
        "    # 이전 수업의 종료시간이 현재 수업의 시작시간보다 작거나 같을 경우, 수업을 이어서 한다.\n",
        "    # cls[0]을 pop하고 현재 수업의 종료시간을 push.\n",
        "    if cls[0] <= time[i][0]:\n",
        "        heapq.heapreplace(cls,time[i][1])    # heapreplace : heap에서 가장 작은 항목을 팝하고 반환하며, 새로운 item도 푸시한다.\n",
        "    # 이전 수업의 종료시간이 현재 수업의 시작시간보다 클 경우, 새로운 강의실 추가\n",
        "    # 현재 수업의 종료시간 push\n",
        "    else:\n",
        "        heapq.heappush(cls,time[i][1])\n",
        "print(len(cls))"
      ],
      "execution_count": null,
      "outputs": [
        {
          "output_type": "stream",
          "name": "stdout",
          "text": [
            "5\n",
            "10 20\n",
            "5 10\n",
            "3 8\n",
            "2 7\n",
            "1 4\n",
            "3\n"
          ]
        }
      ]
    },
    {
      "cell_type": "code",
      "metadata": {
        "id": "tbezeuYcrMv5",
        "colab": {
          "base_uri": "https://localhost:8080/"
        },
        "outputId": "0eceb4af-d236-4438-8a81-883fa89b5b7e"
      },
      "source": [
        "# 1041. 주사위 - 골드5\n",
        "# a-f, c-d, b-e\n",
        "# n이 1 일때, sum(a~f) - max(a~f)\n",
        "# n이 2 이상 일때, \n",
        "# 3면 4개, 2면 (n-2)*4 + (n-1)*4 = 8n-12개, 1면 4*(n-2)*(n-1)+(n-2)*(n-2)개\n",
        "# 1면 최솟값 :  (4*(n-2)*(n-1)+(n-2)*(n-2))*min\n",
        "# 2면 최솟값 : (8n-12)*k\n",
        "# k = min(a+min(b,c,d,e), b+min(c,d,f), c+min(e,f), d+min(e,f), e+f)\n",
        "# 3면 최솟값 : 4*min(abc,abd,ade,aec,bcf,bdf,cef,def)\n",
        "\n",
        "n = int(input())\n",
        "a,b,c,d,e,f = map(int,input().split())\n",
        "sum_dice = a+b+c+d+e+f\n",
        "max_dice = max(a,b,c,d,e,f)\n",
        "min_dice = min(a,b,c,d,e,f)\n",
        "result = 0\n",
        "if n == 1:\n",
        "    result = sum_dice - max(a,b,c,d,e,f)\n",
        "else:\n",
        "    min_1 = (4*(n-2)*(n-1)+(n-2)*(n-2))*min_dice\n",
        "    k = min(a+min(b,c,d,e), b+min(c,d,f), c+min(e,f), d+min(e,f), e+f)\n",
        "    min_2 = (8*n-12)*k\n",
        "    min_3 = 4*min(a+b+c,a+b+d,a+d+e,a+e+c,b+c+f,b+d+f,c+e+f,d+e+f)\n",
        "    result = min_1 + min_2 + min_3\n",
        "print(result) "
      ],
      "execution_count": null,
      "outputs": [
        {
          "output_type": "stream",
          "name": "stdout",
          "text": [
            "10\n",
            "1 1 1 1 50 1\n",
            "500\n"
          ]
        }
      ]
    },
    {
      "cell_type": "code",
      "metadata": {
        "id": "xS9wZlqlpyI7"
      },
      "source": [
        "# 1715. 카드 정렬하기 - 골드4\n",
        "# 틀림! 두개의 카드 묶음을 더하고 다시 덱에 넣는 것을 생각했어야 했다.\n",
        "n = int(input())\n",
        "card_size = []\n",
        "for i in range(n):\n",
        "    card_size.append(int(input()))\n",
        "card_size.sort()\n",
        "temp = 0\n",
        "cnt = 0\n",
        "if n == 1:\n",
        "    cnt = card_size[0]\n",
        "else:\n",
        "    for j in range(n-1,0,-1):\n",
        "        if j == n-1:\n",
        "            temp = card_size[0] + card_size[1]\n",
        "        else:\n",
        "            temp = card_size[n-j]\n",
        "        cnt += temp*j\n",
        "print(cnt)"
      ],
      "execution_count": null,
      "outputs": []
    },
    {
      "cell_type": "code",
      "metadata": {
        "colab": {
          "base_uri": "https://localhost:8080/"
        },
        "id": "SCqJ3btBL-2E",
        "outputId": "edd00986-6bf5-4438-deb6-5616988302d8"
      },
      "source": [
        "# 1715. 카드 정렬하기 - 골드4\n",
        "# 우선순위 큐. heqpq사용\n",
        "import heapq\n",
        "n = int(input())\n",
        "decks = []\n",
        "for i in range(n):\n",
        "    heapq.heappush(decks,int(input()))\n",
        "cnt = 0\n",
        "if n == 1:\n",
        "    print(0)\n",
        "else:\n",
        "    for i in range(n-1):\n",
        "        temp = heapq.heappop(decks)\n",
        "        temp2 = temp + heapq.heappop(decks)\n",
        "        cnt += temp2\n",
        "        heapq.heappush(decks,temp2)\n",
        "    print(cnt)\n",
        "\n",
        "\n"
      ],
      "execution_count": null,
      "outputs": [
        {
          "output_type": "stream",
          "name": "stdout",
          "text": [
            "1\n",
            "1313\n",
            "1313\n"
          ]
        }
      ]
    },
    {
      "cell_type": "markdown",
      "metadata": {
        "id": "KOeVDC2r5DmE"
      },
      "source": [
        "### 2회차. 구현 - 21.11.01~11.21\n",
        "https://k00dj-19.tistory.com/category/%EC%95%8C%EA%B3%A0%EB%A6%AC%EC%A6%98/%EC%8B%9C%EC%A6%8C2-%EA%B5%AC%ED%98%84-21.11.01~11.21"
      ]
    },
    {
      "cell_type": "code",
      "metadata": {
        "colab": {
          "base_uri": "https://localhost:8080/"
        },
        "id": "Ru3N2aXy5Ur7",
        "outputId": "63919c35-cf6e-44e0-c553-82c27f36446a"
      },
      "source": [
        "# 1453. 피시방 알바 - 브론즈1\n",
        "n = int(input())\n",
        "arr = [0] * 101\n",
        "guest = list(map(int,input().split()))\n",
        "for i in guest:\n",
        "    arr[i] = 1\n",
        "print(len(guest) - arr.count(1))"
      ],
      "execution_count": null,
      "outputs": [
        {
          "output_type": "stream",
          "name": "stdout",
          "text": [
            "3\n",
            "1 2 3\n",
            "0\n"
          ]
        }
      ]
    },
    {
      "cell_type": "code",
      "metadata": {
        "colab": {
          "base_uri": "https://localhost:8080/"
        },
        "id": "DswoSkLJ5RWB",
        "outputId": "04e8fcb5-fd23-4523-d3e0-b3dcacd68949"
      },
      "source": [
        "# 2331. 반복수열 - 실버 4\n",
        "n, p = map(int,input().split())\n",
        "d = [n]\n",
        "i = 0\n",
        "def nextNum(k):\n",
        "    a = str(k)\n",
        "    result = 0\n",
        "    for i in a:\n",
        "        result += pow(int(i),p)\n",
        "    return result\n",
        "while True:\n",
        "    next = nextNum(d[i])\n",
        "    # next가 d 안에 있다면, 반복되지 않은 수의 개수는 next값이 처음 나온 index와 같다.\n",
        "    if next in d:\n",
        "        print(d.index(next))\n",
        "        break\n",
        "    d.append(next)\n",
        "    i += 1"
      ],
      "execution_count": null,
      "outputs": [
        {
          "output_type": "stream",
          "name": "stdout",
          "text": [
            "57 2\n",
            "4\n"
          ]
        }
      ]
    },
    {
      "cell_type": "code",
      "metadata": {
        "colab": {
          "base_uri": "https://localhost:8080/"
        },
        "id": "XYauf_uf5G3j",
        "outputId": "376fc909-187b-49cd-9897-30a9dfe2660c"
      },
      "source": [
        "# 1138. 한 줄로 서기 - 실버2\n",
        "# 예시\n",
        "# 입력 : 6 1 1 1 2 0 0\n",
        "# 출력 : 6 2 3 4 7 5 1\n",
        "n = int(input())\n",
        "arr = list(map(int,input().split()))\n",
        "arr = [0] + arr # index를 키에 맞추기 위함.\n",
        "result = [0] * n\n",
        "for i in range(1,len(arr)):\n",
        "    cnt = arr[i]\n",
        "    for j in range(arr[i],n): # arr[i] : i보다 왼쪽에 있는 사람 중 키가 큰 사람의 수\n",
        "        if result[:j].count(0) < arr[i]:    # j앞까지 0의 개수가 arr[i] 보다 작아야 함.\n",
        "            continue\n",
        "        if result[j] == 0:\n",
        "            result[j] = i\n",
        "            break\n",
        "print(*result)"
      ],
      "execution_count": null,
      "outputs": [
        {
          "output_type": "stream",
          "name": "stdout",
          "text": [
            "4\n",
            "2 1 1 0\n",
            "4 2 1 3\n"
          ]
        }
      ]
    },
    {
      "cell_type": "code",
      "metadata": {
        "colab": {
          "base_uri": "https://localhost:8080/"
        },
        "id": "7hO-LBjWqwpi",
        "outputId": "858cbc56-9376-45fa-f6de-8a577d89641b"
      },
      "source": [
        "# 2573. 빙산 - 골드4\n",
        "# 성공! 역시 구현문제다보니 생각하는 데 오래 걸렸다. 약 2시간\n",
        "from collections import deque\n",
        "n, m = map(int,input().split())\n",
        "arr = [list(map(int,input().split())) for _ in range(n)]\n",
        "\n",
        "dn = [-1,0,1,0]\n",
        "dm = [0,1,0,-1]\n",
        "\n",
        "# bfs를 통해 그 좌표와 인접한 바다부분의 개수와 빙산부분의 개수를 알아낸다.\n",
        "def bfs(start_x,start_y):\n",
        "    queue = deque([(start_x,start_y)])\n",
        "    while queue:\n",
        "        x, y = queue.popleft()\n",
        "        if visited[x][y] == 0:\n",
        "            for i in range(4):\n",
        "                nx = x + dn[i]\n",
        "                ny = y + dm[i]\n",
        "                if arr[nx][ny] == 0:  # 주위 바다 개수 세기\n",
        "                   visited[x][y] += 1\n",
        "                else:   # 주위에 빙산이 있고, 방문하지 않았다면 queue에 추가\n",
        "                    if visited[nx][ny] == 0 and 0 < x < n-1 and 0 < y < m-1:\n",
        "                        queue.append((nx,ny))\n",
        "            if visited[x][y] == 0:  # a[x][y] \n",
        "                visited[x][y] = -1  # 주위에 바다가 없다면, -1로 방문표시.\n",
        "\n",
        "def check():\n",
        "    for i in range(1,n-1):\n",
        "        for j in range(1,m-1):\n",
        "            if arr[i][j] != 0:\n",
        "                return True\n",
        "    return False     \n",
        "\n",
        "t = 0   # 시간(년)\n",
        "result = 0  # 결과값\n",
        "\n",
        "while check():\n",
        "    visited = [[0] * m for _ in range(n)]\n",
        "    cnt = 0     # bfs 시행 횟수\n",
        "    for i in range(1,n-1):\n",
        "        for j in range(1,m-1):\n",
        "            if arr[i][j] != 0 and visited[i][j] == 0:\n",
        "                bfs(i,j)\n",
        "                cnt += 1\n",
        "    # bfs를 1회 초과해서 하면 빙산이 분리된 것이므로 결과값을 그때 시간으로 설정하고 break \n",
        "    if cnt > 1:\n",
        "        result = t\n",
        "        break\n",
        "\n",
        "    # change arr\n",
        "    for i in range(n):\n",
        "        for j in range(m):\n",
        "            if visited[i][j] < 0:\n",
        "                continue\n",
        "            elif arr[i][j] - visited[i][j] < 0:\n",
        "                arr[i][j] = 0\n",
        "            else:\n",
        "                arr[i][j] -= visited[i][j]\n",
        "    t += 1\n",
        "\n",
        "print(result)"
      ],
      "execution_count": null,
      "outputs": [
        {
          "output_type": "stream",
          "name": "stdout",
          "text": [
            "5 7\n",
            "0 0 0 0 0 0 0\n",
            "0 2 4 5 3 0 0\n",
            "0 3 0 2 5 2 0\n",
            "0 7 6 2 4 0 0\n",
            "0 0 0 0 0 0 0\n",
            "\n",
            "1 1\n",
            "0 0 0 0 0 0 0\n",
            "0 0 2 4 1 0 0\n",
            "0 1 0 1 5 0 0\n",
            "0 5 4 1 2 0 0\n",
            "0 0 0 0 0 0 0\n",
            "\n",
            "2 1\n",
            "0 0 0 0 0 0 0\n",
            "0 0 0 3 0 0 0\n",
            "0 0 0 0 4 0 0\n",
            "0 3 2 0 0 0 0\n",
            "0 0 0 0 0 0 0\n",
            "2\n"
          ]
        }
      ]
    },
    {
      "cell_type": "code",
      "metadata": {
        "id": "EjE2oNzF5enz"
      },
      "source": [
        "# 17140. 이차원 배열과 연산 - 골드4\n",
        "# 런타임 에러... 테스트는 잘 되는데 왜그러지!\n",
        "from collections import Counter\n",
        "r,c,k = map(int,input().split())\n",
        "a = [list(map(int,input().split())) for _ in range(3)]\n",
        "t = 0\n",
        "len_row = 3\n",
        "len_col = 3\n",
        "# while 조건을 아래와 같이 줘서 IndexError 났던거였음! a[r-1,c-1]이 배열의 크기변화에 따라 없을 수도 있으므로 주의해야한다!\n",
        "while a[r-1][c-1] != k:\n",
        "    if t > 10:\n",
        "        t = -1\n",
        "        break\n",
        "    t += 1\n",
        "    if len_row >= len_col:\n",
        "        for i in range(len_row):\n",
        "            count_0 = a[i].count(0)\n",
        "            for _ in range(count_0):\n",
        "                a[i].remove(0)\n",
        "            a[i].sort()\n",
        "            temp = sorted(Counter(a[i]).most_common(), key=lambda x : x[1])\n",
        "            a[i].clear()\n",
        "            for j in range(len(temp)):\n",
        "                a[i].append(temp[j][0])\n",
        "                a[i].append(temp[j][1])\n",
        "            len_col = max(len_col, len(a[i]))\n",
        "        for i in range(len_row):\n",
        "            if len(a[i]) < len_col:\n",
        "                a[i] += [0]*(len_col-len(a[i]))\n",
        "        print(t)\n",
        "        for i in a:\n",
        "            print(*i)\n",
        "        print()\n",
        "    else:\n",
        "        arr_c = [[] for _ in range(len_col)]\n",
        "        for j in range(len_col):\n",
        "            for i in range(len_row):\n",
        "                if a[i][j] != 0:\n",
        "                    arr_c[j].append(a[i][j])\n",
        "        for i in range(len_col):\n",
        "            arr_c[i].sort()\n",
        "            temp = sorted(Counter(arr_c[i]).most_common(), key=lambda x : x[1])\n",
        "            arr_c[i].clear()\n",
        "            for j in range(len(temp)):\n",
        "                arr_c[i].append(temp[j][0])\n",
        "                arr_c[i].append(temp[j][1])\n",
        "            len_row = max(len_row, len(arr_c[i]))\n",
        "   \n",
        "        for i in range(len_col):\n",
        "            if len(arr_c[i]) < len_row:\n",
        "                arr_c[i] += [0]*(len_row-len(arr_c[i]))\n",
        "        a = [[0]* len_col for _ in range(len_row)]\n",
        "\n",
        "        for i in range(len_col):\n",
        "            for j in range(len_row):\n",
        "                a[j][i] = arr_c[i][j]\n",
        "        print(t)\n",
        "        for i in a:\n",
        "            print(*i)\n",
        "        print()\n",
        "print(t)"
      ],
      "execution_count": null,
      "outputs": []
    },
    {
      "cell_type": "code",
      "metadata": {
        "id": "Z5uSnBdGVAB7"
      },
      "source": [
        "# 17140. 이차원 배열과 연산 - 골드4\n",
        "# 배열 회전에 zip()사용, 함수로 만들기 => 성공! 애초에 while 조건에서 indexError가 난 거였다.\n",
        "\n",
        "# A[r][c]가 k값이 나올 때 까지 연산을 수행하는데, 연산을 진행하다보면 \n",
        "# 배열 A의 크기가 변하면서 A[r][c]에 해당하는 원소가 없어 IndexError가 발생할 수 있다.\n",
        "# → 예외처리 필요\n",
        "from collections import Counter\n",
        "r,c,k = map(int,input().split())\n",
        "a = [list(map(int,input().split())) for _ in range(3)]\n",
        "t = 0\n",
        "len_row = 3\n",
        "len_col = 3\n",
        "r -= 1\n",
        "c -= 1\n",
        "while 1:\n",
        "    # 조건에 맞으면 중단.\n",
        "    if len(a) > r and len(a[0]) > c:\n",
        "        if a[r][c] == k :\n",
        "            break\n",
        "    t += 1\n",
        "    if t > 100:\n",
        "        t = -1\n",
        "        break\n",
        "    if len_row < len_col:\n",
        "        a = list(map(list,zip(*a)))\n",
        "        x, y = len_col, len_row\n",
        "    else : \n",
        "        x, y = len_row, len_col\n",
        "    for i in range(x):\n",
        "        count_0 = a[i].count(0)\n",
        "        for _ in range(count_0):\n",
        "            a[i].remove(0)\n",
        "        a[i].sort()\n",
        "        temp = sorted(Counter(a[i]).most_common(), key=lambda k : k[1])\n",
        "        a[i].clear()\n",
        "        for j in range(len(temp)):\n",
        "            a[i].append(temp[j][0])\n",
        "            a[i].append(temp[j][1])\n",
        "        if len(a[i]) > 100:     # 크기가 100이 넘어가면 슬라이싱\n",
        "            a[i] = a[i][:100]\n",
        "        y = max(y, len(a[i]))\n",
        "    for i in range(x):\n",
        "        if len(a[i]) < y:\n",
        "            a[i] += [0]*(y-len(a[i]))\n",
        "    if len_row < len_col :\n",
        "        a = list(map(list,zip(*a)))\n",
        "        len_row = y\n",
        "        len_col = x\n",
        "    else:\n",
        "        len_row = x\n",
        "        len_col = y\n",
        "    # print(t)\n",
        "    # for i in a:\n",
        "    #     print(*i)\n",
        "    # print()\n",
        "print(t)"
      ],
      "execution_count": null,
      "outputs": []
    },
    {
      "cell_type": "code",
      "metadata": {
        "colab": {
          "base_uri": "https://localhost:8080/"
        },
        "id": "M77gPGvs3XMd",
        "outputId": "dde79be5-5845-457a-e342-2025546eadc7"
      },
      "source": [
        "# 배열 회전 한 줄 표현!\n",
        "arr = [[1,2,3],[4,5,6],[7,8,9]] # 1 1 2 1 3 1\n",
        "rotated = list(map(list,zip(*arr)))\n",
        "print(rotated)"
      ],
      "execution_count": null,
      "outputs": [
        {
          "output_type": "stream",
          "name": "stdout",
          "text": [
            "[[1, 4, 7], [2, 5, 8], [3, 6, 9]]\n"
          ]
        }
      ]
    },
    {
      "cell_type": "code",
      "metadata": {
        "id": "nEtnhFIR5hxb",
        "colab": {
          "base_uri": "https://localhost:8080/"
        },
        "outputId": "42db45e3-b4b6-448e-90fb-d81e5579decb"
      },
      "source": [
        "# 2505. 두 번 뒤집기 - 플레5\n",
        "# 구간 [i,j] 사이 뒤집기 : arr[i-1:j] = arr[i-1:j][::-1]\n",
        "# 뒤집기할 때 증가구간, 감소구간인지 파악하고 뒤집자..\n",
        "# 어렵다...\n",
        "from itertools import combinations\n",
        "import copy\n",
        "\n",
        "def solve():\n",
        "    if len(change_section) == 1:\n",
        "        if arr[0] == 1:\n",
        "            print(1,1)\n",
        "            print(1,1)\n",
        "            return\n",
        "        else:\n",
        "            print(1,n)\n",
        "            print(1,1)\n",
        "            return\n",
        "    else:\n",
        "        sections = list(combinations(change_section,2))\n",
        "        print(sections)\n",
        "        for i,j in sections:\n",
        "            if j - i == 1:\n",
        "                continue\n",
        "            temp = copy.deepcopy(arr)   # 내부의 객체들까지 모두 새롭게 copy\n",
        "            temp[i:j] = temp[i:j][::-1] # 구간 뒤집기\n",
        "            print(\"[{},{}] :\".format(i+1,j),temp)\n",
        "            if temp[0] != 1:\n",
        "                change_section2 = [0]\n",
        "            else:\n",
        "                change_section2 = [n]\n",
        "            for k in range(1,len(temp)):\n",
        "                if abs(temp[k]- temp[k-1]) != 1:\n",
        "                    change_section2.append(k)\n",
        "            cnt = len(change_section2)\n",
        "            change_section2.sort()\n",
        "            if cnt <= 3:\n",
        "                x1, y1 = i+1, j\n",
        "                print(x1,y1)\n",
        "                break\n",
        "        print(change_section2)\n",
        "        if cnt <= 3:\n",
        "            if cnt == 1:    # 이미 초기상태일 때,\n",
        "                if temp[0] == 1:\n",
        "                    print(1,1)\n",
        "            \n",
        "            elif cnt == 2:\n",
        "                if temp[0] == 1:\n",
        "                    print(change_section2[1]+1,n)\n",
        "                else:\n",
        "                    print(1,change_section2[1])\n",
        "            else:\n",
        "                if change_section2[0] == 1:\n",
        "                    print(change_section2[1]+1, change_section2[2])\n",
        "                else:\n",
        "                    print(change_section2[0]+1, change_section2[1]) \n",
        "\n",
        "n = int(input())\n",
        "arr = list(map(int,input().split()))\n",
        "if arr[0] != 1:\n",
        "    change_section = [0]\n",
        "else:\n",
        "    change_section = [n]\n",
        "for i in range(1,len(arr)):\n",
        "    if abs(arr[i]- arr[i-1]) != 1:\n",
        "        change_section.append(i)\n",
        "change_section.sort()\n",
        "print(change_section)\n",
        "solve()\n"
      ],
      "execution_count": null,
      "outputs": [
        {
          "output_type": "stream",
          "name": "stdout",
          "text": [
            "5\n",
            "5 2 3 4 1\n",
            "[0, 1, 4]\n",
            "[(0, 1), (0, 4), (1, 4)]\n",
            "[1,4] : [4, 3, 2, 5, 1]\n",
            "1 4\n",
            "[0, 3, 4]\n",
            "1 3\n"
          ]
        }
      ]
    },
    {
      "cell_type": "markdown",
      "metadata": {
        "id": "WL0HrQ03Tp6U"
      },
      "source": [
        "### 3회차. BFS/DFS - 21.11.22~12.05"
      ]
    },
    {
      "cell_type": "code",
      "metadata": {
        "colab": {
          "base_uri": "https://localhost:8080/"
        },
        "id": "Ms16-kF4UOTi",
        "outputId": "9a98e2ef-6ea6-4b58-ee56-ac979ffe5a4e"
      },
      "source": [
        "# 2606. 바이러스 - 실버 3\n",
        "from collections import deque\n",
        "n = int(input())\n",
        "k = int(input())\n",
        "arr = [[] for _ in range(n+1)]\n",
        "for i in range(k):\n",
        "    a,b = map(int,input().split())\n",
        "    arr[a].append(b)\n",
        "    arr[b].append(a)\n",
        "queue = deque([1])\n",
        "visited = [0 for _ in range(n+1)]\n",
        "cnt = 0\n",
        "while queue:\n",
        "    virus = queue.popleft()\n",
        "    visited[virus] = 1\n",
        "    for i in arr[virus]:\n",
        "        if visited[i] == 0:\n",
        "            queue.append(i)\n",
        "            visited[i] = 1\n",
        "            cnt += 1\n",
        "print(cnt)"
      ],
      "execution_count": 22,
      "outputs": [
        {
          "output_type": "stream",
          "name": "stdout",
          "text": [
            "7\n",
            "6\n",
            "1 2\n",
            "2 3\n",
            "1 5\n",
            "5 2\n",
            "5 6\n",
            "4 7\n",
            "[[], [2, 5], [1, 3, 5], [2], [7], [1, 2, 6], [5], [4]]\n",
            "1 2\n",
            "2 5\n",
            "3 3\n",
            "4 6\n",
            "4\n"
          ]
        }
      ]
    },
    {
      "cell_type": "code",
      "metadata": {
        "id": "Yl6krxKtUJ0w"
      },
      "source": [
        "# 1325. 효율적인 해킹 - 실버 2\n"
      ],
      "execution_count": 1,
      "outputs": []
    },
    {
      "cell_type": "code",
      "metadata": {
        "id": "yGdzNotuUQin"
      },
      "source": [
        "# 1405. 미친 로봇 - 골드 5"
      ],
      "execution_count": 3,
      "outputs": []
    },
    {
      "cell_type": "code",
      "metadata": {
        "id": "uGo3lUdGUTzY"
      },
      "source": [
        "# 13913. 숨바꼭질 4"
      ],
      "execution_count": 4,
      "outputs": []
    },
    {
      "cell_type": "code",
      "metadata": {
        "id": "hmUk3RyTUVnQ"
      },
      "source": [
        "# 3197. 백조의 호수"
      ],
      "execution_count": 5,
      "outputs": []
    }
  ]
}