{
  "nbformat": 4,
  "nbformat_minor": 0,
  "metadata": {
    "colab": {
      "name": "baekjoon_stage9.ipynb",
      "provenance": [],
      "collapsed_sections": [],
      "authorship_tag": "ABX9TyN6XoeXbNm8aClhCOLCSXt9",
      "include_colab_link": true
    },
    "kernelspec": {
      "name": "python3",
      "display_name": "Python 3"
    },
    "language_info": {
      "name": "python"
    }
  },
  "cells": [
    {
      "cell_type": "markdown",
      "metadata": {
        "id": "view-in-github",
        "colab_type": "text"
      },
      "source": [
        "<a href=\"https://colab.research.google.com/github/k00dj-19/AlgorithmStudy_python/blob/master/baekjoon_stage9.ipynb\" target=\"_parent\"><img src=\"https://colab.research.google.com/assets/colab-badge.svg\" alt=\"Open In Colab\"/></a>"
      ]
    },
    {
      "cell_type": "markdown",
      "metadata": {
        "id": "p5FnaKkk65QX"
      },
      "source": [
        "기본 수학 2"
      ]
    },
    {
      "cell_type": "code",
      "metadata": {
        "colab": {
          "base_uri": "https://localhost:8080/"
        },
        "id": "LMV7hnH068ql",
        "outputId": "a7c8057d-4e4c-40a4-cd09-4011428271f6"
      },
      "source": [
        "#1 소수 찾기 - 1978\n",
        "n = int(input())\n",
        "arr = list(map(int,input().split()))\n",
        "count = len(arr)\n",
        "for i in arr:\n",
        "  if i == 1 :\n",
        "    count -= 1\n",
        "  for j in range(2, i//2 + 1):\n",
        "    if i%j == 0 :\n",
        "      count -= 1\n",
        "      break\n",
        "print(count)"
      ],
      "execution_count": null,
      "outputs": [
        {
          "output_type": "stream",
          "text": [
            "5\n",
            "3 8 6 10\n",
            "1\n"
          ],
          "name": "stdout"
        }
      ]
    },
    {
      "cell_type": "code",
      "metadata": {
        "colab": {
          "base_uri": "https://localhost:8080/"
        },
        "id": "23GFKnBv9kwK",
        "outputId": "434aca9c-80eb-415b-8f1f-09f91b71ee3b"
      },
      "source": [
        "#2 소수 - 2581\n",
        "m = int(input())\n",
        "n = int(input())\n",
        "sum = 0\n",
        "count = 0\n",
        "min = n+1\n",
        "\n",
        "for i in range(m, n + 1):\n",
        "  if i == 1 :\n",
        "    is_prime = False\n",
        "    count += 1\n",
        "  else :\n",
        "    is_prime = True\n",
        "    for j in range(2, i//2 +1):\n",
        "      if i%j == 0 :\n",
        "        count += 1\n",
        "        is_prime = False\n",
        "        break\n",
        "  if is_prime:\n",
        "    sum += i\n",
        "    if i < min : min = i\n",
        "if count == n-m+1:\n",
        "  print(-1)\n",
        "else:\n",
        "  print(sum)\n",
        "  print(min)"
      ],
      "execution_count": null,
      "outputs": [
        {
          "output_type": "stream",
          "text": [
            "1\n",
            "50\n",
            "328\n",
            "2\n"
          ],
          "name": "stdout"
        }
      ]
    },
    {
      "cell_type": "code",
      "metadata": {
        "colab": {
          "base_uri": "https://localhost:8080/"
        },
        "id": "Lhh6U8OHFla6",
        "outputId": "9718d8f4-b3c7-4608-82b4-3ad9b35821ec"
      },
      "source": [
        "#3 소수 - 11653\n",
        "n = int(input())\n",
        "i = 2\n",
        "while i <= n :\n",
        "  if n%i == 0:\n",
        "    n = n//i\n",
        "    print(i)\n",
        "    if n == 1:\n",
        "      break\n",
        "  else :\n",
        "    i += 1"
      ],
      "execution_count": null,
      "outputs": [
        {
          "output_type": "stream",
          "text": [
            "1\n"
          ],
          "name": "stdout"
        }
      ]
    },
    {
      "cell_type": "code",
      "metadata": {
        "colab": {
          "base_uri": "https://localhost:8080/"
        },
        "id": "ObobMW7coEsk",
        "outputId": "96eac5a2-5dc5-4610-9b7c-de6c6f1307a9"
      },
      "source": [
        "#4 소수 구하기 - 1929\n",
        "m, n = map(int, input().split())\n",
        "not_prime = []\n",
        "for  i in range(m, n+1):\n",
        "  for j in range(2, i//2+1):\n",
        "    if i%j == 0 :\n",
        "      not_prime.append(i)\n",
        "      break\n",
        "  if i not in not_prime and i != 1:\n",
        "    print(i)\n",
        "\n",
        "## 시간초과 -실패 -> 함수를 만들어서 사용하자!"
      ],
      "execution_count": null,
      "outputs": [
        {
          "output_type": "stream",
          "text": [
            "3 16\n",
            "3\n",
            "5\n",
            "7\n",
            "11\n",
            "13\n"
          ],
          "name": "stdout"
        }
      ]
    },
    {
      "cell_type": "code",
      "metadata": {
        "colab": {
          "base_uri": "https://localhost:8080/"
        },
        "id": "wIb-9oLzrc2z",
        "outputId": "ec7e0123-06c6-43ae-ccd8-2a829b1789d5"
      },
      "source": [
        "#4 \n",
        "def isPrime(num):\n",
        "  if num == 1:\n",
        "    return False\n",
        "  else :\n",
        "    for i in range(2, int(num**0.5)+1):\n",
        "      if num%i == 0 :\n",
        "        return False\n",
        "    return True\n",
        "\n",
        "m, n = map(int, input().split())\n",
        "for i in range(m, n+1):\n",
        "  if isPrime(i):\n",
        "    print(i)"
      ],
      "execution_count": null,
      "outputs": [
        {
          "output_type": "stream",
          "text": [
            "1 16\n",
            "2\n",
            "3\n",
            "5\n",
            "7\n",
            "11\n",
            "13\n"
          ],
          "name": "stdout"
        }
      ]
    },
    {
      "cell_type": "code",
      "metadata": {
        "colab": {
          "base_uri": "https://localhost:8080/"
        },
        "id": "SN3b2tonswxG",
        "outputId": "e13056ca-b822-4390-c298-6b65c87e3bec"
      },
      "source": [
        "#5 베르트랑 공준 - 4948\n",
        "import math\n",
        "k = 123456*2+1\n",
        "prime = [1]*k\n",
        "for i in range(1,k):\n",
        "  if i == 1:\n",
        "    prime[i] = 1\n",
        "    continue\n",
        "  for j in range(2, int(math.sqrt(i))+1):\n",
        "    if i%j == 0:\n",
        "      prime[i] = 0\n",
        "      break\n",
        "\n",
        "while 1 :\n",
        "  n = int(input())\n",
        "  if n == 0 :\n",
        "    break\n",
        "  else :\n",
        "    count = 0\n",
        "    for i in range(n+1, 2*n+1):\n",
        "      count += prime[i]\n",
        "    print(count)"
      ],
      "execution_count": null,
      "outputs": [
        {
          "output_type": "stream",
          "text": [
            "1\n",
            "1\n",
            "10\n",
            "4\n",
            "13\n",
            "3\n",
            "100\n",
            "21\n",
            "1000\n",
            "135\n",
            "10000\n",
            "1033\n",
            "100000\n",
            "8392\n",
            "0\n"
          ],
          "name": "stdout"
        }
      ]
    },
    {
      "cell_type": "code",
      "metadata": {
        "colab": {
          "base_uri": "https://localhost:8080/"
        },
        "id": "WTtBobzzyWtx",
        "outputId": "30354510-e157-4a31-be2e-916a869e1119"
      },
      "source": [
        "#6 골드바흐의 추측 - 9020\n",
        "import math\n",
        "\n",
        "# 2~10000까지 소수 찾아 배열에 넣기\n",
        "\n",
        "prime_arr = []\n",
        "for i in range(2, 10000+1):\n",
        "  is_prime = True\n",
        "  for j in range(2, int(math.sqrt(i))+1):\n",
        "    if i%j == 0:\n",
        "      is_prime = False\n",
        "      break\n",
        "  if is_prime :\n",
        "    prime_arr.append(i)\n",
        "# 찾은 소수를 가지고 골드바흐 파티션 출력\n",
        "t = int(input())\n",
        "for i in range(t):\n",
        "  n = int(input())\n",
        "  min = n\n",
        "  for j in range(2,n//2+ 1):\n",
        "    if j in prime_arr and n-j in prime_arr:\n",
        "      if abs(2*j-n) < min:\n",
        "        min = abs(2*j-n)\n",
        "        a = j if j<n-j else n-j\n",
        "        b = n-a\n",
        "  print(a, end=\" \")\n",
        "  print(b)\n",
        " \n",
        "\n",
        "\n",
        " ## 시간초과..\n",
        "\n"
      ],
      "execution_count": null,
      "outputs": [
        {
          "output_type": "stream",
          "text": [
            "3\n",
            "8\n",
            "3 5\n",
            "10\n",
            "5 5\n",
            "16\n",
            "5 11\n"
          ],
          "name": "stdout"
        }
      ]
    },
    {
      "cell_type": "code",
      "metadata": {
        "colab": {
          "base_uri": "https://localhost:8080/"
        },
        "id": "Lzk07rDA6CMv",
        "outputId": "dedf9eae-e8fc-4cd3-9550-a435c759a2c4"
      },
      "source": [
        "#6\n",
        "# 소수찾기 중 가장 효율적인 방법 : 에라토스테네스의 체\n",
        "# 찾고자 하는 수(n) 까지 True로 채운 리스트를 생성 한 후 2를 제외한 2의 배수, 3을 제외한 3의 배수, 5를 제외한 5의 배수, ... sqrt(n)의 배수는 모두 False로 바꾼다.\n",
        "# 결국, 2~n까지 숫자들 중 True인 숫자들이 소수가 된다.\n",
        "def prime_list(n):\n",
        "  sieve = [True]*n\n",
        "  m = int(n**0.5)\n",
        "  for i in range(2,m+1):\n",
        "    if sieve[i] == True:\n",
        "      for j in range(i+i, n, i):\n",
        "        sieve[j] = False\n",
        "  return [i for i in range(2,n) if sieve[i] == True]\n",
        "\n",
        "t = int(input())\n",
        "for i in range(t):\n",
        "  n = int(input())\n",
        "  prime = prime_list(n)\n",
        "  for j in range(n//2, 2 - 1, -1):\n",
        "    if j in prime and n-j in prime:\n",
        "      a = j if j<n-j else n-j\n",
        "      b = n-a\n",
        "      break\n",
        "  print(a, end=\" \")\n",
        "  print(b)\n"
      ],
      "execution_count": null,
      "outputs": [
        {
          "output_type": "stream",
          "text": [
            "3\n",
            "8\n",
            "3 5\n",
            "10\n",
            "5 5\n",
            "16\n",
            "5 11\n"
          ],
          "name": "stdout"
        }
      ]
    },
    {
      "cell_type": "code",
      "metadata": {
        "colab": {
          "base_uri": "https://localhost:8080/"
        },
        "id": "NvqsHc5a7VFS",
        "outputId": "3d72a0ea-b187-449a-9d0d-821d403c6d04"
      },
      "source": [
        "#7 직사각형에서 탈출 - 1085\n",
        "x,y,w,h = map(int,input().split())\n",
        "min_x = w-x if w-x < x else x\n",
        "min_y = h-y if h-y < y else y\n",
        "min = min_x if min_x < min_y else min_y\n",
        "print(min)"
      ],
      "execution_count": null,
      "outputs": [
        {
          "output_type": "stream",
          "text": [
            "1 2 4 7\n",
            "1\n"
          ],
          "name": "stdout"
        }
      ]
    },
    {
      "cell_type": "code",
      "metadata": {
        "colab": {
          "base_uri": "https://localhost:8080/"
        },
        "id": "frY5rYoK9bhz",
        "outputId": "4b26ffb4-2ee2-439e-bcb1-71c0c525529e"
      },
      "source": [
        "#8 네 번째 점 - 3009\n",
        "x1,y1 = map(int,input().split())\n",
        "x2,y2 = map(int,input().split())\n",
        "x3,y3 = map(int,input().split())\n",
        "\n",
        "def distance(xa,ya,xb,yb) :\n",
        "  return (xa-xb)*(xa-xb) + (ya-yb)*(ya-yb)\n",
        "\n",
        "distance_12 = distance(x1,y1,x2,y2)\n",
        "distance_23 = distance(x2,y2,x3,y3)\n",
        "distance_31 = distance(x3,y3,x1,y1)\n",
        "arr = [distance_12, distance_23, distance_31]\n",
        "if distance_12 == max(arr):\n",
        "  x4 = x2 - (x3-x1)\n",
        "  y4 = y2 - (y3-y1)\n",
        "elif distance_23 == max(arr):\n",
        "  x4 = x3 - (x1-x2)\n",
        "  y4 = y3 - (y1-y2)\n",
        "else :\n",
        "  x4 = x1 - (x2-x3)\n",
        "  y4 = y1 - (y2-y3)\n",
        "print(x4, y4)"
      ],
      "execution_count": null,
      "outputs": [
        {
          "output_type": "stream",
          "text": [
            "30 20\n",
            "10 10\n",
            "10 20\n",
            "30 10\n"
          ],
          "name": "stdout"
        }
      ]
    },
    {
      "cell_type": "code",
      "metadata": {
        "id": "gYbvJ-kKAEzn",
        "colab": {
          "base_uri": "https://localhost:8080/"
        },
        "outputId": "e994f324-3d28-4cbb-ae15-7880e3a32270"
      },
      "source": [
        "#9 직각삼각형 - 4153\n",
        "def is_rightTriangle(a,b,c):\n",
        "  if a > b and a > c:\n",
        "    if a*a == b*b + c*c:\n",
        "      return True\n",
        "  elif b > a and b > c:\n",
        "    if b*b == a*a + c*c:\n",
        "      return True\n",
        "  elif c > a and c > b:\n",
        "    if c*c == a*a + b*b:\n",
        "      return True\n",
        "  return False\n",
        "\n",
        "while True:\n",
        "  x,y,z = map(int, input().split())\n",
        "  if x == 0 and y == 0 and z == 0 :\n",
        "    break\n",
        "  if x == 0 or y == 0 or z == 0 :\n",
        "    print(\"wrong\")\n",
        "    continue\n",
        "  if is_rightTriangle(x,y,z):\n",
        "    print(\"right\")\n",
        "  else : print(\"wrong\")"
      ],
      "execution_count": null,
      "outputs": [
        {
          "output_type": "stream",
          "text": [
            "6 8 10\n",
            "right\n",
            "25 52 60\n",
            "wrong\n",
            "5 12 13\n",
            "right\n",
            "0 2 1\n",
            "0 0 0\n"
          ],
          "name": "stdout"
        }
      ]
    },
    {
      "cell_type": "code",
      "metadata": {
        "colab": {
          "base_uri": "https://localhost:8080/"
        },
        "id": "mSbRnmxGrKvH",
        "outputId": "ba7a1373-778c-4af2-d9f3-9d3e34c99b30"
      },
      "source": [
        "#10 택시 기하학 - 3053\n",
        "# 택시 기하학에서 원(평면 상의 어떤 점에서 거리가 일정한 점들의 집합)은 마름모 꼴이 나온다!\n",
        "import math\n",
        "r = int(input())\n",
        "euclid_circle = math.pi*r*r\n",
        "taxicab_geometry_circle = (r+r)*(r+r)/2\n",
        "print(euclid_circle)\n",
        "print(taxicab_geometry_circle)"
      ],
      "execution_count": null,
      "outputs": [
        {
          "output_type": "stream",
          "text": [
            "42\n",
            "5541.769440932396\n",
            "3528.0\n"
          ],
          "name": "stdout"
        }
      ]
    },
    {
      "cell_type": "code",
      "metadata": {
        "colab": {
          "base_uri": "https://localhost:8080/",
          "height": 556
        },
        "id": "NUPKjl_iuMeE",
        "outputId": "e03ad742-02b3-44e7-878a-5cfa6b9db842"
      },
      "source": [
        "#11 터렛 - 1002\n",
        "\n",
        "t = int(input())\n",
        "for i in range(t):\n",
        "  x1,y1,r1,x2,y2,r2 = map(int, input().split())\n",
        "  r = ((x1-x2)*(x1-x2) + (y1-y2)*(y1-y2))**0.5\n",
        "  if x1==x2 and y1==y2 :\n",
        "    if r1==r2 : \n",
        "      print(-1)\n",
        "    else :\n",
        "      print(0)\n",
        "    continue\n",
        "  else:\n",
        "    if r1+r2 == r:\n",
        "      print(1)\n",
        "    elif r1+r2 > r:\n",
        "      if abs(r1-r2) == r:\n",
        "        print(1)\n",
        "      elif abs(r1-r2) > r:\n",
        "        print(0)\n",
        "      else : print(2)\n",
        "    elif r1+r2 < r:\n",
        "      print(0)\n",
        "    continue\n",
        "# r1==r2 : 2개\n",
        "# r1 + r2 == 1,2거리 : 1개\n",
        "# r1 + r2 > 1,2 거리 : 2개 \n",
        "# r1 + r2 < 1,2 거리 : 0개\n",
        "\n"
      ],
      "execution_count": null,
      "outputs": [
        {
          "output_type": "error",
          "ename": "KeyboardInterrupt",
          "evalue": "ignored",
          "traceback": [
            "\u001b[0;31m---------------------------------------------------------------------------\u001b[0m",
            "\u001b[0;31mKeyboardInterrupt\u001b[0m                         Traceback (most recent call last)",
            "\u001b[0;32m/usr/local/lib/python3.7/dist-packages/ipykernel/kernelbase.py\u001b[0m in \u001b[0;36m_input_request\u001b[0;34m(self, prompt, ident, parent, password)\u001b[0m\n\u001b[1;32m    728\u001b[0m             \u001b[0;32mtry\u001b[0m\u001b[0;34m:\u001b[0m\u001b[0;34m\u001b[0m\u001b[0;34m\u001b[0m\u001b[0m\n\u001b[0;32m--> 729\u001b[0;31m                 \u001b[0mident\u001b[0m\u001b[0;34m,\u001b[0m \u001b[0mreply\u001b[0m \u001b[0;34m=\u001b[0m \u001b[0mself\u001b[0m\u001b[0;34m.\u001b[0m\u001b[0msession\u001b[0m\u001b[0;34m.\u001b[0m\u001b[0mrecv\u001b[0m\u001b[0;34m(\u001b[0m\u001b[0mself\u001b[0m\u001b[0;34m.\u001b[0m\u001b[0mstdin_socket\u001b[0m\u001b[0;34m,\u001b[0m \u001b[0;36m0\u001b[0m\u001b[0;34m)\u001b[0m\u001b[0;34m\u001b[0m\u001b[0;34m\u001b[0m\u001b[0m\n\u001b[0m\u001b[1;32m    730\u001b[0m             \u001b[0;32mexcept\u001b[0m \u001b[0mException\u001b[0m\u001b[0;34m:\u001b[0m\u001b[0;34m\u001b[0m\u001b[0;34m\u001b[0m\u001b[0m\n",
            "\u001b[0;32m/usr/local/lib/python3.7/dist-packages/jupyter_client/session.py\u001b[0m in \u001b[0;36mrecv\u001b[0;34m(self, socket, mode, content, copy)\u001b[0m\n\u001b[1;32m    802\u001b[0m         \u001b[0;32mtry\u001b[0m\u001b[0;34m:\u001b[0m\u001b[0;34m\u001b[0m\u001b[0;34m\u001b[0m\u001b[0m\n\u001b[0;32m--> 803\u001b[0;31m             \u001b[0mmsg_list\u001b[0m \u001b[0;34m=\u001b[0m \u001b[0msocket\u001b[0m\u001b[0;34m.\u001b[0m\u001b[0mrecv_multipart\u001b[0m\u001b[0;34m(\u001b[0m\u001b[0mmode\u001b[0m\u001b[0;34m,\u001b[0m \u001b[0mcopy\u001b[0m\u001b[0;34m=\u001b[0m\u001b[0mcopy\u001b[0m\u001b[0;34m)\u001b[0m\u001b[0;34m\u001b[0m\u001b[0;34m\u001b[0m\u001b[0m\n\u001b[0m\u001b[1;32m    804\u001b[0m         \u001b[0;32mexcept\u001b[0m \u001b[0mzmq\u001b[0m\u001b[0;34m.\u001b[0m\u001b[0mZMQError\u001b[0m \u001b[0;32mas\u001b[0m \u001b[0me\u001b[0m\u001b[0;34m:\u001b[0m\u001b[0;34m\u001b[0m\u001b[0;34m\u001b[0m\u001b[0m\n",
            "\u001b[0;32m/usr/local/lib/python3.7/dist-packages/zmq/sugar/socket.py\u001b[0m in \u001b[0;36mrecv_multipart\u001b[0;34m(self, flags, copy, track)\u001b[0m\n\u001b[1;32m    582\u001b[0m         \"\"\"\n\u001b[0;32m--> 583\u001b[0;31m         \u001b[0mparts\u001b[0m \u001b[0;34m=\u001b[0m \u001b[0;34m[\u001b[0m\u001b[0mself\u001b[0m\u001b[0;34m.\u001b[0m\u001b[0mrecv\u001b[0m\u001b[0;34m(\u001b[0m\u001b[0mflags\u001b[0m\u001b[0;34m,\u001b[0m \u001b[0mcopy\u001b[0m\u001b[0;34m=\u001b[0m\u001b[0mcopy\u001b[0m\u001b[0;34m,\u001b[0m \u001b[0mtrack\u001b[0m\u001b[0;34m=\u001b[0m\u001b[0mtrack\u001b[0m\u001b[0;34m)\u001b[0m\u001b[0;34m]\u001b[0m\u001b[0;34m\u001b[0m\u001b[0;34m\u001b[0m\u001b[0m\n\u001b[0m\u001b[1;32m    584\u001b[0m         \u001b[0;31m# have first part already, only loop while more to receive\u001b[0m\u001b[0;34m\u001b[0m\u001b[0;34m\u001b[0m\u001b[0;34m\u001b[0m\u001b[0m\n",
            "\u001b[0;32mzmq/backend/cython/socket.pyx\u001b[0m in \u001b[0;36mzmq.backend.cython.socket.Socket.recv\u001b[0;34m()\u001b[0m\n",
            "\u001b[0;32mzmq/backend/cython/socket.pyx\u001b[0m in \u001b[0;36mzmq.backend.cython.socket.Socket.recv\u001b[0;34m()\u001b[0m\n",
            "\u001b[0;32mzmq/backend/cython/socket.pyx\u001b[0m in \u001b[0;36mzmq.backend.cython.socket._recv_copy\u001b[0;34m()\u001b[0m\n",
            "\u001b[0;32m/usr/local/lib/python3.7/dist-packages/zmq/backend/cython/checkrc.pxd\u001b[0m in \u001b[0;36mzmq.backend.cython.checkrc._check_rc\u001b[0;34m()\u001b[0m\n",
            "\u001b[0;31mKeyboardInterrupt\u001b[0m: ",
            "\nDuring handling of the above exception, another exception occurred:\n",
            "\u001b[0;31mKeyboardInterrupt\u001b[0m                         Traceback (most recent call last)",
            "\u001b[0;32m<ipython-input-22-783873cc652d>\u001b[0m in \u001b[0;36m<module>\u001b[0;34m()\u001b[0m\n\u001b[1;32m      1\u001b[0m \u001b[0;31m#11 터렛 - 1002\u001b[0m\u001b[0;34m\u001b[0m\u001b[0;34m\u001b[0m\u001b[0;34m\u001b[0m\u001b[0m\n\u001b[1;32m      2\u001b[0m \u001b[0;34m\u001b[0m\u001b[0m\n\u001b[0;32m----> 3\u001b[0;31m \u001b[0mt\u001b[0m \u001b[0;34m=\u001b[0m \u001b[0mint\u001b[0m\u001b[0;34m(\u001b[0m\u001b[0minput\u001b[0m\u001b[0;34m(\u001b[0m\u001b[0;34m)\u001b[0m\u001b[0;34m)\u001b[0m\u001b[0;34m\u001b[0m\u001b[0;34m\u001b[0m\u001b[0m\n\u001b[0m\u001b[1;32m      4\u001b[0m \u001b[0;32mfor\u001b[0m \u001b[0mi\u001b[0m \u001b[0;32min\u001b[0m \u001b[0mrange\u001b[0m\u001b[0;34m(\u001b[0m\u001b[0mt\u001b[0m\u001b[0;34m)\u001b[0m\u001b[0;34m:\u001b[0m\u001b[0;34m\u001b[0m\u001b[0;34m\u001b[0m\u001b[0m\n\u001b[1;32m      5\u001b[0m   \u001b[0mx1\u001b[0m\u001b[0;34m,\u001b[0m\u001b[0my1\u001b[0m\u001b[0;34m,\u001b[0m\u001b[0mr1\u001b[0m\u001b[0;34m,\u001b[0m\u001b[0mx2\u001b[0m\u001b[0;34m,\u001b[0m\u001b[0my2\u001b[0m\u001b[0;34m,\u001b[0m\u001b[0mr2\u001b[0m \u001b[0;34m=\u001b[0m \u001b[0mmap\u001b[0m\u001b[0;34m(\u001b[0m\u001b[0mint\u001b[0m\u001b[0;34m,\u001b[0m \u001b[0minput\u001b[0m\u001b[0;34m(\u001b[0m\u001b[0;34m)\u001b[0m\u001b[0;34m.\u001b[0m\u001b[0msplit\u001b[0m\u001b[0;34m(\u001b[0m\u001b[0;34m)\u001b[0m\u001b[0;34m)\u001b[0m\u001b[0;34m\u001b[0m\u001b[0;34m\u001b[0m\u001b[0m\n",
            "\u001b[0;32m/usr/local/lib/python3.7/dist-packages/ipykernel/kernelbase.py\u001b[0m in \u001b[0;36mraw_input\u001b[0;34m(self, prompt)\u001b[0m\n\u001b[1;32m    702\u001b[0m             \u001b[0mself\u001b[0m\u001b[0;34m.\u001b[0m\u001b[0m_parent_ident\u001b[0m\u001b[0;34m,\u001b[0m\u001b[0;34m\u001b[0m\u001b[0;34m\u001b[0m\u001b[0m\n\u001b[1;32m    703\u001b[0m             \u001b[0mself\u001b[0m\u001b[0;34m.\u001b[0m\u001b[0m_parent_header\u001b[0m\u001b[0;34m,\u001b[0m\u001b[0;34m\u001b[0m\u001b[0;34m\u001b[0m\u001b[0m\n\u001b[0;32m--> 704\u001b[0;31m             \u001b[0mpassword\u001b[0m\u001b[0;34m=\u001b[0m\u001b[0;32mFalse\u001b[0m\u001b[0;34m,\u001b[0m\u001b[0;34m\u001b[0m\u001b[0;34m\u001b[0m\u001b[0m\n\u001b[0m\u001b[1;32m    705\u001b[0m         )\n\u001b[1;32m    706\u001b[0m \u001b[0;34m\u001b[0m\u001b[0m\n",
            "\u001b[0;32m/usr/local/lib/python3.7/dist-packages/ipykernel/kernelbase.py\u001b[0m in \u001b[0;36m_input_request\u001b[0;34m(self, prompt, ident, parent, password)\u001b[0m\n\u001b[1;32m    732\u001b[0m             \u001b[0;32mexcept\u001b[0m \u001b[0mKeyboardInterrupt\u001b[0m\u001b[0;34m:\u001b[0m\u001b[0;34m\u001b[0m\u001b[0;34m\u001b[0m\u001b[0m\n\u001b[1;32m    733\u001b[0m                 \u001b[0;31m# re-raise KeyboardInterrupt, to truncate traceback\u001b[0m\u001b[0;34m\u001b[0m\u001b[0;34m\u001b[0m\u001b[0;34m\u001b[0m\u001b[0m\n\u001b[0;32m--> 734\u001b[0;31m                 \u001b[0;32mraise\u001b[0m \u001b[0mKeyboardInterrupt\u001b[0m\u001b[0;34m\u001b[0m\u001b[0;34m\u001b[0m\u001b[0m\n\u001b[0m\u001b[1;32m    735\u001b[0m             \u001b[0;32melse\u001b[0m\u001b[0;34m:\u001b[0m\u001b[0;34m\u001b[0m\u001b[0;34m\u001b[0m\u001b[0m\n\u001b[1;32m    736\u001b[0m                 \u001b[0;32mbreak\u001b[0m\u001b[0;34m\u001b[0m\u001b[0;34m\u001b[0m\u001b[0m\n",
            "\u001b[0;31mKeyboardInterrupt\u001b[0m: "
          ]
        }
      ]
    }
  ]
}