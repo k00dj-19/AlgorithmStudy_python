{
 "cells": [
  {
   "attachments": {},
   "cell_type": "markdown",
   "metadata": {},
   "source": [
    "# CH 11. 그리디"
   ]
  },
  {
   "cell_type": "code",
   "execution_count": 9,
   "metadata": {},
   "outputs": [
    {
     "name": "stdout",
     "output_type": "stream",
     "text": [
      "[2, 3, 1, 2, 2]\n",
      "3\n",
      "[1, 2, 2, 2, 3]\n",
      "2\n"
     ]
    }
   ],
   "source": [
    "# Q1. 모험가 길드\n",
    "N = int(input())\n",
    "arr = list(map(int,input().split()))\n",
    "print(arr)\n",
    "#print(arr.count(2))\n",
    "arr.sort()\n",
    "print(arr)\n",
    "groups = 0\n",
    "count = 0 # 현재 그룹의 모험가 수\n",
    "for i in arr:\n",
    "    count += 1\n",
    "    if i <= count :\n",
    "        groups += 1\n",
    "        count = 0\n",
    "print(groups)"
   ]
  },
  {
   "cell_type": "code",
   "execution_count": 12,
   "metadata": {},
   "outputs": [
    {
     "name": "stdout",
     "output_type": "stream",
     "text": [
      "210\n"
     ]
    }
   ],
   "source": [
    "# Q2. 곱하기 혹은 더하기\n",
    "s = input()\n",
    "result = int(s[0]) # 초기 숫자 초기화\n",
    "for i in s[1::]:\n",
    "    if result == 0 or int(i) == 0:\n",
    "        result += int(i)\n",
    "    else:\n",
    "        result *= int(i)\n",
    "print(result)"
   ]
  },
  {
   "cell_type": "code",
   "execution_count": 14,
   "metadata": {},
   "outputs": [
    {
     "name": "stdout",
     "output_type": "stream",
     "text": [
      "7\n"
     ]
    }
   ],
   "source": [
    "# Q3. 문자열 뒤집기\n",
    "# 왼쪽부터 시작해서 숫자가 바뀔때마다 count += 1, 처음과 끝이 같다면 -1, 처음과 끝이 다르면 그대로 출력.\n",
    "s = input()\n",
    "current = s[0] # 현재 숫자 첫번째로 초기화\n",
    "count = 0\n",
    "for i in s:\n",
    "    if i == current:\n",
    "        continue\n",
    "    else :\n",
    "        current = i\n",
    "        count += 1\n",
    "print(count if s[0] != s[-1] else count -1)"
   ]
  },
  {
   "cell_type": "code",
   "execution_count": 2,
   "metadata": {},
   "outputs": [
    {
     "name": "stdout",
     "output_type": "stream",
     "text": [
      "8\n"
     ]
    }
   ],
   "source": [
    "# Q4. 만들 수 없는 금액 => 답 봄 .. 생각하는 게 의외로 어렵\n",
    "#N = int(input())\n",
    "N = 5\n",
    "#coins = list(map(int,input().split()))\n",
    "coins = [3,2,1,1,9]\n",
    "coins.sort() # 1 1 2 3 9\n",
    "target = 1 # 만들 수 있는지 확인하는 금액 초기화\n",
    "for i in coins:\n",
    "    if target < i:\n",
    "        break\n",
    "    target += i\n",
    "print(target)\n"
   ]
  },
  {
   "cell_type": "code",
   "execution_count": 7,
   "metadata": {},
   "outputs": [
    {
     "name": "stdout",
     "output_type": "stream",
     "text": [
      "1 7\n",
      "2 5\n",
      "1 4\n",
      "2 2\n",
      "25\n"
     ]
    }
   ],
   "source": [
    "# Q5. 볼링공 고르기 / p.315\n",
    "N, M = map(int,input().split())\n",
    "balls = list(map(int,input().split()))  # 1 2 2 3 3\n",
    "balls.sort()\n",
    "result = 0\n",
    "i = 0\n",
    "while i < N:\n",
    "    x = balls.count(balls[i])   # balls[i]와 무게가 같은 공의 개수\n",
    "    y = len(balls[i+x::])     # balls[i] 보다 무거운 공의 개수\n",
    "    if y == 0:\n",
    "        break\n",
    "    result += x*y\n",
    "    print(x,y)\n",
    "    i += x\n",
    "print(result)\n"
   ]
  },
  {
   "cell_type": "code",
   "execution_count": 6,
   "metadata": {},
   "outputs": [
    {
     "name": "stdout",
     "output_type": "stream",
     "text": [
      "[2, 1, 2]\n",
      "[2, 0, 2]\n",
      "[2, 0, 1]\n",
      "[1, 0, 1]\n",
      "[1, 0, 0]\n",
      "1\n"
     ]
    }
   ],
   "source": [
    "# Q6. 무지의 먹방 라이브 / p.316 / 2019 카카오 신입 공채\n",
    "food_times = [3,1,2]\n",
    "k = 5\n",
    "n = len(food_times) # 음식 개수 \n",
    "current = 0 # 현재 음식 인덱스\n",
    "i= 1\n",
    "while i <= k:\n",
    "    # 현재 앞의 음식을 -1 한다. 0이면 current + 1\n",
    "    if food_times[current] > 0:\n",
    "        food_times[current] -= 1\n",
    "        i += 1\n",
    "        print(food_times)\n",
    "    current += 1\n",
    "    if current >= n:\n",
    "        current = 0\n",
    "    \n",
    "print(current+1) # 음식번호 = index + 1"
   ]
  },
  {
   "attachments": {},
   "cell_type": "markdown",
   "metadata": {},
   "source": [
    "# CH 12. 구현"
   ]
  },
  {
   "cell_type": "code",
   "execution_count": 9,
   "metadata": {},
   "outputs": [
    {
     "name": "stdout",
     "output_type": "stream",
     "text": [
      "READY\n"
     ]
    }
   ],
   "source": [
    "# Q7. 럭키 스트레이트 / p.321 / 핵심 유형\n",
    "N = input()\n",
    "half = len(N)//2\n",
    "left = N[0:half]\n",
    "right = N[half::]\n",
    "sum_left, sum_right = 0, 0\n",
    "for i in range(half):\n",
    "    sum_left += int(left[i])\n",
    "    sum_right += int(right[i])\n",
    "print(\"LUCKY\" if sum_left == sum_right else \"READY\")"
   ]
  },
  {
   "cell_type": "code",
   "execution_count": 17,
   "metadata": {},
   "outputs": [
    {
     "name": "stdout",
     "output_type": "stream",
     "text": [
      "ADDIJJJKKLSS20\n"
     ]
    }
   ],
   "source": [
    "# Q8. 문자열 재정렬 / p.322 / Facebook 인터뷰\n",
    "# 48~57 : 0~9\n",
    "S = input()\n",
    "num = 0\n",
    "alpha = []\n",
    "for s in S:\n",
    "    if 48 <= ord(s) <= 57:\n",
    "        num += int(s)\n",
    "    else :\n",
    "        alpha.append(s)\n",
    "alpha.sort()\n",
    "print(''.join(alpha) + str(num))\n"
   ]
  },
  {
   "cell_type": "code",
   "execution_count": null,
   "metadata": {},
   "outputs": [],
   "source": [
    "#  !!Q9. 문자열 압축 / p.323 / 2020 카카오 신입 공채\n",
    "def solution(s):\n",
    "    answer = 0\n",
    "    return answer"
   ]
  },
  {
   "cell_type": "code",
   "execution_count": null,
   "metadata": {},
   "outputs": [],
   "source": [
    "# Q10,11,12,13,14 남음"
   ]
  },
  {
   "attachments": {},
   "cell_type": "markdown",
   "metadata": {},
   "source": [
    "# CH 13. DFS/BFS"
   ]
  },
  {
   "cell_type": "code",
   "execution_count": 7,
   "metadata": {},
   "outputs": [
    {
     "name": "stdout",
     "output_type": "stream",
     "text": [
      "[[], [2, 3], [3, 4], [], []]\n",
      "2\n",
      "3\n"
     ]
    }
   ],
   "source": [
    "# Q15. 특정 거리의 도시 찾기 / p.339 / 핵심 유형\n",
    "from collections import deque\n",
    "\n",
    "N, M, K, X = map(int, input().split())  # N:도시개수, M:도로개수, K:거리정보, X:출발도시번호\n",
    "arr = [[] for _ in range(N+1)]\n",
    "#print(arr)\n",
    "for _ in range(M):\n",
    "    i, j = map(int,input().split())\n",
    "    arr[i].append(j)\n",
    "print(arr)\n",
    "distance = [-1]*(N+1)\n",
    "visited = [0]*(N+1)\n",
    "q = deque([X])\n",
    "distance[X] = 0\n",
    "while q:\n",
    "    current = q.popleft()\n",
    "    if visited[current] != 0: # 이미 방문했다면, continue\n",
    "        continue\n",
    "    else:   # 방문하지 않았다면, \n",
    "        visited[current] = 1\n",
    "        for k in arr[current]:\n",
    "            if k in q:\n",
    "                continue\n",
    "            else :\n",
    "                q.append(k)\n",
    "                if distance[k] == -1:\n",
    "                    distance[k] = distance[current] + 1\n",
    "                else:\n",
    "                    distance[k] = min(distance[k], distance[current]+1)\n",
    "if K in distance:\n",
    "    for i in range(1,N+1):\n",
    "        if distance[i] == K:\n",
    "            print(i)\n",
    "else:\n",
    "    print(-1)\n"
   ]
  },
  {
   "cell_type": "code",
   "execution_count": 32,
   "metadata": {},
   "outputs": [
    {
     "name": "stdout",
     "output_type": "stream",
     "text": [
      "result: 3\n"
     ]
    }
   ],
   "source": [
    "# Q16. 연구소 / p.341 / 삼성전자 SW 역량테스트\n",
    "from collections import deque\n",
    "import copy\n",
    "\n",
    "N, M = map(int,input().split())\n",
    "map_arr = []\n",
    "virus_q = deque()\n",
    "wall_idx = [(i,j) for i in range(N) for j in range(M)]\n",
    "\n",
    "for i in range(N):\n",
    "    arr = list(map(int,input().split()))\n",
    "    map_arr.append(arr)\n",
    "    for j in range(M):\n",
    "        if arr[j] == 2:\n",
    "            virus_q.append((i,j))\n",
    "\n",
    "# print(map_arr)\n",
    "# print(\"---------------\")\n",
    "\n",
    "direction = [(0,1), (1,0), (0,-1), (-1,0)]\n",
    "\n",
    "\n",
    "def calculate_safe_zone(wall_arr, direction):\n",
    "    q = copy.deepcopy(virus_q)\n",
    "    #print(\"virus_q:\", q)\n",
    "    while q:\n",
    "        #print(q)\n",
    "        p_x, p_y = q.popleft()\n",
    "        \n",
    "        for d_x, d_y in direction:\n",
    "            n_x = p_x + d_x\n",
    "            n_y = p_y + d_y\n",
    "            if 0 <= n_x < N and 0 <= n_y < M:\n",
    "                if wall_arr[n_x][n_y] == 0:\n",
    "                    wall_arr[n_x][n_y] = 2\n",
    "                    q.append((n_x, n_y))\n",
    "                    # for arr in wall_arr:\n",
    "                    #     print(arr)\n",
    "    \n",
    "    cnt = 0\n",
    "    for i in wall_arr:\n",
    "        cnt += i.count(0)\n",
    "    #print(cnt, \"-------------------------\") \n",
    "    return cnt\n",
    "    \n",
    "cnt_safe_zone = 0\n",
    "for i in range(N*M-2):\n",
    "    for j in range(i+1,N*M-1):\n",
    "        for k in range(j+1, N*M):\n",
    "            idx_1, idx_2, idx_3 = wall_idx[i], wall_idx[j], wall_idx[k]\n",
    "            \n",
    "            if (map_arr[idx_1[0]][idx_1[1]] == 0) and (map_arr[idx_2[0]][idx_2[1]] == 0) and (map_arr[idx_3[0]][idx_3[1]] == 0):\n",
    "                wall_arr = copy.deepcopy(map_arr)\n",
    "                #print(idx_1,idx_2,idx_3)\n",
    "                wall_arr[idx_1[0]][idx_1[1]] = 1\n",
    "                wall_arr[idx_2[0]][idx_2[1]] = 1\n",
    "                wall_arr[idx_3[0]][idx_3[1]] = 1\n",
    "                cnt_safe_zone = max(cnt_safe_zone, calculate_safe_zone(wall_arr, direction))\n",
    "                #print(cnt_safe_zone)\n",
    "\n",
    "print(\"result:\", cnt_safe_zone)"
   ]
  },
  {
   "cell_type": "code",
   "execution_count": 44,
   "metadata": {},
   "outputs": [
    {
     "name": "stdout",
     "output_type": "stream",
     "text": [
      "0\n"
     ]
    }
   ],
   "source": [
    "# Q17. 경쟁적 전염 / p.345 / 핵심유형\n",
    "from collections import deque\n",
    "\n",
    "N, K = map(int,input().split())\n",
    "arr = []\n",
    "k_idx_arr = [deque([]) for _ in range(K+1)]    # k 행에 k번 바이러스의 인덱스 저장\n",
    "for i in range(N):\n",
    "    temp = list(map(int,input().split()))\n",
    "    for j in range(N):\n",
    "        k_idx_arr[temp[j]].append((i,j))\n",
    "    arr.append(temp)\n",
    "S, X, Y = map(int,input().split())\n",
    "\n",
    "dx = [0,1,0,-1]\n",
    "dy = [1,0,-1,0]\n",
    "\n",
    "for _ in range(S):\n",
    "    for k in range(K+1):\n",
    "        px, py = k_idx_arr[k].popleft()\n",
    "        for i in range(4):\n",
    "            nx = px + dx[i]\n",
    "            ny = py + dy[i]\n",
    "            if 0 <= nx < N and 0 <= ny < N:\n",
    "                if arr[nx][ny] == 0:\n",
    "                    arr[nx][ny] = k\n",
    "                    k_idx_arr[k].append((nx,ny))\n",
    "                    \n",
    "print(arr[X-1][Y-1])"
   ]
  },
  {
   "cell_type": "code",
   "execution_count": null,
   "metadata": {},
   "outputs": [],
   "source": [
    "# Q 18~22"
   ]
  },
  {
   "attachments": {},
   "cell_type": "markdown",
   "metadata": {},
   "source": [
    "# CH 14. 정렬"
   ]
  },
  {
   "cell_type": "code",
   "execution_count": 8,
   "metadata": {},
   "outputs": [
    {
     "name": "stdout",
     "output_type": "stream",
     "text": [
      "[('Junkyu', '50', '60', '100'), ('Sangkeun', '80', '60', '50'), ('Sunyoung', '80', '70', '100'), ('Soong', '50', '60', '90'), ('Haebin', '50', '60', '100'), ('Kangsoo', '60', '80', '100'), ('Donghyuk', '80', '60', '100'), ('Sei', '70', '70', '70'), ('Wonseob', '70', '70', '90'), ('Sanghyun', '70', '70', '80'), ('nsj', '80', '80', '80'), ('Taewhan', '50', '60', '90')]\n",
      "Donghyuk\n",
      "Sangkeun\n",
      "Sunyoung\n",
      "nsj\n",
      "Wonseob\n",
      "Sanghyun\n",
      "Sei\n",
      "Kangsoo\n",
      "Haebin\n",
      "Junkyu\n",
      "Soong\n",
      "Taewhan\n"
     ]
    }
   ],
   "source": [
    "# Q23. 국영수 / p.359 / 핵심유형\n",
    "\n",
    "N = int(input())\n",
    "grades = []\n",
    "for _ in range(N):\n",
    "    grades.append(tuple(input().split()))\n",
    "print(grades)\n",
    "grades.sort(key = lambda x : (-int(x[1]), int(x[2]), -int(x[3]), x[0]))\n",
    "for i in grades:\n",
    "    print(i[0])"
   ]
  },
  {
   "cell_type": "code",
   "execution_count": 17,
   "metadata": {},
   "outputs": [
    {
     "name": "stdout",
     "output_type": "stream",
     "text": [
      "5\n"
     ]
    }
   ],
   "source": [
    "# Q24. 안테나 / p.360 / 2019 SW 마에스트로 입학 테스트\n",
    "N = int(input())\n",
    "houses = list(map(int,input().split()))\n",
    "distance = [0] * (N+1)\n",
    "distance[0] = 100001\n",
    "for i in range(N):\n",
    "    sum_d = 0\n",
    "    for j in range(N):\n",
    "        sum_d += abs(houses[i]-houses[j])\n",
    "    distance[i+1] = sum_d\n",
    "    #print(sum_d)\n",
    "print(houses[distance.index(min(distance))-1])"
   ]
  },
  {
   "cell_type": "code",
   "execution_count": 4,
   "metadata": {},
   "outputs": [
    {
     "name": "stdout",
     "output_type": "stream",
     "text": [
      "[(4, 1.0), (1, 0.0), (2, 0.0), (3, 0.0)]\n"
     ]
    },
    {
     "data": {
      "text/plain": [
       "[4, 1, 2, 3]"
      ]
     },
     "execution_count": 4,
     "metadata": {},
     "output_type": "execute_result"
    }
   ],
   "source": [
    "# Q25. 실패율 / p.361 / 2019 카카오 신입 공채 1차\n",
    "def solution(N, stages):\n",
    "    answer = []\n",
    "    total = len(stages)\n",
    "    fail_list = []\n",
    "    \n",
    "    i = 0    \n",
    "    for i in range(1,N+1):\n",
    "        count_i = stages.count(i)\n",
    "        failure = count_i/total\n",
    "        fail_list.append((i, failure))\n",
    "        total -= count_i\n",
    "    \n",
    "    fail_list.sort(key= lambda x : -x[1])\n",
    "    print(fail_list)\n",
    "    for i in fail_list:\n",
    "        answer.append(i[0])\n",
    "    \n",
    "    return answer\n",
    "\n",
    "N = int(input())\n",
    "stages = list(map(int,input().split()))\n",
    "solution(N,stages)"
   ]
  },
  {
   "cell_type": "code",
   "execution_count": 10,
   "metadata": {},
   "outputs": [
    {
     "name": "stdout",
     "output_type": "stream",
     "text": [
      "190\n"
     ]
    }
   ],
   "source": [
    "# Q26. 카드 정렬하기 / p.363 / 핵심 유형\n",
    "N = int(input())\n",
    "cards = []\n",
    "for i in range(N):\n",
    "    cards.append(int(input()))\n",
    "cards.sort()\n",
    "dp = [0]*(N+1)\n",
    "dp[0] = cards[0] + cards[1]\n",
    "for i in range(1, N-1):\n",
    "    dp[i] = dp[i-1] + cards[i+1] \n",
    "    #print(dp[i])\n",
    "print(sum(dp))"
   ]
  },
  {
   "cell_type": "code",
   "execution_count": 4,
   "metadata": {},
   "outputs": [
    {
     "name": "stdout",
     "output_type": "stream",
     "text": [
      "[10, 40, 20]\n"
     ]
    }
   ],
   "source": [
    "# Q26.\n",
    "import heapq\n",
    "\n",
    "n = int(input())\n",
    "heap = []\n",
    "for i in range(n):\n",
    "    data = int(input())\n",
    "    heapq.heappush(heap, data)\n",
    "print(heap)\n",
    "\n",
    "result = 0\n",
    "\n",
    "while len(heap) != 1:\n",
    "    one = heapq.heappop(heap)\n",
    "    two = heapq.heappop(heap)\n",
    "\n",
    "    sum_value = one + two\n",
    "    result += sum_value\n",
    "    heapq.heappush(heap, sum_value)\n",
    "\n",
    "print(result)"
   ]
  },
  {
   "attachments": {},
   "cell_type": "markdown",
   "metadata": {},
   "source": [
    "# CH 15. 이진 탐색"
   ]
  },
  {
   "cell_type": "code",
   "execution_count": 9,
   "metadata": {},
   "outputs": [
    {
     "data": {
      "text/plain": [
       "-1"
      ]
     },
     "execution_count": 9,
     "metadata": {},
     "output_type": "execute_result"
    }
   ],
   "source": [
    "# Q27. 정렬된 배열에서 특정 수의 개수 구하기 / p.367 / Zoho 인터뷰\n",
    "def binary_search(arr, x):\n",
    "    start = 0\n",
    "    end = N-1\n",
    "    count = 0\n",
    "    while start <= end:\n",
    "        mid = (start+end) // 2\n",
    "        if arr[mid] < x:\n",
    "            start = mid + 1\n",
    "        elif arr[mid] > x:\n",
    "            end = mid - 1\n",
    "        else :\n",
    "            count += 1\n",
    "            break\n",
    "    for i in range(mid+1, N):\n",
    "        if arr[i] == x:\n",
    "            count += 1\n",
    "        else:\n",
    "            break\n",
    "    for i in range(mid-1, -1, -1):\n",
    "        if arr[i] == x:\n",
    "            count += 1\n",
    "        else:\n",
    "            break\n",
    "    return -1 if count == 0 else count\n",
    "N ,x = map(int,input().split())\n",
    "arr = list(map(int,input().split()))\n",
    "arr.sort()\n",
    "binary_search(arr,x)\n",
    "\n"
   ]
  },
  {
   "cell_type": "code",
   "execution_count": 17,
   "metadata": {},
   "outputs": [
    {
     "name": "stdout",
     "output_type": "stream",
     "text": [
      "3 8\n",
      "1 -4\n",
      "2 3\n",
      "-1\n"
     ]
    }
   ],
   "source": [
    "# Q28. 고정점 찾기\n",
    "def binary_search28(arr, start, end):\n",
    "    mid = (start+end) // 2\n",
    "    if start > end:\n",
    "        print(-1)\n",
    "        return True\n",
    "    print(mid, arr[mid])\n",
    "    if arr[mid] == mid:\n",
    "        print(mid)\n",
    "        return True\n",
    "    elif arr[mid] < mid:\n",
    "        binary_search28(arr, mid+1, end)\n",
    "    else :\n",
    "        binary_search28(arr, start, mid-1)\n",
    "N = int(input())\n",
    "arr = list(map(int,input().split()))\n",
    "\n",
    "binary_search28(arr, 0, N-1)\n"
   ]
  },
  {
   "cell_type": "code",
   "execution_count": 26,
   "metadata": {},
   "outputs": [
    {
     "name": "stdout",
     "output_type": "stream",
     "text": [
      "3 3 4\n",
      "4 4 4\n",
      "4 3 3\n",
      "3\n"
     ]
    }
   ],
   "source": [
    "# !!Q29. 공유기 설치 / p.369 / 핵심유형 => 어렵다. 모르겠다.\n",
    "def install(gap):\n",
    "    #router = [home[0]]  # 라우터 설치된 곳. 초기에 첫번째 집에 설치\n",
    "    previous = home[0]\n",
    "    cnt = 1\n",
    "    for i in range(1,N):\n",
    "        d = home[i] - previous\n",
    "        if d >= gap: # 두 접점 사이의 거리가 gap 이상일 경우 공유기 설치\n",
    "            cnt += 1\n",
    "            previous = home[i]\n",
    "        else:   # 두 접점 사이의 거리가 gap 미만일 경우 다음 좌표로 넘어감\n",
    "            continue\n",
    "        \n",
    "    return True if cnt >= C else False\n",
    "\n",
    "N, C = map(int,input().split())\n",
    "home = []\n",
    "cnt = 2\n",
    "if C ==2 :\n",
    "    print(N-1)\n",
    "else:\n",
    "    for i in range(N):\n",
    "        home.append(int(input()))\n",
    "    home.sort()\n",
    "    gap_end = N-1\n",
    "    gap_start = 1\n",
    "    gap_mid = (gap_end + gap_start)//2\n",
    "    while gap_start <= gap_end:\n",
    "        \n",
    "        if install(gap_mid):\n",
    "            gap_start = gap_mid + 1\n",
    "        else:\n",
    "            gap_end = gap_mid - 1\n",
    "        gap_mid = (gap_end + gap_start)//2\n",
    "        print(gap_start, gap_mid, gap_end)\n",
    "    print(gap_mid)\n",
    "# 1 2 4 8 9\n",
    "# "
   ]
  },
  {
   "cell_type": "code",
   "execution_count": null,
   "metadata": {},
   "outputs": [],
   "source": [
    "# Q30. 가사 검색 / p.370 / 2020 카카오 신입공채 1차"
   ]
  },
  {
   "attachments": {},
   "cell_type": "markdown",
   "metadata": {},
   "source": [
    "# CH 16. 다이나믹 프로그래밍"
   ]
  },
  {
   "cell_type": "code",
   "execution_count": 8,
   "metadata": {},
   "outputs": [
    {
     "name": "stdout",
     "output_type": "stream",
     "text": [
      "[[1, 3, 1, 5], [2, 2, 4, 1], [5, 0, 2, 3], [0, 6, 1, 2]]\n",
      "16\n"
     ]
    }
   ],
   "source": [
    "# Q31. 금광 / p.375 / Flipkart 인터뷰\n",
    "# 1 3 3 2 2 1 4 1 0 6 4 7\n",
    "# 1 3 1 5 2 2 4 1 5 0 2 3 0 6 1 2\n",
    "# def dp(x ,y , cnt):\n",
    "#     if  0 <= x < n and 0 <= y < m:\n",
    "#         if cnt == 0:\n",
    "#             if x == y == 0:\n",
    "#                 return arr[0]\n",
    "#             else:\n",
    "#                 return -987654321\n",
    "#         else :\n",
    "#             if x == y == 0:\n",
    "#                 return -987654321\n",
    "#             return arr[x*m+y] + max(0, dp(x-1,y-1,cnt-1),dp(x,y-1,cnt-1), dp(x-1,y,cnt-1)) \n",
    "#     else:\n",
    "#         return -1\n",
    "\n",
    "n, m = map(int, input().split())\n",
    "arr = list(map(int, input().split()))\n",
    "gold_arr = [[0] * m for _ in range(n)]\n",
    "for i in range(n):\n",
    "    for j in range(m):\n",
    "        gold_arr[i][j] = arr[i*m+j]\n",
    "print(gold_arr)\n",
    "\n",
    "\n",
    "dx = (-1,0,1)\n",
    "gold = 0\n",
    "for j in range(1,m):\n",
    "    for i in range(n):\n",
    "        left_up, left_mid, left_down = 0, 0, 0\n",
    "        \n",
    "        if 0 < i < n-1 :\n",
    "            left_up = gold_arr[i-1][j-1]\n",
    "            left_mid = gold_arr[i][j-1]\n",
    "            left_down = gold_arr[i+1][j-1]\n",
    "        elif i == 0:\n",
    "            left_mid = gold_arr[i][j-1]\n",
    "            left_down = gold_arr[i+1][j-1]\n",
    "        elif i == n-1:\n",
    "            left_up = gold_arr[i-1][j-1]\n",
    "            left_mid = gold_arr[i][j-1]\n",
    "        gold_arr[i][j] += max(left_up, left_mid, left_down)\n",
    "\n",
    "for i in range(n):\n",
    "    gold = max(gold, gold_arr[i][m-1])\n",
    "print(gold)\n",
    "\n",
    "\n",
    "\n"
   ]
  },
  {
   "cell_type": "code",
   "execution_count": 11,
   "metadata": {},
   "outputs": [
    {
     "name": "stdout",
     "output_type": "stream",
     "text": [
      "[[7], [3, 8], [8, 1, 0], [2, 7, 4, 4], [4, 5, 2, 6, 5]]\n",
      "30\n"
     ]
    }
   ],
   "source": [
    "# Q32. 정수 삼각형 / p.376 / IOI 1994년도\n",
    "# 7\n",
    "# 3 8\n",
    "# 8 1 0\n",
    "# 2 7 4 4\n",
    "# 4 5 2 6 5\n",
    "n = int(input())\n",
    "triangle = []\n",
    "for i in range(n):\n",
    "    triangle.append(list(map(int,input().split())))\n",
    "print(triangle)\n",
    "for i in range(1,n):\n",
    "    for j in range(len(triangle[i])):\n",
    "        up_left, up_right = 0, 0\n",
    "        if j == 0:\n",
    "            up_right = triangle[i-1][j]\n",
    "        elif j == len(triangle[i])-1:\n",
    "            up_left = triangle[i-1][j-1]\n",
    "        else:\n",
    "            up_left = triangle[i-1][j-1]\n",
    "            up_right = triangle[i-1][j]\n",
    "        triangle[i][j] += max(up_left, up_right)\n",
    "print(max(triangle[n-1]))"
   ]
  },
  {
   "cell_type": "code",
   "execution_count": 23,
   "metadata": {},
   "outputs": [
    {
     "name": "stdout",
     "output_type": "stream",
     "text": [
      "[0, 0, 0, 0, 0, 50, 60, 60, 80, 80, 90]\n",
      "90\n"
     ]
    }
   ],
   "source": [
    "# !Q33. 퇴사 / p.377 / 삼성전자 SW 역량테스트 => gpt가 품...너무 간단하네...\n",
    "N = int(input())\n",
    "T, P = [], []\n",
    "dp = [0]*(N+1)  # i번째 날에 받는 돈의 최대 값 저장\n",
    "\n",
    "for i in range(N):\n",
    "    t, p = map(int,input().split())\n",
    "    T.append(t)\n",
    "    P.append(p)\n",
    "\n",
    "# 그 날까지의 최대 수익 계산\n",
    "for i in range(N):\n",
    "    if i + T[i] <= N:   # 일이 퇴사날을 넘어가지 않으면, \n",
    "        dp[i+T[i]] = max(dp[i+T[i]], dp[i]+P[i])    # 현재 상담을 마치는 날짜에 최대 수익 갱신\n",
    "    dp[i+1] = max(dp[i+1], dp[i])\n",
    "print(dp)\n",
    "print(dp[N])"
   ]
  },
  {
   "attachments": {},
   "cell_type": "markdown",
   "metadata": {},
   "source": [
    "# CH 17. 최단 경로"
   ]
  },
  {
   "attachments": {},
   "cell_type": "markdown",
   "metadata": {},
   "source": [
    "# CH 18. 그래프 이론"
   ]
  },
  {
   "attachments": {},
   "cell_type": "markdown",
   "metadata": {},
   "source": [
    "# CH 19. 2020년 상반기 삼성전자 기출문제"
   ]
  }
 ],
 "metadata": {
  "kernelspec": {
   "display_name": "qd-detr",
   "language": "python",
   "name": "python3"
  },
  "language_info": {
   "codemirror_mode": {
    "name": "ipython",
    "version": 3
   },
   "file_extension": ".py",
   "mimetype": "text/x-python",
   "name": "python",
   "nbconvert_exporter": "python",
   "pygments_lexer": "ipython3",
   "version": "3.10.13"
  },
  "orig_nbformat": 4,
  "vscode": {
   "interpreter": {
    "hash": "cb815aca27ffa23dcfa203924f7636c33007ac528982fd9fc313cb0241287a26"
   }
  }
 },
 "nbformat": 4,
 "nbformat_minor": 2
}
