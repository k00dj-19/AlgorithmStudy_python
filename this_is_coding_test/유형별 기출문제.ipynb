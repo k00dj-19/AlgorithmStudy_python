{
 "cells": [
  {
   "attachments": {},
   "cell_type": "markdown",
   "metadata": {},
   "source": [
    "# CH 11. 그리디"
   ]
  },
  {
   "cell_type": "code",
   "execution_count": 9,
   "metadata": {},
   "outputs": [
    {
     "name": "stdout",
     "output_type": "stream",
     "text": [
      "[2, 3, 1, 2, 2]\n",
      "3\n",
      "[1, 2, 2, 2, 3]\n",
      "2\n"
     ]
    }
   ],
   "source": [
    "# Q1. 모험가 길드\n",
    "N = int(input())\n",
    "arr = list(map(int,input().split()))\n",
    "print(arr)\n",
    "#print(arr.count(2))\n",
    "arr.sort()\n",
    "print(arr)\n",
    "groups = 0\n",
    "count = 0 # 현재 그룹의 모험가 수\n",
    "for i in arr:\n",
    "    count += 1\n",
    "    if i <= count :\n",
    "        groups += 1\n",
    "        count = 0\n",
    "print(groups)"
   ]
  },
  {
   "cell_type": "code",
   "execution_count": 12,
   "metadata": {},
   "outputs": [
    {
     "name": "stdout",
     "output_type": "stream",
     "text": [
      "210\n"
     ]
    }
   ],
   "source": [
    "# Q2. 곱하기 혹은 더하기\n",
    "s = input()\n",
    "result = int(s[0]) # 초기 숫자 초기화\n",
    "for i in s[1::]:\n",
    "    if result == 0 or int(i) == 0:\n",
    "        result += int(i)\n",
    "    else:\n",
    "        result *= int(i)\n",
    "print(result)"
   ]
  },
  {
   "cell_type": "code",
   "execution_count": 14,
   "metadata": {},
   "outputs": [
    {
     "name": "stdout",
     "output_type": "stream",
     "text": [
      "7\n"
     ]
    }
   ],
   "source": [
    "# Q3. 문자열 뒤집기\n",
    "# 왼쪽부터 시작해서 숫자가 바뀔때마다 count += 1, 처음과 끝이 같다면 -1, 처음과 끝이 다르면 그대로 출력.\n",
    "s = input()\n",
    "current = s[0] # 현재 숫자 첫번째로 초기화\n",
    "count = 0\n",
    "for i in s:\n",
    "    if i == current:\n",
    "        continue\n",
    "    else :\n",
    "        current = i\n",
    "        count += 1\n",
    "print(count if s[0] != s[-1] else count -1)"
   ]
  },
  {
   "cell_type": "code",
   "execution_count": 2,
   "metadata": {},
   "outputs": [
    {
     "name": "stdout",
     "output_type": "stream",
     "text": [
      "8\n"
     ]
    }
   ],
   "source": [
    "# Q4. 만들 수 없는 금액 => 답 봄 .. 생각하는 게 의외로 어렵\n",
    "#N = int(input())\n",
    "N = 5\n",
    "#coins = list(map(int,input().split()))\n",
    "coins = [3,2,1,1,9]\n",
    "coins.sort() # 1 1 2 3 9\n",
    "target = 1 # 만들 수 있는지 확인하는 금액 초기화\n",
    "for i in coins:\n",
    "    if target < i:\n",
    "        break\n",
    "    target += i\n",
    "print(target)\n"
   ]
  },
  {
   "cell_type": "code",
   "execution_count": 7,
   "metadata": {},
   "outputs": [
    {
     "name": "stdout",
     "output_type": "stream",
     "text": [
      "1 7\n",
      "2 5\n",
      "1 4\n",
      "2 2\n",
      "25\n"
     ]
    }
   ],
   "source": [
    "# Q5. 볼링공 고르기 / p.315\n",
    "N, M = map(int,input().split())\n",
    "balls = list(map(int,input().split()))  # 1 2 2 3 3\n",
    "balls.sort()\n",
    "result = 0\n",
    "i = 0\n",
    "while i < N:\n",
    "    x = balls.count(balls[i])   # balls[i]와 무게가 같은 공의 개수\n",
    "    y = len(balls[i+x::])     # balls[i] 보다 무거운 공의 개수\n",
    "    if y == 0:\n",
    "        break\n",
    "    result += x*y\n",
    "    print(x,y)\n",
    "    i += x\n",
    "print(result)\n"
   ]
  },
  {
   "cell_type": "code",
   "execution_count": 6,
   "metadata": {},
   "outputs": [
    {
     "name": "stdout",
     "output_type": "stream",
     "text": [
      "[2, 1, 2]\n",
      "[2, 0, 2]\n",
      "[2, 0, 1]\n",
      "[1, 0, 1]\n",
      "[1, 0, 0]\n",
      "1\n"
     ]
    }
   ],
   "source": [
    "# Q6. 무지의 먹방 라이브 / p.316 / 2019 카카오 신입 공채\n",
    "food_times = [3,1,2]\n",
    "k = 5\n",
    "n = len(food_times) # 음식 개수 \n",
    "current = 0 # 현재 음식 인덱스\n",
    "i= 1\n",
    "while i <= k:\n",
    "    # 현재 앞의 음식을 -1 한다. 0이면 current + 1\n",
    "    if food_times[current] > 0:\n",
    "        food_times[current] -= 1\n",
    "        i += 1\n",
    "        print(food_times)\n",
    "    current += 1\n",
    "    if current >= n:\n",
    "        current = 0\n",
    "    \n",
    "print(current+1) # 음식번호 = index + 1"
   ]
  },
  {
   "attachments": {},
   "cell_type": "markdown",
   "metadata": {},
   "source": [
    "# CH 12. 구현"
   ]
  },
  {
   "cell_type": "code",
   "execution_count": 9,
   "metadata": {},
   "outputs": [
    {
     "name": "stdout",
     "output_type": "stream",
     "text": [
      "READY\n"
     ]
    }
   ],
   "source": [
    "# Q7. 럭키 스트레이트 / p.321 / 핵심 유형\n",
    "N = input()\n",
    "half = len(N)//2\n",
    "left = N[0:half]\n",
    "right = N[half::]\n",
    "sum_left, sum_right = 0, 0\n",
    "for i in range(half):\n",
    "    sum_left += int(left[i])\n",
    "    sum_right += int(right[i])\n",
    "print(\"LUCKY\" if sum_left == sum_right else \"READY\")"
   ]
  },
  {
   "cell_type": "code",
   "execution_count": 17,
   "metadata": {},
   "outputs": [
    {
     "name": "stdout",
     "output_type": "stream",
     "text": [
      "ADDIJJJKKLSS20\n"
     ]
    }
   ],
   "source": [
    "# Q8. 문자열 재정렬 / p.322 / Facebook 인터뷰\n",
    "# 48~57 : 0~9\n",
    "S = input()\n",
    "num = 0\n",
    "alpha = []\n",
    "for s in S:\n",
    "    if 48 <= ord(s) <= 57:\n",
    "        num += int(s)\n",
    "    else :\n",
    "        alpha.append(s)\n",
    "alpha.sort()\n",
    "print(''.join(alpha) + str(num))\n"
   ]
  },
  {
   "cell_type": "code",
   "execution_count": null,
   "metadata": {},
   "outputs": [],
   "source": [
    "#  Q9. 문자열 압축 / p.323 / 2020 카카오 신입 공채\n",
    "def solution(s):\n",
    "    answer = 0\n",
    "    return answer"
   ]
  }
 ],
 "metadata": {
  "kernelspec": {
   "display_name": "qd-detr",
   "language": "python",
   "name": "python3"
  },
  "language_info": {
   "codemirror_mode": {
    "name": "ipython",
    "version": 3
   },
   "file_extension": ".py",
   "mimetype": "text/x-python",
   "name": "python",
   "nbconvert_exporter": "python",
   "pygments_lexer": "ipython3",
   "version": "3.10.13"
  },
  "orig_nbformat": 4,
  "vscode": {
   "interpreter": {
    "hash": "cb815aca27ffa23dcfa203924f7636c33007ac528982fd9fc313cb0241287a26"
   }
  }
 },
 "nbformat": 4,
 "nbformat_minor": 2
}
