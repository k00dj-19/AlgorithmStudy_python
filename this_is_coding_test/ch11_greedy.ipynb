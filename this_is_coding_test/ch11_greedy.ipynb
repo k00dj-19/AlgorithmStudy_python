{
 "cells": [
  {
   "cell_type": "code",
   "execution_count": 1,
   "metadata": {},
   "outputs": [
    {
     "name": "stdout",
     "output_type": "stream",
     "text": [
      "Hello\n"
     ]
    }
   ],
   "source": [
    "print(\"Hello\")"
   ]
  },
  {
   "cell_type": "code",
   "execution_count": 9,
   "metadata": {},
   "outputs": [
    {
     "name": "stdout",
     "output_type": "stream",
     "text": [
      "[2, 3, 1, 2, 2]\n",
      "3\n",
      "[1, 2, 2, 2, 3]\n",
      "2\n"
     ]
    }
   ],
   "source": [
    "# Q1. 모험가 길드\n",
    "N = int(input())\n",
    "arr = list(map(int,input().split()))\n",
    "print(arr)\n",
    "#print(arr.count(2))\n",
    "arr.sort()\n",
    "print(arr)\n",
    "groups = 0\n",
    "count = 0 # 현재 그룹의 모험가 수\n",
    "for i in arr:\n",
    "    count += 1\n",
    "    if i <= count :\n",
    "        groups += 1\n",
    "        count = 0\n",
    "print(groups)"
   ]
  },
  {
   "cell_type": "code",
   "execution_count": 12,
   "metadata": {},
   "outputs": [
    {
     "name": "stdout",
     "output_type": "stream",
     "text": [
      "210\n"
     ]
    }
   ],
   "source": [
    "# Q2. 곱하기 혹은 더하기\n",
    "s = input()\n",
    "result = int(s[0]) # 초기 숫자 초기화\n",
    "for i in s[1::]:\n",
    "    if result == 0 or int(i) == 0:\n",
    "        result += int(i)\n",
    "    else:\n",
    "        result *= int(i)\n",
    "print(result)"
   ]
  },
  {
   "cell_type": "code",
   "execution_count": 14,
   "metadata": {},
   "outputs": [
    {
     "name": "stdout",
     "output_type": "stream",
     "text": [
      "7\n"
     ]
    }
   ],
   "source": [
    "# Q3. 문자열 뒤집기\n",
    "# 왼쪽부터 시작해서 숫자가 바뀔때마다 count += 1, 처음과 끝이 같다면 -1, 처음과 끝이 다르면 그대로 출력.\n",
    "s = input()\n",
    "current = s[0] # 현재 숫자 첫번째로 초기화\n",
    "count = 0\n",
    "for i in s:\n",
    "    if i == current:\n",
    "        continue\n",
    "    else :\n",
    "        current = i\n",
    "        count += 1\n",
    "print(count if s[0] != s[-1] else count -1)"
   ]
  },
  {
   "cell_type": "code",
   "execution_count": null,
   "metadata": {},
   "outputs": [],
   "source": [
    "# Q4. 만들 수 없는 금액\n",
    "N = int(input())\n",
    "coins = list(map(int,input().split()))\n",
    "coins.sort()\n",
    "11239\n",
    "\n"
   ]
  },
  {
   "cell_type": "code",
   "execution_count": null,
   "metadata": {},
   "outputs": [],
   "source": []
  }
 ],
 "metadata": {
  "kernelspec": {
   "display_name": "qd-detr",
   "language": "python",
   "name": "python3"
  },
  "language_info": {
   "codemirror_mode": {
    "name": "ipython",
    "version": 3
   },
   "file_extension": ".py",
   "mimetype": "text/x-python",
   "name": "python",
   "nbconvert_exporter": "python",
   "pygments_lexer": "ipython3",
   "version": "3.10.13"
  },
  "orig_nbformat": 4,
  "vscode": {
   "interpreter": {
    "hash": "cb815aca27ffa23dcfa203924f7636c33007ac528982fd9fc313cb0241287a26"
   }
  }
 },
 "nbformat": 4,
 "nbformat_minor": 2
}
