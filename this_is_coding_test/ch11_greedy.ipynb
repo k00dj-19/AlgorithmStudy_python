{
 "cells": [
  {
   "cell_type": "code",
   "execution_count": 1,
   "metadata": {},
   "outputs": [
    {
     "name": "stdout",
     "output_type": "stream",
     "text": [
      "Hello\n"
     ]
    }
   ],
   "source": [
    "print(\"Hello\")"
   ]
  },
  {
   "cell_type": "code",
   "execution_count": 9,
   "metadata": {},
   "outputs": [
    {
     "name": "stdout",
     "output_type": "stream",
     "text": [
      "[2, 3, 1, 2, 2]\n",
      "3\n",
      "[1, 2, 2, 2, 3]\n",
      "2\n"
     ]
    }
   ],
   "source": [
    "# Q1. 모험가 길드\n",
    "N = int(input())\n",
    "arr = list(map(int,input().split()))\n",
    "print(arr)\n",
    "#print(arr.count(2))\n",
    "arr.sort()\n",
    "print(arr)\n",
    "groups = 0\n",
    "count = 0 # 현재 그룹의 모험가 수\n",
    "for i in arr:\n",
    "    count += 1\n",
    "    if i <= count :\n",
    "        groups += 1\n",
    "        count = 0\n",
    "print(groups)"
   ]
  }
 ],
 "metadata": {
  "kernelspec": {
   "display_name": "qd-detr",
   "language": "python",
   "name": "python3"
  },
  "language_info": {
   "codemirror_mode": {
    "name": "ipython",
    "version": 3
   },
   "file_extension": ".py",
   "mimetype": "text/x-python",
   "name": "python",
   "nbconvert_exporter": "python",
   "pygments_lexer": "ipython3",
   "version": "3.10.13"
  },
  "orig_nbformat": 4,
  "vscode": {
   "interpreter": {
    "hash": "cb815aca27ffa23dcfa203924f7636c33007ac528982fd9fc313cb0241287a26"
   }
  }
 },
 "nbformat": 4,
 "nbformat_minor": 2
}
