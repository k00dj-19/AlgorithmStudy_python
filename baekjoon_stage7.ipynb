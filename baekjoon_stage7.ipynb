{
  "nbformat": 4,
  "nbformat_minor": 0,
  "metadata": {
    "colab": {
      "name": "baekjoon_stage7.ipynb",
      "provenance": [],
      "authorship_tag": "ABX9TyOUCCcGGWLl06RhtkkU8sLC",
      "include_colab_link": true
    },
    "kernelspec": {
      "name": "python3",
      "display_name": "Python 3"
    },
    "language_info": {
      "name": "python"
    }
  },
  "cells": [
    {
      "cell_type": "markdown",
      "metadata": {
        "id": "view-in-github",
        "colab_type": "text"
      },
      "source": [
        "<a href=\"https://colab.research.google.com/github/k00dj-19/AlgorithmStudy_python/blob/master/baekjoon_stage7.ipynb\" target=\"_parent\"><img src=\"https://colab.research.google.com/assets/colab-badge.svg\" alt=\"Open In Colab\"/></a>"
      ]
    },
    {
      "cell_type": "code",
      "metadata": {
        "colab": {
          "base_uri": "https://localhost:8080/"
        },
        "id": "BaIC7mMbcYWV",
        "outputId": "741efd97-a697-4e8b-f16d-78c03868bb9a"
      },
      "source": [
        "#1\n",
        "print(ord(input()))"
      ],
      "execution_count": null,
      "outputs": [
        {
          "output_type": "stream",
          "text": [
            "z\n",
            "122\n"
          ],
          "name": "stdout"
        }
      ]
    },
    {
      "cell_type": "code",
      "metadata": {
        "colab": {
          "base_uri": "https://localhost:8080/"
        },
        "id": "Eg9VLPDOc1h0",
        "outputId": "122771f9-c7eb-424e-f8ef-d86b8c85527d"
      },
      "source": [
        "#2\n",
        "n = int(input())\n",
        "num = int(input())\n",
        "sum = 0\n",
        "s = str(num)\n",
        "for i in s:\n",
        "  sum += int(i)\n",
        "print(sum)"
      ],
      "execution_count": null,
      "outputs": [
        {
          "output_type": "stream",
          "text": [
            "25\n",
            "700000000000000\n",
            "7\n"
          ],
          "name": "stdout"
        }
      ]
    },
    {
      "cell_type": "code",
      "metadata": {
        "colab": {
          "base_uri": "https://localhost:8080/"
        },
        "id": "vXY15SPtdkbf",
        "outputId": "41fc398b-86fa-456c-fbcf-ba5cf915e991"
      },
      "source": [
        "#3\n",
        "#print(ord('z'))\n",
        "# a : 97\n",
        "# z : 122\n",
        "s = input()\n",
        "arr = [-1]*26\n",
        "for i in range(len(s)):\n",
        "  if arr[ord(s[i]) - 97] == -1 :\n",
        "    arr[ord(s[i]) - 97] = i\n",
        "for i in arr:\n",
        "  print(i, end=\" \")\n"
      ],
      "execution_count": null,
      "outputs": [
        {
          "output_type": "stream",
          "text": [
            "baekjoon\n",
            "1 0 -1 -1 2 -1 -1 -1 -1 4 3 -1 -1 7 5 -1 -1 -1 -1 -1 -1 -1 -1 -1 -1 -1 "
          ],
          "name": "stdout"
        }
      ]
    },
    {
      "cell_type": "code",
      "metadata": {
        "id": "kqQ89f9sftCo",
        "colab": {
          "base_uri": "https://localhost:8080/"
        },
        "outputId": "70ab5126-3656-4498-a0da-0697e3692114"
      },
      "source": [
        "#4\n",
        "t = int(input())\n",
        "for i in range(t):\n",
        "  r, s = input().split()\n",
        "  r = int(r)\n",
        "  new_s = ''\n",
        "  for j in s:\n",
        "    for k in range(r):\n",
        "      new_s += j\n",
        "  print(new_s)"
      ],
      "execution_count": null,
      "outputs": [
        {
          "output_type": "stream",
          "text": [
            "2\n",
            "3 abc\n",
            "aaabbbccc\n",
            "5 /htp\n",
            "/////hhhhhtttttppppp\n"
          ],
          "name": "stdout"
        }
      ]
    },
    {
      "cell_type": "code",
      "metadata": {
        "colab": {
          "base_uri": "https://localhost:8080/"
        },
        "id": "ajWh0SAFJeJE",
        "outputId": "569936c3-f834-4657-dc14-9c340f3928c0"
      },
      "source": [
        "#5\n",
        "# A : 65\n",
        "# Z : 90\n",
        "# a : 97\n",
        "# z : 122\n",
        "\n",
        "s = input()\n",
        "arr = [0]*(26)\n",
        "for i in s:\n",
        "  if ord(i) < 97 :\n",
        "    arr[ord(i) - 65] += 1\n",
        "  else : \n",
        "    arr[ord(i) - 97] += 1\n",
        "count = 0\n",
        "for j in arr:\n",
        "  if j == max(arr):\n",
        "    count+=1\n",
        "if count < 2 :\n",
        "  print(chr(arr.index(max(arr))+65))\n",
        "else :\n",
        "  print(\"?\")\n",
        "\n",
        "\n"
      ],
      "execution_count": null,
      "outputs": [
        {
          "output_type": "stream",
          "text": [
            "Zza\n",
            "Z\n"
          ],
          "name": "stdout"
        }
      ]
    },
    {
      "cell_type": "code",
      "metadata": {
        "colab": {
          "base_uri": "https://localhost:8080/"
        },
        "id": "nv9v4PlaKX-V",
        "outputId": "93b40744-e073-4ce6-cc8a-9d01b86a53d1"
      },
      "source": [
        "#6\n",
        "arr = list(map(str, input().split()))\n",
        "print(len(arr))"
      ],
      "execution_count": null,
      "outputs": [
        {
          "output_type": "stream",
          "text": [
            "dfa dsafasd asdf\n",
            "3\n"
          ],
          "name": "stdout"
        }
      ]
    },
    {
      "cell_type": "code",
      "metadata": {
        "colab": {
          "base_uri": "https://localhost:8080/"
        },
        "id": "A-Sl43b3SAzJ",
        "outputId": "0684c1d6-545f-4a8d-999a-9e13f581a283"
      },
      "source": [
        "#7\n",
        "a, b = input().split()\n",
        "new_a = int(a[::-1])\n",
        "new_b = int(b[::-1])\n",
        "print(max(new_a,new_b))"
      ],
      "execution_count": null,
      "outputs": [
        {
          "output_type": "stream",
          "text": [
            "734 893\n",
            "437\n"
          ],
          "name": "stdout"
        }
      ]
    },
    {
      "cell_type": "code",
      "metadata": {
        "colab": {
          "base_uri": "https://localhost:8080/"
        },
        "id": "qlecYWO-TCPk",
        "outputId": "2073815b-693d-4d47-9c2c-d5ca951c6d5c"
      },
      "source": [
        "#8\n",
        "s = input()\n",
        "time = 0\n",
        "for i in s:\n",
        "  if i <= 'C' :\n",
        "    time += 3\n",
        "  elif \"C\" < i <= \"F\":\n",
        "    time += 4\n",
        "  elif \"F\" < i <= \"I\":\n",
        "    time += 5\n",
        "  elif \"I\" < i <= \"L\":\n",
        "    time += 6\n",
        "  elif \"L\" < i <= \"O\":\n",
        "    time += 7\n",
        "  elif \"O\" < i <= \"S\":\n",
        "    time += 8\n",
        "  elif \"S\" < i <= \"V\":\n",
        "    time += 9\n",
        "  else:\n",
        "    time += 10\n",
        "print(time)"
      ],
      "execution_count": null,
      "outputs": [
        {
          "output_type": "stream",
          "text": [
            "UNUCIC\n",
            "36\n"
          ],
          "name": "stdout"
        }
      ]
    },
    {
      "cell_type": "code",
      "metadata": {
        "colab": {
          "base_uri": "https://localhost:8080/"
        },
        "id": "bi_OKyjgUhkB",
        "outputId": "2f919886-01ad-4602-f4e3-21955ce9b893"
      },
      "source": [
        "#9\n",
        "s = input()\n",
        "arr = ['c=', 'c-', 'dz=', 'd-', 'lj', 'nj', 's=', 'z=']\n",
        "count = 0\n",
        "i = 0\n",
        "while i < len(s):\n",
        "  if s[i:i+3] in arr:\n",
        "    count +=1\n",
        "    i += 3 \n",
        "    continue\n",
        "  elif s[i:i+2] in arr:\n",
        "    count +=1\n",
        "    i += 2\n",
        "  else :\n",
        "    count += 1\n",
        "    i += 1\n",
        "print(count)\n",
        "\n",
        "   "
      ],
      "execution_count": null,
      "outputs": [
        {
          "output_type": "stream",
          "text": [
            "ljes=njak\n",
            "6\n"
          ],
          "name": "stdout"
        }
      ]
    },
    {
      "cell_type": "code",
      "metadata": {
        "colab": {
          "base_uri": "https://localhost:8080/"
        },
        "id": "8E6djYhQaEFz",
        "outputId": "ea783e10-0d3d-47d3-a419-5b907516e6c8"
      },
      "source": [
        "#9 풀이\n",
        "c=input().count # input().count : input값에서 count 함수를 c로 선언\n",
        "print(c('')-1-sum(map(c,['-','=','nj','lj','dz='])))\n",
        "# c('') "
      ],
      "execution_count": null,
      "outputs": [
        {
          "output_type": "stream",
          "text": [
            "ljes=njak\n",
            "6\n",
            "<class 'int'>\n",
            "<class 'builtin_function_or_method'>\n"
          ],
          "name": "stdout"
        }
      ]
    },
    {
      "cell_type": "code",
      "metadata": {
        "colab": {
          "base_uri": "https://localhost:8080/"
        },
        "id": "sdM8IYcXdTVD",
        "outputId": "58eee6ba-8378-4b24-d340-ab69d9e29800"
      },
      "source": [
        "#10\n",
        "n = int(input())\n",
        "count = 0\n",
        "for i in range(n):\n",
        "  s = input()\n",
        "  for j in s:\n",
        "    if s.count(j) > 1:\n",
        "      if s[s.index(j):s.index(j)+s.count(j)] != j*s.count(j):\n",
        "        count -= 1\n",
        "        break\n",
        "  count += 1\n",
        "print(count)\n",
        "\n"
      ],
      "execution_count": null,
      "outputs": [
        {
          "output_type": "stream",
          "text": [
            "4\n",
            "aba\n",
            "abab\n",
            "abcabc\n",
            "a\n",
            "1\n"
          ],
          "name": "stdout"
        }
      ]
    }
  ]
}