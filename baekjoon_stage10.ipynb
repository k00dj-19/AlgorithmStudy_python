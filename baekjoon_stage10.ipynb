{
  "nbformat": 4,
  "nbformat_minor": 0,
  "metadata": {
    "colab": {
      "name": "baekjoon_stage10.ipynb",
      "provenance": [],
      "collapsed_sections": [],
      "authorship_tag": "ABX9TyP6Yb0wPP2n7llmhXdCDLUZ",
      "include_colab_link": true
    },
    "kernelspec": {
      "name": "python3",
      "display_name": "Python 3"
    },
    "language_info": {
      "name": "python"
    }
  },
  "cells": [
    {
      "cell_type": "markdown",
      "metadata": {
        "id": "view-in-github",
        "colab_type": "text"
      },
      "source": [
        "<a href=\"https://colab.research.google.com/github/k00dj-19/AlgorithmStudy_python/blob/master/baekjoon_stage10.ipynb\" target=\"_parent\"><img src=\"https://colab.research.google.com/assets/colab-badge.svg\" alt=\"Open In Colab\"/></a>"
      ]
    },
    {
      "cell_type": "markdown",
      "metadata": {
        "id": "mmvq0RPECk4I"
      },
      "source": [
        "재귀"
      ]
    },
    {
      "cell_type": "code",
      "metadata": {
        "colab": {
          "base_uri": "https://localhost:8080/"
        },
        "id": "rjDrL6cFCnFP",
        "outputId": "2f59419a-5ef6-4782-ac0e-644422a80881"
      },
      "source": [
        "#1 팩토리얼 - 10872\n",
        "n = int(input())\n",
        "def factorial(x):\n",
        "  if x > 1:\n",
        "    return factorial(x-1)*x\n",
        "  elif x == 1 or x == 0:\n",
        "    return 1\n",
        "  \n",
        "print(factorial(n))"
      ],
      "execution_count": null,
      "outputs": [
        {
          "output_type": "stream",
          "text": [
            "0\n",
            "1\n"
          ],
          "name": "stdout"
        }
      ]
    },
    {
      "cell_type": "code",
      "metadata": {
        "colab": {
          "base_uri": "https://localhost:8080/"
        },
        "id": "CPT6suDcDrMT",
        "outputId": "985f43b4-94eb-493d-9cd4-32bb458a2dda"
      },
      "source": [
        "#2 피보나치 수 5 - 10870\n",
        "def fibonacci(x):\n",
        "  if x == 0 or x == 1: return x\n",
        "  else :\n",
        "    return fibonacci(x-1)+fibonacci(x-2)\n",
        "n = int(input())\n",
        "print(fibonacci(n))"
      ],
      "execution_count": null,
      "outputs": [
        {
          "output_type": "stream",
          "text": [
            "10\n",
            "55\n"
          ],
          "name": "stdout"
        }
      ]
    },
    {
      "cell_type": "code",
      "metadata": {
        "id": "oZL_EBIsETca",
        "colab": {
          "base_uri": "https://localhost:8080/"
        },
        "outputId": "d9bec0fc-0f34-42f7-d880-9e1d5c5f3113"
      },
      "source": [
        "#3 별찍기 - 10 - 2447\n",
        "# 모르겠다\n",
        "import math\n",
        "def star(x):\n",
        "  if x == 3:\n",
        "    s1 = \"***\"\n",
        "    s2 = \"* *\"\n",
        "    # print(s1)\n",
        "    # print(s2)\n",
        "    # print(s1)\n",
        "    return\n",
        "  else:\n",
        "    s1\n",
        "\n"
      ],
      "execution_count": null,
      "outputs": [
        {
          "output_type": "stream",
          "text": [
            "***\n",
            "* *\n",
            "******\n",
            "* *\n",
            "******\n",
            "* *\n",
            "***\n",
            "***\n",
            "* *\n",
            "*** ***\n",
            "* *\n",
            "***\n",
            "***\n",
            "* *\n",
            "******\n",
            "* *\n",
            "******\n",
            "* *\n",
            "***\n",
            "\n"
          ],
          "name": "stdout"
        }
      ]
    },
    {
      "cell_type": "code",
      "metadata": {
        "colab": {
          "base_uri": "https://localhost:8080/"
        },
        "id": "vlwFn8I4dHQw",
        "outputId": "bc5aae90-9a9a-4335-d233-a2ea053017a8"
      },
      "source": [
        "s = \"\"\"***\n",
        "* *\n",
        "***\"\"\"\n",
        "\n",
        "s2 = \"\"\"{}{}{}\n",
        "\"\"\".format(s,s,s)\n",
        "print(s2)"
      ],
      "execution_count": null,
      "outputs": [
        {
          "output_type": "stream",
          "text": [
            "***\n",
            "* *\n",
            "******\n",
            "* *\n",
            "******\n",
            "* *\n",
            "***\n",
            "\n"
          ],
          "name": "stdout"
        }
      ]
    },
    {
      "cell_type": "code",
      "metadata": {
        "colab": {
          "base_uri": "https://localhost:8080/"
        },
        "id": "dgIKrMUmRId7",
        "outputId": "362b00fb-98bf-430f-fbd6-ae7c76a243f5"
      },
      "source": [
        "#4 하노이 탑 이동 순서 - 11729\n",
        "#답 봄..\n",
        "# f(2) = 12,13,21 - 3\n",
        "# f(3) = 13,12,32,13,21,23,13 - 7\n",
        "# f(4) = 12,13,23,12,31,32,12,13, 23,21,31,23,12,13,23 - 15\n",
        "# f(n) = f(n-1)*2 + 1\n",
        "def hanoi(n,a,b,c):\n",
        "  if n == 1:\n",
        "    print(a,c)\n",
        "  else:\n",
        "    hanoi(n-1,a,c,b)\n",
        "    print(a,c)\n",
        "    hanoi(n-1,b,a,c)\n",
        "n = int(input())\n",
        "sum = 1\n",
        "for i in range(n-1):\n",
        "  sum = 2*sum + 1\n",
        "print(sum)\n",
        "hanoi(n,1,2,3)"
      ],
      "execution_count": null,
      "outputs": [
        {
          "output_type": "stream",
          "text": [
            "3\n",
            "7\n",
            "1 3\n",
            "1 2\n",
            "3 2\n",
            "1 3\n",
            "2 1\n",
            "2 3\n",
            "1 3\n"
          ],
          "name": "stdout"
        }
      ]
    }
  ]
}