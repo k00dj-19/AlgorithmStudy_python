{
  "nbformat": 4,
  "nbformat_minor": 0,
  "metadata": {
    "colab": {
      "name": "baekjoon_입출력.ipynb",
      "provenance": [],
      "collapsed_sections": [],
      "authorship_tag": "ABX9TyOKrle/ROE7tKkRN/fmziyc",
      "include_colab_link": true
    },
    "kernelspec": {
      "name": "python3",
      "display_name": "Python 3"
    },
    "language_info": {
      "name": "python"
    }
  },
  "cells": [
    {
      "cell_type": "markdown",
      "metadata": {
        "id": "view-in-github",
        "colab_type": "text"
      },
      "source": [
        "<a href=\"https://colab.research.google.com/github/k00dj-19/AlgorithmStudy_python/blob/master/baekjoon_%EC%9E%85%EC%B6%9C%EB%A0%A5.ipynb\" target=\"_parent\"><img src=\"https://colab.research.google.com/assets/colab-badge.svg\" alt=\"Open In Colab\"/></a>"
      ]
    },
    {
      "cell_type": "code",
      "metadata": {
        "colab": {
          "base_uri": "https://localhost:8080/"
        },
        "id": "0exhXnMbVUJW",
        "outputId": "01f8bbd8-8985-4cf0-81cc-49cbcacb3247"
      },
      "source": [
        "# 열 개씩 끊어 출력하기 - 11721\n",
        "s = input()\n",
        "count = 0\n",
        "for i in s:\n",
        "  if count%10 == 0 and count != 0:\n",
        "    print()\n",
        "  print(i, end=\"\")\n",
        "  count += 1"
      ],
      "execution_count": 3,
      "outputs": [
        {
          "output_type": "stream",
          "text": [
            "OneTwoThreeFourFiveSixSevenEightNineTen\n",
            "OneTwoThre\n",
            "eFourFiveS\n",
            "ixSevenEig\n",
            "htNineTen"
          ],
          "name": "stdout"
        }
      ]
    },
    {
      "cell_type": "code",
      "metadata": {
        "colab": {
          "base_uri": "https://localhost:8080/"
        },
        "id": "bj1OjOMVX0Pf",
        "outputId": "250f6a72-5771-438e-cd61-a621052a57ec"
      },
      "source": [
        "# 2007년 - 1924\n",
        "mon = [31,28,31,30,31,30,31,31,30,31,30,31]\n",
        "day = ['SUN', 'MON', 'TUE', 'WED', 'THU', 'FRI', 'SAT']\n",
        "x,y = map(int,input().split())\n",
        "count = 0\n",
        "for i in range(1,x):\n",
        "  count += mon[i-1]\n",
        "count += y\n",
        "print(day[count%7])"
      ],
      "execution_count": 8,
      "outputs": [
        {
          "output_type": "stream",
          "text": [
            "12 25\n",
            "TUE\n"
          ],
          "name": "stdout"
        }
      ]
    },
    {
      "cell_type": "code",
      "metadata": {
        "colab": {
          "base_uri": "https://localhost:8080/"
        },
        "id": "Rc_gFIdLZ87-",
        "outputId": "f411c7f6-12fd-42a1-e30c-73ee145700da"
      },
      "source": [
        "# 별 찍기(3) - 2440\n",
        "for i in range(int(input()), 0, -1):\n",
        "  print('*'*i)"
      ],
      "execution_count": 19,
      "outputs": [
        {
          "output_type": "stream",
          "text": [
            "5\n",
            "*****\n",
            " ****\n",
            "  ***\n",
            "   **\n",
            "    *\n"
          ],
          "name": "stdout"
        }
      ]
    },
    {
      "cell_type": "code",
      "metadata": {
        "id": "rFmUXjiUakwf"
      },
      "source": [
        "# 별 찍기(4) - 2441\n",
        "n = int(input())\n",
        "for i in range(n, 0, -1):\n",
        "  print(\" \"*(n-i) + \"*\"*i)"
      ],
      "execution_count": null,
      "outputs": []
    },
    {
      "cell_type": "code",
      "metadata": {
        "colab": {
          "base_uri": "https://localhost:8080/"
        },
        "id": "gARa8yf_bqDU",
        "outputId": "476efe96-748b-45d3-897b-ea0f1a8e110a"
      },
      "source": [
        "# 별 찍기(5) - 2442\n",
        "n = int(input())\n",
        "for i in range(1,n+1):\n",
        "  print(\" \"*(n-i)+ \"*\"*(i*2-1))"
      ],
      "execution_count": 41,
      "outputs": [
        {
          "output_type": "stream",
          "text": [
            "5\n",
            "    *\n",
            "   ***\n",
            "  *****\n",
            " *******\n",
            "*********\n"
          ],
          "name": "stdout"
        }
      ]
    },
    {
      "cell_type": "code",
      "metadata": {
        "colab": {
          "base_uri": "https://localhost:8080/"
        },
        "id": "apYlJRGYfXSU",
        "outputId": "e0b6376f-6a96-4447-9a81-01d54102ff08"
      },
      "source": [
        "# 별 찍기(8) - 2445\n",
        "n = int(input())\n",
        "for i in range(1,n*2):\n",
        "  if i <=n:\n",
        "    print(\"*\"*i + \" \"*(n-i)*2 + \"*\"*i)\n",
        "  else:\n",
        "    print(\"*\"*(2*n-i) + \" \"*(i-n)*2 + \"*\"*(2*n-i))"
      ],
      "execution_count": 43,
      "outputs": [
        {
          "output_type": "stream",
          "text": [
            "6\n",
            "*          *\n",
            "**        **\n",
            "***      ***\n",
            "****    ****\n",
            "*****  *****\n",
            "************\n",
            "*****  *****\n",
            "****    ****\n",
            "***      ***\n",
            "**        **\n",
            "*          *\n"
          ],
          "name": "stdout"
        }
      ]
    },
    {
      "cell_type": "code",
      "metadata": {
        "colab": {
          "base_uri": "https://localhost:8080/"
        },
        "id": "EJlRts4ahkRi",
        "outputId": "e8452389-c2b6-4bba-db67-87f4cfb92cae"
      },
      "source": [
        "# 별 찍기(9) - 2446\n",
        "n = int(input())\n",
        "for i in range(1,n*2):\n",
        "  if i <= n:\n",
        "    print(\" \"*(i-1) + \"*\"*((n-i+1)*2-1))\n",
        "  else:\n",
        "    print(\" \"*(2*n-i-1) + \"*\"*((i-n+1)*2-1))"
      ],
      "execution_count": 48,
      "outputs": [
        {
          "output_type": "stream",
          "text": [
            "5\n",
            "*********\n",
            " *******\n",
            "  *****\n",
            "   ***\n",
            "    *\n",
            "   ***\n",
            "  *****\n",
            " *******\n",
            "*********\n"
          ],
          "name": "stdout"
        }
      ]
    },
    {
      "cell_type": "code",
      "metadata": {
        "colab": {
          "base_uri": "https://localhost:8080/"
        },
        "id": "Nxom4rXCg2q3",
        "outputId": "fcc48110-7673-4b25-dcbf-33a00777d409"
      },
      "source": [
        "# 별 찍기(12) - 2522\n",
        "n = int(input())\n",
        "for i in range(1,n*2):\n",
        "  if i <= n:\n",
        "    print(\" \"*(n-i) + \"*\"*i)\n",
        "  else:\n",
        "    print(\" \"*(i-n) + \"*\"*(2*n-i))"
      ],
      "execution_count": 45,
      "outputs": [
        {
          "output_type": "stream",
          "text": [
            "5\n",
            "    *\n",
            "   **\n",
            "  ***\n",
            " ****\n",
            "*****\n",
            " ****\n",
            "  ***\n",
            "   **\n",
            "    *\n"
          ],
          "name": "stdout"
        }
      ]
    },
    {
      "cell_type": "code",
      "metadata": {
        "colab": {
          "base_uri": "https://localhost:8080/"
        },
        "id": "ndQ4msanizJk",
        "outputId": "4aff6847-26f4-4cdd-8fd4-4b894baba086"
      },
      "source": [
        "# 별 찍기(16) - 10991\n",
        "def star(x, N, arr):\n",
        "  if x >= 1:\n",
        "    s = \" \"*(N-x)\n",
        "    for i in range(1,x*2):\n",
        "      if i%2 == 1:\n",
        "        s += \"*\"\n",
        "      else :\n",
        "        s += \" \"\n",
        "    arr.append(s)\n",
        "    star(x-1, N, arr)\n",
        "\n",
        "n = int(input())\n",
        "arr = []\n",
        "star(n,n,arr)\n",
        "for i in arr[::-1]:\n",
        "  print(i)\n",
        "\n"
      ],
      "execution_count": 51,
      "outputs": [
        {
          "output_type": "stream",
          "text": [
            "5\n",
            "    *\n",
            "   * *\n",
            "  * * *\n",
            " * * * *\n",
            "* * * * *\n"
          ],
          "name": "stdout"
        }
      ]
    },
    {
      "cell_type": "code",
      "metadata": {
        "colab": {
          "base_uri": "https://localhost:8080/"
        },
        "id": "JtpYwCIsj2Bm",
        "outputId": "a41c8344-39a4-4f97-b06f-36d14583bdee"
      },
      "source": [
        "# 별 찍기(17) - 10992\n",
        "n = int(input())\n",
        "print(\" \"*(n-1) + \"*\")\n",
        "for i in range(2,n):\n",
        "    print(\" \"*(n-i) + \"*\" + \" \"*((i-1)*2-1) + \"*\")\n",
        "if n !=1 :\n",
        "  print(\"*\"*(2*n-1))\n"
      ],
      "execution_count": 64,
      "outputs": [
        {
          "output_type": "stream",
          "text": [
            "3\n",
            "  *\n",
            " * *\n",
            "*****\n"
          ],
          "name": "stdout"
        }
      ]
    }
  ]
}