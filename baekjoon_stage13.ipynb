{
  "nbformat": 4,
  "nbformat_minor": 0,
  "metadata": {
    "colab": {
      "name": "baekjoon_stage13.ipynb",
      "provenance": [],
      "authorship_tag": "ABX9TyPkuil5U54AUwYiUVlu0sqH",
      "include_colab_link": true
    },
    "kernelspec": {
      "name": "python3",
      "display_name": "Python 3"
    },
    "language_info": {
      "name": "python"
    }
  },
  "cells": [
    {
      "cell_type": "markdown",
      "metadata": {
        "id": "view-in-github",
        "colab_type": "text"
      },
      "source": [
        "<a href=\"https://colab.research.google.com/github/k00dj-19/AlgorithmStudy_python/blob/master/baekjoon_stage13.ipynb\" target=\"_parent\"><img src=\"https://colab.research.google.com/assets/colab-badge.svg\" alt=\"Open In Colab\"/></a>"
      ]
    },
    {
      "cell_type": "markdown",
      "metadata": {
        "id": "3fWujqD9_W48"
      },
      "source": [
        "백트래킹"
      ]
    },
    {
      "cell_type": "code",
      "metadata": {
        "id": "Dr9ydxMm_ZGW"
      },
      "source": [
        "#1 N과 M(1) - 15649\n",
        "def backtracking(n,m):\n",
        "\n",
        "\n",
        "  \n",
        "  if m == 1:\n",
        "  else:\n",
        "    m = m-1\n",
        "\n",
        "N,M = map(int,input().split())\n",
        "\n",
        "for i in range(1,N+1):\n",
        "  for j in range(1,N+1)"
      ],
      "execution_count": null,
      "outputs": []
    }
  ]
}