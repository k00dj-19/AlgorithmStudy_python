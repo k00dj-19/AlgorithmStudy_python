{
  "nbformat": 4,
  "nbformat_minor": 0,
  "metadata": {
    "colab": {
      "name": "이것이 취업을 위한 코딩테스트다 with 파이썬.ipynb",
      "provenance": [],
      "authorship_tag": "ABX9TyO2qLh6gsLCC/NgZOwS9K83",
      "include_colab_link": true
    },
    "kernelspec": {
      "name": "python3",
      "display_name": "Python 3"
    },
    "language_info": {
      "name": "python"
    }
  },
  "cells": [
    {
      "cell_type": "markdown",
      "metadata": {
        "id": "view-in-github",
        "colab_type": "text"
      },
      "source": [
        "<a href=\"https://colab.research.google.com/github/k00dj-19/AlgorithmStudy_python/blob/master/%EC%9D%B4%EA%B2%83%EC%9D%B4_%EC%B7%A8%EC%97%85%EC%9D%84_%EC%9C%84%ED%95%9C_%EC%BD%94%EB%94%A9%ED%85%8C%EC%8A%A4%ED%8A%B8%EB%8B%A4_with_%ED%8C%8C%EC%9D%B4%EC%8D%AC.ipynb\" target=\"_parent\"><img src=\"https://colab.research.google.com/assets/colab-badge.svg\" alt=\"Open In Colab\"/></a>"
      ]
    },
    {
      "cell_type": "markdown",
      "metadata": {
        "id": "R6TBIRYVniwg"
      },
      "source": [
        "# Chapter 04 구현"
      ]
    },
    {
      "cell_type": "code",
      "metadata": {
        "colab": {
          "base_uri": "https://localhost:8080/"
        },
        "id": "ZecULSyUnyoc",
        "outputId": "771da5c2-3a67-4a54-df0d-327e7451033e"
      },
      "source": [
        "# 왕실의 나이트 p.115\n",
        "input_data = input()\n",
        "col = int(ord(input_data[0]))   # a : 97 , h : 104\n",
        "row = int(input_data[1])\n",
        "count = 0\n",
        "step_list = [(-2,-1),(-2,1),(2,-1),(2,1),(-1,-2),(-1,2),(1,-2),(1,2)]\n",
        "for i,j in step_list:\n",
        "  n_col = col + i\n",
        "  n_row = row + j\n",
        "  if n_col < 97 or n_col > 104 or n_row < 1 or n_row > 8:\n",
        "    continue\n",
        "  count += 1\n",
        "print(count)\n"
      ],
      "execution_count": null,
      "outputs": [
        {
          "output_type": "stream",
          "text": [
            "d3\n",
            "8\n"
          ],
          "name": "stdout"
        }
      ]
    },
    {
      "cell_type": "code",
      "metadata": {
        "colab": {
          "base_uri": "https://localhost:8080/"
        },
        "id": "cxsDW4Rgo5vz",
        "outputId": "292c66d4-8391-41dc-bb71-418d9673b768"
      },
      "source": [
        "# 게임 개발 p.118\n",
        "N,M = map(int, input().split())\n",
        "map_arr = [] #[0 for _ in range(N)] for _ in range(M)\n",
        "x, y, d = map(int, input().split())  # x,y : 첫 위치 / d : 바라보고 있는 방향 - 0:북, 1:동, 2:남, 3:서\n",
        "for i in range(M):\n",
        "  map_arr.append(list(map(int,input().split())))\n",
        "dx = [0,1,0,-1]\n",
        "dy = [1,0,-1,0]\n",
        "count = 1 # 지나간 칸의 개수\n",
        "map_arr[x][y] = 1   # 시작 위치도 이미 지나간 칸 이므로 1로 초기화\n",
        "d_count = 0 # 방향 회전한 횟수 4보다 커지면 네 방향 모두 이미 가본 칸\n",
        "while True :\n",
        "  d = d-1 # 왼쪽 방향을 바라봄\n",
        "  d_count += 1\n",
        "  if d < 0 : d = 3\n",
        "\n",
        "  # 네 방향 모두 갈 수 없는 경우\n",
        "  if d_count > 4 :\n",
        "    back_d = d + 2 if d < 2 else d - 2\n",
        "    back_x = x + dx[back_d]\n",
        "    back_y = y + dy[back_d]     \n",
        "    # 뒤 쪽도 바다인 경우 \n",
        "    if map_arr[back_x][back_y] == 1:\n",
        "      break\n",
        "    else :\n",
        "      x = back_x\n",
        "      y = back_y\n",
        "      d_count = 0\n",
        "    \n",
        "  nx = x + dx[d] # 바라보고 있는 방향의 왼쪽 방향\n",
        "  ny = y + dy[d]\n",
        "\n",
        "  if 0 <= nx < N and 0 <= ny < M and map_arr[nx][ny] == 0 :\n",
        "    x = nx\n",
        "    y = ny\n",
        "    map_arr[x][y] = 1\n",
        "    count += 1\n",
        "    d_count = 0\n",
        "  for i in map_arr:\n",
        "    print(i)\n",
        "print(count)"
      ],
      "execution_count": null,
      "outputs": [
        {
          "output_type": "stream",
          "text": [
            "4 4\n",
            "1 1 0\n",
            "1 1 1 1\n",
            "1 0 0 1\n",
            "1 1 0 1\n",
            "1 1 1 1 \n",
            "[1, 1, 1, 1]\n",
            "[1, 0, 0, 1]\n",
            "[1, 1, 0, 1]\n",
            "[1, 1, 1, 1]\n",
            "[1, 1, 1, 1]\n",
            "[1, 0, 0, 1]\n",
            "[1, 1, 0, 1]\n",
            "[1, 1, 1, 1]\n",
            "[1, 1, 1, 1]\n",
            "[1, 0, 0, 1]\n",
            "[1, 1, 0, 1]\n",
            "[1, 1, 1, 1]\n",
            "[1, 1, 1, 1]\n",
            "[1, 0, 1, 1]\n",
            "[1, 1, 0, 1]\n",
            "[1, 1, 1, 1]\n",
            "[1, 1, 1, 1]\n",
            "[1, 0, 1, 1]\n",
            "[1, 1, 0, 1]\n",
            "[1, 1, 1, 1]\n",
            "[1, 1, 1, 1]\n",
            "[1, 1, 1, 1]\n",
            "[1, 1, 0, 1]\n",
            "[1, 1, 1, 1]\n",
            "[1, 1, 1, 1]\n",
            "[1, 1, 1, 1]\n",
            "[1, 1, 0, 1]\n",
            "[1, 1, 1, 1]\n",
            "[1, 1, 1, 1]\n",
            "[1, 1, 1, 1]\n",
            "[1, 1, 0, 1]\n",
            "[1, 1, 1, 1]\n",
            "[1, 1, 1, 1]\n",
            "[1, 1, 1, 1]\n",
            "[1, 1, 0, 1]\n",
            "[1, 1, 1, 1]\n",
            "[1, 1, 1, 1]\n",
            "[1, 1, 1, 1]\n",
            "[1, 1, 0, 1]\n",
            "[1, 1, 1, 1]\n",
            "3\n"
          ],
          "name": "stdout"
        }
      ]
    },
    {
      "cell_type": "markdown",
      "metadata": {
        "id": "eKnP0oPi4NGa"
      },
      "source": [
        "# Chapter 05 DFS/BFS"
      ]
    },
    {
      "cell_type": "code",
      "metadata": {
        "colab": {
          "base_uri": "https://localhost:8080/",
          "height": 556
        },
        "id": "OpmWHMg-4Umy",
        "outputId": "ebab55f9-a605-4675-e0de-792c43fdfb77"
      },
      "source": [
        "# 음료수 열려 먹기 p.149\n",
        "import sys\n",
        "print(sys.getrecursionlimit())\n",
        "sys.setrecursionlimit(15000)\n",
        "N, M= map(int,input().split())\n",
        "ice_frame = []\n",
        "for _ in range(N):\n",
        "  ice_frame.append(list(map(int,input())))\n",
        "print(ice_frame)\n",
        "# DFS로 특정한 노드를 방문한 뒤에 연결된 모든 노드들도 방문\n",
        "def dfs(x,y):\n",
        "  if x < 0 or x >=N or y < 0 or y >=M:\n",
        "    return False\n",
        "  if ice_frame[x][y] == 0 :\n",
        "    ice_frame[x][y] == 1\n",
        "    dfs(x-1,y)\n",
        "    dfs(x,y-1)\n",
        "    dfs(x+1,y)\n",
        "    dfs(x,y+1)\n",
        "    return True\n",
        "  return False\n",
        "\n",
        "result = 0\n",
        "for i in range(N):\n",
        "  for j in range(M):\n",
        "    if dfs(i,j) == True:\n",
        "      result += 1\n",
        "print(result)"
      ],
      "execution_count": null,
      "outputs": [
        {
          "output_type": "stream",
          "text": [
            "1500\n",
            "4 5\n",
            "00110\n",
            "00011\n",
            "11111\n",
            "00000\n",
            "[[0, 0, 1, 1, 0], [0, 0, 0, 1, 1], [1, 1, 1, 1, 1], [0, 0, 0, 0, 0]]\n"
          ],
          "name": "stdout"
        },
        {
          "output_type": "error",
          "ename": "RecursionError",
          "evalue": "ignored",
          "traceback": [
            "\u001b[0;31m---------------------------------------------------------------------------\u001b[0m",
            "\u001b[0;31mRecursionError\u001b[0m                            Traceback (most recent call last)",
            "\u001b[0;32m<ipython-input-10-67f250c8f460>\u001b[0m in \u001b[0;36m<module>\u001b[0;34m()\u001b[0m\n\u001b[1;32m     24\u001b[0m \u001b[0;32mfor\u001b[0m \u001b[0mi\u001b[0m \u001b[0;32min\u001b[0m \u001b[0mrange\u001b[0m\u001b[0;34m(\u001b[0m\u001b[0mN\u001b[0m\u001b[0;34m)\u001b[0m\u001b[0;34m:\u001b[0m\u001b[0;34m\u001b[0m\u001b[0;34m\u001b[0m\u001b[0m\n\u001b[1;32m     25\u001b[0m   \u001b[0;32mfor\u001b[0m \u001b[0mj\u001b[0m \u001b[0;32min\u001b[0m \u001b[0mrange\u001b[0m\u001b[0;34m(\u001b[0m\u001b[0mM\u001b[0m\u001b[0;34m)\u001b[0m\u001b[0;34m:\u001b[0m\u001b[0;34m\u001b[0m\u001b[0;34m\u001b[0m\u001b[0m\n\u001b[0;32m---> 26\u001b[0;31m     \u001b[0;32mif\u001b[0m \u001b[0mdfs\u001b[0m\u001b[0;34m(\u001b[0m\u001b[0mi\u001b[0m\u001b[0;34m,\u001b[0m\u001b[0mj\u001b[0m\u001b[0;34m)\u001b[0m \u001b[0;34m==\u001b[0m \u001b[0;32mTrue\u001b[0m\u001b[0;34m:\u001b[0m\u001b[0;34m\u001b[0m\u001b[0;34m\u001b[0m\u001b[0m\n\u001b[0m\u001b[1;32m     27\u001b[0m       \u001b[0mresult\u001b[0m \u001b[0;34m+=\u001b[0m \u001b[0;36m1\u001b[0m\u001b[0;34m\u001b[0m\u001b[0;34m\u001b[0m\u001b[0m\n\u001b[1;32m     28\u001b[0m \u001b[0mprint\u001b[0m\u001b[0;34m(\u001b[0m\u001b[0mresult\u001b[0m\u001b[0;34m)\u001b[0m\u001b[0;34m\u001b[0m\u001b[0;34m\u001b[0m\u001b[0m\n",
            "\u001b[0;32m<ipython-input-10-67f250c8f460>\u001b[0m in \u001b[0;36mdfs\u001b[0;34m(x, y)\u001b[0m\n\u001b[1;32m     16\u001b[0m     \u001b[0mdfs\u001b[0m\u001b[0;34m(\u001b[0m\u001b[0mx\u001b[0m\u001b[0;34m-\u001b[0m\u001b[0;36m1\u001b[0m\u001b[0;34m,\u001b[0m\u001b[0my\u001b[0m\u001b[0;34m)\u001b[0m\u001b[0;34m\u001b[0m\u001b[0;34m\u001b[0m\u001b[0m\n\u001b[1;32m     17\u001b[0m     \u001b[0mdfs\u001b[0m\u001b[0;34m(\u001b[0m\u001b[0mx\u001b[0m\u001b[0;34m,\u001b[0m\u001b[0my\u001b[0m\u001b[0;34m-\u001b[0m\u001b[0;36m1\u001b[0m\u001b[0;34m)\u001b[0m\u001b[0;34m\u001b[0m\u001b[0;34m\u001b[0m\u001b[0m\n\u001b[0;32m---> 18\u001b[0;31m     \u001b[0mdfs\u001b[0m\u001b[0;34m(\u001b[0m\u001b[0mx\u001b[0m\u001b[0;34m+\u001b[0m\u001b[0;36m1\u001b[0m\u001b[0;34m,\u001b[0m\u001b[0my\u001b[0m\u001b[0;34m)\u001b[0m\u001b[0;34m\u001b[0m\u001b[0;34m\u001b[0m\u001b[0m\n\u001b[0m\u001b[1;32m     19\u001b[0m     \u001b[0mdfs\u001b[0m\u001b[0;34m(\u001b[0m\u001b[0mx\u001b[0m\u001b[0;34m,\u001b[0m\u001b[0my\u001b[0m\u001b[0;34m+\u001b[0m\u001b[0;36m1\u001b[0m\u001b[0;34m)\u001b[0m\u001b[0;34m\u001b[0m\u001b[0;34m\u001b[0m\u001b[0m\n\u001b[1;32m     20\u001b[0m     \u001b[0;32mreturn\u001b[0m \u001b[0;32mTrue\u001b[0m\u001b[0;34m\u001b[0m\u001b[0;34m\u001b[0m\u001b[0m\n",
            "\u001b[0;32m<ipython-input-10-67f250c8f460>\u001b[0m in \u001b[0;36mdfs\u001b[0;34m(x, y)\u001b[0m\n\u001b[1;32m     14\u001b[0m   \u001b[0;32mif\u001b[0m \u001b[0mice_frame\u001b[0m\u001b[0;34m[\u001b[0m\u001b[0mx\u001b[0m\u001b[0;34m]\u001b[0m\u001b[0;34m[\u001b[0m\u001b[0my\u001b[0m\u001b[0;34m]\u001b[0m \u001b[0;34m==\u001b[0m \u001b[0;36m0\u001b[0m \u001b[0;34m:\u001b[0m\u001b[0;34m\u001b[0m\u001b[0;34m\u001b[0m\u001b[0m\n\u001b[1;32m     15\u001b[0m     \u001b[0mice_frame\u001b[0m\u001b[0;34m[\u001b[0m\u001b[0mx\u001b[0m\u001b[0;34m]\u001b[0m\u001b[0;34m[\u001b[0m\u001b[0my\u001b[0m\u001b[0;34m]\u001b[0m \u001b[0;34m==\u001b[0m \u001b[0;36m1\u001b[0m\u001b[0;34m\u001b[0m\u001b[0;34m\u001b[0m\u001b[0m\n\u001b[0;32m---> 16\u001b[0;31m     \u001b[0mdfs\u001b[0m\u001b[0;34m(\u001b[0m\u001b[0mx\u001b[0m\u001b[0;34m-\u001b[0m\u001b[0;36m1\u001b[0m\u001b[0;34m,\u001b[0m\u001b[0my\u001b[0m\u001b[0;34m)\u001b[0m\u001b[0;34m\u001b[0m\u001b[0;34m\u001b[0m\u001b[0m\n\u001b[0m\u001b[1;32m     17\u001b[0m     \u001b[0mdfs\u001b[0m\u001b[0;34m(\u001b[0m\u001b[0mx\u001b[0m\u001b[0;34m,\u001b[0m\u001b[0my\u001b[0m\u001b[0;34m-\u001b[0m\u001b[0;36m1\u001b[0m\u001b[0;34m)\u001b[0m\u001b[0;34m\u001b[0m\u001b[0;34m\u001b[0m\u001b[0m\n\u001b[1;32m     18\u001b[0m     \u001b[0mdfs\u001b[0m\u001b[0;34m(\u001b[0m\u001b[0mx\u001b[0m\u001b[0;34m+\u001b[0m\u001b[0;36m1\u001b[0m\u001b[0;34m,\u001b[0m\u001b[0my\u001b[0m\u001b[0;34m)\u001b[0m\u001b[0;34m\u001b[0m\u001b[0;34m\u001b[0m\u001b[0m\n",
            "... last 2 frames repeated, from the frame below ...\n",
            "\u001b[0;32m<ipython-input-10-67f250c8f460>\u001b[0m in \u001b[0;36mdfs\u001b[0;34m(x, y)\u001b[0m\n\u001b[1;32m     16\u001b[0m     \u001b[0mdfs\u001b[0m\u001b[0;34m(\u001b[0m\u001b[0mx\u001b[0m\u001b[0;34m-\u001b[0m\u001b[0;36m1\u001b[0m\u001b[0;34m,\u001b[0m\u001b[0my\u001b[0m\u001b[0;34m)\u001b[0m\u001b[0;34m\u001b[0m\u001b[0;34m\u001b[0m\u001b[0m\n\u001b[1;32m     17\u001b[0m     \u001b[0mdfs\u001b[0m\u001b[0;34m(\u001b[0m\u001b[0mx\u001b[0m\u001b[0;34m,\u001b[0m\u001b[0my\u001b[0m\u001b[0;34m-\u001b[0m\u001b[0;36m1\u001b[0m\u001b[0;34m)\u001b[0m\u001b[0;34m\u001b[0m\u001b[0;34m\u001b[0m\u001b[0m\n\u001b[0;32m---> 18\u001b[0;31m     \u001b[0mdfs\u001b[0m\u001b[0;34m(\u001b[0m\u001b[0mx\u001b[0m\u001b[0;34m+\u001b[0m\u001b[0;36m1\u001b[0m\u001b[0;34m,\u001b[0m\u001b[0my\u001b[0m\u001b[0;34m)\u001b[0m\u001b[0;34m\u001b[0m\u001b[0;34m\u001b[0m\u001b[0m\n\u001b[0m\u001b[1;32m     19\u001b[0m     \u001b[0mdfs\u001b[0m\u001b[0;34m(\u001b[0m\u001b[0mx\u001b[0m\u001b[0;34m,\u001b[0m\u001b[0my\u001b[0m\u001b[0;34m+\u001b[0m\u001b[0;36m1\u001b[0m\u001b[0;34m)\u001b[0m\u001b[0;34m\u001b[0m\u001b[0;34m\u001b[0m\u001b[0m\n\u001b[1;32m     20\u001b[0m     \u001b[0;32mreturn\u001b[0m \u001b[0;32mTrue\u001b[0m\u001b[0;34m\u001b[0m\u001b[0;34m\u001b[0m\u001b[0m\n",
            "\u001b[0;31mRecursionError\u001b[0m: maximum recursion depth exceeded in comparison"
          ]
        }
      ]
    },
    {
      "cell_type": "code",
      "metadata": {
        "id": "Cx1tZgnx9du1",
        "colab": {
          "base_uri": "https://localhost:8080/"
        },
        "outputId": "b0934f40-2530-4997-cb22-541adedf1487"
      },
      "source": [
        "# 미로 탈출 p.152\n",
        "from collections import deque\n",
        "\n",
        "n, m = map(int,input().split())\n",
        "graph = []\n",
        "for _ in range(n):\n",
        "  graph.append(list(map(int, input())))\n",
        "print(graph)\n",
        "\n",
        "dx = [-1,1,0,0] # 상, 하, 좌, 우\n",
        "dy = [0,0,-1,1]\n",
        "\n",
        "\n",
        "def bfs(x,y):\n",
        "  queue = deque()\n",
        "  queue.append((x,y))\n",
        "  \n",
        "  count = 1\n",
        "  while queue:\n",
        "    # 큐에서 하나의 원소를 뽑아 값 +1\n",
        "    x, y = queue.popleft()\n",
        "\n",
        "    for i in range(4):\n",
        "      nx = x + dx[i]\n",
        "      ny = y + dy[i]\n",
        "      # nx,ny가 범위를 벗어난 경우\n",
        "      if nx < 0 or ny < 0 or nx >= n or ny >= m:\n",
        "        continue\n",
        "      if graph[nx][ny] == 0:\n",
        "        continue\n",
        "      if graph[nx][ny] == 1:\n",
        "        graph[nx][ny] = graph[x][y] + 1\n",
        "        queue.append((nx,ny))\n",
        "  return graph[n-1][m-1]\n",
        "\n",
        "print(bfs(0,0))"
      ],
      "execution_count": 7,
      "outputs": [
        {
          "output_type": "stream",
          "text": [
            "5 6\n",
            "101010\n",
            "111111\n",
            "000001\n",
            "111111\n",
            "111111\n",
            "[[1, 0, 1, 0, 1, 0], [1, 1, 1, 1, 1, 1], [0, 0, 0, 0, 0, 1], [1, 1, 1, 1, 1, 1], [1, 1, 1, 1, 1, 1]]\n",
            "10\n"
          ],
          "name": "stdout"
        }
      ]
    },
    {
      "cell_type": "code",
      "metadata": {
        "colab": {
          "base_uri": "https://localhost:8080/"
        },
        "id": "94kleY9MZSWC",
        "outputId": "dbdd68ed-a9a4-4f23-8e89-e94bb3d4dff2"
      },
      "source": [
        "s = (1,2)\n",
        "print(s[0])\n",
        "print(s[1])"
      ],
      "execution_count": 4,
      "outputs": [
        {
          "output_type": "stream",
          "text": [
            "1\n",
            "2\n"
          ],
          "name": "stdout"
        }
      ]
    }
  ]
}