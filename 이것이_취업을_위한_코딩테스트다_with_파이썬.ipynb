{
  "nbformat": 4,
  "nbformat_minor": 0,
  "metadata": {
    "colab": {
      "name": "이것이 취업을 위한 코딩테스트다 with 파이썬.ipynb",
      "provenance": [],
      "collapsed_sections": [
        "R6TBIRYVniwg",
        "eKnP0oPi4NGa",
        "irdRuKkR-So4",
        "cO6s87e5hoWT",
        "gbCLf4Njiw5s",
        "M6mb5N01at6u",
        "ePBfYxUV6Xrr",
        "uAuRXW0pA68u",
        "UpI0-E90TMhx"
      ],
      "authorship_tag": "ABX9TyPDqVLnAPYuUI3qLuM+r8r4",
      "include_colab_link": true
    },
    "kernelspec": {
      "name": "python3",
      "display_name": "Python 3"
    },
    "language_info": {
      "name": "python"
    }
  },
  "cells": [
    {
      "cell_type": "markdown",
      "metadata": {
        "id": "view-in-github",
        "colab_type": "text"
      },
      "source": [
        "<a href=\"https://colab.research.google.com/github/k00dj-19/AlgorithmStudy_python/blob/master/%EC%9D%B4%EA%B2%83%EC%9D%B4_%EC%B7%A8%EC%97%85%EC%9D%84_%EC%9C%84%ED%95%9C_%EC%BD%94%EB%94%A9%ED%85%8C%EC%8A%A4%ED%8A%B8%EB%8B%A4_with_%ED%8C%8C%EC%9D%B4%EC%8D%AC.ipynb\" target=\"_parent\"><img src=\"https://colab.research.google.com/assets/colab-badge.svg\" alt=\"Open In Colab\"/></a>"
      ]
    },
    {
      "cell_type": "markdown",
      "metadata": {
        "id": "R6TBIRYVniwg"
      },
      "source": [
        "# Chapter 04. 구현"
      ]
    },
    {
      "cell_type": "code",
      "metadata": {
        "id": "ZecULSyUnyoc"
      },
      "source": [
        "# 왕실의 나이트 p.115\n",
        "input_data = input()\n",
        "col = int(ord(input_data[0]))   # a : 97 , h : 104\n",
        "row = int(input_data[1])\n",
        "count = 0\n",
        "step_list = [(-2,-1),(-2,1),(2,-1),(2,1),(-1,-2),(-1,2),(1,-2),(1,2)]\n",
        "for i,j in step_list:\n",
        "  n_col = col + i\n",
        "  n_row = row + j\n",
        "  if n_col < 97 or n_col > 104 or n_row < 1 or n_row > 8:\n",
        "    continue\n",
        "  count += 1\n",
        "print(count)\n"
      ],
      "execution_count": null,
      "outputs": []
    },
    {
      "cell_type": "code",
      "metadata": {
        "id": "cxsDW4Rgo5vz"
      },
      "source": [
        "# 게임 개발 p.118\n",
        "N,M = map(int, input().split())\n",
        "map_arr = [] #[0 for _ in range(N)] for _ in range(M)\n",
        "x, y, d = map(int, input().split())  # x,y : 첫 위치 / d : 바라보고 있는 방향 - 0:북, 1:동, 2:남, 3:서\n",
        "for i in range(M):\n",
        "  map_arr.append(list(map(int,input().split())))\n",
        "dx = [0,1,0,-1]\n",
        "dy = [1,0,-1,0]\n",
        "count = 1 # 지나간 칸의 개수\n",
        "map_arr[x][y] = 1   # 시작 위치도 이미 지나간 칸 이므로 1로 초기화\n",
        "d_count = 0 # 방향 회전한 횟수 4보다 커지면 네 방향 모두 이미 가본 칸\n",
        "while True :\n",
        "  d = d-1 # 왼쪽 방향을 바라봄\n",
        "  d_count += 1\n",
        "  if d < 0 : d = 3\n",
        "\n",
        "  # 네 방향 모두 갈 수 없는 경우\n",
        "  if d_count > 4 :\n",
        "    back_d = d + 2 if d < 2 else d - 2\n",
        "    back_x = x + dx[back_d]\n",
        "    back_y = y + dy[back_d]     \n",
        "    # 뒤 쪽도 바다인 경우 \n",
        "    if map_arr[back_x][back_y] == 1:\n",
        "      break\n",
        "    else :\n",
        "      x = back_x\n",
        "      y = back_y\n",
        "      d_count = 0\n",
        "    \n",
        "  nx = x + dx[d] # 바라보고 있는 방향의 왼쪽 방향\n",
        "  ny = y + dy[d]\n",
        "\n",
        "  if 0 <= nx < N and 0 <= ny < M and map_arr[nx][ny] == 0 :\n",
        "    x = nx\n",
        "    y = ny\n",
        "    map_arr[x][y] = 1\n",
        "    count += 1\n",
        "    d_count = 0\n",
        "  for i in map_arr:\n",
        "    print(i)\n",
        "print(count)"
      ],
      "execution_count": null,
      "outputs": []
    },
    {
      "cell_type": "markdown",
      "metadata": {
        "id": "eKnP0oPi4NGa"
      },
      "source": [
        "# Chapter 05. DFS/BFS"
      ]
    },
    {
      "cell_type": "code",
      "metadata": {
        "id": "OpmWHMg-4Umy"
      },
      "source": [
        "# 음료수 열려 먹기 p.149\n",
        "import sys\n",
        "print(sys.getrecursionlimit())\n",
        "sys.setrecursionlimit(15000)\n",
        "N, M= map(int,input().split())\n",
        "ice_frame = []\n",
        "for _ in range(N):\n",
        "  ice_frame.append(list(map(int,input())))\n",
        "print(ice_frame)\n",
        "# DFS로 특정한 노드를 방문한 뒤에 연결된 모든 노드들도 방문\n",
        "def dfs(x,y):\n",
        "  if x < 0 or x >=N or y < 0 or y >=M:\n",
        "    return False\n",
        "  if ice_frame[x][y] == 0 :\n",
        "    ice_frame[x][y] == 1\n",
        "    dfs(x-1,y)\n",
        "    dfs(x,y-1)\n",
        "    dfs(x+1,y)\n",
        "    dfs(x,y+1)\n",
        "    return True\n",
        "  return False\n",
        "\n",
        "result = 0\n",
        "for i in range(N):\n",
        "  for j in range(M):\n",
        "    if dfs(i,j) == True:\n",
        "      result += 1\n",
        "print(result)"
      ],
      "execution_count": null,
      "outputs": []
    },
    {
      "cell_type": "code",
      "metadata": {
        "id": "Cx1tZgnx9du1"
      },
      "source": [
        "# 미로 탈출 p.152\n",
        "from collections import deque\n",
        "\n",
        "n, m = map(int,input().split())\n",
        "graph = []\n",
        "for _ in range(n):\n",
        "  graph.append(list(map(int, input())))\n",
        "print(graph)\n",
        "\n",
        "dx = [-1,1,0,0] # 상, 하, 좌, 우\n",
        "dy = [0,0,-1,1]\n",
        "\n",
        "\n",
        "def bfs(x,y):\n",
        "  queue = deque()\n",
        "  queue.append((x,y))\n",
        "  \n",
        "  count = 1\n",
        "  while queue:\n",
        "    # 큐에서 하나의 원소를 뽑아 값 +1\n",
        "    x, y = queue.popleft()\n",
        "\n",
        "    for i in range(4):\n",
        "      nx = x + dx[i]\n",
        "      ny = y + dy[i]\n",
        "      # nx,ny가 범위를 벗어난 경우\n",
        "      if nx < 0 or ny < 0 or nx >= n or ny >= m:\n",
        "        continue\n",
        "      if graph[nx][ny] == 0:\n",
        "        continue\n",
        "      if graph[nx][ny] == 1:\n",
        "        graph[nx][ny] = graph[x][y] + 1\n",
        "        queue.append((nx,ny))\n",
        "  return graph[n-1][m-1]\n",
        "\n",
        "print(bfs(0,0))"
      ],
      "execution_count": null,
      "outputs": []
    },
    {
      "cell_type": "markdown",
      "metadata": {
        "id": "irdRuKkR-So4"
      },
      "source": [
        "# Chapter 06. 정렬"
      ]
    },
    {
      "cell_type": "code",
      "metadata": {
        "id": "heBkvlCnFhqX"
      },
      "source": [
        "array = [7,5,9,0,3,1,6,2,9,1,4,8,0,5,2]"
      ],
      "execution_count": null,
      "outputs": []
    },
    {
      "cell_type": "code",
      "metadata": {
        "id": "fAJmy5iR-c4i"
      },
      "source": [
        "# 선택 정렬 - O(N^2)\n",
        "import time\n",
        "#array = [5, 7, 9, 0, 3, 1, 6, 2, 4, 8]\n",
        "s = time.time()\n",
        "\n",
        "for i in range(len(array)):\n",
        "  min_idx = i   # 가장 작은 원소의 인덱스\n",
        "  for j in range(i+1, len(array)):\n",
        "    if array[j] < array[min_idx]:\n",
        "      min_idx = j\n",
        "  array[i], array[min_idx] = array[min_idx], array[i]  # swap\n",
        "print(array)\n",
        "f = time.time()\n",
        "print(f-s)"
      ],
      "execution_count": null,
      "outputs": []
    },
    {
      "cell_type": "code",
      "metadata": {
        "id": "z1iUFXvo_PFg"
      },
      "source": [
        "# 삽입 정렬 - O(N^2)\n",
        "import time\n",
        "#array = [5, 7, 9, 0, 3, 1, 6, 2, 4, 8]\n",
        "s = time.time()\n",
        "\n",
        "for i in range(1,len(array)):\n",
        "  for j in range(i,0,-1): # 인덱스 i부터 1까지 감소하며 반복하는 문법\n",
        "    if array[j] < array[j-1]: # 한칸씩 왼쪽으로 이동\n",
        "      array[j], array[j-1] = array[j-1], array[j]\n",
        "    else : # 자기보다 작은 데이터를 만나면 그 위치에서 멈춤\n",
        "      break\n",
        "print(array)\n",
        "f = time.time()\n",
        "print(f-s)"
      ],
      "execution_count": null,
      "outputs": []
    },
    {
      "cell_type": "code",
      "metadata": {
        "id": "JzSTdLa1AZU6"
      },
      "source": [
        "# 퀵 정렬 - 대중적 코드 - O(N*logN)\n",
        "import time\n",
        "#array = [5, 7, 9, 0, 3, 1, 6, 2, 4, 8]\n",
        "s = time.time()\n",
        "\n",
        "def quick_sort(array, start, end):\n",
        "  if start >= end:  # 원소가 1개인 경우 종료\n",
        "    return\n",
        "  pivot = start # 피벗은 첫 번째 원소\n",
        "  left = start + 1\n",
        "  right = end\n",
        "  while left <= right:\n",
        "    # 피벗보다 큰 데이터를 찾을 때까지 반복\n",
        "    while left <= end and array[left] <= array[pivot]:\n",
        "      left += 1\n",
        "    # 피벗보다 작은 데이터를 찾을 때까지 반복\n",
        "    while right > start and array[right] >= array[pivot]:\n",
        "      right -= 1\n",
        "    if left > right : # 엇갈렸다면 작은 데이터와 피벗을 교체\n",
        "      array[right], array[pivot] = array[pivot], array[right]\n",
        "    else: # 엇갈리지 않았다면 작은 데이터와 큰 데이터를 교체\n",
        "      array[left], array[right] = array[right], array[left]\n",
        "  # 분할 이후 왼쪽 부분과 오른쪽 부분에서 각각 정렬 수행\n",
        "  quick_sort(array, start, right-1)\n",
        "  quick_sort(array, right+1, end)\n",
        "\n",
        "quick_sort(array, 0, len(array)-1)\n",
        "print(array)\n",
        "f = time.time()\n",
        "print(f-s)"
      ],
      "execution_count": null,
      "outputs": []
    },
    {
      "cell_type": "code",
      "metadata": {
        "id": "L93ZWR6yC6U3"
      },
      "source": [
        "# 퀵 정렬 - 파이썬의 장점을 살려서\n",
        "import time\n",
        "#array = [5, 7, 9, 0, 3, 1, 6, 2, 4, 8]\n",
        "s = time.time()\n",
        "def quick_sort2(array):\n",
        "  # 리스트가 하나 이하의 원소만을 담고 있다면 종료\n",
        "  if len(array) <= 1:\n",
        "    return array\n",
        "  \n",
        "  pivot = array[0] # 피벗은 첫 번째 원소\n",
        "  tail = array[1:] # 피벗을 제외한 리스트\n",
        "\n",
        "  left_side = [x for x in tail if x <= pivot] # 분할된 왼쪽 부분\n",
        "  right_side = [x for x in tail if x > pivot] # 분할된 오른쪽 부분\n",
        "\n",
        "  # 분할 이후 왼쪽 부분과 오른쪽 부분에서 각각 정렬을 수행하고, 전체 리스트를 반환\n",
        "  return quick_sort2(left_side) + [pivot] + quick_sort2(right_side)\n",
        "\n",
        "print(quick_sort2(array))\n",
        "f = time.time()\n",
        "print(f-s)"
      ],
      "execution_count": null,
      "outputs": []
    },
    {
      "cell_type": "code",
      "metadata": {
        "id": "XX-o7C0SAZdI"
      },
      "source": [
        "# 계수 정렬 - O(N+K)  /  N : 데이터개수, K : 데이터 중 최댓값\n",
        "import time\n",
        "# 모든 원소의 값이 0보다 크거나 같다고 가정\n",
        "#array = [7,5,9,0,3,1,6,2,9,1,4,8,0,5,2]\n",
        "\n",
        "s = time.time()\n",
        "\n",
        "# 모든 범위를 포함하는 리스트 선언(모든 값은 0으로 초기화)\n",
        "count = [0] * (max(array) + 1)\n",
        "\n",
        "for i in array:\n",
        "  count[i] += 1 # 각 데이터에 해당하는 인덱스의 값 증가\n",
        "\n",
        "for i in range(len(count)): # 리스트에 기록된 정렬 정보 확인\n",
        "  for j in range(count[i]):\n",
        "    print(i, end=\" \")   # 띄어쓰기를 구분으로 등장한 횟수만큼 인덱스 출력\n",
        "print()\n",
        "f = time.time()\n",
        "print(f-s)"
      ],
      "execution_count": null,
      "outputs": []
    },
    {
      "cell_type": "code",
      "metadata": {
        "id": "v5HTYO7CIqET"
      },
      "source": [
        "# 파이썬의 정렬 라이브러리 - O(N*logN) 퀵정렬보다 빠름.\n",
        "import time\n",
        "s = time.time()\n",
        "\n",
        "result = sorted(array)\n",
        "print(result)\n",
        "\n",
        "f = time.time()\n",
        "print(f-s)"
      ],
      "execution_count": null,
      "outputs": []
    },
    {
      "cell_type": "code",
      "metadata": {
        "id": "L6iwPYZaKAhC"
      },
      "source": [
        "# 성적이 낮은 순서로 학생 출력하기 - p.180\n",
        "n = int(input())\n",
        "\n",
        "arr = []\n",
        "for _ in range(n):\n",
        "  input_data = input().split()\n",
        "  # 이름은 문자열 그래도, 숫자는 int로 바꾸어서 튜플로 저장\n",
        "  arr.append((input_data[0], int(input_data[1])))\n",
        "\n",
        "arr.sort(key=lambda a: as[1])\n",
        "\n",
        "for student in arr:\n",
        "  print(student[0], end = \" \")"
      ],
      "execution_count": null,
      "outputs": []
    },
    {
      "cell_type": "code",
      "metadata": {
        "id": "VzP4XymwL5te"
      },
      "source": [
        "# 두 배열의 원소 교체\n",
        "n, k = map(int, input().split())\n",
        "a = list(map(int,input().split()))\n",
        "b = list(map(int,input().split()))\n",
        "a.sort()\n",
        "b.sort(reverse=True)\n",
        "for i in range(k):\n",
        "  if a[i] < b[i]:\n",
        "    a[i], b[i] = b[i], a[i]\n",
        "  else:\n",
        "    break\n",
        "print(a)\n",
        "print(sum(a))"
      ],
      "execution_count": null,
      "outputs": []
    },
    {
      "cell_type": "markdown",
      "metadata": {
        "id": "cO6s87e5hoWT"
      },
      "source": [
        "# Chapter 07. 이진 탐색\n",
        "탐색 범위를 반으로 좁혀가며 빠르게 탐색하는 알고리즘"
      ]
    },
    {
      "cell_type": "code",
      "metadata": {
        "id": "y3bKo3Lzhxby"
      },
      "source": [
        "# 재귀로 구현\n",
        "def binary_search(array, target, start, end):\n",
        "  if start > end:\n",
        "    return None\n",
        "  mid = (start + end)//2\n",
        "  # 찾은 경우 중간점 인덱스 반환\n",
        "  if array[mid] == target:\n",
        "    return mid\n",
        "  # 중간점의 값보다 찾고자 하는 값이 작은 경우 왼쪽 확인\n",
        "  elif array[mid] > target:\n",
        "    return binary_search(array, target, start, mid - 1)\n",
        "  # 중간점의 값보다 찾고자 하는 값이 큰 경우 오른쪽 확인\n",
        "  else:\n",
        "    return binary_search(array, target, mid + 1, end)\n",
        "\n",
        "# n(원소의 개수)과 target(찾고자 하는 문자열)을 입력받기\n",
        "n, target = list(map(int, input().split()))\n",
        "# 전체 원소 입력받기\n",
        "array = list(map(int, input().split()))\n",
        "\n",
        "# 이진 탐색 수행 결과 출력\n",
        "result = binary_search(array, target, 0, n-1)\n",
        "if result == None:\n",
        "  print(\"원소가 존재하지 않습니다.\")\n",
        "else:\n",
        "  print(\"{}번째에 있습니다\".format(result+1))"
      ],
      "execution_count": null,
      "outputs": []
    },
    {
      "cell_type": "code",
      "metadata": {
        "id": "6GryuIksqHki"
      },
      "source": [
        "# 반복문으로 구현\n",
        "def binary_search2(array, target, start, end):\n",
        "  while start <= end:\n",
        "    mid = (start + end) // 2\n",
        "    # 찾은 경우 중간점 인덱스 반환\n",
        "    if array[mid] == target:\n",
        "      return mid\n",
        "    # 중간점의 값보다 찾고자 하는 값이 작은 경우 왼쪽 확인\n",
        "    elif array[mid] > target:\n",
        "      end = mid - 1\n",
        "    # 중간점의 값보다 찾고자 하는 값이 큰 경우 오른쪽 확인\n",
        "    else:\n",
        "      start = mid + 1\n",
        "  return None\n",
        "\n",
        "# n(원소의 개수)과 target(찾고자 하는 문자열)을 입력받기\n",
        "n, target = list(map(int, input().split()))\n",
        "# 전체 원소 입력받기\n",
        "array = list(map(int, input().split()))\n",
        "\n",
        "# 이진 탐색 수행 결과 출력\n",
        "result = binary_search2(array, target, 0, n-1)\n",
        "if result == None:\n",
        "  print(\"원소가 존재하지 않습니다.\")\n",
        "else:\n",
        "  print(\"{}번째에 있습니다\".format(result+1))"
      ],
      "execution_count": null,
      "outputs": []
    },
    {
      "cell_type": "code",
      "metadata": {
        "id": "qAx0pvrzsIga"
      },
      "source": [
        "# 부품찾기 - p.197\n",
        "def bs(array, target, start, end):\n",
        "  while start <= end:\n",
        "    mid = (start + end) // 2\n",
        "    if array[mid] == target:\n",
        "      return target\n",
        "    elif array[mid] < target:\n",
        "      start = mid + 1\n",
        "    else:\n",
        "      end = mid - 1\n",
        "  return None\n",
        "\n",
        "n = int(input())\n",
        "exist = list(map(int,input().split()))\n",
        "m = int(input())\n",
        "need = list(map(int,input().split()))\n",
        "\n",
        "for i in need:\n",
        "  if bs(exist, i, 0, n-1) == None:\n",
        "    print(\"no\", end = \" \")\n",
        "  else:\n",
        "    print(\"yes\", end = \" \")"
      ],
      "execution_count": null,
      "outputs": []
    },
    {
      "cell_type": "code",
      "metadata": {
        "id": "ZfPQ_9xtt5H7"
      },
      "source": [
        "# 떡볶이 떡 만들기 - p.201\n",
        "# n : 떡의 개수, m : 떡의 길이\n",
        "n, m = map(int, input().split())\n",
        "tteok = list(map(int,input().split()))\n",
        "h = max(tteok)\n",
        "# sum >= m 인 h의 최대값\n",
        "for i in range(h,0,-1):\n",
        "  sum = 0\n",
        "  for j in tteok:\n",
        "    if j-i >= 0:\n",
        "      sum += j-i\n",
        "  if sum >= m:\n",
        "    print(i)\n",
        "    break\n"
      ],
      "execution_count": null,
      "outputs": []
    },
    {
      "cell_type": "markdown",
      "metadata": {
        "id": "gbCLf4Njiw5s"
      },
      "source": [
        "# Chapter 08. 다이나믹 프로그래밍\n",
        "한 번 계산한 문제는 다시 계산하지 않도록 하는 알고리즘"
      ]
    },
    {
      "cell_type": "code",
      "metadata": {
        "id": "aTYAGn0Ci3X_"
      },
      "source": [
        "# 1로 만들기 - p.217\n",
        "dp = [0]*30001\n",
        "dp[2] = 1\n",
        "dp[3] = 1\n",
        "for i in range(4,30001):\n",
        "  a = 30001\n",
        "  b = 30001\n",
        "  c = 30001\n",
        "  if i%5 == 0:\n",
        "    a = dp[i//5]\n",
        "  if i%3 == 0:\n",
        "    b = dp[i//3]\n",
        "  if i%2 == 0:\n",
        "    c = dp[i//2]\n",
        "  dp[i] = 1 + min(a, b, c, dp[i-1])\n",
        "\n",
        "print(dp[int(input())])"
      ],
      "execution_count": null,
      "outputs": []
    },
    {
      "cell_type": "code",
      "metadata": {
        "id": "BjWOJyHhojdI"
      },
      "source": [
        "# 개미 전사 - p.220\n",
        "n = int(input()) # 식량 창고 개수\n",
        "k = list(map(int,input().split())) # 각 식량차고에 저장된 식량 개수\n",
        "dp = [0]*n\n",
        "dp[0] = k[0]\n",
        "dp[1] = max(k[0],k[1])\n",
        "for i in range(2,n):\n",
        "  dp[i] = max(dp[i-1], dp[i-2]+k[i])\n",
        "print(dp[n-1])"
      ],
      "execution_count": null,
      "outputs": []
    },
    {
      "cell_type": "code",
      "metadata": {
        "id": "sFyxt31Lomit"
      },
      "source": [
        "# 바닥 공사 - p.223\n",
        "n = int(input())\n",
        "dp = [0]*(n+1)\n",
        "dp[1] = 1\n",
        "dp[2] = 2 + 1\n",
        "#dp[3] = dp[2] + dp[1]*2\n",
        "for i in range(3,n+1):\n",
        "  dp[i] = (dp[i-1] + dp[i-2]*2)%796795\n",
        "print(dp[n])"
      ],
      "execution_count": null,
      "outputs": []
    },
    {
      "cell_type": "code",
      "metadata": {
        "id": "uMiaeKyPsGDg"
      },
      "source": [
        "# 효율적인 화폐 구성 - p.226\n",
        "n,m = map(int,input().split()) # n:화폐종류, m:가치의 합\n",
        "kinds = []\n",
        "for i in range(n):\n",
        "  kinds.append(int(input()))\n",
        "kinds.sort()\n",
        "\n",
        "d = [10001]*(m+1)\n",
        "\n",
        "for i in range(1, m+1):\n",
        "  if i < min(kinds):\n",
        "    continue\n",
        "  if i in kinds:\n",
        "    d[i] = 1\n",
        "    continue\n",
        "  for j in range(1,i//2+1):\n",
        "    if d[i-j] != 10001 and d[j] != 10001 :\n",
        "       if d[i] > d[i-j] + d[j]:\n",
        "         d[i] = d[i-j] + d[j]\n",
        "if d[n] == 10001:\n",
        "  print(-1)\n",
        "else:\n",
        "  print(d[m])\n",
        "print(d)\n",
        "\n"
      ],
      "execution_count": null,
      "outputs": []
    },
    {
      "cell_type": "markdown",
      "metadata": {
        "id": "M6mb5N01at6u"
      },
      "source": [
        "# Chapter 09. 최단경로\n",
        "특정 지점까지 가장 빠르게 도달하는 방법을 찾는 알고리즘\n",
        "- 다익스트라 알고리즘 : 한 지점에서 다른 특정 지점까지의 최단 경로 구하기\n",
        "- 플로이드 워셜 알고리즘 : 모든 지점에서 다른 모든 지점까지의 최단 경로를 모두 구하기"
      ]
    },
    {
      "cell_type": "code",
      "metadata": {
        "id": "Ybz3mZtba0eN"
      },
      "source": [
        "# 간단한 다익스트라 알고리즘 소스코드 - 시간복잡도 : O(V^2) / V:노드의 개수\n",
        "# 노드의 개수가 5000개 이하라면 일반적으로 이 코드로 문제를 풀 수 있지만,\n",
        "# 10000개를 넘어가는 문제라면 이 코드로는 문제를 해결하기 어렵다. -> 개선된 다익스트라 알고리즘 사용\n",
        "# import sys\n",
        "# input = sys.stdin.readline\n",
        "INF = int(1e9) # 무한을 의미하는 값으로 10억을 설정\n",
        "\n",
        "# 노드의 개수, 간선의 개수를 입력받기\n",
        "n, m = map(int, input().split())\n",
        "# 시작 노드 번호를 입력받기\n",
        "start = int(input())\n",
        "# 각 노드에 연결되어 있는 노드에 대한 정보를 담는 리스트를 만들기\n",
        "graph = [[] for i in range(n+1)]\n",
        "# 방문한 적이 있는지 체크하는 목적의 리스트를 만들기\n",
        "visited = [False] * (n+1)\n",
        "# 최단 거리 테이블을 모두 무한으로 초기화\n",
        "distance = [INF] * (n+1)\n",
        "\n",
        "# 모든 간선 정보를 입력받기\n",
        "for _ in range(m):\n",
        "  a,b,c = map(int,input().split())\n",
        "  # a번 노드에서 b번 노드로 가는 비용이 c라는 의미\n",
        "  graph[a].append((b,c))\n",
        "\n",
        "# 방문하지 않은 노드 중에서, 가장 최단 거리가 짧은 노드의 번호를 반환\n",
        "def get_smallest_node():\n",
        "  min_value = INF\n",
        "  index = 0 # 가장 최단 거리가 짧은 노드(인덱스)\n",
        "  for i in range(1, n+1):\n",
        "    if distance[i] < min_value and not visited[i]:\n",
        "      min_value = distance[i]\n",
        "      index = i\n",
        "  return index\n",
        "\n",
        "def dijkstra(start):\n",
        "  # 시작 노드에 대해서 초기화\n",
        "  distance[start] = 0\n",
        "  visited[start] = True\n",
        "  for j in graph[start]:\n",
        "    distance[j[0]] = j[1]\n",
        "  # 시작 노드를 제외한 전체 n-1개의 노드에 대해 반복\n",
        "  for i in range(n-1):\n",
        "    # 현재 최단 거리가 가장 짧은 노드를 꺼내서, 방문 처리\n",
        "    now = get_smallest_node()\n",
        "    visited[now] = True\n",
        "    # 현재 노드와 연결된 다른 노드를 확인\n",
        "    for j in graph[now]:\n",
        "      cost = distance[now] + j[1]\n",
        "      # 현재 노드를 거쳐서 다른 노드로 이동하는 거리가 더 짧은 경우\n",
        "      if cost < distance[j[0]]:\n",
        "        distance[j[0]] = cost\n",
        "\n",
        "# 다익스트라 알고리즘 수행\n",
        "dijkstra(start)\n",
        "\n",
        "# 모든 노드로 가기 위한 최단 거리를 출력\n",
        "for i in range(1, n+1):\n",
        "  # 도달할 수 없는 경우, 무한(INFINITY)이라고 출력\n",
        "  if distance[i] == INF:\n",
        "    print(\"INFINITY\")\n",
        "  else:\n",
        "    print(distance[i])"
      ],
      "execution_count": null,
      "outputs": []
    },
    {
      "cell_type": "code",
      "metadata": {
        "id": "7N1qMwd8hCx1"
      },
      "source": [
        "# 개선된 다익스트라 알고리즘 - 시간복잡도 : O(E*logV)  / E : 간선의 개수\n",
        "\n",
        "# 힙 자료구조 사용! heapq 라이브러리 사용\n",
        "# 앞의 코드와 비교했을 때 get_smallest_node()라는 함수를 작성할 필요가 없다.\n",
        "# '최단 거리가 가장 짧은 노드'를 선택하는 과정을 다익스트라 최단 경로 함수 안에서 우선순위 큐를 이용하는 방식으로 대체\n",
        "\n",
        "import heapq\n",
        "# import sys\n",
        "# input = sys.stdin.readline()\n",
        "INF = int(1e9) # 무한을 의미하는 값으로 10억을 설정\n",
        "\n",
        "# 노드의 개수, 간선의 개수를 입력받기\n",
        "n, m = map(int, input().split())\n",
        "# 시작 노드 번호를 입력받기\n",
        "start = int(input())\n",
        "# 각 노드에 연결되어 있는 노드에 대한 정보를 담는 리스트를 만들기\n",
        "graph = [[] for i in range(n+1)]\n",
        "# 방문한 적이 있는지 체크하는 목적의 리스트를 만들기\n",
        "visited = [False] * (n+1)\n",
        "# 최단 거리 테이블을 모두 무한으로 초기화\n",
        "distance = [INF] * (n+1)\n",
        "\n",
        "# 모든 간선 정보를 입력받기\n",
        "for _ in range(m):\n",
        "  a,b,c = map(int,input().split())\n",
        "  # a번 노드에서 b번 노드로 가는 비용이 c라는 의미\n",
        "  graph[a].append((b,c))\n",
        "\n",
        "def dijkstra2(start):\n",
        "  q = []\n",
        "  # 시작 노드로 가기 위한 최단 경로는 0으로 설정하여, 큐에 삽입\n",
        "  heapq.heappush(q, (0,start))\n",
        "  distance[start] = 0\n",
        "  while q: # 큐가 비어있지 않다면,\n",
        "    # 가장 최단 거리가 짧은 노드에 대한 정보 꺼내기\n",
        "    dist, now = heapq.heappop(q)\n",
        "    # 현재 노드가 이미 처리된 적이 있는 노드라면 무시\n",
        "    if distance[now] < dist:\n",
        "      continue\n",
        "    # 현재 노드와 연결된 다른 인접한 노드들을 확인\n",
        "    for i in graph[now]:\n",
        "      cost = dist + i[1]\n",
        "      # 현재 노드를 거쳐서, 다른 노드로 이동하는 거리가 더 짧은 경우\n",
        "      if cost < distance[i[0]]:\n",
        "        distance[i[0]] = cost\n",
        "        heapq.heappush(q, (cost,i[0]))\n",
        "\n",
        "# 다익스트라 알고리즘 수행\n",
        "dijkstra(start)\n",
        "\n",
        "# 모든 노드로 가기 위한 최단 거리를 출력\n",
        "for i in range(1, n+1):\n",
        "  # 도달할 수 없는 경우, 무한(INFINITY)이라고 출력\n",
        "  if distance[i] == INF:\n",
        "    print(\"INFINITY\")\n",
        "  else:\n",
        "    print(distance[i])"
      ],
      "execution_count": null,
      "outputs": []
    },
    {
      "cell_type": "code",
      "metadata": {
        "id": "ulOrtw_Ej_qi"
      },
      "source": [
        "# 플로이드 워셜 알고리즘 소스코드\n",
        "INF = int(1e9) # 무한을 의미하는 값으로 10억을 설정\n",
        "\n",
        "# 노드의 개수 및 간선의 개수를 입력받기\n",
        "n = int(input())\n",
        "m = int(input())\n",
        "# 2차원 리스트(그래프 표현)를 만들고, 모든 값을 무한으로 초기화\n",
        "graph = [[INF]*(n+1) for _ in range(n+1)]\n",
        "# 자기 자신에서 자기 자신으로 가는 비용은 0으로 초기화\n",
        "for a in range(1, n+1):\n",
        "  for b in range(1, n+1):\n",
        "    if a == b:\n",
        "      graph[a][b] = 0\n",
        "\n",
        "# 각 간선에 대한 정보를 입력받아, 그 값으로 초기화\n",
        "for _ in range(m):\n",
        "  # a에서 b로 가는 비용은 c라고 설정\n",
        "  a,b,c = map(int,input().split())\n",
        "  graph[a][b] = c\n",
        "\n",
        "# 점화식에 따라 플로이드 워셜 알고리즘 수행\n",
        "for k in range(1,n+1):\n",
        "  for a in range(1,n+1):\n",
        "    for b in range(1,n+1):\n",
        "      graph[a][b] = min(graph[a][b], graph[a][k] + graph[k][b])\n",
        "\n",
        "# 수행된 결과를 출력\n",
        "for a in range(1,n+1):\n",
        "  for b in range(1,n+1):\n",
        "    # 도달할 수 없는 경우, 무한(INFINITY)이라고 출력\n",
        "    if graph[a][b] == INF:\n",
        "      print(\"INFINITY\", end = \" \")\n",
        "    # 도달할 수 있는 경우, 거리를 출력\n",
        "    else:\n",
        "      print(graph[a][b], end = \" \")\n",
        "  print()"
      ],
      "execution_count": null,
      "outputs": []
    },
    {
      "cell_type": "code",
      "metadata": {
        "id": "EzuaajzA_cxX"
      },
      "source": [
        "# 미래 도시 - p.259\n",
        "# 플로이드 워셜 알고리즘 사용\n",
        "# 1->k->x\n",
        "# n : 회사 개수, m : 경로 개수\n",
        "n, m = map(int,input().split())\n",
        "INF = int(1e9)\n",
        "# 이동 시간을 무한으로 초기화 한 그래프 생성\n",
        "graph = [[INF]*(n+1) for _ in range(n+1)]\n",
        "# 자기 자신으로 갈 경우 0으로 초기화\n",
        "for a in range(1,n+1):\n",
        "  for b in range(1,n+1):\n",
        "    if a==b:\n",
        "      graph[a][b] = 0\n",
        "# 연결된 회사 입력 받아 시간 변경\n",
        "for _ in range(m):\n",
        "  a,b = map(int,input().split())\n",
        "  graph[a][b] = 1\n",
        "  graph[b][a] = 1\n",
        "# x : 최종 목적지, k : 들려야 할 곳\n",
        "x,k = map(int,input().split())\n",
        "# 플로이드 워셜 알고리즘 수행\n",
        "for k in range(1,n+1):\n",
        "  for a in range(1,n+1):\n",
        "    for b in range(1,n+1):\n",
        "      graph[a][b] = min(graph[a][b], graph[a][k] + graph[k][b])\n",
        "# 결과 출력\n",
        "distance = graph[1][k] + graph[k][x]\n",
        "if distance >= INF :\n",
        "  print(-1)\n",
        "else:\n",
        "  print(distance)\n"
      ],
      "execution_count": null,
      "outputs": []
    },
    {
      "cell_type": "code",
      "metadata": {
        "id": "PUwnzEGsD3lg"
      },
      "source": [
        "# 전보 - p.263\n",
        "import heapq\n",
        "INF = int(1e9)\n",
        "# n:도시개수, m:통로개수, start:메세지를 보내고자 하는 도시\n",
        "n, m ,start = map(int,input().split())\n",
        "# 각 노드에 연결되어 있는 노드에 대한 정보를 담는 리스트 만들기\n",
        "graph=[[] for i in range(n+1)]\n",
        "# 최단 거리 테이블을 모두 무한으로 초기화\n",
        "distance = [INF] * (n+1)\n",
        "\n",
        "# 모든 간선 정보 입력 받기\n",
        "for _ in range(m):\n",
        "  # a->b로 메세지 보내는데 걸리는 시간은 c\n",
        "  a,b,c = map(int,input().split())\n",
        "  graph[a].append((b,c))\n",
        "\n",
        "def dijkstra3(start):\n",
        "  q = []\n",
        "  # 시작 노드로 가기 위한 최단 경로는 0으로 설정하여 큐에 삽입\n",
        "  heapq.heappush(q,(0,start))\n",
        "  distance[start] = 0\n",
        "  while q:  # 큐가 비어있지 않다면\n",
        "    # 가장 최단 거리가 짧은 노드에 대한 정보를 꺼내기\n",
        "    dist, now = heapq.heappop(q)\n",
        "    # 가장 최단 거리가 아니라면 패스\n",
        "    if distance[now] < dist:\n",
        "      continue\n",
        "    \n",
        "    for i in graph[now]:\n",
        "      cost = dist + i[1] # dist : a->now / i[1]: now->i\n",
        "      # 현재 노드를 거쳐서, 다른 노드로 이동하는 거리가 더 짧은 경우\n",
        "      if cost < distance[i[0]]: # distance[i] = a->i\n",
        "        distance[i[0]] = cost\n",
        "        heapq.heappush(q, (cost,i[0]))\n",
        "  \n",
        "# 다익스트라 알고리즘 수행\n",
        "dijkstra3(start)\n",
        "\n",
        "count = 0\n",
        "max_distance = 0\n",
        "for i in range(1,n+1):\n",
        "  if distance[i] != INF:\n",
        "    count += 1\n",
        "    max_distance = max(max_distance, distance[i])\n",
        "# 시작 노드는 제외해야 하므로 count - 1 출력\n",
        "print(count - 1, max_distance)\n"
      ],
      "execution_count": null,
      "outputs": []
    },
    {
      "cell_type": "markdown",
      "metadata": {
        "id": "ePBfYxUV6Xrr"
      },
      "source": [
        "# Chapter 10. 그래프 이론\n",
        "코딩 테스트에서 자주 등장하는 기타 그래프 이론\n",
        "- **서로소 집합 자료구조** : 서로소 부분 집합들로 나누어진 원소들의 데이터를 처리하기 위한 자료구조\n",
        "- **신장 트리** : 하나의 그래프가 있을 때 모든 노드를 포함하면서 사이클이 존재하지 않는 부분 그래프\n",
        "- **위상 정렬** : 방향 그래프의 모든 노드를 '방향성에 거스르지 않도록 순서대로 나열하는 것'\n",
        "\n"
      ]
    },
    {
      "cell_type": "code",
      "metadata": {
        "id": "mR3QZuLN6fYn"
      },
      "source": [
        "# 기본적인 서로소 집합 알고리즘\n",
        "\n",
        "# 특정 원소가 속한 집합을 찾기\n",
        "def find_parent(parent, x):\n",
        "  # 루트 노드가 아니라면, 루트 노드를 찾을 때까지 재귀적으로 호출\n",
        "  if parent[x] != x:\n",
        "    return find_parent(parent, parent[x])\n",
        "  return x\n",
        "\n",
        "# 두 원소가 속한 집합을 합치기\n",
        "def union_parent(parent, a, b):\n",
        "  a = find_parent(parent, a)\n",
        "  b = find_parent(parent, b)\n",
        "  if a < b:\n",
        "    parent[b] = a\n",
        "  else:\n",
        "    parent[a] = b\n",
        "\n",
        "# 노드의 개수와 간선(union 연산)의 개수 입력받기\n",
        "v, e = map(int,input().split())\n",
        "parent = [0] * (v+1) # 부모 테이블 초기화\n",
        "\n",
        "# 부모 테이블상에서, 부모를 자기 자신으로 초기화\n",
        "for i in range(1,v+1):\n",
        "  parent[i] = i\n",
        "\n",
        "# union 연산을 각각 수행\n",
        "for i in range(e):\n",
        "  a, b = map(int,input().split())\n",
        "  union_parent(parent,a,b)\n",
        "\n",
        "# 각 원소가 속한 집합 출력\n",
        "print('각 원소가 속한 집합: ', end=' ')\n",
        "for i in range(1,v+1):\n",
        "  print(find_parent(parent,i), end=' ')\n",
        "\n",
        "print()\n",
        "\n",
        "# 부모 테이블 내용 출력\n",
        "print('부모 테이블: ', end=' ')\n",
        "for i in range(1,v+1):\n",
        "  print(parent[i], end=' ')"
      ],
      "execution_count": null,
      "outputs": []
    },
    {
      "cell_type": "code",
      "metadata": {
        "id": "aNgsZTkU852M"
      },
      "source": [
        "# 개선된 서로소 집합 알고리즘 소스코드\n",
        "\n",
        "# 특정 원소가 속한 집합을 찾기\n",
        "def find_parent(parent, x):\n",
        "  # 루트 노드가 아니라면, 루트 노드를 찾을 때까지 재귀적으로 호출\n",
        "  if parent[x] != x:\n",
        "    parent[x] = find_parent(parent, parent[x])\n",
        "  return parent[x]\n",
        "\n",
        "# 두 원소가 속한 집합을 합치기\n",
        "def union_parent(parent, a, b):\n",
        "  a = find_parent(parent, a)\n",
        "  b = find_parent(parent, b)\n",
        "  if a < b:\n",
        "    parent[b] = a\n",
        "  else:\n",
        "    parent[a] = b\n",
        "\n",
        "# 노드의 개수와 간선(union 연산)의 개수 입력받기\n",
        "v, e = map(int,input().split())\n",
        "parent = [0] * (v+1) # 부모 테이블 초기화\n",
        "\n",
        "# 부모 테이블상에서, 부모를 자기 자신으로 초기화\n",
        "for i in range(1,v+1):\n",
        "  parent[i] = i\n",
        "\n",
        "# union 연산을 각각 수행\n",
        "for i in range(e):\n",
        "  a, b = map(int,input().split())\n",
        "  union_parent(parent,a,b)\n",
        "\n",
        "# 각 원소가 속한 집합 출력\n",
        "print('각 원소가 속한 집합: ', end=' ')\n",
        "for i in range(1,v+1):\n",
        "  print(find_parent(parent,i), end=' ')\n",
        "\n",
        "print()\n",
        "\n",
        "# 부모 테이블 내용 출력\n",
        "print('부모 테이블: ', end=' ')\n",
        "for i in range(1,v+1):\n",
        "  print(parent[i], end=' ')"
      ],
      "execution_count": null,
      "outputs": []
    },
    {
      "cell_type": "code",
      "metadata": {
        "id": "e2HLhv1C9L3q"
      },
      "source": [
        "# 서로소 집합을 활요한 사이클 판별 소스코드\n",
        "\n",
        "# 특정 원소가 속한 집합을 찾기\n",
        "def find_parent(parent, x):\n",
        "  # 루트 노드가 아니라면, 루트 노드를 찾을 때까지 재귀적으로 호출\n",
        "  if parent[x] != x:\n",
        "    parent[x] = find_parent(parent, parent[x])\n",
        "  return parent[x]\n",
        "\n",
        "# 두 원소가 속한 집합을 합치기\n",
        "def union_parent(parent, a, b):\n",
        "  a = find_parent(parent, a)\n",
        "  b = find_parent(parent, b)\n",
        "  if a < b:\n",
        "    parent[b] = a\n",
        "  else:\n",
        "    parent[a] = b\n",
        "\n",
        "# 노드의 개수와 간선(union 연산)의 개수 입력받기\n",
        "v, e = map(int,input().split())\n",
        "parent = [0] * (v+1) # 부모 테이블 초기화\n",
        "\n",
        "# 부모 테이블상에서, 부모를 자기 자신으로 초기화\n",
        "for i in range(1,v+1):\n",
        "  parent[i] = i\n",
        "\n",
        "cycle = False # 사이클 발생 여부\n",
        "\n",
        "# union 연산을 각각 수행\n",
        "for i in range(e):\n",
        "  a, b = map(int,input().split())\n",
        "  # 사이클이 발생한 경우 종료\n",
        "  if find_parent(parent, a) == find_parent(parent, b):\n",
        "    cycle = True\n",
        "    break\n",
        "  # 사이클이 발생하지 않았다면 합집합(union) 수행\n",
        "  else:\n",
        "    union_parent(parent,a,b)\n",
        "\n",
        "if cycle:\n",
        "  print(\"사이클이 발생했습니다.\")\n",
        "else:\n",
        "  print(\"사이클이 발생하지 않았습니다.\")"
      ],
      "execution_count": null,
      "outputs": []
    },
    {
      "cell_type": "code",
      "metadata": {
        "id": "2mAu12ea9_jR"
      },
      "source": [
        "# 크루스칼 알고리즘 - 대표적인 최소 신장 트리 알고리즘 - 시간 복잡도 : O(E*logE)\n",
        "\n",
        "# 특정 원소가 속한 집합을 찾기\n",
        "def find_parent(parent,x):\n",
        "  # 루트 노드가 아니라면, 루트 노드를 찾을 때까지 재귀적으로 호출\n",
        "  if parent[x] != x:\n",
        "    parent[x] = find_parent(parent, parent[x])\n",
        "  return parent[x]\n",
        "\n",
        "# 두 원소가 속한 집합을 합치기\n",
        "def union_parent(parent, a, b):\n",
        "  a = find_parent(parent,a)\n",
        "  b = find_parent(parent,b)\n",
        "  if a < b:\n",
        "    parent[b] = a\n",
        "  else:\n",
        "    parent[a] = b\n",
        "\n",
        "# 노드의 개수와 간선(union 연산)의 개수 입력받기\n",
        "v, e = map(int,input().split())\n",
        "parent = [0] * (v+1) # 부모 테이블 초기화\n",
        "\n",
        "# 모든 간선을 담을 리스트와 최종 비용을 담을 변수\n",
        "edges = []\n",
        "result = 0\n",
        "\n",
        "# 부모 테이블상에서, 부모를 자기 자신으로 초기화\n",
        "for i in range(1,v+1):\n",
        "  parent[i] = i\n",
        "\n",
        "# 모든 간선에 대한 정보를 입력받기\n",
        "for _ in range(e):\n",
        "  a,b,cost = map(int,input().split())\n",
        "  # 비용순으로 정렬하기 위해서 튜플의 첫 번째 원소를 비용으로 설정\n",
        "  edges.append((cost,a,b))\n",
        "\n",
        "# 간선을 비용순으로 정렬\n",
        "edges.sort()\n",
        "\n",
        "# 간선을 하나씩 확인하며\n",
        "for edge in edges:\n",
        "  cost, a, b = edge\n",
        "  # 사이클이 발생하지 않는 경우에만 집합에 포함\n",
        "  if find_parent(parent, a) != find_parent(parent, b):\n",
        "    union_parent(parent, a, b)\n",
        "    result += cost\n",
        "  \n",
        "print(result)"
      ],
      "execution_count": null,
      "outputs": []
    },
    {
      "cell_type": "code",
      "metadata": {
        "id": "ncXYc5SNX1dG"
      },
      "source": [
        "# 위상정렬 소스코드 - 시간 복잡도 : O(V+E)\n",
        "from collections import deque\n",
        "\n",
        "# 노드의 개수와 간선의 개수를 입력받기\n",
        "v, e = map(int, input().split())\n",
        "# 모든 노드에 대한 진입차수는 0으로 초기화\n",
        "indegree = [0] * (v+1)\n",
        "# 각 노드에 연결된 간선 정보를 담기 위한 연결 리스트(그래프) 초기화\n",
        "graph = [[] for i in range(v+1)]\n",
        "\n",
        "# 방향 그래프의 모든 간선 정보를 입력받기\n",
        "for _ in range(e):\n",
        "  a, b = map(int,input().split())\n",
        "  graph[a].append(b) # 정점 A에서 B로 이동 가능\n",
        "  # 진입차수를 1 증가\n",
        "  indegree[b] += 1\n",
        "\n",
        "# 위상 정렬 함수\n",
        "def topology_sort():\n",
        "  result = [] # 알고리즘 수행 결과를 담을 리스트\n",
        "  q = deque() # 큐 기능을 위한 deque 라이브러리 사용\n",
        "\n",
        "  # 처음 시작할 때는 진입차수가 0인 노드를 큐에 삽입\n",
        "  for i in range(1, v+1):\n",
        "    if indegree[i] == 0:\n",
        "      q.append(i)\n",
        "\n",
        "  # 큐가 빌 때까지 반복\n",
        "  while q:\n",
        "    # 큐에서 원소 꺼내기\n",
        "    now = q.popleft()\n",
        "    result.append(now)\n",
        "    # 해당 원소와 연결된 노드들의 진입차수에서 1 빼기\n",
        "    for i in graph[now]:\n",
        "      indegree[i] -= 1\n",
        "      # 새롭게 진입차수가 0이 되는 노드를 큐에 삽입\n",
        "      if indegree[i] == 0:\n",
        "        q.append(i)\n",
        "\n",
        "  # 위상 정렬을 수행한 결과 출력\n",
        "  for i in result:\n",
        "    print(i,end=\" \")\n",
        "\n",
        "topology_sort()\n"
      ],
      "execution_count": null,
      "outputs": []
    },
    {
      "cell_type": "code",
      "metadata": {
        "id": "e95uv6JqaJdZ"
      },
      "source": [
        "# 팀 결성 - p.298\n",
        "\n",
        "# 특정 원소가 속한 집합을 찾기\n",
        "def find_parent(parent, x):\n",
        "  # 루트 노드가 아니라면, 루트 노드를 찾을 때까지 재귀적으로 호출\n",
        "  if parent[x] != x:\n",
        "    parent[x] = find_parent(parent, parent[x])\n",
        "  return parent[x]\n",
        "\n",
        "# 두 원소가 속한 집합을 합치기\n",
        "def union_parent(parent, a, b):\n",
        "  a = find_parent(parent, a)\n",
        "  b = find_parent(parent, b)\n",
        "  if a < b:\n",
        "    parent[b] = a\n",
        "  else:\n",
        "    parent[a] = b\n",
        "\n",
        "# 노드의 개수와 간선(union 연산)의 개수 입력받기\n",
        "n, m = map(int,input().split())\n",
        "parent = [0] * (n+1) # 부모 테이블 초기화\n",
        "\n",
        "# 부모 테이블상에서, 부모를 자기 자신으로 초기화\n",
        "for i in range(0,n+1):\n",
        "  parent[i] = i\n",
        "\n",
        "# union 연산을 각각 수행\n",
        "for i in range(m):\n",
        "  func, a, b = map(int,input().split())\n",
        "  if func == 0:\n",
        "    union_parent(parent,a,b)\n",
        "  else:\n",
        "    answer = \"YES\" if find_parent(parent,a) == find_parent(parent,b) else \"NO\"\n",
        "    print(answer)\n",
        "\n"
      ],
      "execution_count": null,
      "outputs": []
    },
    {
      "cell_type": "code",
      "metadata": {
        "id": "JzQkvO6QbwJP"
      },
      "source": [
        "# 도시 분할 계획 - p.300 / 크루스칼 알고리즘 활용\n",
        "\n",
        "# 특정 원소가 속한 집합을 찾기\n",
        "def find_parent(parent,x):\n",
        "  # 루트 노드가 아니라면, 루트 노드를 찾을 때까지 재귀적으로 호출\n",
        "  if parent[x] != x:\n",
        "    parent[x] = find_parent(parent, parent[x])\n",
        "  return parent[x]\n",
        "\n",
        "# 두 원소가 속한 집합을 합치기\n",
        "def union_parent(parent, a, b):\n",
        "  a = find_parent(parent,a)\n",
        "  b = find_parent(parent,b)\n",
        "  if a < b:\n",
        "    parent[b] = a\n",
        "  else:\n",
        "    parent[a] = b\n",
        "\n",
        "# 노드의 개수와 간선(union 연산)의 개수 입력받기\n",
        "n, m = map(int,input().split())\n",
        "parent = [0] * (n+1) # 부모 테이블 초기화\n",
        "\n",
        "# 모든 간선을 담을 리스트와 최종 비용을 담을 변수\n",
        "edges = []\n",
        "result = 0\n",
        "\n",
        "# 부모 테이블상에서, 부모를 자기 자신으로 초기화\n",
        "for i in range(1,n+1):\n",
        "  parent[i] = i\n",
        "\n",
        "# 모든 간선에 대한 정보를 입력받기\n",
        "for _ in range(m):\n",
        "  a,b,cost = map(int,input().split())\n",
        "  # 비용순으로 정렬하기 위해서 튜플의 첫 번째 원소를 비용으로 설정\n",
        "  edges.append((cost,a,b))\n",
        "\n",
        "# 간선을 비용순으로 정렬\n",
        "edges.sort()\n",
        "cost_arr = []\n",
        "# 간선을 하나씩 확인하며\n",
        "for edge in edges:\n",
        "  cost, a, b = edge\n",
        "  # 사이클이 발생하지 않는 경우에만 집합에 포함\n",
        "  if find_parent(parent, a) != find_parent(parent, b):\n",
        "    union_parent(parent, a, b)\n",
        "    cost_arr.append(cost)\n",
        "    result += cost\n",
        "result -= max(cost_arr)  \n",
        "print(result)"
      ],
      "execution_count": null,
      "outputs": []
    },
    {
      "cell_type": "code",
      "metadata": {
        "id": "zDdnsvUrkcbn"
      },
      "source": [
        "# 커리큘럼 - p.303 / 위상 정렬\n",
        "from collections import deque\n",
        "import copy\n",
        "\n",
        "# 강의의 개수 입력받기\n",
        "n = int(input())\n",
        "# 모든 노드에 대한 진입차수는 0으로 초기화\n",
        "indegree = [0] * (n+1)\n",
        "# 각 노드에 연결된 간선 정보를 담기 위한 연결 리스트(그래프) 초기화\n",
        "graph = [[] for i in range(n+1)]\n",
        "# 각 강의 시간을 0으로 초기화\n",
        "time = [0] * (n+1)\n",
        "# 방향 그래프의 모든 간선 정보를 입력받기\n",
        "for i in range(1,n+1):\n",
        "  data = list(map(int,input().split()))\n",
        "  time[i] = data[0]\n",
        "  for j in data[1:-1]:\n",
        "    graph[j].append(i) \n",
        "    indegree[i] += 1\n",
        "\n",
        "  \n",
        "\n",
        "# 위상 정렬 함수\n",
        "def topology_sort():\n",
        "  result = copy.deepcopy(time) # 알고리즘 수행 결과를 담을 리스트\n",
        "  q = deque() # 큐 기능을 위한 deque 라이브러리 사용\n",
        "\n",
        "  # 처음 시작할 때는 진입차수가 0인 노드를 큐에 삽입\n",
        "  for i in range(1, n+1):\n",
        "    if indegree[i] == 0:\n",
        "      q.append(i)\n",
        "\n",
        "  # 큐가 빌 때까지 반복\n",
        "  while q:\n",
        "    # 큐에서 원소 꺼내기\n",
        "    now = q.popleft()\n",
        "    # 해당 원소와 연결된 노드들의 진입차수에서 1 빼기\n",
        "    for i in graph[now]:\n",
        "      result[i] = max(result[i],result[now] + time[i])\n",
        "      indegree[i] -= 1\n",
        "      # 새롭게 진입차수가 0이 되는 노드를 큐에 삽입\n",
        "      if indegree[i] == 0:\n",
        "        q.append(i)\n",
        "\n",
        "  # 위상 정렬을 수행한 결과 출력\n",
        "  for i in range(1,n+1):\n",
        "    print(result[i])\n",
        "\n",
        "topology_sort()"
      ],
      "execution_count": null,
      "outputs": []
    },
    {
      "cell_type": "markdown",
      "metadata": {
        "id": "uAuRXW0pA68u"
      },
      "source": [
        "# Chapter 11. 그리디 문제"
      ]
    },
    {
      "cell_type": "code",
      "metadata": {
        "id": "subGSDcdBA1m"
      },
      "source": [
        "# 1. 모험가 길드 - p.311\n",
        "\n",
        "# 모험가 수와 공포도 입력받기\n",
        "n = int(input())\n",
        "horror = list(map(int,input().split()))\n",
        "# 오름차순으로 정렬\n",
        "horror.sort()\n",
        "group = 0\n",
        "count = 0\n",
        "for i in horror:\n",
        "  count += 1  # 현재 그룹에 해당 모험가를 포함시키기\n",
        "  if count >= i: # 현재 그룹에 포함된 모험가의 수가 현재의 공포도 이상이라면, 그룹 결성\n",
        "    group += 1 # 총 그룹의 수 증가시키기\n",
        "    count = 0 # 현재 그룹에 포함된 모험가의 수 초기화\n",
        "print(group)\n"
      ],
      "execution_count": null,
      "outputs": []
    },
    {
      "cell_type": "code",
      "metadata": {
        "id": "GxOqdlNvr2Wy"
      },
      "source": [
        "# 2. 곱하기 혹은 더하기 - p.312\n",
        "\n",
        "s = input()\n",
        "result = 0\n",
        "for i in s:\n",
        "  a = result + int(i)\n",
        "  b = result * int(i)\n",
        "  result = a if a > b else b\n",
        "print(result) "
      ],
      "execution_count": null,
      "outputs": []
    },
    {
      "cell_type": "code",
      "metadata": {
        "id": "KwigGTwas1Fr"
      },
      "source": [
        "# 3. 문자열 뒤집기 - p.313\n",
        "\n",
        "s = input()\n",
        "count = 0\n",
        "temp = 0\n",
        "\n",
        "for i in range(1,len(s)-1):\n",
        "    # 바뀔때마다 count +1\n",
        "    if s[i] != s[i+1]:\n",
        "        if i == 1 or i == len(s)-2:\n",
        "            count += 1\n",
        "        else : \n",
        "            temp += 1\n",
        "count += temp//2\n",
        "print(count)"
      ],
      "execution_count": null,
      "outputs": []
    },
    {
      "cell_type": "code",
      "metadata": {
        "id": "umh8Wg9Mu8Cu"
      },
      "source": [
        "# 4. 만들 수 없는 금액 - p.314\n",
        "from itertools import combinations\n",
        "n = int(input())\n",
        "coin = list(map(int,input().split()))\n",
        "sum = []\n",
        "for i in range(1,n+1):\n",
        "    # 조합을 사용하여 나올 수 있는 합의 값 모두 구하여 리스트에 저장\n",
        "    combi = list(combinations(coin, i))\n",
        "    for j in combi:\n",
        "        temp = 0        \n",
        "        for k in j:\n",
        "            temp += k\n",
        "        if temp not in sum:\n",
        "            sum.append(temp)\n",
        "\n",
        "m = 1\n",
        "while True:\n",
        "    if m not in sum:\n",
        "        print(m)\n",
        "        break\n",
        "    m+=1\n"
      ],
      "execution_count": null,
      "outputs": []
    },
    {
      "cell_type": "code",
      "metadata": {
        "id": "GjTAN80K2IaF"
      },
      "source": [
        "# 5. 볼링공 고르기 - p.315\n",
        "# 조합 라이브러리 사용\n",
        "from itertools import combinations\n",
        "n, m = map(int,input().split())\n",
        "ball = list(map(int,input().split()))\n",
        "combi = list(combinations(ball,2))\n",
        "count = 0\n",
        "for x,y in combi:\n",
        "    if x == y:\n",
        "        count += 1\n",
        "result = len(combi) - count\n",
        "print(result)"
      ],
      "execution_count": null,
      "outputs": []
    },
    {
      "cell_type": "code",
      "metadata": {
        "id": "PpVfeuoR71vI"
      },
      "source": [
        "# 5. 볼링공 고르기 - p.315\n",
        "# 조합 라이브러리 미사용\n",
        "n, m = map(int,input().split())\n",
        "ball = list(map(int,input().split()))\n",
        "result = 0\n",
        "for i in range(n-1):\n",
        "    for j in range(i+1,n):\n",
        "        if ball[i] != ball[j]:\n",
        "            result += 1\n",
        "print(result)"
      ],
      "execution_count": null,
      "outputs": []
    },
    {
      "cell_type": "code",
      "metadata": {
        "id": "UxnOtanV8kTZ"
      },
      "source": [
        "# 6. 무지의 먹방 라이브 - p.316\n",
        "# https://programmers.co.kr/learn/courses/30/lessons/42891?language=python3\n",
        "# 1차시도 정확성 : 38, 효율성 : 0..., 합계 : 38/100\n",
        "from collections import deque\n",
        "\n",
        "def solution(food_times, k):\n",
        "    answer = 0\n",
        "    time = 0\n",
        "    food_que = deque()\n",
        "    for i in range(len(food_times)):\n",
        "        food_que.append((i+1,food_times[i]))\n",
        "    while time < k:\n",
        "        time += 1\n",
        "        if len(food_que) == 0 :\n",
        "            return -1\n",
        "        eat = food_que.popleft()\n",
        "        if eat[1] <= 1:\n",
        "            continue\n",
        "        else:\n",
        "            food_que.append((eat[0],eat[1]-1))\n",
        "    answer = food_que.popleft()[0]\n",
        "    return answer\n",
        "\n",
        "food_times = list(map(int,input().split()))\n",
        "k = int(input())\n",
        "result = solution(food_times, k)\n",
        "print(result)"
      ],
      "execution_count": null,
      "outputs": []
    },
    {
      "cell_type": "markdown",
      "metadata": {
        "id": "UpI0-E90TMhx"
      },
      "source": [
        "# Chapter 12. 구현 문제"
      ]
    },
    {
      "cell_type": "code",
      "metadata": {
        "id": "7PIPasI6tVJB"
      },
      "source": [
        "# 7. 럭키 스트레이트 - p.321 - 풀이시간 1차 : 2분\n",
        "# 점수 입력\n",
        "n = input()\n",
        "# 나누어 저장할 변수 2개 초기화\n",
        "sum1, sum2 = 0, 0\n",
        "for i in range(0,len(n)):\n",
        "  if i < len(n)//2:\n",
        "    sum1 += int(n[i])\n",
        "  else:\n",
        "    sum2 += int(n[i])\n",
        "answer = \"LUCKY\" if sum1 == sum2 else \"READY\"\n",
        "print(answer)"
      ],
      "execution_count": null,
      "outputs": []
    },
    {
      "cell_type": "code",
      "metadata": {
        "id": "LlDYx_0Gu2wp"
      },
      "source": [
        "# 8. 문자열 재정렬 - p.322 - 풀이시간 1차 : 10분\n",
        "s = input()\n",
        "str_arr = [i for i in s if i.isdigit() != True]\n",
        "num_arr = [int(j) for j in s if j.isdigit() == True]\n",
        "\n",
        "str_arr.sort()\n",
        "arr = str_arr\n",
        "arr.append(sum(num_arr))\n",
        "for i in arr:\n",
        "  print(i, end=\"\")"
      ],
      "execution_count": null,
      "outputs": []
    },
    {
      "cell_type": "code",
      "metadata": {
        "id": "Y9WP9kBuka1B"
      },
      "source": [
        "# 9. 문자열 압축(30분)\n",
        "# 첫 풀이 : 1시간..\n",
        "def solution(s):\n",
        "    answer = 0\n",
        "    n = len(s)//2\n",
        "    result = [len(s)] * (n+1)\n",
        "    for i in range(1,n+1):\n",
        "        count = 1\n",
        "        s2 = \"\"\n",
        "        temp = \"\"\n",
        "        for j in range(0,len(s),i):\n",
        "            if s[j:j+i] == s[j+i:j+2*i]:\n",
        "                count += 1\n",
        "                temp = s[j:j+i]\n",
        "            else:\n",
        "                if count == 1:\n",
        "                    s2 += s[j:j+i]\n",
        "                else:\n",
        "                    s2 += str(count) + temp\n",
        "                    count = 1\n",
        "              \n",
        "        result[i] = len(s2)\n",
        "    answer = min(result)\n",
        "    return answer\n",
        "\n",
        "data = input()\n",
        "solution(data)"
      ],
      "execution_count": null,
      "outputs": []
    },
    {
      "cell_type": "code",
      "metadata": {
        "id": "SwcePYrW1wPe"
      },
      "source": [
        "# 10. 자물쇠와 열쇠(40분)\n",
        "# https://programmers.co.kr/learn/courses/30/lessons/60059?language=python3\n",
        "# 1차 : 2시간(실패)\n",
        "import copy\n",
        "# key를 시계방향으로 90돌리는 함수\n",
        "def rotation_90(key):\n",
        "  m = len(key)\n",
        "  new_key = [[0] * m for _ in range(m)]\n",
        "  for a in range(m):\n",
        "    for b in range(m):\n",
        "      new_key[b][m-1-a] = key[a][b]\n",
        "  return new_key\n",
        "\n",
        "# 자물쇠가 열리는지 확인하는 함수\n",
        "def check(key, lock, x, y):\n",
        "  m = len(key)\n",
        "  count_1 = 0\n",
        "  #print(lock)\n",
        "  temp = copy.deepcopy(lock)\n",
        "  for i in range(m):\n",
        "    for j in range(m):\n",
        "      if 0 <= i-x < m and 0 <= j-y < m:\n",
        "        temp[i][j] += key[i-x][j-y]\n",
        "  for i in range(len(temp)):\n",
        "    count_1 += temp[i].count(1)\n",
        "  #print(\"x:\",x,\"y:\",y)\n",
        "  #print(count_1)\n",
        "  if count_1 == len(temp)*len(temp):\n",
        "    return True\n",
        "  else:\n",
        "    return False\n",
        "def solution(key, lock):\n",
        "    answer = False\n",
        "    m = len(key) \n",
        "    n = len(lock)\n",
        "    # m-1 만큼 뺀 상태에서 -> n-1 만큼 더한 상태까지 check\n",
        "    for x in range(-m+1,n,1):\n",
        "      for y in range(-m+1,n,1):\n",
        "        for _ in range(4):\n",
        "          if check(key, lock, x, y) == True:\n",
        "            answer = True\n",
        "            return answer\n",
        "          key = rotation_90(key)\n",
        "    return answer\n",
        "\n",
        "n,m = map(int,input().split())\n",
        "key = []\n",
        "lock = []\n",
        "for _ in range(n):\n",
        "  key.append(list(map(int,input().split())))\n",
        "for _ in range(m):\n",
        "  lock.append(list(map(int,input().split())))\n",
        "\n",
        "print(solution(key,lock))"
      ],
      "execution_count": null,
      "outputs": []
    },
    {
      "cell_type": "code",
      "metadata": {
        "colab": {
          "base_uri": "https://localhost:8080/"
        },
        "id": "2ODjJcJbT1F7",
        "outputId": "b2724adb-ae86-4235-c87f-038774a87428"
      },
      "source": [
        "# 11. 뱀 - p.512\n",
        "# 다시 보기\n",
        "from collections import deque\n",
        "\n",
        "n = int(input()) # 보드의 크기 n*n\n",
        "board = [[0] * n for _ in range(n)]\n",
        "k = int(input()) # 사과 개수\n",
        "for _ in range(k):\n",
        "    x, y = map(int,input().split()) # 사과의 위치 (x-1,y-1)\n",
        "    board[x-1][y-1] = 1\n",
        "L = int(input()) # 방향 변환 횟수\n",
        "d_change_time = []\n",
        "d_change = []\n",
        "for _ in range(L):\n",
        "    # 게임 시작시간으로 부터 a초가 끝난 뒤 왼쪽(b==L) or 오른쪽(b==D)로 90도 방향 회전\n",
        "    a, b = input().split()\n",
        "    d_change_time.append(int(a))\n",
        "    d_change.append(b)\n",
        "dy = [1,0,-1,0] # 우,하,좌,상\n",
        "dx = [0,1,0,-1]\n",
        "snake = deque()\n",
        "head_x = 0\n",
        "head_y = 0\n",
        "snake.append((head_x, head_y))\n",
        "time = 0\n",
        "d = 0    # 현재 머리 방향(인덱스로 표시)\n",
        "for i in board:\n",
        "    print(i)\n",
        "while True:\n",
        "    head_x += dx[d]\n",
        "    head_y += dy[d]\n",
        "    time += 1\n",
        "    # 뱀의 머리가 벽에 닿거나 자신에게 닿으면 게임 종료\n",
        "    if (head_x, head_y) in snake or head_x < 0 or head_x >= n or head_y < 0 or head_y >= n:\n",
        "        print(time)\n",
        "        break\n",
        "    else:\n",
        "        # 머리 이동\n",
        "        snake.append((head_x,head_y))\n",
        "        #print(\"time:\",time,\"snake:\",snake)\n",
        "        # 머리 위치에 사과가 없다면 꼬리도 한 칸 이동\n",
        "        if board[head_x][head_y] == 0:  \n",
        "            snake.popleft()\n",
        "            #print(\"time:\",time,\"snake:\",snake)\n",
        "        if time in d_change_time:\n",
        "            change = d_change[d_change_time.index(time)] # 바꿀 방향 저장\n",
        "            if change == \"L\":\n",
        "                d = d-1 if d > 0 else 3\n",
        "            elif change == \"D\":\n",
        "                d = d+1 if d < 3 else 0\n",
        "            else : \n",
        "                print(\"방향정보가 맞지 않습니다. 게임을 종료합니다.\")\n",
        "                break\n"
      ],
      "execution_count": null,
      "outputs": [
        {
          "output_type": "stream",
          "text": [
            "10\n",
            "5\n",
            "1 5\n",
            "1 3\n",
            "1 2\n",
            "1 6\n",
            "1 7\n",
            "4\n",
            "8 D\n",
            "10 D\n",
            "11 D\n",
            "13 L\n",
            "[0, 0, 0, 0, 0, 0, 0, 0, 0, 0]\n",
            "[1, 0, 0, 0, 0, 0, 0, 0, 0, 0]\n",
            "[1, 0, 0, 0, 0, 0, 0, 0, 0, 0]\n",
            "[0, 0, 0, 0, 0, 0, 0, 0, 0, 0]\n",
            "[1, 0, 0, 0, 0, 0, 0, 0, 0, 0]\n",
            "[1, 0, 0, 0, 0, 0, 0, 0, 0, 0]\n",
            "[1, 0, 0, 0, 0, 0, 0, 0, 0, 0]\n",
            "[0, 0, 0, 0, 0, 0, 0, 0, 0, 0]\n",
            "[0, 0, 0, 0, 0, 0, 0, 0, 0, 0]\n",
            "[0, 0, 0, 0, 0, 0, 0, 0, 0, 0]\n",
            "21\n"
          ],
          "name": "stdout"
        }
      ]
    },
    {
      "cell_type": "code",
      "metadata": {
        "id": "GmBufvVknONP",
        "colab": {
          "base_uri": "https://localhost:8080/"
        },
        "outputId": "fc4e711b-8ff0-49b9-f61b-edd526b09f3f"
      },
      "source": [
        "# 12. 기둥과 보 설치 - p.329\n",
        "# https://programmers.co.kr/learn/courses/30/lessons/60061\n",
        "\n",
        "# build_frame = [x,y,a,b]\n",
        "# x,y : 기둥,보를 설치 또는 삭제할 교차점의 좌표(가로,세로)\n",
        "# a : 0은 기둥, 1은 보\n",
        "# b : 0은 삭제, 1은 설치\n",
        "\n",
        "# 함수 종류 : 설치, 삭제\n",
        "def add(frame, answer):\n",
        "    x,y = frame[0],frame[1]\n",
        "    if frame[2] == 0 and [x,y,0] not in answer:   # 기둥일 때\n",
        "        # 기둥은 바닥 위에 있거나 보의 한쪽 끝부분 위에 있거나, 또는 다른 기둥 위에 있어야 한다.\n",
        "        # y가 0 or ([x,y-1,0] or [x-1,y,1] in answer) \n",
        "        if y == 0 or ([x,y-1,0] in answer or [x-1,y,1] in answer):\n",
        "            answer.append([x,y,0])\n",
        "    elif frame[2] == 1 and [x,y,1] not in answer:   # '보'일 때\n",
        "        # 한쪽 끝부분이 기둥 위에 있거나, 또는 양쪽 끝부분이 다른 보와 동시에 연결되어 있어야 한다.\n",
        "        # ([x,y-1,0] or [x+1,y-1,0]) in answer or ([x-1,y,1] and [x+1,y,1]) in answer\n",
        "        if ([x+1,y-1,0] in answer or [x,y-1,0] in answer) or ([x-1,y,1] in answer and [x+1,y,1] in answer): \n",
        "            answer.append([x,y,1])\n",
        "\n",
        "def delete(frame, answer):\n",
        "    x,y = frame[0],frame[1]\n",
        "    if frame[2] == 0 and [x,y,0] in answer:   # 기둥일 때\n",
        "        # 기둥 위에 기둥이나 보가 없을 경우 삭제 가능\n",
        "        if ([x,y+1,0] not in answer and [x,y+1,1] not in answer and [x-1,y+1,1] not in answer):\n",
        "            answer.remove([x,y,0])\n",
        "        # 기둥 위에 보가 있을 경우, 그 보의 옆에 다른 보가 있거나 아래에 기둥이 있을 경우 삭제 가능\n",
        "        elif [x,y+1,1] in answer and ([x+1,y+1,1] in answer or [x+1,y,0] in answer):\n",
        "            answer.remove([x,y,0])\n",
        "        elif [x-1,y+1,1] in answer and ([x-2,y+1,1] in answer or [x-1,y,0] in answer):\n",
        "            answer.remove([x,y,0])\n",
        "    elif frame[2] == 1 and [x,y,1] in answer:   # '보'일 때\n",
        "        # 바로 옆에 보가 있고 그 보가 조건을 만족하지 않을 경우 삭제 가능\n",
        "        if [x+1,y,1] in answer and ([x+1,y-1,0] not in answer or [x+2,y-2,0] not in answer):\n",
        "            pass\n",
        "        elif [x-1,y,1] in answer and ([x-1,y-1,0] not in answer or [x,y-2,0] not in answer):\n",
        "            pass\n",
        "        else:\n",
        "            answer.remove([x,y,1])\n",
        "            \n",
        "def solution(n, build_frame):\n",
        "    answer = []\n",
        "    for frame in build_frame:\n",
        "        # 좌표가 벽면안에 위치\n",
        "        if 0 <= frame[0] <= n and 0 <= frame[1] <= n:\n",
        "            if frame[3] == 1:   # 설치일 경우 설치 조건에 부합하여 설치 진행\n",
        "                add(frame, answer)\n",
        "            else:   # 삭제일 경우 삭제 조건에 부합하여 삭제 진행\n",
        "                delete(frame, answer)\n",
        "    answer.sort()\n",
        "    return answer\n",
        "\n",
        "build_frame1 = [[1,0,0,1],[1,1,1,1],[2,1,0,1],[2,2,1,1],[5,0,0,1],[5,1,0,1],[4,2,1,1],[3,2,1,1]]\n",
        "build_frame2 = [[0,0,0,1],[2,0,0,1],[4,0,0,1],[0,1,1,1],[1,1,1,1],[2,1,1,1],[3,1,1,1],[2,0,0,0],[1,1,1,0],[2,2,0,1]]\n",
        "print(solution(5, build_frame2))"
      ],
      "execution_count": null,
      "outputs": [
        {
          "output_type": "stream",
          "text": [
            "answer:  []\n",
            "기둥 추가:  [0, 0, 0]\n",
            "answer:  [[0, 0, 0]]\n",
            "기둥 추가:  [2, 0, 0]\n",
            "answer:  [[0, 0, 0], [2, 0, 0]]\n",
            "기둥 추가:  [4, 0, 0]\n",
            "answer:  [[0, 0, 0], [2, 0, 0], [4, 0, 0]]\n",
            "보 추가:  [0, 1, 1]\n",
            "answer:  [[0, 0, 0], [2, 0, 0], [4, 0, 0], [0, 1, 1]]\n",
            "보 추가:  [1, 1, 1]\n",
            "answer:  [[0, 0, 0], [2, 0, 0], [4, 0, 0], [0, 1, 1], [1, 1, 1]]\n",
            "보 추가:  [2, 1, 1]\n",
            "answer:  [[0, 0, 0], [2, 0, 0], [4, 0, 0], [0, 1, 1], [1, 1, 1], [2, 1, 1]]\n",
            "보 추가:  [3, 1, 1]\n",
            "answer:  [[0, 0, 0], [2, 0, 0], [4, 0, 0], [0, 1, 1], [1, 1, 1], [2, 1, 1], [3, 1, 1]]\n",
            "기둥 제거:  [2, 0, 0]\n",
            "answer:  [[0, 0, 0], [4, 0, 0], [0, 1, 1], [1, 1, 1], [2, 1, 1], [3, 1, 1]]\n",
            "answer:  [[0, 0, 0], [4, 0, 0], [0, 1, 1], [1, 1, 1], [2, 1, 1], [3, 1, 1]]\n",
            "[[0, 0, 0], [0, 1, 1], [1, 1, 1], [2, 1, 1], [3, 1, 1], [4, 0, 0]]\n"
          ],
          "name": "stdout"
        }
      ]
    },
    {
      "cell_type": "code",
      "metadata": {
        "id": "0Ia5EUXyZ2_4",
        "colab": {
          "base_uri": "https://localhost:8080/"
        },
        "outputId": "17ddc8f6-2367-43b0-8783-4856217c59d4"
      },
      "source": [
        "# 13. 치킨 배달 - p.332\n",
        "# https://www.acmicpc.net/problem/15686\n",
        "\n",
        "from itertools import combinations\n",
        "\n",
        "def chicken_distance(chicken_store,home,m):\n",
        "    k = len(chicken_store) # k는 치킨집 개수\n",
        "    h = len(home)   # h는 집 개수\n",
        "    chosen_chicken_store = list(combinations(chicken_store, m)) # k개의 치킨집 중 m개를 뽑아 리스트로 저장\n",
        "\n",
        "    city_chicken_distance_list = [] # 도시의 치킨 거리들을 담는 리스트\n",
        "    for chicken_stores in chosen_chicken_store:\n",
        "        city_chicken_distance = 0    # 도시의 치킨 거리\n",
        "        for hx, hy in home:\n",
        "            min_distance = 100  # 최소 치킨 거리\n",
        "            for kx, ky in chicken_stores:\n",
        "                distance = abs(hx-kx) + abs(hy-ky)  # 치킨 거리\n",
        "                if distance < min_distance:\n",
        "                    min_distance = distance\n",
        "            city_chicken_distance += min_distance\n",
        "        city_chicken_distance_list.append(city_chicken_distance)\n",
        "    print(min(city_chicken_distance_list))\n",
        "\n",
        "n, m = map(int,input().split())\n",
        "chicken_store = []\n",
        "home = []\n",
        "for i in range(n):\n",
        "    temp = list(map(int,input().split()))\n",
        "    for j in range(n):\n",
        "        # 치킨집 위치 리스트(chicken_store)에 저장\n",
        "        if temp[j] == 2:\n",
        "            chicken_store.append((i,j))\n",
        "        # 집 위치 리스트(home)에 저장\n",
        "        elif temp[j] == 1:\n",
        "            home.append((i,j))\n",
        "\n",
        "chicken_distance(chicken_store,home,m)\n",
        "\n"
      ],
      "execution_count": null,
      "outputs": [
        {
          "output_type": "stream",
          "text": [
            "5 1\n",
            "1 2 0 0 0\n",
            "1 2 0 0 0\n",
            "1 2 0 0 0\n",
            "1 2 0 0 0\n",
            "1 2 0 0 0\n",
            "11\n"
          ],
          "name": "stdout"
        }
      ]
    },
    {
      "cell_type": "code",
      "metadata": {
        "id": "0RJgtw3moZer"
      },
      "source": [
        "# 14. 외벽 점검 - p.335\n",
        "# https://programmers.co.kr/learn/courses/30/lessons/60062\n",
        "\n",
        "def solution(n, weak, dist):\n",
        "    answer = 0\n",
        "    k = len(weak)\n",
        "    weak_distance = []\n",
        "    for i in range(k):\n",
        "        if i < k - 1:\n",
        "            weak_distance.append(weak[i+1] - weak[i])\n",
        "        else:\n",
        "            weak_distance.append(n-weak[i]+weak[0])\n",
        "    sum_weak_dist = sum(weak_distance)\n",
        "    for j in range(len(dist)):\n",
        "        friend = dist[-j-1] # 맨 뒤에서 부터 친구 선택\n",
        "        sum_weak_dist -= friend\n",
        "    return answer"
      ],
      "execution_count": null,
      "outputs": []
    },
    {
      "cell_type": "markdown",
      "metadata": {
        "id": "iLt5QzyPolc6"
      },
      "source": [
        "# Chapter 13. DFS/BFS 문제"
      ]
    },
    {
      "cell_type": "code",
      "metadata": {
        "colab": {
          "base_uri": "https://localhost:8080/"
        },
        "id": "A5jxSGxB5XXU",
        "outputId": "aa7f9b86-0f26-4b39-b8d4-e73b3f301a3d"
      },
      "source": [
        "# 15. 특정 거리의 도시 찾기 - p.339\n",
        "from collections import deque\n",
        "\n",
        "n,m,k,x = map(int,input().split())\n",
        "graph = [[] for _ in range(n+1)]\n",
        "result = [-1]*(n+1)\n",
        "result[x] = 0\n",
        "for _ in range(m):\n",
        "    a,b = map(int,input().split())\n",
        "    graph[a].append(b)\n",
        "\n",
        "queue = deque([x])\n",
        "while queue:\n",
        "    now = queue.popleft()\n",
        "    for next in graph[now]:\n",
        "        if result[next] == -1:\n",
        "            queue.append(next)\n",
        "            result[next] = result[now] + 1\n",
        "if k not in result:\n",
        "    print(-1)\n",
        "else:\n",
        "    for i in range(1,len(result)):\n",
        "        if result[i] == k:\n",
        "            print(i)"
      ],
      "execution_count": null,
      "outputs": [
        {
          "output_type": "stream",
          "text": [
            "4 4 1 1\n",
            "1 2\n",
            "1 3\n",
            "2 3\n",
            "2 4\n",
            "2\n",
            "3\n"
          ],
          "name": "stdout"
        }
      ]
    },
    {
      "cell_type": "code",
      "metadata": {
        "id": "-eoTyxdDF80R",
        "colab": {
          "base_uri": "https://localhost:8080/"
        },
        "outputId": "9ee8c433-78bc-49ea-8db8-0964e4534ce3"
      },
      "source": [
        "# 16. 연구소 - p.341\n",
        "# 답보며 풀이\n",
        "n,m = map(int,input().split())\n",
        "Map = []    # 초기 맵 리스트\n",
        "temp = [[0]* m for _ in range(n)]\n",
        "\n",
        "# Map 생성\n",
        "for _ in range(n):\n",
        "    Map.append(list(map(int,input().split())))\n",
        "\n",
        "# 4가지 이동 방향에 대한 리스트\n",
        "dx = [-1,0,1,0]\n",
        "dy = [0,1,0,-1]\n",
        "\n",
        "result = 0\n",
        "\n",
        "# 깊이 우선 탐색(DFS)을 활용해 각 바이러스가 사방으로 퍼지도록 하기\n",
        "def virus(x,y):\n",
        "    for i in range(4):\n",
        "        nx = x + dx[i]\n",
        "        ny = y + dy[i]\n",
        "        # 상, 하, 좌, 우 중에서 바이러스가 퍼질 수 있는 경우\n",
        "        if 0 <= nx < n and 0 <= ny < m:\n",
        "            if temp[nx][ny] == 0:\n",
        "                # 해당 위치에 바이러스 배치하고, 다시 재귀적으로 수행\n",
        "                temp[nx][ny] = 2\n",
        "                virus(nx, ny)\n",
        "\n",
        "# 현재 맵에서 안전 영역의 크기 계산하는 함수\n",
        "def get_score():\n",
        "    score = 0\n",
        "    for i in range(n):\n",
        "        for j in range(m):\n",
        "            if temp[i][j] == 0:\n",
        "                score += 1\n",
        "    return score\n",
        "\n",
        "# 깊이 우선 탐색(DFS)을 이용해 울타리를 설치하면서, 매번 안전 영역의 크기를 계산\n",
        "def dfs(count):\n",
        "    global result\n",
        "    # 울타리가 3개 설치된 경우\n",
        "    if count == 3:\n",
        "        for i in range(n):\n",
        "            for j in range(m):\n",
        "                temp[i][j] = Map[i][j]\n",
        "        # 각 바이러스의 위치에서 전파 진행\n",
        "        for i in range(n):\n",
        "            for j in range(m):\n",
        "                if temp[i][j] == 2:\n",
        "                    virus(i,j)\n",
        "        # 안전 영역의 최댓값 계산\n",
        "        result = max(result, get_score())\n",
        "        return\n",
        "    # 빈 공간에 울타리 설치\n",
        "    for i in range(n):\n",
        "        for j in range(m):\n",
        "            if Map[i][j] == 0:\n",
        "                Map[i][j] = 1\n",
        "                count += 1\n",
        "                dfs(count)\n",
        "                Map[i][j] = 0\n",
        "                count -= 1\n",
        "\n",
        "dfs(0)\n",
        "print(result)       \n"
      ],
      "execution_count": null,
      "outputs": [
        {
          "output_type": "stream",
          "text": [
            "8 8\n",
            "2 0 0 0 0 0 0 2\n",
            "2 0 0 0 0 0 0 2\n",
            "2 0 0 0 0 0 0 2\n",
            "2 0 0 0 0 0 0 2\n",
            "2 0 0 0 0 0 0 2\n",
            "0 0 0 0 0 0 0 0\n",
            "0 0 0 0 0 0 0 0\n",
            "0 0 0 0 0 0 0 0\n",
            "3\n"
          ],
          "name": "stdout"
        }
      ]
    },
    {
      "cell_type": "code",
      "metadata": {
        "colab": {
          "base_uri": "https://localhost:8080/"
        },
        "id": "MDrvQm6G2e8Z",
        "outputId": "ffc18b12-a25c-4648-d0d5-e75dfcd1f80a"
      },
      "source": [
        "# 17. 경쟁적 전염\n",
        "# https://www.acmicpc.net/problem/18405\n",
        "from collections import deque\n",
        "n ,k = map(int,input().split())\n",
        "# 각 종류의 바이러스의 위치를 저장할 리스트\n",
        "virus = [deque([]) for _ in range(k+1)]\n",
        "examiner = []   # 시험관\n",
        "for i in range(n):\n",
        "    temp = list(map(int,input().split()))\n",
        "    examiner.append(temp)\n",
        "    for j in range(n):\n",
        "        virus[temp[j]].append((i,j))\n",
        "s,x,y = map(int,input().split())\n",
        "dx = [-1,1,0,0]\n",
        "dy = [0,0,1,-1]\n",
        "\n",
        "# 바이러스 1번~k번 까지 순찰하며 전염\n",
        "# 최대 시간복잡도 : 10000*1000*4 = 4천만\n",
        "for _ in range(s):\n",
        "    for i in range(1,k+1):\n",
        "        for v in range(len(virus[i])):\n",
        "            vx,vy = virus[i].popleft()\n",
        "            for j in range(4):\n",
        "                nx = vx + dx[j]\n",
        "                ny = vy + dy[j]\n",
        "                if 0 <= nx < n and 0 <= ny < n and examiner[nx][ny] == 0:\n",
        "                    examiner[nx][ny] = i\n",
        "                    virus[i].append((nx,ny))\n",
        "    # for i in examiner:\n",
        "    #     print(*i)\n",
        "print(examiner[x-1][y-1])"
      ],
      "execution_count": 4,
      "outputs": [
        {
          "output_type": "stream",
          "name": "stdout",
          "text": [
            "4 5\n",
            "1 0 0 4\n",
            "0 0 0 0\n",
            "2 0 0 1\n",
            "0 0 5 0\n",
            "5 1 1\n",
            "1 1 4 4\n",
            "1 0 0 1\n",
            "2 2 1 1\n",
            "2 5 5 1\n",
            "1 1 4 4\n",
            "1 1 1 1\n",
            "2 2 1 1\n",
            "2 5 5 1\n",
            "1 1 4 4\n",
            "1 1 1 1\n",
            "2 2 1 1\n",
            "2 5 5 1\n",
            "1 1 4 4\n",
            "1 1 1 1\n",
            "2 2 1 1\n",
            "2 5 5 1\n",
            "1 1 4 4\n",
            "1 1 1 1\n",
            "2 2 1 1\n",
            "2 5 5 1\n",
            "1\n"
          ]
        }
      ]
    },
    {
      "cell_type": "code",
      "metadata": {
        "id": "WnFBDfMFrqav"
      },
      "source": [
        "# 18. 괄호변환\n",
        "# https://programmers.co.kr/learn/courses/30/lessons/60058\n",
        "def solution(p):\n",
        "    answer = ''\n",
        "    return answer"
      ],
      "execution_count": null,
      "outputs": []
    },
    {
      "cell_type": "markdown",
      "metadata": {
        "id": "KsCpmBam0pjT"
      },
      "source": [
        "# Chapter 14. 정렬 문제\n"
      ]
    },
    {
      "cell_type": "markdown",
      "metadata": {
        "id": "ZXk_i0BJ0zta"
      },
      "source": [
        "# Chapter 15. 이진 탐색 문제"
      ]
    },
    {
      "cell_type": "markdown",
      "metadata": {
        "id": "hp5q17yD06Sq"
      },
      "source": [
        "# Chapter 16. 다이나믹 프로그래밍 문제"
      ]
    },
    {
      "cell_type": "markdown",
      "metadata": {
        "id": "24jfze731Af7"
      },
      "source": [
        "# Chapter 17. 최단경로 문제"
      ]
    },
    {
      "cell_type": "markdown",
      "metadata": {
        "id": "Qc2_YjxN1E2b"
      },
      "source": [
        "# Chapter 18. 그래프 문제"
      ]
    },
    {
      "cell_type": "code",
      "metadata": {
        "id": "NK3qe_9X0_ih"
      },
      "source": [
        ""
      ],
      "execution_count": null,
      "outputs": []
    }
  ]
}