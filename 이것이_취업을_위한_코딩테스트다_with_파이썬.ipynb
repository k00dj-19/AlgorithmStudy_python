{
  "nbformat": 4,
  "nbformat_minor": 0,
  "metadata": {
    "colab": {
      "name": "이것이 취업을 위한 코딩테스트다 with 파이썬.ipynb",
      "provenance": [],
      "collapsed_sections": [
        "eKnP0oPi4NGa",
        "irdRuKkR-So4",
        "cO6s87e5hoWT",
        "gbCLf4Njiw5s",
        "M6mb5N01at6u"
      ],
      "authorship_tag": "ABX9TyNWHLxpPH6VMlzaPUX9+QAA",
      "include_colab_link": true
    },
    "kernelspec": {
      "name": "python3",
      "display_name": "Python 3"
    },
    "language_info": {
      "name": "python"
    }
  },
  "cells": [
    {
      "cell_type": "markdown",
      "metadata": {
        "id": "view-in-github",
        "colab_type": "text"
      },
      "source": [
        "<a href=\"https://colab.research.google.com/github/k00dj-19/AlgorithmStudy_python/blob/master/%EC%9D%B4%EA%B2%83%EC%9D%B4_%EC%B7%A8%EC%97%85%EC%9D%84_%EC%9C%84%ED%95%9C_%EC%BD%94%EB%94%A9%ED%85%8C%EC%8A%A4%ED%8A%B8%EB%8B%A4_with_%ED%8C%8C%EC%9D%B4%EC%8D%AC.ipynb\" target=\"_parent\"><img src=\"https://colab.research.google.com/assets/colab-badge.svg\" alt=\"Open In Colab\"/></a>"
      ]
    },
    {
      "cell_type": "markdown",
      "metadata": {
        "id": "R6TBIRYVniwg"
      },
      "source": [
        "# Chapter 04. 구현"
      ]
    },
    {
      "cell_type": "code",
      "metadata": {
        "colab": {
          "base_uri": "https://localhost:8080/"
        },
        "id": "ZecULSyUnyoc",
        "outputId": "771da5c2-3a67-4a54-df0d-327e7451033e"
      },
      "source": [
        "# 왕실의 나이트 p.115\n",
        "input_data = input()\n",
        "col = int(ord(input_data[0]))   # a : 97 , h : 104\n",
        "row = int(input_data[1])\n",
        "count = 0\n",
        "step_list = [(-2,-1),(-2,1),(2,-1),(2,1),(-1,-2),(-1,2),(1,-2),(1,2)]\n",
        "for i,j in step_list:\n",
        "  n_col = col + i\n",
        "  n_row = row + j\n",
        "  if n_col < 97 or n_col > 104 or n_row < 1 or n_row > 8:\n",
        "    continue\n",
        "  count += 1\n",
        "print(count)\n"
      ],
      "execution_count": null,
      "outputs": [
        {
          "output_type": "stream",
          "text": [
            "d3\n",
            "8\n"
          ],
          "name": "stdout"
        }
      ]
    },
    {
      "cell_type": "code",
      "metadata": {
        "colab": {
          "base_uri": "https://localhost:8080/"
        },
        "id": "cxsDW4Rgo5vz",
        "outputId": "292c66d4-8391-41dc-bb71-418d9673b768"
      },
      "source": [
        "# 게임 개발 p.118\n",
        "N,M = map(int, input().split())\n",
        "map_arr = [] #[0 for _ in range(N)] for _ in range(M)\n",
        "x, y, d = map(int, input().split())  # x,y : 첫 위치 / d : 바라보고 있는 방향 - 0:북, 1:동, 2:남, 3:서\n",
        "for i in range(M):\n",
        "  map_arr.append(list(map(int,input().split())))\n",
        "dx = [0,1,0,-1]\n",
        "dy = [1,0,-1,0]\n",
        "count = 1 # 지나간 칸의 개수\n",
        "map_arr[x][y] = 1   # 시작 위치도 이미 지나간 칸 이므로 1로 초기화\n",
        "d_count = 0 # 방향 회전한 횟수 4보다 커지면 네 방향 모두 이미 가본 칸\n",
        "while True :\n",
        "  d = d-1 # 왼쪽 방향을 바라봄\n",
        "  d_count += 1\n",
        "  if d < 0 : d = 3\n",
        "\n",
        "  # 네 방향 모두 갈 수 없는 경우\n",
        "  if d_count > 4 :\n",
        "    back_d = d + 2 if d < 2 else d - 2\n",
        "    back_x = x + dx[back_d]\n",
        "    back_y = y + dy[back_d]     \n",
        "    # 뒤 쪽도 바다인 경우 \n",
        "    if map_arr[back_x][back_y] == 1:\n",
        "      break\n",
        "    else :\n",
        "      x = back_x\n",
        "      y = back_y\n",
        "      d_count = 0\n",
        "    \n",
        "  nx = x + dx[d] # 바라보고 있는 방향의 왼쪽 방향\n",
        "  ny = y + dy[d]\n",
        "\n",
        "  if 0 <= nx < N and 0 <= ny < M and map_arr[nx][ny] == 0 :\n",
        "    x = nx\n",
        "    y = ny\n",
        "    map_arr[x][y] = 1\n",
        "    count += 1\n",
        "    d_count = 0\n",
        "  for i in map_arr:\n",
        "    print(i)\n",
        "print(count)"
      ],
      "execution_count": null,
      "outputs": [
        {
          "output_type": "stream",
          "text": [
            "4 4\n",
            "1 1 0\n",
            "1 1 1 1\n",
            "1 0 0 1\n",
            "1 1 0 1\n",
            "1 1 1 1 \n",
            "[1, 1, 1, 1]\n",
            "[1, 0, 0, 1]\n",
            "[1, 1, 0, 1]\n",
            "[1, 1, 1, 1]\n",
            "[1, 1, 1, 1]\n",
            "[1, 0, 0, 1]\n",
            "[1, 1, 0, 1]\n",
            "[1, 1, 1, 1]\n",
            "[1, 1, 1, 1]\n",
            "[1, 0, 0, 1]\n",
            "[1, 1, 0, 1]\n",
            "[1, 1, 1, 1]\n",
            "[1, 1, 1, 1]\n",
            "[1, 0, 1, 1]\n",
            "[1, 1, 0, 1]\n",
            "[1, 1, 1, 1]\n",
            "[1, 1, 1, 1]\n",
            "[1, 0, 1, 1]\n",
            "[1, 1, 0, 1]\n",
            "[1, 1, 1, 1]\n",
            "[1, 1, 1, 1]\n",
            "[1, 1, 1, 1]\n",
            "[1, 1, 0, 1]\n",
            "[1, 1, 1, 1]\n",
            "[1, 1, 1, 1]\n",
            "[1, 1, 1, 1]\n",
            "[1, 1, 0, 1]\n",
            "[1, 1, 1, 1]\n",
            "[1, 1, 1, 1]\n",
            "[1, 1, 1, 1]\n",
            "[1, 1, 0, 1]\n",
            "[1, 1, 1, 1]\n",
            "[1, 1, 1, 1]\n",
            "[1, 1, 1, 1]\n",
            "[1, 1, 0, 1]\n",
            "[1, 1, 1, 1]\n",
            "[1, 1, 1, 1]\n",
            "[1, 1, 1, 1]\n",
            "[1, 1, 0, 1]\n",
            "[1, 1, 1, 1]\n",
            "3\n"
          ],
          "name": "stdout"
        }
      ]
    },
    {
      "cell_type": "code",
      "metadata": {
        "colab": {
          "base_uri": "https://localhost:8080/"
        },
        "id": "7PIPasI6tVJB",
        "outputId": "d778beee-58de-483f-d328-72adcf64c3b6"
      },
      "source": [
        "# 7. 럭키 스트레이트 - p.321 - 풀이시간 1차 : 2분\n",
        "# 점수 입력\n",
        "n = input()\n",
        "# 나누어 저장할 변수 2개 초기화\n",
        "sum1, sum2 = 0, 0\n",
        "for i in range(0,len(n)):\n",
        "  if i < len(n)//2:\n",
        "    sum1 += int(n[i])\n",
        "  else:\n",
        "    sum2 += int(n[i])\n",
        "answer = \"LUCKY\" if sum1 == sum2 else \"READY\"\n",
        "print(answer)"
      ],
      "execution_count": null,
      "outputs": [
        {
          "output_type": "stream",
          "text": [
            "7755\n",
            "READY\n"
          ],
          "name": "stdout"
        }
      ]
    },
    {
      "cell_type": "code",
      "metadata": {
        "colab": {
          "base_uri": "https://localhost:8080/"
        },
        "id": "LlDYx_0Gu2wp",
        "outputId": "bcec521c-521d-476d-84ec-519aa68fcbf2"
      },
      "source": [
        "# 8. 문자열 재정렬 - p.322 - 풀이시간 1차 : 10분\n",
        "s = input()\n",
        "str_arr = [i for i in s if i.isdigit() != True]\n",
        "num_arr = [int(j) for j in s if j.isdigit() == True]\n",
        "\n",
        "str_arr.sort()\n",
        "arr = str_arr\n",
        "arr.append(sum(num_arr))\n",
        "for i in arr:\n",
        "  print(i, end=\"\")"
      ],
      "execution_count": null,
      "outputs": [
        {
          "output_type": "stream",
          "text": [
            "ajkdlsi412k4jsj9d\n",
            "addijjjkklss20"
          ],
          "name": "stdout"
        }
      ]
    },
    {
      "cell_type": "code",
      "metadata": {
        "colab": {
          "base_uri": "https://localhost:8080/"
        },
        "id": "Y9WP9kBuka1B",
        "outputId": "3762bf1b-0f85-4000-c94e-090c187ee3e2"
      },
      "source": [
        "# 9. 문자열 압축(30분)\n",
        "# 첫 풀이 : 1시간..\n",
        "def solution(s):\n",
        "    answer = 0\n",
        "    n = len(s)//2\n",
        "    result = [len(s)] * (n+1)\n",
        "    for i in range(1,n+1):\n",
        "        count = 1\n",
        "        s2 = \"\"\n",
        "        temp = \"\"\n",
        "        for j in range(0,len(s),i):\n",
        "            if s[j:j+i] == s[j+i:j+2*i]:\n",
        "                count += 1\n",
        "                temp = s[j:j+i]\n",
        "            else:\n",
        "                if count == 1:\n",
        "                    s2 += s[j:j+i]\n",
        "                else:\n",
        "                    s2 += str(count) + temp\n",
        "                    count = 1\n",
        "              \n",
        "        result[i] = len(s2)\n",
        "    answer = min(result)\n",
        "    return answer\n",
        "\n",
        "data = input()\n",
        "solution(data)"
      ],
      "execution_count": null,
      "outputs": [
        {
          "output_type": "stream",
          "text": [
            "xababcdcdababcdcd\n"
          ],
          "name": "stdout"
        },
        {
          "output_type": "execute_result",
          "data": {
            "text/plain": [
              "17"
            ]
          },
          "metadata": {
            "tags": []
          },
          "execution_count": 19
        }
      ]
    },
    {
      "cell_type": "code",
      "metadata": {
        "id": "SwcePYrW1wPe",
        "colab": {
          "base_uri": "https://localhost:8080/",
          "height": 527
        },
        "outputId": "7c53357b-ce00-425e-b76d-697ff535d019"
      },
      "source": [
        "# 10. 자물쇠와 열쇠(40분)\n",
        "# https://programmers.co.kr/learn/courses/30/lessons/60059?language=python3\n",
        "# 30분 + 낼 걸린시간\n",
        "# key를 시계방향으로 90돌리는 함수\n",
        "def rotation_90(key):\n",
        "  m = len(key)\n",
        "  new_key = [[0] * i for i in range(m)]\n",
        "  for a in range(m):\n",
        "    for b in range(m):\n",
        "      new_key[a][b] = key[abs(m-1-b)][a]\n",
        "  return new_key\n",
        "\n",
        "# 자물쇠가 열리는지 확인하는 함수\n",
        "def check(key, lock, x, y):\n",
        "  m = len(key)\n",
        "  count_1 = 0\n",
        "  for i in range(m):\n",
        "    for j in range(m):\n",
        "      if 0 <= i-x < m and 0 <= j-x < m:\n",
        "        lock[i][j] += key[i-x][j-y]\n",
        "  for i in range(len(lock)):\n",
        "    count_1 += lock[i].count(1)\n",
        "  if count_1 == len(lock)*len(lock):\n",
        "    return True\n",
        "  else:\n",
        "    return False\n",
        "def solution(key, lock):\n",
        "    answer = False\n",
        "    num = len(lock) - len(key)\n",
        "    for x in range(-num,num+1,1):\n",
        "      for y in range(-num,num+1,1):\n",
        "        for _ in range(4):\n",
        "          if check(key, lock, x, y) == True:\n",
        "            answer = True\n",
        "            return answer\n",
        "          key = rotation_90(key)\n",
        "    return answer\n",
        "\n",
        "n,m = map(int,input().split())\n",
        "key = []\n",
        "lock = []\n",
        "for _ in range(n):\n",
        "  key.append(list(map(int,input().split())))\n",
        "for _ in range(m):\n",
        "  lock.append(list(map(int,input().split())))\n",
        "print(key)\n",
        "print(lock)\n",
        "print(solution(key,lock))"
      ],
      "execution_count": 11,
      "outputs": [
        {
          "output_type": "stream",
          "text": [
            "2 3\n",
            "0 0\n",
            "0 0\n",
            "1 1 0\n",
            "0 0 1\n",
            "1 1 1\n",
            "[[0, 0], [0, 0]]\n",
            "[[1, 1, 0], [0, 0, 1], [1, 1, 1]]\n"
          ],
          "name": "stdout"
        },
        {
          "output_type": "error",
          "ename": "IndexError",
          "evalue": "ignored",
          "traceback": [
            "\u001b[0;31m---------------------------------------------------------------------------\u001b[0m",
            "\u001b[0;31mIndexError\u001b[0m                                Traceback (most recent call last)",
            "\u001b[0;32m<ipython-input-11-4119737a41fd>\u001b[0m in \u001b[0;36m<module>\u001b[0;34m()\u001b[0m\n\u001b[1;32m     46\u001b[0m \u001b[0mprint\u001b[0m\u001b[0;34m(\u001b[0m\u001b[0mkey\u001b[0m\u001b[0;34m)\u001b[0m\u001b[0;34m\u001b[0m\u001b[0;34m\u001b[0m\u001b[0m\n\u001b[1;32m     47\u001b[0m \u001b[0mprint\u001b[0m\u001b[0;34m(\u001b[0m\u001b[0mlock\u001b[0m\u001b[0;34m)\u001b[0m\u001b[0;34m\u001b[0m\u001b[0;34m\u001b[0m\u001b[0m\n\u001b[0;32m---> 48\u001b[0;31m \u001b[0mprint\u001b[0m\u001b[0;34m(\u001b[0m\u001b[0msolution\u001b[0m\u001b[0;34m(\u001b[0m\u001b[0mkey\u001b[0m\u001b[0;34m,\u001b[0m\u001b[0mlock\u001b[0m\u001b[0;34m)\u001b[0m\u001b[0;34m)\u001b[0m\u001b[0;34m\u001b[0m\u001b[0;34m\u001b[0m\u001b[0m\n\u001b[0m",
            "\u001b[0;32m<ipython-input-11-4119737a41fd>\u001b[0m in \u001b[0;36msolution\u001b[0;34m(key, lock)\u001b[0m\n\u001b[1;32m     34\u001b[0m             \u001b[0manswer\u001b[0m \u001b[0;34m=\u001b[0m \u001b[0;32mTrue\u001b[0m\u001b[0;34m\u001b[0m\u001b[0;34m\u001b[0m\u001b[0m\n\u001b[1;32m     35\u001b[0m             \u001b[0;32mreturn\u001b[0m \u001b[0manswer\u001b[0m\u001b[0;34m\u001b[0m\u001b[0;34m\u001b[0m\u001b[0m\n\u001b[0;32m---> 36\u001b[0;31m           \u001b[0mkey\u001b[0m \u001b[0;34m=\u001b[0m \u001b[0mrotation_90\u001b[0m\u001b[0;34m(\u001b[0m\u001b[0mkey\u001b[0m\u001b[0;34m)\u001b[0m\u001b[0;34m\u001b[0m\u001b[0;34m\u001b[0m\u001b[0m\n\u001b[0m\u001b[1;32m     37\u001b[0m     \u001b[0;32mreturn\u001b[0m \u001b[0manswer\u001b[0m\u001b[0;34m\u001b[0m\u001b[0;34m\u001b[0m\u001b[0m\n\u001b[1;32m     38\u001b[0m \u001b[0;34m\u001b[0m\u001b[0m\n",
            "\u001b[0;32m<ipython-input-11-4119737a41fd>\u001b[0m in \u001b[0;36mrotation_90\u001b[0;34m(key)\u001b[0m\n\u001b[1;32m      8\u001b[0m   \u001b[0;32mfor\u001b[0m \u001b[0ma\u001b[0m \u001b[0;32min\u001b[0m \u001b[0mrange\u001b[0m\u001b[0;34m(\u001b[0m\u001b[0mm\u001b[0m\u001b[0;34m)\u001b[0m\u001b[0;34m:\u001b[0m\u001b[0;34m\u001b[0m\u001b[0;34m\u001b[0m\u001b[0m\n\u001b[1;32m      9\u001b[0m     \u001b[0;32mfor\u001b[0m \u001b[0mb\u001b[0m \u001b[0;32min\u001b[0m \u001b[0mrange\u001b[0m\u001b[0;34m(\u001b[0m\u001b[0mm\u001b[0m\u001b[0;34m)\u001b[0m\u001b[0;34m:\u001b[0m\u001b[0;34m\u001b[0m\u001b[0;34m\u001b[0m\u001b[0m\n\u001b[0;32m---> 10\u001b[0;31m       \u001b[0mnew_key\u001b[0m\u001b[0;34m[\u001b[0m\u001b[0ma\u001b[0m\u001b[0;34m]\u001b[0m\u001b[0;34m[\u001b[0m\u001b[0mb\u001b[0m\u001b[0;34m]\u001b[0m \u001b[0;34m=\u001b[0m \u001b[0mkey\u001b[0m\u001b[0;34m[\u001b[0m\u001b[0mabs\u001b[0m\u001b[0;34m(\u001b[0m\u001b[0mm\u001b[0m\u001b[0;34m-\u001b[0m\u001b[0;36m1\u001b[0m\u001b[0;34m-\u001b[0m\u001b[0mb\u001b[0m\u001b[0;34m)\u001b[0m\u001b[0;34m]\u001b[0m\u001b[0;34m[\u001b[0m\u001b[0ma\u001b[0m\u001b[0;34m]\u001b[0m\u001b[0;34m\u001b[0m\u001b[0;34m\u001b[0m\u001b[0m\n\u001b[0m\u001b[1;32m     11\u001b[0m   \u001b[0;32mreturn\u001b[0m \u001b[0mnew_key\u001b[0m\u001b[0;34m\u001b[0m\u001b[0;34m\u001b[0m\u001b[0m\n\u001b[1;32m     12\u001b[0m \u001b[0;34m\u001b[0m\u001b[0m\n",
            "\u001b[0;31mIndexError\u001b[0m: list assignment index out of range"
          ]
        }
      ]
    },
    {
      "cell_type": "code",
      "metadata": {
        "colab": {
          "base_uri": "https://localhost:8080/"
        },
        "id": "0VCqd-IQx9PW",
        "outputId": "f17ec49c-eb71-4896-9e8b-534bd7f9fdc4"
      },
      "source": [
        "a = [[1,2,3,4],[1,1,1,2]]\n",
        "a[1].count(1)"
      ],
      "execution_count": 8,
      "outputs": [
        {
          "output_type": "execute_result",
          "data": {
            "text/plain": [
              "3"
            ]
          },
          "metadata": {
            "tags": []
          },
          "execution_count": 8
        }
      ]
    },
    {
      "cell_type": "markdown",
      "metadata": {
        "id": "eKnP0oPi4NGa"
      },
      "source": [
        "# Chapter 05. DFS/BFS"
      ]
    },
    {
      "cell_type": "code",
      "metadata": {
        "colab": {
          "base_uri": "https://localhost:8080/",
          "height": 556
        },
        "id": "OpmWHMg-4Umy",
        "outputId": "ebab55f9-a605-4675-e0de-792c43fdfb77"
      },
      "source": [
        "# 음료수 열려 먹기 p.149\n",
        "import sys\n",
        "print(sys.getrecursionlimit())\n",
        "sys.setrecursionlimit(15000)\n",
        "N, M= map(int,input().split())\n",
        "ice_frame = []\n",
        "for _ in range(N):\n",
        "  ice_frame.append(list(map(int,input())))\n",
        "print(ice_frame)\n",
        "# DFS로 특정한 노드를 방문한 뒤에 연결된 모든 노드들도 방문\n",
        "def dfs(x,y):\n",
        "  if x < 0 or x >=N or y < 0 or y >=M:\n",
        "    return False\n",
        "  if ice_frame[x][y] == 0 :\n",
        "    ice_frame[x][y] == 1\n",
        "    dfs(x-1,y)\n",
        "    dfs(x,y-1)\n",
        "    dfs(x+1,y)\n",
        "    dfs(x,y+1)\n",
        "    return True\n",
        "  return False\n",
        "\n",
        "result = 0\n",
        "for i in range(N):\n",
        "  for j in range(M):\n",
        "    if dfs(i,j) == True:\n",
        "      result += 1\n",
        "print(result)"
      ],
      "execution_count": null,
      "outputs": [
        {
          "output_type": "stream",
          "text": [
            "1500\n",
            "4 5\n",
            "00110\n",
            "00011\n",
            "11111\n",
            "00000\n",
            "[[0, 0, 1, 1, 0], [0, 0, 0, 1, 1], [1, 1, 1, 1, 1], [0, 0, 0, 0, 0]]\n"
          ],
          "name": "stdout"
        },
        {
          "output_type": "error",
          "ename": "RecursionError",
          "evalue": "ignored",
          "traceback": [
            "\u001b[0;31m---------------------------------------------------------------------------\u001b[0m",
            "\u001b[0;31mRecursionError\u001b[0m                            Traceback (most recent call last)",
            "\u001b[0;32m<ipython-input-10-67f250c8f460>\u001b[0m in \u001b[0;36m<module>\u001b[0;34m()\u001b[0m\n\u001b[1;32m     24\u001b[0m \u001b[0;32mfor\u001b[0m \u001b[0mi\u001b[0m \u001b[0;32min\u001b[0m \u001b[0mrange\u001b[0m\u001b[0;34m(\u001b[0m\u001b[0mN\u001b[0m\u001b[0;34m)\u001b[0m\u001b[0;34m:\u001b[0m\u001b[0;34m\u001b[0m\u001b[0;34m\u001b[0m\u001b[0m\n\u001b[1;32m     25\u001b[0m   \u001b[0;32mfor\u001b[0m \u001b[0mj\u001b[0m \u001b[0;32min\u001b[0m \u001b[0mrange\u001b[0m\u001b[0;34m(\u001b[0m\u001b[0mM\u001b[0m\u001b[0;34m)\u001b[0m\u001b[0;34m:\u001b[0m\u001b[0;34m\u001b[0m\u001b[0;34m\u001b[0m\u001b[0m\n\u001b[0;32m---> 26\u001b[0;31m     \u001b[0;32mif\u001b[0m \u001b[0mdfs\u001b[0m\u001b[0;34m(\u001b[0m\u001b[0mi\u001b[0m\u001b[0;34m,\u001b[0m\u001b[0mj\u001b[0m\u001b[0;34m)\u001b[0m \u001b[0;34m==\u001b[0m \u001b[0;32mTrue\u001b[0m\u001b[0;34m:\u001b[0m\u001b[0;34m\u001b[0m\u001b[0;34m\u001b[0m\u001b[0m\n\u001b[0m\u001b[1;32m     27\u001b[0m       \u001b[0mresult\u001b[0m \u001b[0;34m+=\u001b[0m \u001b[0;36m1\u001b[0m\u001b[0;34m\u001b[0m\u001b[0;34m\u001b[0m\u001b[0m\n\u001b[1;32m     28\u001b[0m \u001b[0mprint\u001b[0m\u001b[0;34m(\u001b[0m\u001b[0mresult\u001b[0m\u001b[0;34m)\u001b[0m\u001b[0;34m\u001b[0m\u001b[0;34m\u001b[0m\u001b[0m\n",
            "\u001b[0;32m<ipython-input-10-67f250c8f460>\u001b[0m in \u001b[0;36mdfs\u001b[0;34m(x, y)\u001b[0m\n\u001b[1;32m     16\u001b[0m     \u001b[0mdfs\u001b[0m\u001b[0;34m(\u001b[0m\u001b[0mx\u001b[0m\u001b[0;34m-\u001b[0m\u001b[0;36m1\u001b[0m\u001b[0;34m,\u001b[0m\u001b[0my\u001b[0m\u001b[0;34m)\u001b[0m\u001b[0;34m\u001b[0m\u001b[0;34m\u001b[0m\u001b[0m\n\u001b[1;32m     17\u001b[0m     \u001b[0mdfs\u001b[0m\u001b[0;34m(\u001b[0m\u001b[0mx\u001b[0m\u001b[0;34m,\u001b[0m\u001b[0my\u001b[0m\u001b[0;34m-\u001b[0m\u001b[0;36m1\u001b[0m\u001b[0;34m)\u001b[0m\u001b[0;34m\u001b[0m\u001b[0;34m\u001b[0m\u001b[0m\n\u001b[0;32m---> 18\u001b[0;31m     \u001b[0mdfs\u001b[0m\u001b[0;34m(\u001b[0m\u001b[0mx\u001b[0m\u001b[0;34m+\u001b[0m\u001b[0;36m1\u001b[0m\u001b[0;34m,\u001b[0m\u001b[0my\u001b[0m\u001b[0;34m)\u001b[0m\u001b[0;34m\u001b[0m\u001b[0;34m\u001b[0m\u001b[0m\n\u001b[0m\u001b[1;32m     19\u001b[0m     \u001b[0mdfs\u001b[0m\u001b[0;34m(\u001b[0m\u001b[0mx\u001b[0m\u001b[0;34m,\u001b[0m\u001b[0my\u001b[0m\u001b[0;34m+\u001b[0m\u001b[0;36m1\u001b[0m\u001b[0;34m)\u001b[0m\u001b[0;34m\u001b[0m\u001b[0;34m\u001b[0m\u001b[0m\n\u001b[1;32m     20\u001b[0m     \u001b[0;32mreturn\u001b[0m \u001b[0;32mTrue\u001b[0m\u001b[0;34m\u001b[0m\u001b[0;34m\u001b[0m\u001b[0m\n",
            "\u001b[0;32m<ipython-input-10-67f250c8f460>\u001b[0m in \u001b[0;36mdfs\u001b[0;34m(x, y)\u001b[0m\n\u001b[1;32m     14\u001b[0m   \u001b[0;32mif\u001b[0m \u001b[0mice_frame\u001b[0m\u001b[0;34m[\u001b[0m\u001b[0mx\u001b[0m\u001b[0;34m]\u001b[0m\u001b[0;34m[\u001b[0m\u001b[0my\u001b[0m\u001b[0;34m]\u001b[0m \u001b[0;34m==\u001b[0m \u001b[0;36m0\u001b[0m \u001b[0;34m:\u001b[0m\u001b[0;34m\u001b[0m\u001b[0;34m\u001b[0m\u001b[0m\n\u001b[1;32m     15\u001b[0m     \u001b[0mice_frame\u001b[0m\u001b[0;34m[\u001b[0m\u001b[0mx\u001b[0m\u001b[0;34m]\u001b[0m\u001b[0;34m[\u001b[0m\u001b[0my\u001b[0m\u001b[0;34m]\u001b[0m \u001b[0;34m==\u001b[0m \u001b[0;36m1\u001b[0m\u001b[0;34m\u001b[0m\u001b[0;34m\u001b[0m\u001b[0m\n\u001b[0;32m---> 16\u001b[0;31m     \u001b[0mdfs\u001b[0m\u001b[0;34m(\u001b[0m\u001b[0mx\u001b[0m\u001b[0;34m-\u001b[0m\u001b[0;36m1\u001b[0m\u001b[0;34m,\u001b[0m\u001b[0my\u001b[0m\u001b[0;34m)\u001b[0m\u001b[0;34m\u001b[0m\u001b[0;34m\u001b[0m\u001b[0m\n\u001b[0m\u001b[1;32m     17\u001b[0m     \u001b[0mdfs\u001b[0m\u001b[0;34m(\u001b[0m\u001b[0mx\u001b[0m\u001b[0;34m,\u001b[0m\u001b[0my\u001b[0m\u001b[0;34m-\u001b[0m\u001b[0;36m1\u001b[0m\u001b[0;34m)\u001b[0m\u001b[0;34m\u001b[0m\u001b[0;34m\u001b[0m\u001b[0m\n\u001b[1;32m     18\u001b[0m     \u001b[0mdfs\u001b[0m\u001b[0;34m(\u001b[0m\u001b[0mx\u001b[0m\u001b[0;34m+\u001b[0m\u001b[0;36m1\u001b[0m\u001b[0;34m,\u001b[0m\u001b[0my\u001b[0m\u001b[0;34m)\u001b[0m\u001b[0;34m\u001b[0m\u001b[0;34m\u001b[0m\u001b[0m\n",
            "... last 2 frames repeated, from the frame below ...\n",
            "\u001b[0;32m<ipython-input-10-67f250c8f460>\u001b[0m in \u001b[0;36mdfs\u001b[0;34m(x, y)\u001b[0m\n\u001b[1;32m     16\u001b[0m     \u001b[0mdfs\u001b[0m\u001b[0;34m(\u001b[0m\u001b[0mx\u001b[0m\u001b[0;34m-\u001b[0m\u001b[0;36m1\u001b[0m\u001b[0;34m,\u001b[0m\u001b[0my\u001b[0m\u001b[0;34m)\u001b[0m\u001b[0;34m\u001b[0m\u001b[0;34m\u001b[0m\u001b[0m\n\u001b[1;32m     17\u001b[0m     \u001b[0mdfs\u001b[0m\u001b[0;34m(\u001b[0m\u001b[0mx\u001b[0m\u001b[0;34m,\u001b[0m\u001b[0my\u001b[0m\u001b[0;34m-\u001b[0m\u001b[0;36m1\u001b[0m\u001b[0;34m)\u001b[0m\u001b[0;34m\u001b[0m\u001b[0;34m\u001b[0m\u001b[0m\n\u001b[0;32m---> 18\u001b[0;31m     \u001b[0mdfs\u001b[0m\u001b[0;34m(\u001b[0m\u001b[0mx\u001b[0m\u001b[0;34m+\u001b[0m\u001b[0;36m1\u001b[0m\u001b[0;34m,\u001b[0m\u001b[0my\u001b[0m\u001b[0;34m)\u001b[0m\u001b[0;34m\u001b[0m\u001b[0;34m\u001b[0m\u001b[0m\n\u001b[0m\u001b[1;32m     19\u001b[0m     \u001b[0mdfs\u001b[0m\u001b[0;34m(\u001b[0m\u001b[0mx\u001b[0m\u001b[0;34m,\u001b[0m\u001b[0my\u001b[0m\u001b[0;34m+\u001b[0m\u001b[0;36m1\u001b[0m\u001b[0;34m)\u001b[0m\u001b[0;34m\u001b[0m\u001b[0;34m\u001b[0m\u001b[0m\n\u001b[1;32m     20\u001b[0m     \u001b[0;32mreturn\u001b[0m \u001b[0;32mTrue\u001b[0m\u001b[0;34m\u001b[0m\u001b[0;34m\u001b[0m\u001b[0m\n",
            "\u001b[0;31mRecursionError\u001b[0m: maximum recursion depth exceeded in comparison"
          ]
        }
      ]
    },
    {
      "cell_type": "code",
      "metadata": {
        "id": "Cx1tZgnx9du1",
        "colab": {
          "base_uri": "https://localhost:8080/"
        },
        "outputId": "b0934f40-2530-4997-cb22-541adedf1487"
      },
      "source": [
        "# 미로 탈출 p.152\n",
        "from collections import deque\n",
        "\n",
        "n, m = map(int,input().split())\n",
        "graph = []\n",
        "for _ in range(n):\n",
        "  graph.append(list(map(int, input())))\n",
        "print(graph)\n",
        "\n",
        "dx = [-1,1,0,0] # 상, 하, 좌, 우\n",
        "dy = [0,0,-1,1]\n",
        "\n",
        "\n",
        "def bfs(x,y):\n",
        "  queue = deque()\n",
        "  queue.append((x,y))\n",
        "  \n",
        "  count = 1\n",
        "  while queue:\n",
        "    # 큐에서 하나의 원소를 뽑아 값 +1\n",
        "    x, y = queue.popleft()\n",
        "\n",
        "    for i in range(4):\n",
        "      nx = x + dx[i]\n",
        "      ny = y + dy[i]\n",
        "      # nx,ny가 범위를 벗어난 경우\n",
        "      if nx < 0 or ny < 0 or nx >= n or ny >= m:\n",
        "        continue\n",
        "      if graph[nx][ny] == 0:\n",
        "        continue\n",
        "      if graph[nx][ny] == 1:\n",
        "        graph[nx][ny] = graph[x][y] + 1\n",
        "        queue.append((nx,ny))\n",
        "  return graph[n-1][m-1]\n",
        "\n",
        "print(bfs(0,0))"
      ],
      "execution_count": null,
      "outputs": [
        {
          "output_type": "stream",
          "text": [
            "5 6\n",
            "101010\n",
            "111111\n",
            "000001\n",
            "111111\n",
            "111111\n",
            "[[1, 0, 1, 0, 1, 0], [1, 1, 1, 1, 1, 1], [0, 0, 0, 0, 0, 1], [1, 1, 1, 1, 1, 1], [1, 1, 1, 1, 1, 1]]\n",
            "10\n"
          ],
          "name": "stdout"
        }
      ]
    },
    {
      "cell_type": "code",
      "metadata": {
        "colab": {
          "base_uri": "https://localhost:8080/"
        },
        "id": "94kleY9MZSWC",
        "outputId": "dbdd68ed-a9a4-4f23-8e89-e94bb3d4dff2"
      },
      "source": [
        "s = (1,2)\n",
        "print(s[0])\n",
        "print(s[1])"
      ],
      "execution_count": null,
      "outputs": [
        {
          "output_type": "stream",
          "text": [
            "1\n",
            "2\n"
          ],
          "name": "stdout"
        }
      ]
    },
    {
      "cell_type": "markdown",
      "metadata": {
        "id": "irdRuKkR-So4"
      },
      "source": [
        "# Chapter 06. 정렬"
      ]
    },
    {
      "cell_type": "code",
      "metadata": {
        "id": "heBkvlCnFhqX"
      },
      "source": [
        "array = [7,5,9,0,3,1,6,2,9,1,4,8,0,5,2]"
      ],
      "execution_count": null,
      "outputs": []
    },
    {
      "cell_type": "code",
      "metadata": {
        "colab": {
          "base_uri": "https://localhost:8080/"
        },
        "id": "fAJmy5iR-c4i",
        "outputId": "01e532dd-549d-4c92-f3c3-d1b3961210f2"
      },
      "source": [
        "# 선택 정렬 - O(N^2)\n",
        "import time\n",
        "#array = [5, 7, 9, 0, 3, 1, 6, 2, 4, 8]\n",
        "s = time.time()\n",
        "\n",
        "for i in range(len(array)):\n",
        "  min_idx = i   # 가장 작은 원소의 인덱스\n",
        "  for j in range(i+1, len(array)):\n",
        "    if array[j] < array[min_idx]:\n",
        "      min_idx = j\n",
        "  array[i], array[min_idx] = array[min_idx], array[i]  # swap\n",
        "print(array)\n",
        "f = time.time()\n",
        "print(f-s)"
      ],
      "execution_count": null,
      "outputs": [
        {
          "output_type": "stream",
          "text": [
            "[0, 0, 1, 1, 2, 2, 3, 4, 5, 5, 6, 7, 8, 9, 9]\n",
            "0.0005729198455810547\n"
          ],
          "name": "stdout"
        }
      ]
    },
    {
      "cell_type": "code",
      "metadata": {
        "colab": {
          "base_uri": "https://localhost:8080/"
        },
        "id": "z1iUFXvo_PFg",
        "outputId": "9334db73-06c2-4293-b2b8-d25d9a88fe9c"
      },
      "source": [
        "# 삽입 정렬 - O(N^2)\n",
        "import time\n",
        "#array = [5, 7, 9, 0, 3, 1, 6, 2, 4, 8]\n",
        "s = time.time()\n",
        "\n",
        "for i in range(1,len(array)):\n",
        "  for j in range(i,0,-1): # 인덱스 i부터 1까지 감소하며 반복하는 문법\n",
        "    if array[j] < array[j-1]: # 한칸씩 왼쪽으로 이동\n",
        "      array[j], array[j-1] = array[j-1], array[j]\n",
        "    else : # 자기보다 작은 데이터를 만나면 그 위치에서 멈춤\n",
        "      break\n",
        "print(array)\n",
        "f = time.time()\n",
        "print(f-s)"
      ],
      "execution_count": null,
      "outputs": [
        {
          "output_type": "stream",
          "text": [
            "[0, 0, 1, 1, 2, 2, 3, 4, 5, 5, 6, 7, 8, 9, 9]\n",
            "0.00025177001953125\n"
          ],
          "name": "stdout"
        }
      ]
    },
    {
      "cell_type": "code",
      "metadata": {
        "colab": {
          "base_uri": "https://localhost:8080/"
        },
        "id": "JzSTdLa1AZU6",
        "outputId": "c8414a17-6f34-47db-9ae5-d707dee7ecd4"
      },
      "source": [
        "# 퀵 정렬 - 대중적 코드 - O(N*logN)\n",
        "import time\n",
        "#array = [5, 7, 9, 0, 3, 1, 6, 2, 4, 8]\n",
        "s = time.time()\n",
        "\n",
        "def quick_sort(array, start, end):\n",
        "  if start >= end:  # 원소가 1개인 경우 종료\n",
        "    return\n",
        "  pivot = start # 피벗은 첫 번째 원소\n",
        "  left = start + 1\n",
        "  right = end\n",
        "  while left <= right:\n",
        "    # 피벗보다 큰 데이터를 찾을 때까지 반복\n",
        "    while left <= end and array[left] <= array[pivot]:\n",
        "      left += 1\n",
        "    # 피벗보다 작은 데이터를 찾을 때까지 반복\n",
        "    while right > start and array[right] >= array[pivot]:\n",
        "      right -= 1\n",
        "    if left > right : # 엇갈렸다면 작은 데이터와 피벗을 교체\n",
        "      array[right], array[pivot] = array[pivot], array[right]\n",
        "    else: # 엇갈리지 않았다면 작은 데이터와 큰 데이터를 교체\n",
        "      array[left], array[right] = array[right], array[left]\n",
        "  # 분할 이후 왼쪽 부분과 오른쪽 부분에서 각각 정렬 수행\n",
        "  quick_sort(array, start, right-1)\n",
        "  quick_sort(array, right+1, end)\n",
        "\n",
        "quick_sort(array, 0, len(array)-1)\n",
        "print(array)\n",
        "f = time.time()\n",
        "print(f-s)"
      ],
      "execution_count": null,
      "outputs": [
        {
          "output_type": "stream",
          "text": [
            "[0, 0, 1, 1, 2, 2, 3, 4, 5, 5, 6, 7, 8, 9, 9]\n",
            "0.0010879039764404297\n"
          ],
          "name": "stdout"
        }
      ]
    },
    {
      "cell_type": "code",
      "metadata": {
        "colab": {
          "base_uri": "https://localhost:8080/"
        },
        "id": "L93ZWR6yC6U3",
        "outputId": "901bb384-ef98-4320-c4cb-d4a8fd89a17a"
      },
      "source": [
        "# 퀵 정렬 - 파이썬의 장점을 살려서\n",
        "import time\n",
        "#array = [5, 7, 9, 0, 3, 1, 6, 2, 4, 8]\n",
        "s = time.time()\n",
        "def quick_sort2(array):\n",
        "  # 리스트가 하나 이하의 원소만을 담고 있다면 종료\n",
        "  if len(array) <= 1:\n",
        "    return array\n",
        "  \n",
        "  pivot = array[0] # 피벗은 첫 번째 원소\n",
        "  tail = array[1:] # 피벗을 제외한 리스트\n",
        "\n",
        "  left_side = [x for x in tail if x <= pivot] # 분할된 왼쪽 부분\n",
        "  right_side = [x for x in tail if x > pivot] # 분할된 오른쪽 부분\n",
        "\n",
        "  # 분할 이후 왼쪽 부분과 오른쪽 부분에서 각각 정렬을 수행하고, 전체 리스트를 반환\n",
        "  return quick_sort2(left_side) + [pivot] + quick_sort2(right_side)\n",
        "\n",
        "print(quick_sort2(array))\n",
        "f = time.time()\n",
        "print(f-s)"
      ],
      "execution_count": null,
      "outputs": [
        {
          "output_type": "stream",
          "text": [
            "[0, 0, 1, 1, 2, 2, 3, 4, 5, 5, 6, 7, 8, 9, 9]\n",
            "0.0011942386627197266\n"
          ],
          "name": "stdout"
        }
      ]
    },
    {
      "cell_type": "code",
      "metadata": {
        "colab": {
          "base_uri": "https://localhost:8080/"
        },
        "id": "XX-o7C0SAZdI",
        "outputId": "d73b2d24-39f5-4fd9-fc5c-138cf313b523"
      },
      "source": [
        "# 계수 정렬 - O(N+K)  /  N : 데이터개수, K : 데이터 중 최댓값\n",
        "import time\n",
        "# 모든 원소의 값이 0보다 크거나 같다고 가정\n",
        "#array = [7,5,9,0,3,1,6,2,9,1,4,8,0,5,2]\n",
        "\n",
        "s = time.time()\n",
        "\n",
        "# 모든 범위를 포함하는 리스트 선언(모든 값은 0으로 초기화)\n",
        "count = [0] * (max(array) + 1)\n",
        "\n",
        "for i in array:\n",
        "  count[i] += 1 # 각 데이터에 해당하는 인덱스의 값 증가\n",
        "\n",
        "for i in range(len(count)): # 리스트에 기록된 정렬 정보 확인\n",
        "  for j in range(count[i]):\n",
        "    print(i, end=\" \")   # 띄어쓰기를 구분으로 등장한 횟수만큼 인덱스 출력\n",
        "print()\n",
        "f = time.time()\n",
        "print(f-s)"
      ],
      "execution_count": null,
      "outputs": [
        {
          "output_type": "stream",
          "text": [
            "0 0 1 1 2 2 3 4 5 5 6 7 8 9 9 \n",
            "0.0035576820373535156\n"
          ],
          "name": "stdout"
        }
      ]
    },
    {
      "cell_type": "code",
      "metadata": {
        "colab": {
          "base_uri": "https://localhost:8080/"
        },
        "id": "v5HTYO7CIqET",
        "outputId": "c68eae35-76b8-457a-83af-25025f7cc432"
      },
      "source": [
        "# 파이썬의 정렬 라이브러리 - O(N*logN) 퀵정렬보다 빠름.\n",
        "import time\n",
        "s = time.time()\n",
        "\n",
        "result = sorted(array)\n",
        "print(result)\n",
        "\n",
        "f = time.time()\n",
        "print(f-s)"
      ],
      "execution_count": null,
      "outputs": [
        {
          "output_type": "stream",
          "text": [
            "[0, 0, 1, 1, 2, 2, 3, 4, 5, 5, 6, 7, 8, 9, 9]\n",
            "0.0009853839874267578\n"
          ],
          "name": "stdout"
        }
      ]
    },
    {
      "cell_type": "code",
      "metadata": {
        "colab": {
          "base_uri": "https://localhost:8080/"
        },
        "id": "L6iwPYZaKAhC",
        "outputId": "24d301fd-2b0a-413e-a515-ba05ba0ea711"
      },
      "source": [
        "# 성적이 낮은 순서로 학생 출력하기 - p.180\n",
        "n = int(input())\n",
        "\n",
        "arr = []\n",
        "for _ in range(n):\n",
        "  input_data = input().split()\n",
        "  # 이름은 문자열 그래도, 숫자는 int로 바꾸어서 튜플로 저장\n",
        "  arr.append((input_data[0], int(input_data[1])))\n",
        "\n",
        "arr.sort(key=lambda a: as[1])\n",
        "\n",
        "for student in arr:\n",
        "  print(student[0], end = \" \")"
      ],
      "execution_count": null,
      "outputs": [
        {
          "output_type": "stream",
          "text": [
            "3\n",
            "fdsf 34\n",
            "fdsfdg 3\n",
            "dfgs 56\n",
            "fdsfdg fdsf dfgs "
          ],
          "name": "stdout"
        }
      ]
    },
    {
      "cell_type": "code",
      "metadata": {
        "colab": {
          "base_uri": "https://localhost:8080/"
        },
        "id": "VzP4XymwL5te",
        "outputId": "80bac3ad-fe9c-4f5f-bab9-e95009fcbb2f"
      },
      "source": [
        "# 두 배열의 원소 교체\n",
        "n, k = map(int, input().split())\n",
        "a = list(map(int,input().split()))\n",
        "b = list(map(int,input().split()))\n",
        "a.sort()\n",
        "b.sort(reverse=True)\n",
        "for i in range(k):\n",
        "  if a[i] < b[i]:\n",
        "    a[i], b[i] = b[i], a[i]\n",
        "  else:\n",
        "    break\n",
        "print(a)\n",
        "print(sum(a))"
      ],
      "execution_count": null,
      "outputs": [
        {
          "output_type": "stream",
          "text": [
            "5 3\n",
            "1 2 5 4 3\n",
            "5 5 6 6 5\n",
            "[6, 6, 5, 4, 5]\n",
            "26\n"
          ],
          "name": "stdout"
        }
      ]
    },
    {
      "cell_type": "markdown",
      "metadata": {
        "id": "cO6s87e5hoWT"
      },
      "source": [
        "# Chapter 07. 이진 탐색\n",
        "탐색 범위를 반으로 좁혀가며 빠르게 탐색하는 알고리즘"
      ]
    },
    {
      "cell_type": "code",
      "metadata": {
        "colab": {
          "base_uri": "https://localhost:8080/"
        },
        "id": "y3bKo3Lzhxby",
        "outputId": "5382b4b9-76d8-4727-9bff-503c75ef598b"
      },
      "source": [
        "# 재귀로 구현\n",
        "def binary_search(array, target, start, end):\n",
        "  if start > end:\n",
        "    return None\n",
        "  mid = (start + end)//2\n",
        "  # 찾은 경우 중간점 인덱스 반환\n",
        "  if array[mid] == target:\n",
        "    return mid\n",
        "  # 중간점의 값보다 찾고자 하는 값이 작은 경우 왼쪽 확인\n",
        "  elif array[mid] > target:\n",
        "    return binary_search(array, target, start, mid - 1)\n",
        "  # 중간점의 값보다 찾고자 하는 값이 큰 경우 오른쪽 확인\n",
        "  else:\n",
        "    return binary_search(array, target, mid + 1, end)\n",
        "\n",
        "# n(원소의 개수)과 target(찾고자 하는 문자열)을 입력받기\n",
        "n, target = list(map(int, input().split()))\n",
        "# 전체 원소 입력받기\n",
        "array = list(map(int, input().split()))\n",
        "\n",
        "# 이진 탐색 수행 결과 출력\n",
        "result = binary_search(array, target, 0, n-1)\n",
        "if result == None:\n",
        "  print(\"원소가 존재하지 않습니다.\")\n",
        "else:\n",
        "  print(\"{}번째에 있습니다\".format(result+1))"
      ],
      "execution_count": null,
      "outputs": [
        {
          "output_type": "stream",
          "text": [
            "3 1\n",
            "2 3 45\n",
            "원소가 존재하지 않습니다.\n"
          ],
          "name": "stdout"
        }
      ]
    },
    {
      "cell_type": "code",
      "metadata": {
        "colab": {
          "base_uri": "https://localhost:8080/"
        },
        "id": "6GryuIksqHki",
        "outputId": "a5f5b976-b7b4-45fd-dd82-2192e275582b"
      },
      "source": [
        "# 반복문으로 구현\n",
        "def binary_search2(array, target, start, end):\n",
        "  while start <= end:\n",
        "    mid = (start + end) // 2\n",
        "    # 찾은 경우 중간점 인덱스 반환\n",
        "    if array[mid] == target:\n",
        "      return mid\n",
        "    # 중간점의 값보다 찾고자 하는 값이 작은 경우 왼쪽 확인\n",
        "    elif array[mid] > target:\n",
        "      end = mid - 1\n",
        "    # 중간점의 값보다 찾고자 하는 값이 큰 경우 오른쪽 확인\n",
        "    else:\n",
        "      start = mid + 1\n",
        "  return None\n",
        "\n",
        "# n(원소의 개수)과 target(찾고자 하는 문자열)을 입력받기\n",
        "n, target = list(map(int, input().split()))\n",
        "# 전체 원소 입력받기\n",
        "array = list(map(int, input().split()))\n",
        "\n",
        "# 이진 탐색 수행 결과 출력\n",
        "result = binary_search2(array, target, 0, n-1)\n",
        "if result == None:\n",
        "  print(\"원소가 존재하지 않습니다.\")\n",
        "else:\n",
        "  print(\"{}번째에 있습니다\".format(result+1))"
      ],
      "execution_count": null,
      "outputs": [
        {
          "output_type": "stream",
          "text": [
            "2 3\n",
            "15 41\n",
            "원소가 존재하지 않습니다.\n"
          ],
          "name": "stdout"
        }
      ]
    },
    {
      "cell_type": "code",
      "metadata": {
        "colab": {
          "base_uri": "https://localhost:8080/"
        },
        "id": "qAx0pvrzsIga",
        "outputId": "cffceb50-8697-48ba-a6ee-9114a3c88ddb"
      },
      "source": [
        "# 부품찾기 - p.197\n",
        "def bs(array, target, start, end):\n",
        "  while start <= end:\n",
        "    mid = (start + end) // 2\n",
        "    if array[mid] == target:\n",
        "      return target\n",
        "    elif array[mid] < target:\n",
        "      start = mid + 1\n",
        "    else:\n",
        "      end = mid - 1\n",
        "  return None\n",
        "\n",
        "n = int(input())\n",
        "exist = list(map(int,input().split()))\n",
        "m = int(input())\n",
        "need = list(map(int,input().split()))\n",
        "\n",
        "for i in need:\n",
        "  if bs(exist, i, 0, n-1) == None:\n",
        "    print(\"no\", end = \" \")\n",
        "  else:\n",
        "    print(\"yes\", end = \" \")"
      ],
      "execution_count": null,
      "outputs": [
        {
          "output_type": "stream",
          "text": [
            "5\n",
            "8 3 7 9 2\n",
            "3\n",
            "5 7 9\n",
            "no yes yes "
          ],
          "name": "stdout"
        }
      ]
    },
    {
      "cell_type": "code",
      "metadata": {
        "colab": {
          "base_uri": "https://localhost:8080/"
        },
        "id": "ZfPQ_9xtt5H7",
        "outputId": "22a7a8de-d46a-4a9c-a183-0ae2f013c598"
      },
      "source": [
        "# 떡볶이 떡 만들기 - p.201\n",
        "# n : 떡의 개수, m : 떡의 길이\n",
        "n, m = map(int, input().split())\n",
        "tteok = list(map(int,input().split()))\n",
        "h = max(tteok)\n",
        "# sum >= m 인 h의 최대값\n",
        "for i in range(h,0,-1):\n",
        "  sum = 0\n",
        "  for j in tteok:\n",
        "    if j-i >= 0:\n",
        "      sum += j-i\n",
        "  if sum >= m:\n",
        "    print(i)\n",
        "    break\n"
      ],
      "execution_count": null,
      "outputs": [
        {
          "output_type": "stream",
          "text": [
            "4 6\n",
            "19 15 10 17\n",
            "15\n"
          ],
          "name": "stdout"
        }
      ]
    },
    {
      "cell_type": "markdown",
      "metadata": {
        "id": "gbCLf4Njiw5s"
      },
      "source": [
        "# Chapter 08. 다이나믹 프로그래밍\n",
        "한 번 계산한 문제는 다시 계산하지 않도록 하는 알고리즘"
      ]
    },
    {
      "cell_type": "code",
      "metadata": {
        "colab": {
          "base_uri": "https://localhost:8080/"
        },
        "id": "aTYAGn0Ci3X_",
        "outputId": "131bd9d4-9753-4905-c075-d91ccb9f7337"
      },
      "source": [
        "# 1로 만들기 - p.217\n",
        "dp = [0]*30001\n",
        "dp[2] = 1\n",
        "dp[3] = 1\n",
        "for i in range(4,30001):\n",
        "  a = 30001\n",
        "  b = 30001\n",
        "  c = 30001\n",
        "  if i%5 == 0:\n",
        "    a = dp[i//5]\n",
        "  if i%3 == 0:\n",
        "    b = dp[i//3]\n",
        "  if i%2 == 0:\n",
        "    c = dp[i//2]\n",
        "  dp[i] = 1 + min(a, b, c, dp[i-1])\n",
        "\n",
        "print(dp[int(input())])"
      ],
      "execution_count": null,
      "outputs": [
        {
          "output_type": "stream",
          "text": [
            "30000\n",
            "8\n"
          ],
          "name": "stdout"
        }
      ]
    },
    {
      "cell_type": "code",
      "metadata": {
        "colab": {
          "base_uri": "https://localhost:8080/"
        },
        "id": "BjWOJyHhojdI",
        "outputId": "9a320ee9-6432-47d3-96ae-9e10443bf186"
      },
      "source": [
        "# 개미 전사 - p.220\n",
        "n = int(input()) # 식량 창고 개수\n",
        "k = list(map(int,input().split())) # 각 식량차고에 저장된 식량 개수\n",
        "dp = [0]*n\n",
        "dp[0] = k[0]\n",
        "dp[1] = max(k[0],k[1])\n",
        "for i in range(2,n):\n",
        "  dp[i] = max(dp[i-1], dp[i-2]+k[i])\n",
        "print(dp[n-1])"
      ],
      "execution_count": null,
      "outputs": [
        {
          "output_type": "stream",
          "text": [
            "5\n",
            "1 2 3 5 9\n",
            "13\n"
          ],
          "name": "stdout"
        }
      ]
    },
    {
      "cell_type": "code",
      "metadata": {
        "colab": {
          "base_uri": "https://localhost:8080/"
        },
        "id": "sFyxt31Lomit",
        "outputId": "736a7062-6059-42a4-cd5b-d29a853efc22"
      },
      "source": [
        "# 바닥 공사 - p.223\n",
        "n = int(input())\n",
        "dp = [0]*(n+1)\n",
        "dp[1] = 1\n",
        "dp[2] = 2 + 1\n",
        "#dp[3] = dp[2] + dp[1]*2\n",
        "for i in range(3,n+1):\n",
        "  dp[i] = (dp[i-1] + dp[i-2]*2)%796795\n",
        "print(dp[n])"
      ],
      "execution_count": null,
      "outputs": [
        {
          "output_type": "stream",
          "text": [
            "4\n",
            "11\n"
          ],
          "name": "stdout"
        }
      ]
    },
    {
      "cell_type": "code",
      "metadata": {
        "colab": {
          "base_uri": "https://localhost:8080/",
          "height": 256
        },
        "id": "uMiaeKyPsGDg",
        "outputId": "2d0b3550-0113-4aac-9f2a-18d80a2c037c"
      },
      "source": [
        "# 효율적인 화폐 구성 - p.226\n",
        "n,m = map(int,input().split()) # n:화폐종류, m:가치의 합\n",
        "kinds = []\n",
        "for i in range(n):\n",
        "  kinds.append(int(input()))\n",
        "kinds.sort()\n",
        "\n",
        "d = [10001]*(m+1)\n",
        "\n",
        "for i in range(1, m+1):\n",
        "  if i < min(kinds):\n",
        "    continue\n",
        "  if i in kinds:\n",
        "    d[i] = 1\n",
        "    continue\n",
        "  for j in range(1,i//2+1):\n",
        "    if d[i-j] != 10001 and d[j] != 10001 :\n",
        "       if d[i] > d[i-j] + d[j]:\n",
        "         d[i] = d[i-j] + d[j]\n",
        "if d[n] == 10001:\n",
        "  print(-1)\n",
        "else:\n",
        "  print(d[m])\n",
        "print(d)\n",
        "\n"
      ],
      "execution_count": null,
      "outputs": [
        {
          "output_type": "error",
          "ename": "ValueError",
          "evalue": "ignored",
          "traceback": [
            "\u001b[0;31m---------------------------------------------------------------------------\u001b[0m",
            "\u001b[0;31mValueError\u001b[0m                                Traceback (most recent call last)",
            "\u001b[0;32m<ipython-input-5-ea3a71e9d173>\u001b[0m in \u001b[0;36m<module>\u001b[0;34m()\u001b[0m\n\u001b[1;32m      1\u001b[0m \u001b[0;31m# 효율적인 화폐 구성 - p.226\u001b[0m\u001b[0;34m\u001b[0m\u001b[0;34m\u001b[0m\u001b[0;34m\u001b[0m\u001b[0m\n\u001b[0;32m----> 2\u001b[0;31m \u001b[0mn\u001b[0m\u001b[0;34m,\u001b[0m\u001b[0mm\u001b[0m \u001b[0;34m=\u001b[0m \u001b[0mmap\u001b[0m\u001b[0;34m(\u001b[0m\u001b[0mint\u001b[0m\u001b[0;34m,\u001b[0m\u001b[0minput\u001b[0m\u001b[0;34m(\u001b[0m\u001b[0;34m)\u001b[0m\u001b[0;34m.\u001b[0m\u001b[0msplit\u001b[0m\u001b[0;34m(\u001b[0m\u001b[0;34m)\u001b[0m\u001b[0;34m)\u001b[0m \u001b[0;31m# n:화폐종류, m:가치의 합\u001b[0m\u001b[0;34m\u001b[0m\u001b[0;34m\u001b[0m\u001b[0m\n\u001b[0m\u001b[1;32m      3\u001b[0m \u001b[0mkinds\u001b[0m \u001b[0;34m=\u001b[0m \u001b[0;34m[\u001b[0m\u001b[0;34m]\u001b[0m\u001b[0;34m\u001b[0m\u001b[0;34m\u001b[0m\u001b[0m\n\u001b[1;32m      4\u001b[0m \u001b[0;32mfor\u001b[0m \u001b[0mi\u001b[0m \u001b[0;32min\u001b[0m \u001b[0mrange\u001b[0m\u001b[0;34m(\u001b[0m\u001b[0mn\u001b[0m\u001b[0;34m)\u001b[0m\u001b[0;34m:\u001b[0m\u001b[0;34m\u001b[0m\u001b[0;34m\u001b[0m\u001b[0m\n\u001b[1;32m      5\u001b[0m   \u001b[0mkinds\u001b[0m\u001b[0;34m.\u001b[0m\u001b[0mappend\u001b[0m\u001b[0;34m(\u001b[0m\u001b[0mint\u001b[0m\u001b[0;34m(\u001b[0m\u001b[0minput\u001b[0m\u001b[0;34m(\u001b[0m\u001b[0;34m)\u001b[0m\u001b[0;34m)\u001b[0m\u001b[0;34m)\u001b[0m\u001b[0;34m\u001b[0m\u001b[0;34m\u001b[0m\u001b[0m\n",
            "\u001b[0;31mValueError\u001b[0m: not enough values to unpack (expected 2, got 0)"
          ]
        }
      ]
    },
    {
      "cell_type": "markdown",
      "metadata": {
        "id": "M6mb5N01at6u"
      },
      "source": [
        "# Chapter 09. 최단경로\n",
        "특정 지점까지 가장 빠르게 도달하는 방법을 찾는 알고리즘\n",
        "- 다익스트라 알고리즘 : 한 지점에서 다른 특정 지점까지의 최단 경로 구하기\n",
        "- 플로이드 워셜 알고리즘 : 모든 지점에서 다른 모든 지점까지의 최단 경로를 모두 구하기"
      ]
    },
    {
      "cell_type": "code",
      "metadata": {
        "colab": {
          "base_uri": "https://localhost:8080/"
        },
        "id": "Ybz3mZtba0eN",
        "outputId": "54b9f421-6327-4835-c897-5bf78714240d"
      },
      "source": [
        "# 간단한 다익스트라 알고리즘 소스코드 - 시간복잡도 : O(V^2) / V:노드의 개수\n",
        "# 노드의 개수가 5000개 이하라면 일반적으로 이 코드로 문제를 풀 수 있지만,\n",
        "# 10000개를 넘어가는 문제라면 이 코드로는 문제를 해결하기 어렵다. -> 개선된 다익스트라 알고리즘 사용\n",
        "# import sys\n",
        "# input = sys.stdin.readline\n",
        "INF = int(1e9) # 무한을 의미하는 값으로 10억을 설정\n",
        "\n",
        "# 노드의 개수, 간선의 개수를 입력받기\n",
        "n, m = map(int, input().split())\n",
        "# 시작 노드 번호를 입력받기\n",
        "start = int(input())\n",
        "# 각 노드에 연결되어 있는 노드에 대한 정보를 담는 리스트를 만들기\n",
        "graph = [[] for i in range(n+1)]\n",
        "# 방문한 적이 있는지 체크하는 목적의 리스트를 만들기\n",
        "visited = [False] * (n+1)\n",
        "# 최단 거리 테이블을 모두 무한으로 초기화\n",
        "distance = [INF] * (n+1)\n",
        "\n",
        "# 모든 간선 정보를 입력받기\n",
        "for _ in range(m):\n",
        "  a,b,c = map(int,input().split())\n",
        "  # a번 노드에서 b번 노드로 가는 비용이 c라는 의미\n",
        "  graph[a].append((b,c))\n",
        "\n",
        "# 방문하지 않은 노드 중에서, 가장 최단 거리가 짧은 노드의 번호를 반환\n",
        "def get_smallest_node():\n",
        "  min_value = INF\n",
        "  index = 0 # 가장 최단 거리가 짧은 노드(인덱스)\n",
        "  for i in range(1, n+1):\n",
        "    if distance[i] < min_value and not visited[i]:\n",
        "      min_value = distance[i]\n",
        "      index = i\n",
        "  return index\n",
        "\n",
        "def dijkstra(start):\n",
        "  # 시작 노드에 대해서 초기화\n",
        "  distance[start] = 0\n",
        "  visited[start] = True\n",
        "  for j in graph[start]:\n",
        "    distance[j[0]] = j[1]\n",
        "  # 시작 노드를 제외한 전체 n-1개의 노드에 대해 반복\n",
        "  for i in range(n-1):\n",
        "    # 현재 최단 거리가 가장 짧은 노드를 꺼내서, 방문 처리\n",
        "    now = get_smallest_node()\n",
        "    visited[now] = True\n",
        "    # 현재 노드와 연결된 다른 노드를 확인\n",
        "    for j in graph[now]:\n",
        "      cost = distance[now] + j[1]\n",
        "      # 현재 노드를 거쳐서 다른 노드로 이동하는 거리가 더 짧은 경우\n",
        "      if cost < distance[j[0]]:\n",
        "        distance[j[0]] = cost\n",
        "\n",
        "# 다익스트라 알고리즘 수행\n",
        "dijkstra(start)\n",
        "\n",
        "# 모든 노드로 가기 위한 최단 거리를 출력\n",
        "for i in range(1, n+1):\n",
        "  # 도달할 수 없는 경우, 무한(INFINITY)이라고 출력\n",
        "  if distance[i] == INF:\n",
        "    print(\"INFINITY\")\n",
        "  else:\n",
        "    print(distance[i])"
      ],
      "execution_count": null,
      "outputs": [
        {
          "output_type": "stream",
          "text": [
            "6 11\n",
            "1\n",
            "1 2 2\n",
            "1 3 5\n",
            "1 4 1\n",
            "2 3 3\n",
            "2 4 2\n",
            "3 2 3\n",
            "3 6 5\n",
            "4 3 3\n",
            "4 5 1\n",
            "5 3 1\n",
            "5 6 2\n",
            "0\n",
            "2\n",
            "3\n",
            "1\n",
            "2\n",
            "4\n"
          ],
          "name": "stdout"
        }
      ]
    },
    {
      "cell_type": "code",
      "metadata": {
        "colab": {
          "base_uri": "https://localhost:8080/"
        },
        "id": "7N1qMwd8hCx1",
        "outputId": "439e4303-39ae-4757-fa0d-b59e4d380bd7"
      },
      "source": [
        "# 개선된 다익스트라 알고리즘 - 시간복잡도 : O(E*logV)  / E : 간선의 개수\n",
        "\n",
        "# 힙 자료구조 사용! heapq 라이브러리 사용\n",
        "# 앞의 코드와 비교했을 때 get_smallest_node()라는 함수를 작성할 필요가 없다.\n",
        "# '최단 거리가 가장 짧은 노드'를 선택하는 과정을 다익스트라 최단 경로 함수 안에서 우선순위 큐를 이용하는 방식으로 대체\n",
        "\n",
        "import heapq\n",
        "# import sys\n",
        "# input = sys.stdin.readline()\n",
        "INF = int(1e9) # 무한을 의미하는 값으로 10억을 설정\n",
        "\n",
        "# 노드의 개수, 간선의 개수를 입력받기\n",
        "n, m = map(int, input().split())\n",
        "# 시작 노드 번호를 입력받기\n",
        "start = int(input())\n",
        "# 각 노드에 연결되어 있는 노드에 대한 정보를 담는 리스트를 만들기\n",
        "graph = [[] for i in range(n+1)]\n",
        "# 방문한 적이 있는지 체크하는 목적의 리스트를 만들기\n",
        "visited = [False] * (n+1)\n",
        "# 최단 거리 테이블을 모두 무한으로 초기화\n",
        "distance = [INF] * (n+1)\n",
        "\n",
        "# 모든 간선 정보를 입력받기\n",
        "for _ in range(m):\n",
        "  a,b,c = map(int,input().split())\n",
        "  # a번 노드에서 b번 노드로 가는 비용이 c라는 의미\n",
        "  graph[a].append((b,c))\n",
        "\n",
        "def dijkstra2(start):\n",
        "  q = []\n",
        "  # 시작 노드로 가기 위한 최단 경로는 0으로 설정하여, 큐에 삽입\n",
        "  heapq.heappush(q, (0,start))\n",
        "  distance[start] = 0\n",
        "  while q: # 큐가 비어있지 않다면,\n",
        "    # 가장 최단 거리가 짧은 노드에 대한 정보 꺼내기\n",
        "    dist, now = heapq.heappop(q)\n",
        "    # 현재 노드가 이미 처리된 적이 있는 노드라면 무시\n",
        "    if distance[now] < dist:\n",
        "      continue\n",
        "    # 현재 노드와 연결된 다른 인접한 노드들을 확인\n",
        "    for i in graph[now]:\n",
        "      cost = dist + i[1]\n",
        "      # 현재 노드를 거쳐서, 다른 노드로 이동하는 거리가 더 짧은 경우\n",
        "      if cost < distance[i[0]]:\n",
        "        distance[i[0]] = cost\n",
        "        heapq.heappush(q, (cost,i[0]))\n",
        "\n",
        "# 다익스트라 알고리즘 수행\n",
        "dijkstra(start)\n",
        "\n",
        "# 모든 노드로 가기 위한 최단 거리를 출력\n",
        "for i in range(1, n+1):\n",
        "  # 도달할 수 없는 경우, 무한(INFINITY)이라고 출력\n",
        "  if distance[i] == INF:\n",
        "    print(\"INFINITY\")\n",
        "  else:\n",
        "    print(distance[i])"
      ],
      "execution_count": null,
      "outputs": [
        {
          "output_type": "stream",
          "text": [
            "6 11\n",
            "1\n",
            "1 2 2\n",
            "1 3 5\n",
            "1 4 1\n",
            "2 3 3\n",
            "2 4 2\n",
            "3 2 3\n",
            "3 6 5\n",
            "4 3 3\n",
            "4 5 1\n",
            "5 3 1\n",
            "5 6 2\n",
            "0\n",
            "2\n",
            "3\n",
            "1\n",
            "2\n",
            "4\n"
          ],
          "name": "stdout"
        }
      ]
    },
    {
      "cell_type": "code",
      "metadata": {
        "id": "ulOrtw_Ej_qi",
        "colab": {
          "base_uri": "https://localhost:8080/"
        },
        "outputId": "0f1078ff-8c28-49f0-b2be-90d212186219"
      },
      "source": [
        "# 플로이드 워셜 알고리즘 소스코드\n",
        "INF = int(1e9) # 무한을 의미하는 값으로 10억을 설정\n",
        "\n",
        "# 노드의 개수 및 간선의 개수를 입력받기\n",
        "n = int(input())\n",
        "m = int(input())\n",
        "# 2차원 리스트(그래프 표현)를 만들고, 모든 값을 무한으로 초기화\n",
        "graph = [[INF]*(n+1) for _ in range(n+1)]\n",
        "# 자기 자신에서 자기 자신으로 가는 비용은 0으로 초기화\n",
        "for a in range(1, n+1):\n",
        "  for b in range(1, n+1):\n",
        "    if a == b:\n",
        "      graph[a][b] = 0\n",
        "\n",
        "# 각 간선에 대한 정보를 입력받아, 그 값으로 초기화\n",
        "for _ in range(m):\n",
        "  # a에서 b로 가는 비용은 c라고 설정\n",
        "  a,b,c = map(int,input().split())\n",
        "  graph[a][b] = c\n",
        "\n",
        "# 점화식에 따라 플로이드 워셜 알고리즘 수행\n",
        "for k in range(1,n+1):\n",
        "  for a in range(1,n+1):\n",
        "    for b in range(1,n+1):\n",
        "      graph[a][b] = min(graph[a][b], graph[a][k] + graph[k][b])\n",
        "\n",
        "# 수행된 결과를 출력\n",
        "for a in range(1,n+1):\n",
        "  for b in range(1,n+1):\n",
        "    # 도달할 수 없는 경우, 무한(INFINITY)이라고 출력\n",
        "    if graph[a][b] == INF:\n",
        "      print(\"INFINITY\", end = \" \")\n",
        "    # 도달할 수 있는 경우, 거리를 출력\n",
        "    else:\n",
        "      print(graph[a][b], end = \" \")\n",
        "  print()"
      ],
      "execution_count": null,
      "outputs": [
        {
          "output_type": "stream",
          "text": [
            "4\n",
            "7\n",
            "1 2 4\n",
            "1 4 6\n",
            "2 1 3\n",
            "2 3 7\n",
            "3 1 5\n",
            "3 4 4\n",
            "4 3 2\n",
            "0 4 8 6 \n",
            "3 0 7 9 \n",
            "5 9 0 4 \n",
            "7 11 2 0 \n"
          ],
          "name": "stdout"
        }
      ]
    },
    {
      "cell_type": "code",
      "metadata": {
        "colab": {
          "base_uri": "https://localhost:8080/"
        },
        "id": "EzuaajzA_cxX",
        "outputId": "d34ffa5e-9265-4772-b922-9e0f44df22f4"
      },
      "source": [
        "# 미래 도시 - p.259\n",
        "# 플로이드 워셜 알고리즘 사용\n",
        "# 1->k->x\n",
        "# n : 회사 개수, m : 경로 개수\n",
        "n, m = map(int,input().split())\n",
        "INF = int(1e9)\n",
        "# 이동 시간을 무한으로 초기화 한 그래프 생성\n",
        "graph = [[INF]*(n+1) for _ in range(n+1)]\n",
        "# 자기 자신으로 갈 경우 0으로 초기화\n",
        "for a in range(1,n+1):\n",
        "  for b in range(1,n+1):\n",
        "    if a==b:\n",
        "      graph[a][b] = 0\n",
        "# 연결된 회사 입력 받아 시간 변경\n",
        "for _ in range(m):\n",
        "  a,b = map(int,input().split())\n",
        "  graph[a][b] = 1\n",
        "  graph[b][a] = 1\n",
        "# x : 최종 목적지, k : 들려야 할 곳\n",
        "x,k = map(int,input().split())\n",
        "# 플로이드 워셜 알고리즘 수행\n",
        "for k in range(1,n+1):\n",
        "  for a in range(1,n+1):\n",
        "    for b in range(1,n+1):\n",
        "      graph[a][b] = min(graph[a][b], graph[a][k] + graph[k][b])\n",
        "# 결과 출력\n",
        "distance = graph[1][k] + graph[k][x]\n",
        "if distance >= INF :\n",
        "  print(-1)\n",
        "else:\n",
        "  print(distance)\n"
      ],
      "execution_count": null,
      "outputs": [
        {
          "output_type": "stream",
          "text": [
            "5 7\n",
            "1 2\n",
            "1 3\n",
            "1 4\n",
            "2 4\n",
            "3 4\n",
            "3 5\n",
            "4 5\n",
            "4 5\n",
            "3\n"
          ],
          "name": "stdout"
        }
      ]
    },
    {
      "cell_type": "code",
      "metadata": {
        "colab": {
          "base_uri": "https://localhost:8080/"
        },
        "id": "PUwnzEGsD3lg",
        "outputId": "72d5a925-1ce0-417e-e993-41fe6726ac00"
      },
      "source": [
        "# 전보 - p.263\n",
        "import heapq\n",
        "INF = int(1e9)\n",
        "# n:도시개수, m:통로개수, start:메세지를 보내고자 하는 도시\n",
        "n, m ,start = map(int,input().split())\n",
        "# 각 노드에 연결되어 있는 노드에 대한 정보를 담는 리스트 만들기\n",
        "graph=[[] for i in range(n+1)]\n",
        "# 최단 거리 테이블을 모두 무한으로 초기화\n",
        "distance = [INF] * (n+1)\n",
        "\n",
        "# 모든 간선 정보 입력 받기\n",
        "for _ in range(m):\n",
        "  # a->b로 메세지 보내는데 걸리는 시간은 c\n",
        "  a,b,c = map(int,input().split())\n",
        "  graph[a].append((b,c))\n",
        "\n",
        "def dijkstra3(start):\n",
        "  q = []\n",
        "  # 시작 노드로 가기 위한 최단 경로는 0으로 설정하여 큐에 삽입\n",
        "  heapq.heappush(q,(0,start))\n",
        "  distance[start] = 0\n",
        "  while q:  # 큐가 비어있지 않다면\n",
        "    # 가장 최단 거리가 짧은 노드에 대한 정보를 꺼내기\n",
        "    dist, now = heapq.heappop(q)\n",
        "    # 가장 최단 거리가 아니라면 패스\n",
        "    if distance[now] < dist:\n",
        "      continue\n",
        "    \n",
        "    for i in graph[now]:\n",
        "      cost = dist + i[1] # dist : a->now / i[1]: now->i\n",
        "      # 현재 노드를 거쳐서, 다른 노드로 이동하는 거리가 더 짧은 경우\n",
        "      if cost < distance[i[0]]: # distance[i] = a->i\n",
        "        distance[i[0]] = cost\n",
        "        heapq.heappush(q, (cost,i[0]))\n",
        "  \n",
        "# 다익스트라 알고리즘 수행\n",
        "dijkstra3(start)\n",
        "\n",
        "count = 0\n",
        "max_distance = 0\n",
        "for i in range(1,n+1):\n",
        "  if distance[i] != INF:\n",
        "    count += 1\n",
        "    max_distance = max(max_distance, distance[i])\n",
        "# 시작 노드는 제외해야 하므로 count - 1 출력\n",
        "print(count - 1, max_distance)\n"
      ],
      "execution_count": null,
      "outputs": [
        {
          "output_type": "stream",
          "text": [
            "3 2 1\n",
            "1 2 4\n",
            "1 3 2\n",
            "2 4\n"
          ],
          "name": "stdout"
        }
      ]
    },
    {
      "cell_type": "markdown",
      "metadata": {
        "id": "ePBfYxUV6Xrr"
      },
      "source": [
        "# Chapter 10. 그래프 이론\n",
        "코딩 테스트에서 자주 등장하는 기타 그래프 이론\n",
        "- **서로소 집합 자료구조** : 서로소 부분 집합들로 나누어진 원소들의 데이터를 처리하기 위한 자료구조\n",
        "- **신장 트리** : 하나의 그래프가 있을 때 모든 노드를 포함하면서 사이클이 존재하지 않는 부분 그래프\n",
        "- **위상 정렬** : 방향 그래프의 모든 노드를 '방향성에 거스르지 않도록 순서대로 나열하는 것'\n",
        "\n"
      ]
    },
    {
      "cell_type": "code",
      "metadata": {
        "colab": {
          "base_uri": "https://localhost:8080/",
          "height": 622
        },
        "id": "mR3QZuLN6fYn",
        "outputId": "8d517e47-1549-423a-ed11-e9f50fa8f160"
      },
      "source": [
        "# 기본적인 서로소 집합 알고리즘\n",
        "\n",
        "# 특정 원소가 속한 집합을 찾기\n",
        "def find_parent(parent, x):\n",
        "  # 루트 노드가 아니라면, 루트 노드를 찾을 때까지 재귀적으로 호출\n",
        "  if parent[x] != x:\n",
        "    return find_parent(parent, parent[x])\n",
        "  return x\n",
        "\n",
        "# 두 원소가 속한 집합을 합치기\n",
        "def union_parent(parent, a, b):\n",
        "  a = find_parent(parent, a)\n",
        "  b = find_parent(parent, b)\n",
        "  if a < b:\n",
        "    parent[b] = a\n",
        "  else:\n",
        "    parent[a] = b\n",
        "\n",
        "# 노드의 개수와 간선(union 연산)의 개수 입력받기\n",
        "v, e = map(int,input().split())\n",
        "parent = [0] * (v+1) # 부모 테이블 초기화\n",
        "\n",
        "# 부모 테이블상에서, 부모를 자기 자신으로 초기화\n",
        "for i in range(1,v+1):\n",
        "  parent[i] = i\n",
        "\n",
        "# union 연산을 각각 수행\n",
        "for i in range(e):\n",
        "  a, b = map(int,input().split())\n",
        "  union_parent(parent,a,b)\n",
        "\n",
        "# 각 원소가 속한 집합 출력\n",
        "print('각 원소가 속한 집합: ', end=' ')\n",
        "for i in range(1,v+1):\n",
        "  print(find_parent(parent,i), end=' ')\n",
        "\n",
        "print()\n",
        "\n",
        "# 부모 테이블 내용 출력\n",
        "print('부모 테이블: ', end=' ')\n",
        "for i in range(1,v+1):\n",
        "  print(parent[i], end=' ')"
      ],
      "execution_count": null,
      "outputs": [
        {
          "output_type": "error",
          "ename": "KeyboardInterrupt",
          "evalue": "ignored",
          "traceback": [
            "\u001b[0;31m---------------------------------------------------------------------------\u001b[0m",
            "\u001b[0;31mKeyboardInterrupt\u001b[0m                         Traceback (most recent call last)",
            "\u001b[0;32m/usr/local/lib/python3.7/dist-packages/ipykernel/kernelbase.py\u001b[0m in \u001b[0;36m_input_request\u001b[0;34m(self, prompt, ident, parent, password)\u001b[0m\n\u001b[1;32m    728\u001b[0m             \u001b[0;32mtry\u001b[0m\u001b[0;34m:\u001b[0m\u001b[0;34m\u001b[0m\u001b[0;34m\u001b[0m\u001b[0m\n\u001b[0;32m--> 729\u001b[0;31m                 \u001b[0mident\u001b[0m\u001b[0;34m,\u001b[0m \u001b[0mreply\u001b[0m \u001b[0;34m=\u001b[0m \u001b[0mself\u001b[0m\u001b[0;34m.\u001b[0m\u001b[0msession\u001b[0m\u001b[0;34m.\u001b[0m\u001b[0mrecv\u001b[0m\u001b[0;34m(\u001b[0m\u001b[0mself\u001b[0m\u001b[0;34m.\u001b[0m\u001b[0mstdin_socket\u001b[0m\u001b[0;34m,\u001b[0m \u001b[0;36m0\u001b[0m\u001b[0;34m)\u001b[0m\u001b[0;34m\u001b[0m\u001b[0;34m\u001b[0m\u001b[0m\n\u001b[0m\u001b[1;32m    730\u001b[0m             \u001b[0;32mexcept\u001b[0m \u001b[0mException\u001b[0m\u001b[0;34m:\u001b[0m\u001b[0;34m\u001b[0m\u001b[0;34m\u001b[0m\u001b[0m\n",
            "\u001b[0;32m/usr/local/lib/python3.7/dist-packages/jupyter_client/session.py\u001b[0m in \u001b[0;36mrecv\u001b[0;34m(self, socket, mode, content, copy)\u001b[0m\n\u001b[1;32m    802\u001b[0m         \u001b[0;32mtry\u001b[0m\u001b[0;34m:\u001b[0m\u001b[0;34m\u001b[0m\u001b[0;34m\u001b[0m\u001b[0m\n\u001b[0;32m--> 803\u001b[0;31m             \u001b[0mmsg_list\u001b[0m \u001b[0;34m=\u001b[0m \u001b[0msocket\u001b[0m\u001b[0;34m.\u001b[0m\u001b[0mrecv_multipart\u001b[0m\u001b[0;34m(\u001b[0m\u001b[0mmode\u001b[0m\u001b[0;34m,\u001b[0m \u001b[0mcopy\u001b[0m\u001b[0;34m=\u001b[0m\u001b[0mcopy\u001b[0m\u001b[0;34m)\u001b[0m\u001b[0;34m\u001b[0m\u001b[0;34m\u001b[0m\u001b[0m\n\u001b[0m\u001b[1;32m    804\u001b[0m         \u001b[0;32mexcept\u001b[0m \u001b[0mzmq\u001b[0m\u001b[0;34m.\u001b[0m\u001b[0mZMQError\u001b[0m \u001b[0;32mas\u001b[0m \u001b[0me\u001b[0m\u001b[0;34m:\u001b[0m\u001b[0;34m\u001b[0m\u001b[0;34m\u001b[0m\u001b[0m\n",
            "\u001b[0;32m/usr/local/lib/python3.7/dist-packages/zmq/sugar/socket.py\u001b[0m in \u001b[0;36mrecv_multipart\u001b[0;34m(self, flags, copy, track)\u001b[0m\n\u001b[1;32m    582\u001b[0m         \"\"\"\n\u001b[0;32m--> 583\u001b[0;31m         \u001b[0mparts\u001b[0m \u001b[0;34m=\u001b[0m \u001b[0;34m[\u001b[0m\u001b[0mself\u001b[0m\u001b[0;34m.\u001b[0m\u001b[0mrecv\u001b[0m\u001b[0;34m(\u001b[0m\u001b[0mflags\u001b[0m\u001b[0;34m,\u001b[0m \u001b[0mcopy\u001b[0m\u001b[0;34m=\u001b[0m\u001b[0mcopy\u001b[0m\u001b[0;34m,\u001b[0m \u001b[0mtrack\u001b[0m\u001b[0;34m=\u001b[0m\u001b[0mtrack\u001b[0m\u001b[0;34m)\u001b[0m\u001b[0;34m]\u001b[0m\u001b[0;34m\u001b[0m\u001b[0;34m\u001b[0m\u001b[0m\n\u001b[0m\u001b[1;32m    584\u001b[0m         \u001b[0;31m# have first part already, only loop while more to receive\u001b[0m\u001b[0;34m\u001b[0m\u001b[0;34m\u001b[0m\u001b[0;34m\u001b[0m\u001b[0m\n",
            "\u001b[0;32mzmq/backend/cython/socket.pyx\u001b[0m in \u001b[0;36mzmq.backend.cython.socket.Socket.recv\u001b[0;34m()\u001b[0m\n",
            "\u001b[0;32mzmq/backend/cython/socket.pyx\u001b[0m in \u001b[0;36mzmq.backend.cython.socket.Socket.recv\u001b[0;34m()\u001b[0m\n",
            "\u001b[0;32mzmq/backend/cython/socket.pyx\u001b[0m in \u001b[0;36mzmq.backend.cython.socket._recv_copy\u001b[0;34m()\u001b[0m\n",
            "\u001b[0;32m/usr/local/lib/python3.7/dist-packages/zmq/backend/cython/checkrc.pxd\u001b[0m in \u001b[0;36mzmq.backend.cython.checkrc._check_rc\u001b[0;34m()\u001b[0m\n",
            "\u001b[0;31mKeyboardInterrupt\u001b[0m: ",
            "\nDuring handling of the above exception, another exception occurred:\n",
            "\u001b[0;31mKeyboardInterrupt\u001b[0m                         Traceback (most recent call last)",
            "\u001b[0;32m<ipython-input-1-ae293cc678a6>\u001b[0m in \u001b[0;36m<module>\u001b[0;34m()\u001b[0m\n\u001b[1;32m     18\u001b[0m \u001b[0;34m\u001b[0m\u001b[0m\n\u001b[1;32m     19\u001b[0m \u001b[0;31m# 노드의 개수와 간선(union 연산)의 개수 입력받기\u001b[0m\u001b[0;34m\u001b[0m\u001b[0;34m\u001b[0m\u001b[0;34m\u001b[0m\u001b[0m\n\u001b[0;32m---> 20\u001b[0;31m \u001b[0mv\u001b[0m\u001b[0;34m,\u001b[0m \u001b[0me\u001b[0m \u001b[0;34m=\u001b[0m \u001b[0mmap\u001b[0m\u001b[0;34m(\u001b[0m\u001b[0mint\u001b[0m\u001b[0;34m,\u001b[0m\u001b[0minput\u001b[0m\u001b[0;34m(\u001b[0m\u001b[0;34m)\u001b[0m\u001b[0;34m.\u001b[0m\u001b[0msplit\u001b[0m\u001b[0;34m(\u001b[0m\u001b[0;34m)\u001b[0m\u001b[0;34m)\u001b[0m\u001b[0;34m\u001b[0m\u001b[0;34m\u001b[0m\u001b[0m\n\u001b[0m\u001b[1;32m     21\u001b[0m \u001b[0mparent\u001b[0m \u001b[0;34m=\u001b[0m \u001b[0;34m[\u001b[0m\u001b[0;36m0\u001b[0m\u001b[0;34m]\u001b[0m \u001b[0;34m*\u001b[0m \u001b[0;34m(\u001b[0m\u001b[0mv\u001b[0m\u001b[0;34m+\u001b[0m\u001b[0;36m1\u001b[0m\u001b[0;34m)\u001b[0m \u001b[0;31m# 부모 테이블 초기화\u001b[0m\u001b[0;34m\u001b[0m\u001b[0;34m\u001b[0m\u001b[0m\n\u001b[1;32m     22\u001b[0m \u001b[0;34m\u001b[0m\u001b[0m\n",
            "\u001b[0;32m/usr/local/lib/python3.7/dist-packages/ipykernel/kernelbase.py\u001b[0m in \u001b[0;36mraw_input\u001b[0;34m(self, prompt)\u001b[0m\n\u001b[1;32m    702\u001b[0m             \u001b[0mself\u001b[0m\u001b[0;34m.\u001b[0m\u001b[0m_parent_ident\u001b[0m\u001b[0;34m,\u001b[0m\u001b[0;34m\u001b[0m\u001b[0;34m\u001b[0m\u001b[0m\n\u001b[1;32m    703\u001b[0m             \u001b[0mself\u001b[0m\u001b[0;34m.\u001b[0m\u001b[0m_parent_header\u001b[0m\u001b[0;34m,\u001b[0m\u001b[0;34m\u001b[0m\u001b[0;34m\u001b[0m\u001b[0m\n\u001b[0;32m--> 704\u001b[0;31m             \u001b[0mpassword\u001b[0m\u001b[0;34m=\u001b[0m\u001b[0;32mFalse\u001b[0m\u001b[0;34m,\u001b[0m\u001b[0;34m\u001b[0m\u001b[0;34m\u001b[0m\u001b[0m\n\u001b[0m\u001b[1;32m    705\u001b[0m         )\n\u001b[1;32m    706\u001b[0m \u001b[0;34m\u001b[0m\u001b[0m\n",
            "\u001b[0;32m/usr/local/lib/python3.7/dist-packages/ipykernel/kernelbase.py\u001b[0m in \u001b[0;36m_input_request\u001b[0;34m(self, prompt, ident, parent, password)\u001b[0m\n\u001b[1;32m    732\u001b[0m             \u001b[0;32mexcept\u001b[0m \u001b[0mKeyboardInterrupt\u001b[0m\u001b[0;34m:\u001b[0m\u001b[0;34m\u001b[0m\u001b[0;34m\u001b[0m\u001b[0m\n\u001b[1;32m    733\u001b[0m                 \u001b[0;31m# re-raise KeyboardInterrupt, to truncate traceback\u001b[0m\u001b[0;34m\u001b[0m\u001b[0;34m\u001b[0m\u001b[0;34m\u001b[0m\u001b[0m\n\u001b[0;32m--> 734\u001b[0;31m                 \u001b[0;32mraise\u001b[0m \u001b[0mKeyboardInterrupt\u001b[0m\u001b[0;34m\u001b[0m\u001b[0;34m\u001b[0m\u001b[0m\n\u001b[0m\u001b[1;32m    735\u001b[0m             \u001b[0;32melse\u001b[0m\u001b[0;34m:\u001b[0m\u001b[0;34m\u001b[0m\u001b[0;34m\u001b[0m\u001b[0m\n\u001b[1;32m    736\u001b[0m                 \u001b[0;32mbreak\u001b[0m\u001b[0;34m\u001b[0m\u001b[0;34m\u001b[0m\u001b[0m\n",
            "\u001b[0;31mKeyboardInterrupt\u001b[0m: "
          ]
        }
      ]
    },
    {
      "cell_type": "code",
      "metadata": {
        "id": "aNgsZTkU852M"
      },
      "source": [
        "# 개선된 서로소 집합 알고리즘 소스코드\n",
        "\n",
        "# 특정 원소가 속한 집합을 찾기\n",
        "def find_parent(parent, x):\n",
        "  # 루트 노드가 아니라면, 루트 노드를 찾을 때까지 재귀적으로 호출\n",
        "  if parent[x] != x:\n",
        "    parent[x] = find_parent(parent, parent[x])\n",
        "  return parent[x]\n",
        "\n",
        "# 두 원소가 속한 집합을 합치기\n",
        "def union_parent(parent, a, b):\n",
        "  a = find_parent(parent, a)\n",
        "  b = find_parent(parent, b)\n",
        "  if a < b:\n",
        "    parent[b] = a\n",
        "  else:\n",
        "    parent[a] = b\n",
        "\n",
        "# 노드의 개수와 간선(union 연산)의 개수 입력받기\n",
        "v, e = map(int,input().split())\n",
        "parent = [0] * (v+1) # 부모 테이블 초기화\n",
        "\n",
        "# 부모 테이블상에서, 부모를 자기 자신으로 초기화\n",
        "for i in range(1,v+1):\n",
        "  parent[i] = i\n",
        "\n",
        "# union 연산을 각각 수행\n",
        "for i in range(e):\n",
        "  a, b = map(int,input().split())\n",
        "  union_parent(parent,a,b)\n",
        "\n",
        "# 각 원소가 속한 집합 출력\n",
        "print('각 원소가 속한 집합: ', end=' ')\n",
        "for i in range(1,v+1):\n",
        "  print(find_parent(parent,i), end=' ')\n",
        "\n",
        "print()\n",
        "\n",
        "# 부모 테이블 내용 출력\n",
        "print('부모 테이블: ', end=' ')\n",
        "for i in range(1,v+1):\n",
        "  print(parent[i], end=' ')"
      ],
      "execution_count": null,
      "outputs": []
    },
    {
      "cell_type": "code",
      "metadata": {
        "id": "e2HLhv1C9L3q"
      },
      "source": [
        "# 서로소 집합을 활요한 사이클 판별 소스코드\n",
        "\n",
        "# 특정 원소가 속한 집합을 찾기\n",
        "def find_parent(parent, x):\n",
        "  # 루트 노드가 아니라면, 루트 노드를 찾을 때까지 재귀적으로 호출\n",
        "  if parent[x] != x:\n",
        "    parent[x] = find_parent(parent, parent[x])\n",
        "  return parent[x]\n",
        "\n",
        "# 두 원소가 속한 집합을 합치기\n",
        "def union_parent(parent, a, b):\n",
        "  a = find_parent(parent, a)\n",
        "  b = find_parent(parent, b)\n",
        "  if a < b:\n",
        "    parent[b] = a\n",
        "  else:\n",
        "    parent[a] = b\n",
        "\n",
        "# 노드의 개수와 간선(union 연산)의 개수 입력받기\n",
        "v, e = map(int,input().split())\n",
        "parent = [0] * (v+1) # 부모 테이블 초기화\n",
        "\n",
        "# 부모 테이블상에서, 부모를 자기 자신으로 초기화\n",
        "for i in range(1,v+1):\n",
        "  parent[i] = i\n",
        "\n",
        "cycle = False # 사이클 발생 여부\n",
        "\n",
        "# union 연산을 각각 수행\n",
        "for i in range(e):\n",
        "  a, b = map(int,input().split())\n",
        "  # 사이클이 발생한 경우 종료\n",
        "  if find_parent(parent, a) == find_parent(parent, b):\n",
        "    cycle = True\n",
        "    break\n",
        "  # 사이클이 발생하지 않았다면 합집합(union) 수행\n",
        "  else:\n",
        "    union_parent(parent,a,b)\n",
        "\n",
        "if cycle:\n",
        "  print(\"사이클이 발생했습니다.\")\n",
        "else:\n",
        "  print(\"사이클이 발생하지 않았습니다.\")"
      ],
      "execution_count": null,
      "outputs": []
    },
    {
      "cell_type": "code",
      "metadata": {
        "id": "2mAu12ea9_jR"
      },
      "source": [
        "# 크루스칼 알고리즘 - 대표적인 최소 신장 트리 알고리즘 - 시간 복잡도 : O(E*logE)\n",
        "\n",
        "# 특정 원소가 속한 집합을 찾기\n",
        "def find_parent(parent,x):\n",
        "  # 루트 노드가 아니라면, 루트 노드를 찾을 때까지 재귀적으로 호출\n",
        "  if parent[x] != x:\n",
        "    parent[x] = find_parent(parent, parent[x])\n",
        "  return parent[x]\n",
        "\n",
        "# 두 원소가 속한 집합을 합치기\n",
        "def union_parent(parent, a, b):\n",
        "  a = find_parent(parent,a)\n",
        "  b = find_parent(parent,b)\n",
        "  if a < b:\n",
        "    parent[b] = a\n",
        "  else:\n",
        "    parent[a] = b\n",
        "\n",
        "# 노드의 개수와 간선(union 연산)의 개수 입력받기\n",
        "v, e = map(int,input().split())\n",
        "parent = [0] * (v+1) # 부모 테이블 초기화\n",
        "\n",
        "# 모든 간선을 담을 리스트와 최종 비용을 담을 변수\n",
        "edges = []\n",
        "result = 0\n",
        "\n",
        "# 부모 테이블상에서, 부모를 자기 자신으로 초기화\n",
        "for i in range(1,v+1):\n",
        "  parent[i] = i\n",
        "\n",
        "# 모든 간선에 대한 정보를 입력받기\n",
        "for _ in range(e):\n",
        "  a,b,cost = map(int,input().split())\n",
        "  # 비용순으로 정렬하기 위해서 튜플의 첫 번째 원소를 비용으로 설정\n",
        "  edges.append((cost,a,b))\n",
        "\n",
        "# 간선을 비용순으로 정렬\n",
        "edges.sort()\n",
        "\n",
        "# 간선을 하나씩 확인하며\n",
        "for edge in edges:\n",
        "  cost, a, b = edge\n",
        "  # 사이클이 발생하지 않는 경우에만 집합에 포함\n",
        "  if find_parent(parent, a) != find_parent(parent, b):\n",
        "    union_parent(parent, a, b)\n",
        "    result += cost\n",
        "  \n",
        "print(result)"
      ],
      "execution_count": null,
      "outputs": []
    },
    {
      "cell_type": "code",
      "metadata": {
        "id": "ncXYc5SNX1dG"
      },
      "source": [
        "# 위상정렬 소스코드 - 시간 복잡도 : O(V+E)\n",
        "from collections import deque\n",
        "\n",
        "# 노드의 개수와 간선의 개수를 입력받기\n",
        "v, e = map(int, input().split())\n",
        "# 모든 노드에 대한 진입차수는 0으로 초기화\n",
        "indegree = [0] * (v+1)\n",
        "# 각 노드에 연결된 간선 정보를 담기 위한 연결 리스트(그래프) 초기화\n",
        "graph = [[] for i in range(v+1)]\n",
        "\n",
        "# 방향 그래프의 모든 간선 정보를 입력받기\n",
        "for _ in range(e):\n",
        "  a, b = map(int,input().split())\n",
        "  graph[a].append(b) # 정점 A에서 B로 이동 가능\n",
        "  # 진입차수를 1 증가\n",
        "  indegree[b] += 1\n",
        "\n",
        "# 위상 정렬 함수\n",
        "def topology_sort():\n",
        "  result = [] # 알고리즘 수행 결과를 담을 리스트\n",
        "  q = deque() # 큐 기능을 위한 deque 라이브러리 사용\n",
        "\n",
        "  # 처음 시작할 때는 진입차수가 0인 노드를 큐에 삽입\n",
        "  for i in range(1, v+1):\n",
        "    if indegree[i] == 0:\n",
        "      q.append(i)\n",
        "\n",
        "  # 큐가 빌 때까지 반복\n",
        "  while q:\n",
        "    # 큐에서 원소 꺼내기\n",
        "    now = q.popleft()\n",
        "    result.append(now)\n",
        "    # 해당 원소와 연결된 노드들의 진입차수에서 1 빼기\n",
        "    for i in graph[now]:\n",
        "      indegree[i] -= 1\n",
        "      # 새롭게 진입차수가 0이 되는 노드를 큐에 삽입\n",
        "      if indegree[i] == 0:\n",
        "        q.append(i)\n",
        "\n",
        "  # 위상 정렬을 수행한 결과 출력\n",
        "  for i in result:\n",
        "    print(i,end=\" \")\n",
        "\n",
        "topology_sort()\n"
      ],
      "execution_count": null,
      "outputs": []
    },
    {
      "cell_type": "code",
      "metadata": {
        "id": "e95uv6JqaJdZ"
      },
      "source": [
        "# 팀 결성 - p.298\n",
        "\n",
        "# 특정 원소가 속한 집합을 찾기\n",
        "def find_parent(parent, x):\n",
        "  # 루트 노드가 아니라면, 루트 노드를 찾을 때까지 재귀적으로 호출\n",
        "  if parent[x] != x:\n",
        "    parent[x] = find_parent(parent, parent[x])\n",
        "  return parent[x]\n",
        "\n",
        "# 두 원소가 속한 집합을 합치기\n",
        "def union_parent(parent, a, b):\n",
        "  a = find_parent(parent, a)\n",
        "  b = find_parent(parent, b)\n",
        "  if a < b:\n",
        "    parent[b] = a\n",
        "  else:\n",
        "    parent[a] = b\n",
        "\n",
        "# 노드의 개수와 간선(union 연산)의 개수 입력받기\n",
        "n, m = map(int,input().split())\n",
        "parent = [0] * (n+1) # 부모 테이블 초기화\n",
        "\n",
        "# 부모 테이블상에서, 부모를 자기 자신으로 초기화\n",
        "for i in range(0,n+1):\n",
        "  parent[i] = i\n",
        "\n",
        "# union 연산을 각각 수행\n",
        "for i in range(m):\n",
        "  func, a, b = map(int,input().split())\n",
        "  if func == 0:\n",
        "    union_parent(parent,a,b)\n",
        "  else:\n",
        "    answer = \"YES\" if find_parent(parent,a) == find_parent(parent,b) else \"NO\"\n",
        "    print(answer)\n",
        "\n"
      ],
      "execution_count": null,
      "outputs": []
    },
    {
      "cell_type": "code",
      "metadata": {
        "id": "JzQkvO6QbwJP",
        "colab": {
          "base_uri": "https://localhost:8080/"
        },
        "outputId": "cc0088f5-2136-456c-f490-5165edc0f29b"
      },
      "source": [
        "# 도시 분할 계획 - p.300 / 크루스칼 알고리즘 활용\n",
        "\n",
        "# 특정 원소가 속한 집합을 찾기\n",
        "def find_parent(parent,x):\n",
        "  # 루트 노드가 아니라면, 루트 노드를 찾을 때까지 재귀적으로 호출\n",
        "  if parent[x] != x:\n",
        "    parent[x] = find_parent(parent, parent[x])\n",
        "  return parent[x]\n",
        "\n",
        "# 두 원소가 속한 집합을 합치기\n",
        "def union_parent(parent, a, b):\n",
        "  a = find_parent(parent,a)\n",
        "  b = find_parent(parent,b)\n",
        "  if a < b:\n",
        "    parent[b] = a\n",
        "  else:\n",
        "    parent[a] = b\n",
        "\n",
        "# 노드의 개수와 간선(union 연산)의 개수 입력받기\n",
        "n, m = map(int,input().split())\n",
        "parent = [0] * (n+1) # 부모 테이블 초기화\n",
        "\n",
        "# 모든 간선을 담을 리스트와 최종 비용을 담을 변수\n",
        "edges = []\n",
        "result = 0\n",
        "\n",
        "# 부모 테이블상에서, 부모를 자기 자신으로 초기화\n",
        "for i in range(1,n+1):\n",
        "  parent[i] = i\n",
        "\n",
        "# 모든 간선에 대한 정보를 입력받기\n",
        "for _ in range(m):\n",
        "  a,b,cost = map(int,input().split())\n",
        "  # 비용순으로 정렬하기 위해서 튜플의 첫 번째 원소를 비용으로 설정\n",
        "  edges.append((cost,a,b))\n",
        "\n",
        "# 간선을 비용순으로 정렬\n",
        "edges.sort()\n",
        "cost_arr = []\n",
        "# 간선을 하나씩 확인하며\n",
        "for edge in edges:\n",
        "  cost, a, b = edge\n",
        "  # 사이클이 발생하지 않는 경우에만 집합에 포함\n",
        "  if find_parent(parent, a) != find_parent(parent, b):\n",
        "    union_parent(parent, a, b)\n",
        "    cost_arr.append(cost)\n",
        "    result += cost\n",
        "result -= max(cost_arr)  \n",
        "print(result)"
      ],
      "execution_count": null,
      "outputs": [
        {
          "output_type": "stream",
          "text": [
            "7 12\n",
            "1 2 3\n",
            "1 3 2\n",
            "3 2 1\n",
            "2 5 2\n",
            "3 4 4\n",
            "7 3 6\n",
            "5 1 5\n",
            "1 6 2\n",
            "6 4 1\n",
            "6 5 3\n",
            "4 5 3\n",
            "6 7 4\n",
            "8\n"
          ],
          "name": "stdout"
        }
      ]
    },
    {
      "cell_type": "code",
      "metadata": {
        "colab": {
          "base_uri": "https://localhost:8080/"
        },
        "id": "zDdnsvUrkcbn",
        "outputId": "c3276b34-0d8c-44b7-dde4-1965bd14f75d"
      },
      "source": [
        "# 커리큘럼 - p.303 / 위상 정렬\n",
        "from collections import deque\n",
        "import copy\n",
        "\n",
        "# 강의의 개수 입력받기\n",
        "n = int(input())\n",
        "# 모든 노드에 대한 진입차수는 0으로 초기화\n",
        "indegree = [0] * (n+1)\n",
        "# 각 노드에 연결된 간선 정보를 담기 위한 연결 리스트(그래프) 초기화\n",
        "graph = [[] for i in range(n+1)]\n",
        "# 각 강의 시간을 0으로 초기화\n",
        "time = [0] * (n+1)\n",
        "# 방향 그래프의 모든 간선 정보를 입력받기\n",
        "for i in range(1,n+1):\n",
        "  data = list(map(int,input().split()))\n",
        "  time[i] = data[0]\n",
        "  for j in data[1:-1]:\n",
        "    graph[j].append(i) \n",
        "    indegree[i] += 1\n",
        "\n",
        "  \n",
        "\n",
        "# 위상 정렬 함수\n",
        "def topology_sort():\n",
        "  result = copy.deepcopy(time) # 알고리즘 수행 결과를 담을 리스트\n",
        "  q = deque() # 큐 기능을 위한 deque 라이브러리 사용\n",
        "\n",
        "  # 처음 시작할 때는 진입차수가 0인 노드를 큐에 삽입\n",
        "  for i in range(1, n+1):\n",
        "    if indegree[i] == 0:\n",
        "      q.append(i)\n",
        "\n",
        "  # 큐가 빌 때까지 반복\n",
        "  while q:\n",
        "    # 큐에서 원소 꺼내기\n",
        "    now = q.popleft()\n",
        "    # 해당 원소와 연결된 노드들의 진입차수에서 1 빼기\n",
        "    for i in graph[now]:\n",
        "      result[i] = max(result[i],result[now] + time[i])\n",
        "      indegree[i] -= 1\n",
        "      # 새롭게 진입차수가 0이 되는 노드를 큐에 삽입\n",
        "      if indegree[i] == 0:\n",
        "        q.append(i)\n",
        "\n",
        "  # 위상 정렬을 수행한 결과 출력\n",
        "  for i in range(1,n+1):\n",
        "    print(result[i])\n",
        "\n",
        "topology_sort()"
      ],
      "execution_count": null,
      "outputs": [
        {
          "output_type": "stream",
          "text": [
            "5\n",
            "10 -1\n",
            "10 1 -1\n",
            "4 1 -1\n",
            "4 3 1 -1\n",
            "3 3 -1\n",
            "10\n",
            "20\n",
            "14\n",
            "18\n",
            "17\n"
          ],
          "name": "stdout"
        }
      ]
    }
  ]
}