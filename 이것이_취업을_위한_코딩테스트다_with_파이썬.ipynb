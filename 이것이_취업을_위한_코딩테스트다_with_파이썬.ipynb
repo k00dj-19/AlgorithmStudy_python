{
  "nbformat": 4,
  "nbformat_minor": 0,
  "metadata": {
    "colab": {
      "name": "이것이 취업을 위한 코딩테스트다 with 파이썬.ipynb",
      "provenance": [],
      "authorship_tag": "ABX9TyPRMj27Z4arLi4mETsPuJka",
      "include_colab_link": true
    },
    "kernelspec": {
      "name": "python3",
      "display_name": "Python 3"
    },
    "language_info": {
      "name": "python"
    }
  },
  "cells": [
    {
      "cell_type": "markdown",
      "metadata": {
        "id": "view-in-github",
        "colab_type": "text"
      },
      "source": [
        "<a href=\"https://colab.research.google.com/github/k00dj-19/AlgorithmStudy_python/blob/master/%EC%9D%B4%EA%B2%83%EC%9D%B4_%EC%B7%A8%EC%97%85%EC%9D%84_%EC%9C%84%ED%95%9C_%EC%BD%94%EB%94%A9%ED%85%8C%EC%8A%A4%ED%8A%B8%EB%8B%A4_with_%ED%8C%8C%EC%9D%B4%EC%8D%AC.ipynb\" target=\"_parent\"><img src=\"https://colab.research.google.com/assets/colab-badge.svg\" alt=\"Open In Colab\"/></a>"
      ]
    },
    {
      "cell_type": "markdown",
      "metadata": {
        "id": "R6TBIRYVniwg"
      },
      "source": [
        "# Chapter 04. 구현"
      ]
    },
    {
      "cell_type": "code",
      "metadata": {
        "colab": {
          "base_uri": "https://localhost:8080/"
        },
        "id": "ZecULSyUnyoc",
        "outputId": "771da5c2-3a67-4a54-df0d-327e7451033e"
      },
      "source": [
        "# 왕실의 나이트 p.115\n",
        "input_data = input()\n",
        "col = int(ord(input_data[0]))   # a : 97 , h : 104\n",
        "row = int(input_data[1])\n",
        "count = 0\n",
        "step_list = [(-2,-1),(-2,1),(2,-1),(2,1),(-1,-2),(-1,2),(1,-2),(1,2)]\n",
        "for i,j in step_list:\n",
        "  n_col = col + i\n",
        "  n_row = row + j\n",
        "  if n_col < 97 or n_col > 104 or n_row < 1 or n_row > 8:\n",
        "    continue\n",
        "  count += 1\n",
        "print(count)\n"
      ],
      "execution_count": null,
      "outputs": [
        {
          "output_type": "stream",
          "text": [
            "d3\n",
            "8\n"
          ],
          "name": "stdout"
        }
      ]
    },
    {
      "cell_type": "code",
      "metadata": {
        "colab": {
          "base_uri": "https://localhost:8080/"
        },
        "id": "cxsDW4Rgo5vz",
        "outputId": "292c66d4-8391-41dc-bb71-418d9673b768"
      },
      "source": [
        "# 게임 개발 p.118\n",
        "N,M = map(int, input().split())\n",
        "map_arr = [] #[0 for _ in range(N)] for _ in range(M)\n",
        "x, y, d = map(int, input().split())  # x,y : 첫 위치 / d : 바라보고 있는 방향 - 0:북, 1:동, 2:남, 3:서\n",
        "for i in range(M):\n",
        "  map_arr.append(list(map(int,input().split())))\n",
        "dx = [0,1,0,-1]\n",
        "dy = [1,0,-1,0]\n",
        "count = 1 # 지나간 칸의 개수\n",
        "map_arr[x][y] = 1   # 시작 위치도 이미 지나간 칸 이므로 1로 초기화\n",
        "d_count = 0 # 방향 회전한 횟수 4보다 커지면 네 방향 모두 이미 가본 칸\n",
        "while True :\n",
        "  d = d-1 # 왼쪽 방향을 바라봄\n",
        "  d_count += 1\n",
        "  if d < 0 : d = 3\n",
        "\n",
        "  # 네 방향 모두 갈 수 없는 경우\n",
        "  if d_count > 4 :\n",
        "    back_d = d + 2 if d < 2 else d - 2\n",
        "    back_x = x + dx[back_d]\n",
        "    back_y = y + dy[back_d]     \n",
        "    # 뒤 쪽도 바다인 경우 \n",
        "    if map_arr[back_x][back_y] == 1:\n",
        "      break\n",
        "    else :\n",
        "      x = back_x\n",
        "      y = back_y\n",
        "      d_count = 0\n",
        "    \n",
        "  nx = x + dx[d] # 바라보고 있는 방향의 왼쪽 방향\n",
        "  ny = y + dy[d]\n",
        "\n",
        "  if 0 <= nx < N and 0 <= ny < M and map_arr[nx][ny] == 0 :\n",
        "    x = nx\n",
        "    y = ny\n",
        "    map_arr[x][y] = 1\n",
        "    count += 1\n",
        "    d_count = 0\n",
        "  for i in map_arr:\n",
        "    print(i)\n",
        "print(count)"
      ],
      "execution_count": null,
      "outputs": [
        {
          "output_type": "stream",
          "text": [
            "4 4\n",
            "1 1 0\n",
            "1 1 1 1\n",
            "1 0 0 1\n",
            "1 1 0 1\n",
            "1 1 1 1 \n",
            "[1, 1, 1, 1]\n",
            "[1, 0, 0, 1]\n",
            "[1, 1, 0, 1]\n",
            "[1, 1, 1, 1]\n",
            "[1, 1, 1, 1]\n",
            "[1, 0, 0, 1]\n",
            "[1, 1, 0, 1]\n",
            "[1, 1, 1, 1]\n",
            "[1, 1, 1, 1]\n",
            "[1, 0, 0, 1]\n",
            "[1, 1, 0, 1]\n",
            "[1, 1, 1, 1]\n",
            "[1, 1, 1, 1]\n",
            "[1, 0, 1, 1]\n",
            "[1, 1, 0, 1]\n",
            "[1, 1, 1, 1]\n",
            "[1, 1, 1, 1]\n",
            "[1, 0, 1, 1]\n",
            "[1, 1, 0, 1]\n",
            "[1, 1, 1, 1]\n",
            "[1, 1, 1, 1]\n",
            "[1, 1, 1, 1]\n",
            "[1, 1, 0, 1]\n",
            "[1, 1, 1, 1]\n",
            "[1, 1, 1, 1]\n",
            "[1, 1, 1, 1]\n",
            "[1, 1, 0, 1]\n",
            "[1, 1, 1, 1]\n",
            "[1, 1, 1, 1]\n",
            "[1, 1, 1, 1]\n",
            "[1, 1, 0, 1]\n",
            "[1, 1, 1, 1]\n",
            "[1, 1, 1, 1]\n",
            "[1, 1, 1, 1]\n",
            "[1, 1, 0, 1]\n",
            "[1, 1, 1, 1]\n",
            "[1, 1, 1, 1]\n",
            "[1, 1, 1, 1]\n",
            "[1, 1, 0, 1]\n",
            "[1, 1, 1, 1]\n",
            "3\n"
          ],
          "name": "stdout"
        }
      ]
    },
    {
      "cell_type": "markdown",
      "metadata": {
        "id": "eKnP0oPi4NGa"
      },
      "source": [
        "# Chapter 05. DFS/BFS"
      ]
    },
    {
      "cell_type": "code",
      "metadata": {
        "colab": {
          "base_uri": "https://localhost:8080/",
          "height": 556
        },
        "id": "OpmWHMg-4Umy",
        "outputId": "ebab55f9-a605-4675-e0de-792c43fdfb77"
      },
      "source": [
        "# 음료수 열려 먹기 p.149\n",
        "import sys\n",
        "print(sys.getrecursionlimit())\n",
        "sys.setrecursionlimit(15000)\n",
        "N, M= map(int,input().split())\n",
        "ice_frame = []\n",
        "for _ in range(N):\n",
        "  ice_frame.append(list(map(int,input())))\n",
        "print(ice_frame)\n",
        "# DFS로 특정한 노드를 방문한 뒤에 연결된 모든 노드들도 방문\n",
        "def dfs(x,y):\n",
        "  if x < 0 or x >=N or y < 0 or y >=M:\n",
        "    return False\n",
        "  if ice_frame[x][y] == 0 :\n",
        "    ice_frame[x][y] == 1\n",
        "    dfs(x-1,y)\n",
        "    dfs(x,y-1)\n",
        "    dfs(x+1,y)\n",
        "    dfs(x,y+1)\n",
        "    return True\n",
        "  return False\n",
        "\n",
        "result = 0\n",
        "for i in range(N):\n",
        "  for j in range(M):\n",
        "    if dfs(i,j) == True:\n",
        "      result += 1\n",
        "print(result)"
      ],
      "execution_count": null,
      "outputs": [
        {
          "output_type": "stream",
          "text": [
            "1500\n",
            "4 5\n",
            "00110\n",
            "00011\n",
            "11111\n",
            "00000\n",
            "[[0, 0, 1, 1, 0], [0, 0, 0, 1, 1], [1, 1, 1, 1, 1], [0, 0, 0, 0, 0]]\n"
          ],
          "name": "stdout"
        },
        {
          "output_type": "error",
          "ename": "RecursionError",
          "evalue": "ignored",
          "traceback": [
            "\u001b[0;31m---------------------------------------------------------------------------\u001b[0m",
            "\u001b[0;31mRecursionError\u001b[0m                            Traceback (most recent call last)",
            "\u001b[0;32m<ipython-input-10-67f250c8f460>\u001b[0m in \u001b[0;36m<module>\u001b[0;34m()\u001b[0m\n\u001b[1;32m     24\u001b[0m \u001b[0;32mfor\u001b[0m \u001b[0mi\u001b[0m \u001b[0;32min\u001b[0m \u001b[0mrange\u001b[0m\u001b[0;34m(\u001b[0m\u001b[0mN\u001b[0m\u001b[0;34m)\u001b[0m\u001b[0;34m:\u001b[0m\u001b[0;34m\u001b[0m\u001b[0;34m\u001b[0m\u001b[0m\n\u001b[1;32m     25\u001b[0m   \u001b[0;32mfor\u001b[0m \u001b[0mj\u001b[0m \u001b[0;32min\u001b[0m \u001b[0mrange\u001b[0m\u001b[0;34m(\u001b[0m\u001b[0mM\u001b[0m\u001b[0;34m)\u001b[0m\u001b[0;34m:\u001b[0m\u001b[0;34m\u001b[0m\u001b[0;34m\u001b[0m\u001b[0m\n\u001b[0;32m---> 26\u001b[0;31m     \u001b[0;32mif\u001b[0m \u001b[0mdfs\u001b[0m\u001b[0;34m(\u001b[0m\u001b[0mi\u001b[0m\u001b[0;34m,\u001b[0m\u001b[0mj\u001b[0m\u001b[0;34m)\u001b[0m \u001b[0;34m==\u001b[0m \u001b[0;32mTrue\u001b[0m\u001b[0;34m:\u001b[0m\u001b[0;34m\u001b[0m\u001b[0;34m\u001b[0m\u001b[0m\n\u001b[0m\u001b[1;32m     27\u001b[0m       \u001b[0mresult\u001b[0m \u001b[0;34m+=\u001b[0m \u001b[0;36m1\u001b[0m\u001b[0;34m\u001b[0m\u001b[0;34m\u001b[0m\u001b[0m\n\u001b[1;32m     28\u001b[0m \u001b[0mprint\u001b[0m\u001b[0;34m(\u001b[0m\u001b[0mresult\u001b[0m\u001b[0;34m)\u001b[0m\u001b[0;34m\u001b[0m\u001b[0;34m\u001b[0m\u001b[0m\n",
            "\u001b[0;32m<ipython-input-10-67f250c8f460>\u001b[0m in \u001b[0;36mdfs\u001b[0;34m(x, y)\u001b[0m\n\u001b[1;32m     16\u001b[0m     \u001b[0mdfs\u001b[0m\u001b[0;34m(\u001b[0m\u001b[0mx\u001b[0m\u001b[0;34m-\u001b[0m\u001b[0;36m1\u001b[0m\u001b[0;34m,\u001b[0m\u001b[0my\u001b[0m\u001b[0;34m)\u001b[0m\u001b[0;34m\u001b[0m\u001b[0;34m\u001b[0m\u001b[0m\n\u001b[1;32m     17\u001b[0m     \u001b[0mdfs\u001b[0m\u001b[0;34m(\u001b[0m\u001b[0mx\u001b[0m\u001b[0;34m,\u001b[0m\u001b[0my\u001b[0m\u001b[0;34m-\u001b[0m\u001b[0;36m1\u001b[0m\u001b[0;34m)\u001b[0m\u001b[0;34m\u001b[0m\u001b[0;34m\u001b[0m\u001b[0m\n\u001b[0;32m---> 18\u001b[0;31m     \u001b[0mdfs\u001b[0m\u001b[0;34m(\u001b[0m\u001b[0mx\u001b[0m\u001b[0;34m+\u001b[0m\u001b[0;36m1\u001b[0m\u001b[0;34m,\u001b[0m\u001b[0my\u001b[0m\u001b[0;34m)\u001b[0m\u001b[0;34m\u001b[0m\u001b[0;34m\u001b[0m\u001b[0m\n\u001b[0m\u001b[1;32m     19\u001b[0m     \u001b[0mdfs\u001b[0m\u001b[0;34m(\u001b[0m\u001b[0mx\u001b[0m\u001b[0;34m,\u001b[0m\u001b[0my\u001b[0m\u001b[0;34m+\u001b[0m\u001b[0;36m1\u001b[0m\u001b[0;34m)\u001b[0m\u001b[0;34m\u001b[0m\u001b[0;34m\u001b[0m\u001b[0m\n\u001b[1;32m     20\u001b[0m     \u001b[0;32mreturn\u001b[0m \u001b[0;32mTrue\u001b[0m\u001b[0;34m\u001b[0m\u001b[0;34m\u001b[0m\u001b[0m\n",
            "\u001b[0;32m<ipython-input-10-67f250c8f460>\u001b[0m in \u001b[0;36mdfs\u001b[0;34m(x, y)\u001b[0m\n\u001b[1;32m     14\u001b[0m   \u001b[0;32mif\u001b[0m \u001b[0mice_frame\u001b[0m\u001b[0;34m[\u001b[0m\u001b[0mx\u001b[0m\u001b[0;34m]\u001b[0m\u001b[0;34m[\u001b[0m\u001b[0my\u001b[0m\u001b[0;34m]\u001b[0m \u001b[0;34m==\u001b[0m \u001b[0;36m0\u001b[0m \u001b[0;34m:\u001b[0m\u001b[0;34m\u001b[0m\u001b[0;34m\u001b[0m\u001b[0m\n\u001b[1;32m     15\u001b[0m     \u001b[0mice_frame\u001b[0m\u001b[0;34m[\u001b[0m\u001b[0mx\u001b[0m\u001b[0;34m]\u001b[0m\u001b[0;34m[\u001b[0m\u001b[0my\u001b[0m\u001b[0;34m]\u001b[0m \u001b[0;34m==\u001b[0m \u001b[0;36m1\u001b[0m\u001b[0;34m\u001b[0m\u001b[0;34m\u001b[0m\u001b[0m\n\u001b[0;32m---> 16\u001b[0;31m     \u001b[0mdfs\u001b[0m\u001b[0;34m(\u001b[0m\u001b[0mx\u001b[0m\u001b[0;34m-\u001b[0m\u001b[0;36m1\u001b[0m\u001b[0;34m,\u001b[0m\u001b[0my\u001b[0m\u001b[0;34m)\u001b[0m\u001b[0;34m\u001b[0m\u001b[0;34m\u001b[0m\u001b[0m\n\u001b[0m\u001b[1;32m     17\u001b[0m     \u001b[0mdfs\u001b[0m\u001b[0;34m(\u001b[0m\u001b[0mx\u001b[0m\u001b[0;34m,\u001b[0m\u001b[0my\u001b[0m\u001b[0;34m-\u001b[0m\u001b[0;36m1\u001b[0m\u001b[0;34m)\u001b[0m\u001b[0;34m\u001b[0m\u001b[0;34m\u001b[0m\u001b[0m\n\u001b[1;32m     18\u001b[0m     \u001b[0mdfs\u001b[0m\u001b[0;34m(\u001b[0m\u001b[0mx\u001b[0m\u001b[0;34m+\u001b[0m\u001b[0;36m1\u001b[0m\u001b[0;34m,\u001b[0m\u001b[0my\u001b[0m\u001b[0;34m)\u001b[0m\u001b[0;34m\u001b[0m\u001b[0;34m\u001b[0m\u001b[0m\n",
            "... last 2 frames repeated, from the frame below ...\n",
            "\u001b[0;32m<ipython-input-10-67f250c8f460>\u001b[0m in \u001b[0;36mdfs\u001b[0;34m(x, y)\u001b[0m\n\u001b[1;32m     16\u001b[0m     \u001b[0mdfs\u001b[0m\u001b[0;34m(\u001b[0m\u001b[0mx\u001b[0m\u001b[0;34m-\u001b[0m\u001b[0;36m1\u001b[0m\u001b[0;34m,\u001b[0m\u001b[0my\u001b[0m\u001b[0;34m)\u001b[0m\u001b[0;34m\u001b[0m\u001b[0;34m\u001b[0m\u001b[0m\n\u001b[1;32m     17\u001b[0m     \u001b[0mdfs\u001b[0m\u001b[0;34m(\u001b[0m\u001b[0mx\u001b[0m\u001b[0;34m,\u001b[0m\u001b[0my\u001b[0m\u001b[0;34m-\u001b[0m\u001b[0;36m1\u001b[0m\u001b[0;34m)\u001b[0m\u001b[0;34m\u001b[0m\u001b[0;34m\u001b[0m\u001b[0m\n\u001b[0;32m---> 18\u001b[0;31m     \u001b[0mdfs\u001b[0m\u001b[0;34m(\u001b[0m\u001b[0mx\u001b[0m\u001b[0;34m+\u001b[0m\u001b[0;36m1\u001b[0m\u001b[0;34m,\u001b[0m\u001b[0my\u001b[0m\u001b[0;34m)\u001b[0m\u001b[0;34m\u001b[0m\u001b[0;34m\u001b[0m\u001b[0m\n\u001b[0m\u001b[1;32m     19\u001b[0m     \u001b[0mdfs\u001b[0m\u001b[0;34m(\u001b[0m\u001b[0mx\u001b[0m\u001b[0;34m,\u001b[0m\u001b[0my\u001b[0m\u001b[0;34m+\u001b[0m\u001b[0;36m1\u001b[0m\u001b[0;34m)\u001b[0m\u001b[0;34m\u001b[0m\u001b[0;34m\u001b[0m\u001b[0m\n\u001b[1;32m     20\u001b[0m     \u001b[0;32mreturn\u001b[0m \u001b[0;32mTrue\u001b[0m\u001b[0;34m\u001b[0m\u001b[0;34m\u001b[0m\u001b[0m\n",
            "\u001b[0;31mRecursionError\u001b[0m: maximum recursion depth exceeded in comparison"
          ]
        }
      ]
    },
    {
      "cell_type": "code",
      "metadata": {
        "id": "Cx1tZgnx9du1",
        "colab": {
          "base_uri": "https://localhost:8080/"
        },
        "outputId": "b0934f40-2530-4997-cb22-541adedf1487"
      },
      "source": [
        "# 미로 탈출 p.152\n",
        "from collections import deque\n",
        "\n",
        "n, m = map(int,input().split())\n",
        "graph = []\n",
        "for _ in range(n):\n",
        "  graph.append(list(map(int, input())))\n",
        "print(graph)\n",
        "\n",
        "dx = [-1,1,0,0] # 상, 하, 좌, 우\n",
        "dy = [0,0,-1,1]\n",
        "\n",
        "\n",
        "def bfs(x,y):\n",
        "  queue = deque()\n",
        "  queue.append((x,y))\n",
        "  \n",
        "  count = 1\n",
        "  while queue:\n",
        "    # 큐에서 하나의 원소를 뽑아 값 +1\n",
        "    x, y = queue.popleft()\n",
        "\n",
        "    for i in range(4):\n",
        "      nx = x + dx[i]\n",
        "      ny = y + dy[i]\n",
        "      # nx,ny가 범위를 벗어난 경우\n",
        "      if nx < 0 or ny < 0 or nx >= n or ny >= m:\n",
        "        continue\n",
        "      if graph[nx][ny] == 0:\n",
        "        continue\n",
        "      if graph[nx][ny] == 1:\n",
        "        graph[nx][ny] = graph[x][y] + 1\n",
        "        queue.append((nx,ny))\n",
        "  return graph[n-1][m-1]\n",
        "\n",
        "print(bfs(0,0))"
      ],
      "execution_count": null,
      "outputs": [
        {
          "output_type": "stream",
          "text": [
            "5 6\n",
            "101010\n",
            "111111\n",
            "000001\n",
            "111111\n",
            "111111\n",
            "[[1, 0, 1, 0, 1, 0], [1, 1, 1, 1, 1, 1], [0, 0, 0, 0, 0, 1], [1, 1, 1, 1, 1, 1], [1, 1, 1, 1, 1, 1]]\n",
            "10\n"
          ],
          "name": "stdout"
        }
      ]
    },
    {
      "cell_type": "code",
      "metadata": {
        "colab": {
          "base_uri": "https://localhost:8080/"
        },
        "id": "94kleY9MZSWC",
        "outputId": "dbdd68ed-a9a4-4f23-8e89-e94bb3d4dff2"
      },
      "source": [
        "s = (1,2)\n",
        "print(s[0])\n",
        "print(s[1])"
      ],
      "execution_count": null,
      "outputs": [
        {
          "output_type": "stream",
          "text": [
            "1\n",
            "2\n"
          ],
          "name": "stdout"
        }
      ]
    },
    {
      "cell_type": "markdown",
      "metadata": {
        "id": "irdRuKkR-So4"
      },
      "source": [
        "# Chapter 06. 정렬"
      ]
    },
    {
      "cell_type": "code",
      "metadata": {
        "id": "heBkvlCnFhqX"
      },
      "source": [
        "array = [7,5,9,0,3,1,6,2,9,1,4,8,0,5,2]"
      ],
      "execution_count": 14,
      "outputs": []
    },
    {
      "cell_type": "code",
      "metadata": {
        "colab": {
          "base_uri": "https://localhost:8080/"
        },
        "id": "fAJmy5iR-c4i",
        "outputId": "01e532dd-549d-4c92-f3c3-d1b3961210f2"
      },
      "source": [
        "# 선택 정렬 - O(N^2)\n",
        "import time\n",
        "#array = [5, 7, 9, 0, 3, 1, 6, 2, 4, 8]\n",
        "s = time.time()\n",
        "\n",
        "for i in range(len(array)):\n",
        "  min_idx = i   # 가장 작은 원소의 인덱스\n",
        "  for j in range(i+1, len(array)):\n",
        "    if array[j] < array[min_idx]:\n",
        "      min_idx = j\n",
        "  array[i], array[min_idx] = array[min_idx], array[i]  # swap\n",
        "print(array)\n",
        "f = time.time()\n",
        "print(f-s)"
      ],
      "execution_count": 15,
      "outputs": [
        {
          "output_type": "stream",
          "text": [
            "[0, 0, 1, 1, 2, 2, 3, 4, 5, 5, 6, 7, 8, 9, 9]\n",
            "0.0005729198455810547\n"
          ],
          "name": "stdout"
        }
      ]
    },
    {
      "cell_type": "code",
      "metadata": {
        "colab": {
          "base_uri": "https://localhost:8080/"
        },
        "id": "z1iUFXvo_PFg",
        "outputId": "9334db73-06c2-4293-b2b8-d25d9a88fe9c"
      },
      "source": [
        "# 삽입 정렬 - O(N^2)\n",
        "import time\n",
        "#array = [5, 7, 9, 0, 3, 1, 6, 2, 4, 8]\n",
        "s = time.time()\n",
        "\n",
        "for i in range(1,len(array)):\n",
        "  for j in range(i,0,-1): # 인덱스 i부터 1까지 감소하며 반복하는 문법\n",
        "    if array[j] < array[j-1]: # 한칸씩 왼쪽으로 이동\n",
        "      array[j], array[j-1] = array[j-1], array[j]\n",
        "    else : # 자기보다 작은 데이터를 만나면 그 위치에서 멈춤\n",
        "      break\n",
        "print(array)\n",
        "f = time.time()\n",
        "print(f-s)"
      ],
      "execution_count": 16,
      "outputs": [
        {
          "output_type": "stream",
          "text": [
            "[0, 0, 1, 1, 2, 2, 3, 4, 5, 5, 6, 7, 8, 9, 9]\n",
            "0.00025177001953125\n"
          ],
          "name": "stdout"
        }
      ]
    },
    {
      "cell_type": "code",
      "metadata": {
        "colab": {
          "base_uri": "https://localhost:8080/"
        },
        "id": "JzSTdLa1AZU6",
        "outputId": "c8414a17-6f34-47db-9ae5-d707dee7ecd4"
      },
      "source": [
        "# 퀵 정렬 - 대중적 코드 - O(N*logN)\n",
        "import time\n",
        "#array = [5, 7, 9, 0, 3, 1, 6, 2, 4, 8]\n",
        "s = time.time()\n",
        "\n",
        "def quick_sort(array, start, end):\n",
        "  if start >= end:  # 원소가 1개인 경우 종료\n",
        "    return\n",
        "  pivot = start # 피벗은 첫 번째 원소\n",
        "  left = start + 1\n",
        "  right = end\n",
        "  while left <= right:\n",
        "    # 피벗보다 큰 데이터를 찾을 때까지 반복\n",
        "    while left <= end and array[left] <= array[pivot]:\n",
        "      left += 1\n",
        "    # 피벗보다 작은 데이터를 찾을 때까지 반복\n",
        "    while right > start and array[right] >= array[pivot]:\n",
        "      right -= 1\n",
        "    if left > right : # 엇갈렸다면 작은 데이터와 피벗을 교체\n",
        "      array[right], array[pivot] = array[pivot], array[right]\n",
        "    else: # 엇갈리지 않았다면 작은 데이터와 큰 데이터를 교체\n",
        "      array[left], array[right] = array[right], array[left]\n",
        "  # 분할 이후 왼쪽 부분과 오른쪽 부분에서 각각 정렬 수행\n",
        "  quick_sort(array, start, right-1)\n",
        "  quick_sort(array, right+1, end)\n",
        "\n",
        "quick_sort(array, 0, len(array)-1)\n",
        "print(array)\n",
        "f = time.time()\n",
        "print(f-s)"
      ],
      "execution_count": 17,
      "outputs": [
        {
          "output_type": "stream",
          "text": [
            "[0, 0, 1, 1, 2, 2, 3, 4, 5, 5, 6, 7, 8, 9, 9]\n",
            "0.0010879039764404297\n"
          ],
          "name": "stdout"
        }
      ]
    },
    {
      "cell_type": "code",
      "metadata": {
        "colab": {
          "base_uri": "https://localhost:8080/"
        },
        "id": "L93ZWR6yC6U3",
        "outputId": "901bb384-ef98-4320-c4cb-d4a8fd89a17a"
      },
      "source": [
        "# 퀵 정렬 - 파이썬의 장점을 살려서\n",
        "import time\n",
        "#array = [5, 7, 9, 0, 3, 1, 6, 2, 4, 8]\n",
        "s = time.time()\n",
        "def quick_sort2(array):\n",
        "  # 리스트가 하나 이하의 원소만을 담고 있다면 종료\n",
        "  if len(array) <= 1:\n",
        "    return array\n",
        "  \n",
        "  pivot = array[0] # 피벗은 첫 번째 원소\n",
        "  tail = array[1:] # 피벗을 제외한 리스트\n",
        "\n",
        "  left_side = [x for x in tail if x <= pivot] # 분할된 왼쪽 부분\n",
        "  right_side = [x for x in tail if x > pivot] # 분할된 오른쪽 부분\n",
        "\n",
        "  # 분할 이후 왼쪽 부분과 오른쪽 부분에서 각각 정렬을 수행하고, 전체 리스트를 반환\n",
        "  return quick_sort2(left_side) + [pivot] + quick_sort2(right_side)\n",
        "\n",
        "print(quick_sort2(array))\n",
        "f = time.time()\n",
        "print(f-s)"
      ],
      "execution_count": 18,
      "outputs": [
        {
          "output_type": "stream",
          "text": [
            "[0, 0, 1, 1, 2, 2, 3, 4, 5, 5, 6, 7, 8, 9, 9]\n",
            "0.0011942386627197266\n"
          ],
          "name": "stdout"
        }
      ]
    },
    {
      "cell_type": "code",
      "metadata": {
        "colab": {
          "base_uri": "https://localhost:8080/"
        },
        "id": "XX-o7C0SAZdI",
        "outputId": "d73b2d24-39f5-4fd9-fc5c-138cf313b523"
      },
      "source": [
        "# 계수 정렬 - O(N+K)  /  N : 데이터개수, K : 데이터 중 최댓값\n",
        "import time\n",
        "# 모든 원소의 값이 0보다 크거나 같다고 가정\n",
        "#array = [7,5,9,0,3,1,6,2,9,1,4,8,0,5,2]\n",
        "\n",
        "s = time.time()\n",
        "\n",
        "# 모든 범위를 포함하는 리스트 선언(모든 값은 0으로 초기화)\n",
        "count = [0] * (max(array) + 1)\n",
        "\n",
        "for i in array:\n",
        "  count[i] += 1 # 각 데이터에 해당하는 인덱스의 값 증가\n",
        "\n",
        "for i in range(len(count)): # 리스트에 기록된 정렬 정보 확인\n",
        "  for j in range(count[i]):\n",
        "    print(i, end=\" \")   # 띄어쓰기를 구분으로 등장한 횟수만큼 인덱스 출력\n",
        "print()\n",
        "f = time.time()\n",
        "print(f-s)"
      ],
      "execution_count": 21,
      "outputs": [
        {
          "output_type": "stream",
          "text": [
            "0 0 1 1 2 2 3 4 5 5 6 7 8 9 9 \n",
            "0.0035576820373535156\n"
          ],
          "name": "stdout"
        }
      ]
    },
    {
      "cell_type": "code",
      "metadata": {
        "colab": {
          "base_uri": "https://localhost:8080/"
        },
        "id": "v5HTYO7CIqET",
        "outputId": "c68eae35-76b8-457a-83af-25025f7cc432"
      },
      "source": [
        "# 파이썬의 정렬 라이브러리 - O(N*logN) 퀵정렬보다 빠름.\n",
        "import time\n",
        "s = time.time()\n",
        "\n",
        "result = sorted(array)\n",
        "print(result)\n",
        "\n",
        "f = time.time()\n",
        "print(f-s)"
      ],
      "execution_count": 24,
      "outputs": [
        {
          "output_type": "stream",
          "text": [
            "[0, 0, 1, 1, 2, 2, 3, 4, 5, 5, 6, 7, 8, 9, 9]\n",
            "0.0009853839874267578\n"
          ],
          "name": "stdout"
        }
      ]
    },
    {
      "cell_type": "code",
      "metadata": {
        "colab": {
          "base_uri": "https://localhost:8080/"
        },
        "id": "L6iwPYZaKAhC",
        "outputId": "24d301fd-2b0a-413e-a515-ba05ba0ea711"
      },
      "source": [
        "# 성적이 낮은 순서로 학생 출력하기 - p.180\n",
        "n = int(input())\n",
        "\n",
        "arr = []\n",
        "for _ in range(n):\n",
        "  input_data = input().split()\n",
        "  # 이름은 문자열 그래도, 숫자는 int로 바꾸어서 튜플로 저장\n",
        "  arr.append((input_data[0], int(input_data[1])))\n",
        "\n",
        "arr.sort(key=lambda a: as[1])\n",
        "\n",
        "for student in arr:\n",
        "  print(student[0], end = \" \")"
      ],
      "execution_count": 32,
      "outputs": [
        {
          "output_type": "stream",
          "text": [
            "3\n",
            "fdsf 34\n",
            "fdsfdg 3\n",
            "dfgs 56\n",
            "fdsfdg fdsf dfgs "
          ],
          "name": "stdout"
        }
      ]
    },
    {
      "cell_type": "code",
      "metadata": {
        "colab": {
          "base_uri": "https://localhost:8080/"
        },
        "id": "VzP4XymwL5te",
        "outputId": "80bac3ad-fe9c-4f5f-bab9-e95009fcbb2f"
      },
      "source": [
        "# 두 배열의 원소 교체\n",
        "n, k = map(int, input().split())\n",
        "a = list(map(int,input().split()))\n",
        "b = list(map(int,input().split()))\n",
        "a.sort()\n",
        "b.sort(reverse=True)\n",
        "for i in range(k):\n",
        "  if a[i] < b[i]:\n",
        "    a[i], b[i] = b[i], a[i]\n",
        "  else:\n",
        "    break\n",
        "print(a)\n",
        "print(sum(a))"
      ],
      "execution_count": 37,
      "outputs": [
        {
          "output_type": "stream",
          "text": [
            "5 3\n",
            "1 2 5 4 3\n",
            "5 5 6 6 5\n",
            "[6, 6, 5, 4, 5]\n",
            "26\n"
          ],
          "name": "stdout"
        }
      ]
    }
  ]
}