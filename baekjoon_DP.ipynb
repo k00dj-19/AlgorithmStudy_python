{
  "nbformat": 4,
  "nbformat_minor": 0,
  "metadata": {
    "colab": {
      "name": "baekjoon_DP.ipynb",
      "provenance": [],
      "authorship_tag": "ABX9TyP08L0K4ZIwixf14Hkoy59D",
      "include_colab_link": true
    },
    "kernelspec": {
      "name": "python3",
      "display_name": "Python 3"
    },
    "language_info": {
      "name": "python"
    }
  },
  "cells": [
    {
      "cell_type": "markdown",
      "metadata": {
        "id": "view-in-github",
        "colab_type": "text"
      },
      "source": [
        "<a href=\"https://colab.research.google.com/github/k00dj-19/AlgorithmStudy_python/blob/master/baekjoon_DP.ipynb\" target=\"_parent\"><img src=\"https://colab.research.google.com/assets/colab-badge.svg\" alt=\"Open In Colab\"/></a>"
      ]
    },
    {
      "cell_type": "markdown",
      "metadata": {
        "id": "ioGli7pPYAkM"
      },
      "source": [
        "#Dynamic Programming\n",
        "문제 - 1463, 11726, 11727, 9095, 10844, 11057, 2193, 9465, 2156, 11053, 11055, 11722, 11054, 1912, 2579, 1699, 2133, 9461, 2225, 2011, 11052\n",
        "\n",
        "실패 - 10844\n",
        "\n",
        "\n",
        "##개념\n",
        "동적 계획법은 문제를 풀 때 하나의 문제를 여러 하위 문제로 나누어 풀고, 그것들을 결합해서 최종 목적에 도달하는 방식의 알고리즘\n",
        "\n",
        "###메모리제이션(Memorization)\n",
        "동일한 문제를 반복해야 할 경우, 한 번 계산된 결과를 저장해 두었다가 활용하는 방식으로 중복 계산을 줄이는 것\n",
        "\n",
        "###Top-Down\n",
        "문제 풀이가 위에서 아래로 진행되는 것.\n",
        "\n",
        "###Bottom-Up\n",
        "문제 풀이가 아래에서 위로 진행되는 것\n",
        "\n",
        "##장단점\n",
        "모든 방법을 일일이 검토하여 최적의 해를 찾아내는 방식의 알고리즘. 그리디 알고리즘과 대비된다. 그리디 알고리즘은 모든 해를 구하지 않고 순간마다 그 순간에서의 최적의 해를 찾는 방식. 그리디 알고리즘은 닥치는 순간만을 고려해서 해를 구하기 때문에 도출된 값이 항상 최적의 해라고 할 수는 없다. 하지만 동적 계획법은 모든 방법을 검토해 보고 결과적으로 효율적인 값을 택한다. 그런 면에서 동적 계획법은 그리디 알고리즘에 비해 시간이 오래 걸리지만, 결과적으로는 항상 최적의 해를 구할 수 있다는 이점을 가지고 있다."
      ]
    },
    {
      "cell_type": "code",
      "metadata": {
        "colab": {
          "base_uri": "https://localhost:8080/"
        },
        "id": "SzWqCthUYB7x",
        "outputId": "1649e76c-30c8-475b-f3b4-230bb2c72281"
      },
      "source": [
        "# 1로 만들기 - 1463\n",
        "# f(2) = 1\n",
        "# f(3) = 1\n",
        "# f(4) = 1+f(2)\n",
        "# f(5) = 1+f(4)\n",
        "# f(6) = 1 + min(f(2),f(3))\n",
        "\n",
        "# 상향식\n",
        "def make1(x):\n",
        "  arr = [0]*(1000001)\n",
        "  arr[2] = 1\n",
        "  arr[3] = 1\n",
        "  for i in range(4, x+1):\n",
        "    if i%6 == 0:\n",
        "      arr[i] = 1 + min(arr[i-1],arr[i//2], arr[i//3])\n",
        "    elif i%2 == 0 and i%3 != 0:\n",
        "      arr[i] = 1 + min(arr[i-1], arr[i//2])\n",
        "    elif i%2 != 0 and i%3 == 0:\n",
        "      arr[i] = 1 + min(arr[i-1], arr[i//3])\n",
        "    else :\n",
        "      arr[i] = 1 + arr[i-1]\n",
        "  return arr[x]\n",
        "print(make1(int(input())))\n",
        "\n",
        "# 재귀 (하향식)\n",
        "# def make1(x):\n",
        "#   if x <= 3 :\n",
        "#     return arr[x]\n",
        "#   elif x > 3:\n",
        "#     if x%6 == 0:\n",
        "#       if arr[x] == 0:\n",
        "#         return 1 + min(make1(x-1),make1(x//2), make1(x//3))\n",
        "#       else \n",
        "#     elif x%2 == 0 and x%3 != 0:\n",
        "#       return 1 + min(make1(x-1), make1(x//2))\n",
        "#     elif x%2 != 0 and x%3 == 0:\n",
        "#       return 1 + min(make1(x-1), make1(x//3))\n",
        "#     else :\n",
        "#       return 1 + make1(x-1)"
      ],
      "execution_count": 32,
      "outputs": [
        {
          "output_type": "stream",
          "text": [
            "1000000\n",
            "19\n"
          ],
          "name": "stdout"
        }
      ]
    },
    {
      "cell_type": "code",
      "metadata": {
        "colab": {
          "base_uri": "https://localhost:8080/"
        },
        "id": "0U364JMrgppU",
        "outputId": "9583a5d8-9af0-4c62-8be2-9e26990a45aa"
      },
      "source": [
        "# 2xn 타일링 - 11726\n",
        "# 상향식\n",
        "def tiling(x):\n",
        "  arr = [0]*1001\n",
        "  arr[1] = 1\n",
        "  arr[2] = 2\n",
        "  arr[3] = 3\n",
        "  arr[4] = arr[3] + arr[2]\n",
        "  for i in range(3, x+1):\n",
        "    arr[i] = (arr[i-1] + arr[i-2])%10007\n",
        "  return arr[x]\n",
        "print(tiling(int(input())))\n",
        "\n",
        "# 하향식\n",
        "arr2 = [0]*1001\n",
        "arr2[1] = 1\n",
        "arr2[2] = 2\n",
        "\n",
        "def tiling2(x):\n",
        "  if arr2[x] == 0:\n",
        "    arr2[x] = (tiling2(x-1) + tiling2(x-2))%10007\n",
        "  return arr2[x]\n",
        "print(tiling2(int(input())))"
      ],
      "execution_count": 44,
      "outputs": [
        {
          "output_type": "stream",
          "text": [
            "10\n",
            "89\n",
            "20\n",
            "939\n"
          ],
          "name": "stdout"
        }
      ]
    },
    {
      "cell_type": "code",
      "metadata": {
        "colab": {
          "base_uri": "https://localhost:8080/"
        },
        "id": "YhAFRUkLkaqY",
        "outputId": "4616ddd5-d296-4163-f4d6-08191ee9d881"
      },
      "source": [
        "# 1,2,3 더하기 - 9095\n",
        "arr = [0]*11\n",
        "arr[1] = 1\n",
        "arr[2] = 2 # 11 2\n",
        "arr[3] = 4 #111 12 21 3\n",
        "for i in range(4,11):\n",
        "  arr[i] = arr[i-1] + arr[i-2] + arr[i-3]\n",
        "\n",
        "for i in range(int(input())):\n",
        "  n = int(input())\n",
        "  print(arr[n])"
      ],
      "execution_count": 47,
      "outputs": [
        {
          "output_type": "stream",
          "text": [
            "3\n",
            "4\n",
            "7\n",
            "7\n",
            "44\n",
            "10\n",
            "274\n"
          ],
          "name": "stdout"
        }
      ]
    },
    {
      "cell_type": "code",
      "metadata": {
        "colab": {
          "base_uri": "https://localhost:8080/"
        },
        "id": "IJthpgC8nF9u",
        "outputId": "7efde18c-3989-422f-a500-536a909f9d29"
      },
      "source": [
        "# 쉬운 계단 수 - 10844\n",
        "# 실패..\n",
        "stair_num = [0]*101\n",
        "stair_num[1] = 9\n",
        "stair_num[2] = 17\n",
        "count_sub = [0]*101\n",
        "count_sub[1] = 1 #9\n",
        "count_sub[2] = 2 #x9 x0   89 10\n",
        "count_sub[3] = 3 #xx9 xx0   789 989  210\n",
        "count_sub[4] = 5  #xxx9 xxx0  6789 8789 8989 1210 3210 \n",
        "count_sub[5] = 9  #xxxx9 xxxx0 56789 76789 98789 78789 98989 78989 21210 43210 23210\n",
        "count_sub[6] = \n",
        "# 10 12 21 23 ... 87 89 98\n",
        "# 101 121 123 210 212 232 234 321 323 343 345   989 987 898 89.. \n",
        "# 789 210 \n",
        "# 1010 1210 3210 \n",
        "# stair_num[3] = stair_num[2]*2 - 2\n",
        "# stair_num[x] = stair_num[x-1]*2 - 2*(x-1)\n",
        "n = int(input())\n",
        "for i in range(3,n+1):\n",
        "  stair_num[i] = stair_num[i-1]*2 - 2*(i-2)\n",
        "print(stair_num[n]%1000000000)\n",
        "print(stair_num)"
      ],
      "execution_count": 55,
      "outputs": [
        {
          "output_type": "stream",
          "text": [
            "3\n",
            "30\n",
            "[0, 9, 17, 30, 0, 0, 0, 0, 0, 0, 0, 0, 0, 0, 0, 0, 0, 0, 0, 0, 0, 0, 0, 0, 0, 0, 0, 0, 0, 0, 0, 0, 0, 0, 0, 0, 0, 0, 0, 0, 0, 0, 0, 0, 0, 0, 0, 0, 0, 0, 0, 0, 0, 0, 0, 0, 0, 0, 0, 0, 0, 0, 0, 0, 0, 0, 0, 0, 0, 0, 0, 0, 0, 0, 0, 0, 0, 0, 0, 0, 0, 0, 0, 0, 0, 0, 0, 0, 0, 0, 0, 0, 0, 0, 0, 0, 0, 0, 0, 0, 0]\n"
          ],
          "name": "stdout"
        }
      ]
    },
    {
      "cell_type": "code",
      "metadata": {
        "colab": {
          "base_uri": "https://localhost:8080/"
        },
        "id": "FZLvOJhTrYVQ",
        "outputId": "3f99d854-c2dd-4163-87b3-cc1cfaa6e68c"
      },
      "source": [
        "# 오르막 수 - 11057\n",
        "n = int(input())\n",
        "dp = [[0]*10 for _ in range(n+1)]\n",
        "# dp[자리수][0~9] = 개수\n",
        "#         0 1 2 3 4 5 6 7 8 9\n",
        "# dp[1] = 1 1 1 1 1 1 1 1 1 1\n",
        "# dp[2] = 0 9 8 7 6 5 4 3 2 1\n",
        "# dp[3] = 0 \n",
        "for i in range(9+1):\n",
        "  dp[1][i] = 1\n",
        "for i in range(2, n+1):\n",
        "  for j in range(9+1):\n",
        "    dp[i][j] = sum(dp[i-1][j:])\n",
        "print(sum(dp[n])%10007)"
      ],
      "execution_count": 71,
      "outputs": [
        {
          "output_type": "stream",
          "text": [
            "3\n",
            "220\n"
          ],
          "name": "stdout"
        }
      ]
    },
    {
      "cell_type": "code",
      "metadata": {
        "colab": {
          "base_uri": "https://localhost:8080/"
        },
        "id": "-JQnwCEh7T0R",
        "outputId": "c54c01f6-f5d1-459e-d544-17436f8b8e7e"
      },
      "source": [
        "# 이친수 - 2193\n",
        "# 1 \n",
        "# 10\n",
        "# 100 101\n",
        "# 1000 1001 1010\n",
        "# 10001 10000 10010 10100 10101\n",
        "n = int(input())\n",
        "dp = [[0]*2 for _ in range(n+1)]\n",
        "dp[1][1] = 1\n",
        "for i in range(2,n+1):\n",
        "  dp[i][0] = dp[i-1][0] + dp[i-1][1]\n",
        "  dp[i][1] = dp[i-1][0]\n",
        "print(sum(dp[n]))\n",
        "# dp[자리수][0~1] = 맨 뒤가 [0~1]인 개수\n",
        "#         0     1\n",
        "# dp[1] = 0     1\n",
        "# dp[2] = 1(10) 0\n",
        "# dp[3] = dp[2] dp[2]\n",
        "# dp[4] = \n"
      ],
      "execution_count": 76,
      "outputs": [
        {
          "output_type": "stream",
          "text": [
            "4\n",
            "3\n"
          ],
          "name": "stdout"
        }
      ]
    },
    {
      "cell_type": "code",
      "metadata": {
        "id": "OiPt5cbsBa_q"
      },
      "source": [
        ""
      ],
      "execution_count": null,
      "outputs": []
    }
  ]
}