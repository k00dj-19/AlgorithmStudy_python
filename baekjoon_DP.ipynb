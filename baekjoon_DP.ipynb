{
  "nbformat": 4,
  "nbformat_minor": 0,
  "metadata": {
    "colab": {
      "name": "baekjoon_DP.ipynb",
      "provenance": [],
      "authorship_tag": "ABX9TyNpqkvQJ77FhcEx+hhlMOXo",
      "include_colab_link": true
    },
    "kernelspec": {
      "name": "python3",
      "display_name": "Python 3"
    },
    "language_info": {
      "name": "python"
    }
  },
  "cells": [
    {
      "cell_type": "markdown",
      "metadata": {
        "id": "view-in-github",
        "colab_type": "text"
      },
      "source": [
        "<a href=\"https://colab.research.google.com/github/k00dj-19/AlgorithmStudy_python/blob/master/baekjoon_DP.ipynb\" target=\"_parent\"><img src=\"https://colab.research.google.com/assets/colab-badge.svg\" alt=\"Open In Colab\"/></a>"
      ]
    },
    {
      "cell_type": "markdown",
      "metadata": {
        "id": "ioGli7pPYAkM"
      },
      "source": [
        "#Dynamic Programming\n",
        "문제 - 1463, 11726, 11727, 9095, 10844, 11057, 2193, 9465, 2156, 11053, 11055, 11722, 11054, 1912, 2579, 1699, 2133, 9461, 2225, 2011, 11052\n",
        "\n",
        "실패 - 10844, 9465, 2156, 11053, 2579, 1699, 2011\n",
        "\n",
        "\n",
        "##개념\n",
        "동적 계획법은 문제를 풀 때 하나의 문제를 여러 하위 문제로 나누어 풀고, 그것들을 결합해서 최종 목적에 도달하는 방식의 알고리즘\n",
        "\n",
        "###메모리제이션(Memorization)\n",
        "동일한 문제를 반복해야 할 경우, 한 번 계산된 결과를 저장해 두었다가 활용하는 방식으로 중복 계산을 줄이는 것\n",
        "\n",
        "###Top-Down\n",
        "문제 풀이가 위에서 아래로 진행되는 것.\n",
        "\n",
        "###Bottom-Up\n",
        "문제 풀이가 아래에서 위로 진행되는 것\n",
        "\n",
        "##장단점\n",
        "모든 방법을 일일이 검토하여 최적의 해를 찾아내는 방식의 알고리즘. 그리디 알고리즘과 대비된다. 그리디 알고리즘은 모든 해를 구하지 않고 순간마다 그 순간에서의 최적의 해를 찾는 방식. 그리디 알고리즘은 닥치는 순간만을 고려해서 해를 구하기 때문에 도출된 값이 항상 최적의 해라고 할 수는 없다. 하지만 동적 계획법은 모든 방법을 검토해 보고 결과적으로 효율적인 값을 택한다. 그런 면에서 동적 계획법은 그리디 알고리즘에 비해 시간이 오래 걸리지만, 결과적으로는 항상 최적의 해를 구할 수 있다는 이점을 가지고 있다."
      ]
    },
    {
      "cell_type": "code",
      "metadata": {
        "colab": {
          "base_uri": "https://localhost:8080/"
        },
        "id": "SzWqCthUYB7x",
        "outputId": "1649e76c-30c8-475b-f3b4-230bb2c72281"
      },
      "source": [
        "# 1로 만들기 - 1463\n",
        "# f(2) = 1\n",
        "# f(3) = 1\n",
        "# f(4) = 1+f(2)\n",
        "# f(5) = 1+f(4)\n",
        "# f(6) = 1 + min(f(2),f(3))\n",
        "\n",
        "# 상향식\n",
        "def make1(x):\n",
        "  arr = [0]*(1000001)\n",
        "  arr[2] = 1\n",
        "  arr[3] = 1\n",
        "  for i in range(4, x+1):\n",
        "    if i%6 == 0:\n",
        "      arr[i] = 1 + min(arr[i-1],arr[i//2], arr[i//3])\n",
        "    elif i%2 == 0 and i%3 != 0:\n",
        "      arr[i] = 1 + min(arr[i-1], arr[i//2])\n",
        "    elif i%2 != 0 and i%3 == 0:\n",
        "      arr[i] = 1 + min(arr[i-1], arr[i//3])\n",
        "    else :\n",
        "      arr[i] = 1 + arr[i-1]\n",
        "  return arr[x]\n",
        "print(make1(int(input())))\n",
        "\n",
        "# 재귀 (하향식)\n",
        "# def make1(x):\n",
        "#   if x <= 3 :\n",
        "#     return arr[x]\n",
        "#   elif x > 3:\n",
        "#     if x%6 == 0:\n",
        "#       if arr[x] == 0:\n",
        "#         return 1 + min(make1(x-1),make1(x//2), make1(x//3))\n",
        "#       else \n",
        "#     elif x%2 == 0 and x%3 != 0:\n",
        "#       return 1 + min(make1(x-1), make1(x//2))\n",
        "#     elif x%2 != 0 and x%3 == 0:\n",
        "#       return 1 + min(make1(x-1), make1(x//3))\n",
        "#     else :\n",
        "#       return 1 + make1(x-1)"
      ],
      "execution_count": null,
      "outputs": [
        {
          "output_type": "stream",
          "text": [
            "1000000\n",
            "19\n"
          ],
          "name": "stdout"
        }
      ]
    },
    {
      "cell_type": "code",
      "metadata": {
        "colab": {
          "base_uri": "https://localhost:8080/"
        },
        "id": "0U364JMrgppU",
        "outputId": "9583a5d8-9af0-4c62-8be2-9e26990a45aa"
      },
      "source": [
        "# 2xn 타일링 - 11726\n",
        "# 상향식\n",
        "def tiling(x):\n",
        "  arr = [0]*1001\n",
        "  arr[1] = 1\n",
        "  arr[2] = 2\n",
        "  arr[3] = 3\n",
        "  arr[4] = arr[3] + arr[2]\n",
        "  for i in range(3, x+1):\n",
        "    arr[i] = (arr[i-1] + arr[i-2])%10007\n",
        "  return arr[x]\n",
        "print(tiling(int(input())))\n",
        "\n",
        "# 하향식\n",
        "arr2 = [0]*1001\n",
        "arr2[1] = 1\n",
        "arr2[2] = 2\n",
        "\n",
        "def tiling2(x):\n",
        "  if arr2[x] == 0:\n",
        "    arr2[x] = (tiling2(x-1) + tiling2(x-2))%10007\n",
        "  return arr2[x]\n",
        "print(tiling2(int(input())))"
      ],
      "execution_count": null,
      "outputs": [
        {
          "output_type": "stream",
          "text": [
            "10\n",
            "89\n",
            "20\n",
            "939\n"
          ],
          "name": "stdout"
        }
      ]
    },
    {
      "cell_type": "code",
      "metadata": {
        "colab": {
          "base_uri": "https://localhost:8080/"
        },
        "id": "YhAFRUkLkaqY",
        "outputId": "4616ddd5-d296-4163-f4d6-08191ee9d881"
      },
      "source": [
        "# 1,2,3 더하기 - 9095\n",
        "arr = [0]*11\n",
        "arr[1] = 1\n",
        "arr[2] = 2 # 11 2\n",
        "arr[3] = 4 #111 12 21 3\n",
        "for i in range(4,11):\n",
        "  arr[i] = arr[i-1] + arr[i-2] + arr[i-3]\n",
        "\n",
        "for i in range(int(input())):\n",
        "  n = int(input())\n",
        "  print(arr[n])"
      ],
      "execution_count": null,
      "outputs": [
        {
          "output_type": "stream",
          "text": [
            "3\n",
            "4\n",
            "7\n",
            "7\n",
            "44\n",
            "10\n",
            "274\n"
          ],
          "name": "stdout"
        }
      ]
    },
    {
      "cell_type": "code",
      "metadata": {
        "colab": {
          "base_uri": "https://localhost:8080/"
        },
        "id": "IJthpgC8nF9u",
        "outputId": "7efde18c-3989-422f-a500-536a909f9d29"
      },
      "source": [
        "# 쉬운 계단 수 - 10844\n",
        "# 실패..\n",
        "stair_num = [0]*101\n",
        "stair_num[1] = 9\n",
        "stair_num[2] = 17\n",
        "count_sub = [0]*101\n",
        "count_sub[1] = 1 #9\n",
        "count_sub[2] = 2 #x9 x0   89 10\n",
        "count_sub[3] = 3 #xx9 xx0   789 989  210\n",
        "count_sub[4] = 5  #xxx9 xxx0  6789 8789 8989 1210 3210 \n",
        "count_sub[5] = 9  #xxxx9 xxxx0 56789 76789 98789 78789 98989 78989 21210 43210 23210\n",
        "count_sub[6] = \n",
        "# 10 12 21 23 ... 87 89 98\n",
        "# 101 121 123 210 212 232 234 321 323 343 345   989 987 898 89.. \n",
        "# 789 210 \n",
        "# 1010 1210 3210 \n",
        "# stair_num[3] = stair_num[2]*2 - 2\n",
        "# stair_num[x] = stair_num[x-1]*2 - 2*(x-1)\n",
        "n = int(input())\n",
        "for i in range(3,n+1):\n",
        "  stair_num[i] = stair_num[i-1]*2 - 2*(i-2)\n",
        "print(stair_num[n]%1000000000)\n",
        "print(stair_num)"
      ],
      "execution_count": null,
      "outputs": [
        {
          "output_type": "stream",
          "text": [
            "3\n",
            "30\n",
            "[0, 9, 17, 30, 0, 0, 0, 0, 0, 0, 0, 0, 0, 0, 0, 0, 0, 0, 0, 0, 0, 0, 0, 0, 0, 0, 0, 0, 0, 0, 0, 0, 0, 0, 0, 0, 0, 0, 0, 0, 0, 0, 0, 0, 0, 0, 0, 0, 0, 0, 0, 0, 0, 0, 0, 0, 0, 0, 0, 0, 0, 0, 0, 0, 0, 0, 0, 0, 0, 0, 0, 0, 0, 0, 0, 0, 0, 0, 0, 0, 0, 0, 0, 0, 0, 0, 0, 0, 0, 0, 0, 0, 0, 0, 0, 0, 0, 0, 0, 0, 0]\n"
          ],
          "name": "stdout"
        }
      ]
    },
    {
      "cell_type": "code",
      "metadata": {
        "colab": {
          "base_uri": "https://localhost:8080/"
        },
        "id": "FZLvOJhTrYVQ",
        "outputId": "3f99d854-c2dd-4163-87b3-cc1cfaa6e68c"
      },
      "source": [
        "# 오르막 수 - 11057\n",
        "n = int(input())\n",
        "dp = [[0]*10 for _ in range(n+1)]\n",
        "# dp[자리수][0~9] = 개수\n",
        "#         0 1 2 3 4 5 6 7 8 9\n",
        "# dp[1] = 1 1 1 1 1 1 1 1 1 1\n",
        "# dp[2] = 0 9 8 7 6 5 4 3 2 1\n",
        "# dp[3] = 0 \n",
        "for i in range(9+1):\n",
        "  dp[1][i] = 1\n",
        "for i in range(2, n+1):\n",
        "  for j in range(9+1):\n",
        "    dp[i][j] = sum(dp[i-1][j:])\n",
        "print(sum(dp[n])%10007)"
      ],
      "execution_count": null,
      "outputs": [
        {
          "output_type": "stream",
          "text": [
            "3\n",
            "220\n"
          ],
          "name": "stdout"
        }
      ]
    },
    {
      "cell_type": "code",
      "metadata": {
        "colab": {
          "base_uri": "https://localhost:8080/"
        },
        "id": "-JQnwCEh7T0R",
        "outputId": "c54c01f6-f5d1-459e-d544-17436f8b8e7e"
      },
      "source": [
        "# 이친수 - 2193\n",
        "# 1 \n",
        "# 10\n",
        "# 100 101\n",
        "# 1000 1001 1010\n",
        "# 10001 10000 10010 10100 10101\n",
        "n = int(input())\n",
        "dp = [[0]*2 for _ in range(n+1)]\n",
        "dp[1][1] = 1\n",
        "for i in range(2,n+1):\n",
        "  dp[i][0] = dp[i-1][0] + dp[i-1][1]\n",
        "  dp[i][1] = dp[i-1][0]\n",
        "print(sum(dp[n]))\n",
        "# dp[자리수][0~1] = 맨 뒤가 [0~1]인 개수\n",
        "#         0     1\n",
        "# dp[1] = 0     1\n",
        "# dp[2] = 1(10) 0\n",
        "# dp[3] = dp[2] dp[2]\n",
        "# dp[4] = \n"
      ],
      "execution_count": null,
      "outputs": [
        {
          "output_type": "stream",
          "text": [
            "4\n",
            "3\n"
          ],
          "name": "stdout"
        }
      ]
    },
    {
      "cell_type": "code",
      "metadata": {
        "id": "OiPt5cbsBa_q",
        "colab": {
          "base_uri": "https://localhost:8080/"
        },
        "outputId": "22b38c8e-4c9d-4395-b854-fcd6ff4a6b35"
      },
      "source": [
        "# 스티커 - 9465\n",
        "# 실패! - 답 참고..\n",
        "t = int(input())\n",
        "for i in range(t):\n",
        "  n = int(input())\n",
        "  s = []\n",
        "  for _ in range(2):\n",
        "    s.append(list(map(int, input().split())))\n",
        "  s[0][1] += s[1][0]\n",
        "  s[1][1] += s[0][0]\n",
        "  for j in range(2, n):\n",
        "    s[0][j] += max(s[1][j-1], s[1][j-2])\n",
        "    s[1][j] += max(s[0][j-1], s[0][j-2])\n",
        "  print(max(s[0][n-1],s[1][n-1]))    "
      ],
      "execution_count": null,
      "outputs": [
        {
          "output_type": "stream",
          "text": [
            "2\n",
            "5\n",
            "50 10 100 20 40\n",
            "30 50 70 10 60\n",
            "260\n",
            "7\n",
            "10 30 10 50 100 20 40\n",
            "20 40 30 50 60 20 80\n",
            "290\n"
          ],
          "name": "stdout"
        }
      ]
    },
    {
      "cell_type": "code",
      "metadata": {
        "colab": {
          "base_uri": "https://localhost:8080/"
        },
        "id": "U16_uhDLkrDI",
        "outputId": "f6cacf34-aafa-48de-ce08-2f0569a185f7"
      },
      "source": [
        "# 포도주 시식 - 2156 \n",
        "# 실패 다시해보기 \n",
        "# 배운점 : 노트에 순서와 경우의수를 적으면서 해보자. 생각하면서 하는 것보다 금방 해결책이 나온다.\n",
        "n = int(input())\n",
        "s = []\n",
        "dp = [0]*n\n",
        "for i in range(n):\n",
        "  s.append(int(input()))\n",
        "dp[0] = s[0]\n",
        "if n > 1:\n",
        "  dp[1] = s[0] + s[1]\n",
        "  for j in range(2,n):\n",
        "    dp[j] = max(dp[j-1], dp[j-3]+s[j-1]+s[j], dp[j-2]+s[j])\n",
        "print(dp[n-1])"
      ],
      "execution_count": null,
      "outputs": [
        {
          "output_type": "stream",
          "text": [
            "3\n",
            "312\n",
            "232\n",
            "1\n",
            "544\n"
          ],
          "name": "stdout"
        }
      ]
    },
    {
      "cell_type": "code",
      "metadata": {
        "colab": {
          "base_uri": "https://localhost:8080/"
        },
        "id": "Apo0zuMRZb3a",
        "outputId": "2ebe9277-2d8b-41c2-c647-33a579b670b2"
      },
      "source": [
        "# 가장 긴 증가하는 부분 수열 - 11053\n",
        "# 답봄 ..\n",
        "# 배운점 : dp배열은 서로 연관이 있음을 생각하자.\n",
        "# 3 5 7 6 2 1 4 8\n",
        "n = int(input())\n",
        "arr = list(map(int,input().split()))\n",
        "dp = [0]*n  # dp[i] : arr[i]가 증가하는 부분 수열의 마지막일 때의 길이\n",
        "if len(arr) != n:\n",
        "  exit()\n",
        "for i in range(n):\n",
        "  for j in range(i):\n",
        "    if arr[j] < arr[i] and dp[i] < dp[j]:\n",
        "        dp[i] = dp[j]\n",
        "  dp[i] += 1\n",
        "print(max(dp))"
      ],
      "execution_count": null,
      "outputs": [
        {
          "output_type": "stream",
          "text": [
            "8\n",
            "3 5 7 6 2 1 4 8\n",
            "[1, 2, 3, 3, 1, 1, 2, 4]\n"
          ],
          "name": "stdout"
        }
      ]
    },
    {
      "cell_type": "code",
      "metadata": {
        "colab": {
          "base_uri": "https://localhost:8080/"
        },
        "id": "aEPRLVcZPSgD",
        "outputId": "d09431c8-1342-4fec-e04a-52d4a2426c32"
      },
      "source": [
        "# 가장 큰 증가 부분 수열 - 11055\n",
        "n = int(input())\n",
        "arr = list(map(int,input().split()))\n",
        "dp = [0]*n \n",
        "if len(arr) != n:\n",
        "  exit()\n",
        "for i in range(n):\n",
        "  for j in range(i):\n",
        "    if arr[j] < arr[i] and dp[i] < dp[j]:\n",
        "      dp[i] = dp[j]\n",
        "  dp[i] += arr[i]\n",
        "print(max(dp))"
      ],
      "execution_count": null,
      "outputs": [
        {
          "output_type": "stream",
          "text": [
            "10\n",
            "1 100 2 50 60 3 5 6 7 8\n",
            "[1, 101, 3, 53, 113, 6, 11, 17, 24, 32]\n"
          ],
          "name": "stdout"
        }
      ]
    },
    {
      "cell_type": "code",
      "metadata": {
        "colab": {
          "base_uri": "https://localhost:8080/"
        },
        "id": "RIOjc9vbQvTI",
        "outputId": "8e2d4e2e-01ba-4c67-e428-3aa8d655ed00"
      },
      "source": [
        "# 가장 긴 감소하는 부분 수열 - 11722\n",
        "n = int(input())\n",
        "arr = list(map(int,input().split()))\n",
        "dp = [0]*n  # dp[i] : arr[i]가 감소하는 부분 수열의 마지막일 때의 길이\n",
        "if len(arr) != n:\n",
        "  exit()\n",
        "for i in range(n):\n",
        "  for j in range(i):\n",
        "    if arr[j] > arr[i] and dp[i] < dp[j]:\n",
        "      dp[i] = dp[j]\n",
        "  dp[i] += 1\n",
        "print(max(dp))"
      ],
      "execution_count": null,
      "outputs": [
        {
          "output_type": "stream",
          "text": [
            "6\n",
            "10 30 10 20 20 10\n",
            "[1, 1, 2, 2, 2, 3]\n"
          ],
          "name": "stdout"
        }
      ]
    },
    {
      "cell_type": "code",
      "metadata": {
        "colab": {
          "base_uri": "https://localhost:8080/"
        },
        "id": "7P-WcLugRJDt",
        "outputId": "09e5975d-ead9-480c-b01c-2d85e2a77976"
      },
      "source": [
        "# 가장 긴 바이토닉 부분 수열 - 11054\n",
        "# 1 5 2 1 4 3 4 5 2 1\n",
        "# 0 1 2 3 4 5 6 7 8 9\n",
        "# n=10\n",
        "# 1 2 3 4 4\n",
        "n = int(input())\n",
        "arr = list(map(int,input().split()))\n",
        "arr2 = list(reversed(arr))\n",
        "dp_1 = [0]*n  # dp_1[i] : arr[i]가 증가하는 부분 수열의 마지막일 때의 길이\n",
        "dp_2 = [0]*n  # dp_2[i] : arr2[i]가 증가하는 부분 수열의 마지막일 때의 길이\n",
        "if len(arr) != n:\n",
        "  exit()\n",
        "for i in range(n):\n",
        "  for j in range(i):\n",
        "    if arr[j] < arr[i] and dp_1[i] < dp_1[j]:\n",
        "      dp_1[i] = dp_1[j]\n",
        "    if arr2[j] < arr2[i] and dp_2[i] < dp_2[j]:\n",
        "      dp_2[i] = dp_2[j]\n",
        "  dp_1[i] += 1\n",
        "  dp_2[i] += 1\n",
        "dp_2.reverse()\n",
        "dp = [0]*n\n",
        "for k in range(n):\n",
        "  dp[k] = dp_1[k] + dp_2[k] - 1\n",
        "print(max(dp))"
      ],
      "execution_count": null,
      "outputs": [
        {
          "output_type": "stream",
          "text": [
            "10\n",
            "1 5 2 1 4 3 4 5 2 1\n",
            "[1, 2, 5, 4, 3, 4, 1, 2, 5, 1]\n",
            "[1, 2, 3, 3, 3, 4, 1, 2, 5, 1]\n",
            "[1, 2, 2, 1, 3, 3, 4, 5, 2, 1]\n",
            "[1, 6, 3, 1, 6, 5, 6, 7, 3, 1]\n"
          ],
          "name": "stdout"
        }
      ]
    },
    {
      "cell_type": "code",
      "metadata": {
        "colab": {
          "base_uri": "https://localhost:8080/"
        },
        "id": "AZ3G9yH5SBi5",
        "outputId": "fb6bbdd4-0498-4a45-97cf-d647ec0bdc89"
      },
      "source": [
        "# 연속합 - 1912\n",
        "n = int(input())\n",
        "arr = list(map(int,input().split()))\n",
        "if len(arr) != n:\n",
        "  exit()\n",
        "dp = [0]*n # dp[i] : arr[i]가 포함되었을 때 최대 연속합\n",
        "#           10  -4  3   1  5  6  -35   12  21  -1\n",
        "# 누적합    10  6   9  10 15 21  -14   -2  19  18 \n",
        "# dp        10  6   9  10 15 21  -14   12  33\n",
        "dp[0] = arr[0]\n",
        "for i in range(1,n):\n",
        "  dp[i] = max(dp[i-1]+arr[i], arr[i])\n",
        "print(max(dp))"
      ],
      "execution_count": null,
      "outputs": [
        {
          "output_type": "stream",
          "text": [
            "5\n",
            "-1 -2 -3 -4 -5\n",
            "-1\n"
          ],
          "name": "stdout"
        }
      ]
    },
    {
      "cell_type": "code",
      "metadata": {
        "colab": {
          "base_uri": "https://localhost:8080/"
        },
        "id": "Lk5V0MXpjkWg",
        "outputId": "12558cdd-8e03-4f08-f1b7-e938486233b9"
      },
      "source": [
        "# 계단 오르기 - 2579/실버3\n",
        "# 실패..답참고\n",
        "n = int(input())\n",
        "arr = []\n",
        "for i in range(n):\n",
        "  arr.append(int(input()))\n",
        "dp = [0]*n # dp[i] : arr[i]가 포함되었을 때 총 점수 최대 값\n",
        "dp[0] = arr[0]\n",
        "dp[1] = dp[0] + arr[1]\n",
        "dp[2] = max(arr[0]+arr[2], arr[1]+arr[2])\n",
        "\n",
        "for i in range(3,n):\n",
        "  dp[i] = arr[i] + max(dp[i-2], dp[i-3] + arr[i-1]) \n",
        "print(dp[n-1])"
      ],
      "execution_count": null,
      "outputs": [
        {
          "output_type": "stream",
          "text": [
            "6\n",
            "10\n",
            "20\n",
            "15\n",
            "3\n",
            "5\n",
            "4\n",
            "44\n"
          ],
          "name": "stdout"
        }
      ]
    },
    {
      "cell_type": "code",
      "metadata": {
        "colab": {
          "base_uri": "https://localhost:8080/"
        },
        "id": "fbXD8umOeurK",
        "outputId": "1f0af09f-41d6-40d4-8392-3e268a6d19e3"
      },
      "source": [
        "# 제곱수의 합 - 1699/실버3\n",
        "#316^2 = 99856, 337^2 = 100489\n",
        "# 동적계획법으로 풀어보기. 아래 풀이는 왜 틀렸는지 이해 불가. \n",
        "def SumOfSquareNums(x,arr):\n",
        "  for i in range(1,317):\n",
        "    if i*i <= x < (i+1)*(i+1):\n",
        "      arr.append(i)\n",
        "      next = x - i*i\n",
        "      if next == 0 : \n",
        "        break\n",
        "      SumOfSquareNums(next,arr)\n",
        "      break\n",
        "a= []\n",
        "n = int(input())\n",
        "SumOfSquareNums(n,a)\n",
        "print(a)\n",
        "print(len(a))\n"
      ],
      "execution_count": null,
      "outputs": [
        {
          "output_type": "stream",
          "text": [
            "15\n",
            "[3, 2, 1, 1]\n",
            "4\n"
          ],
          "name": "stdout"
        }
      ]
    },
    {
      "cell_type": "code",
      "metadata": {
        "colab": {
          "base_uri": "https://localhost:8080/"
        },
        "id": "rbymKkVkkGXd",
        "outputId": "bb5ce3ba-e703-4cc7-d62e-bccc019456b4"
      },
      "source": [
        "# 타일 채우기 - 2133/실버1\n",
        "n = int(input())\n",
        "dp = [0]*31 # dp[i] : 3xi 타일 채우는 경우의 수\n",
        "dp[2] = 3\n",
        "dp[3] = 0\n",
        "dp[4] = 3*3 + 2  # 9: dp[2]*dp[2], 2: 2번째와 3번째가 이어진 경우 \n",
        "#dp[6] = dp[4]*3 + dp[2]*2 + 2 == 33+6+4\n",
        "#dp[8] = dp[6]*3 + dp[4]*2 + dp[2]*2 + 2\n",
        "for i in range(5, n+1):\n",
        "  if i%2 == 1:\n",
        "    dp[i] = 0\n",
        "  else :\n",
        "    dp[i] += dp[i-2]*3 + 2\n",
        "    for j in range(i-4,0,-2):\n",
        "      dp[i] += dp[j]*2\n",
        "      #dp[i] = (dp[i-2]* 3) + (dp[i-4]*2) + dp[i-6]*pow(2,2) # i-2와 i-1타일이 이어진 경우와 안 이어진 경우의 합\n",
        "print(dp[n])"
      ],
      "execution_count": 4,
      "outputs": [
        {
          "output_type": "stream",
          "text": [
            "8\n",
            "153\n"
          ],
          "name": "stdout"
        }
      ]
    },
    {
      "cell_type": "code",
      "metadata": {
        "colab": {
          "base_uri": "https://localhost:8080/"
        },
        "id": "G_uFKnO1wfIW",
        "outputId": "4c9946db-6d40-4c13-ce3d-3f5aea1c0763"
      },
      "source": [
        "# 파도반 수열 - 9461/실버3\n",
        "p = [0]*102\n",
        "p[1] = 1\n",
        "p[2] = 1\n",
        "p[3] = 1\n",
        "p[4] = 2\n",
        "p[5] = 2\n",
        "p[6] = 3  #p[3]+p[5]\n",
        "p[7] = 4  #p[2]+[6]\n",
        "p[8] = 5  #[1]+[7]\n",
        "p[9] = 7  #[4]+[8]\n",
        "p[10] = 9 #[5]+[9]\n",
        "p[11] = 12 #[6]+[10]\n",
        "for i in range(12,102):\n",
        "  p[i] = p[i-5] + p[i-1]\n",
        "t = int(input())\n",
        "for j in range(t):\n",
        "  print(p[int(input())])"
      ],
      "execution_count": 5,
      "outputs": [
        {
          "output_type": "stream",
          "text": [
            "2\n",
            "6\n",
            "3\n",
            "12\n",
            "16\n"
          ],
          "name": "stdout"
        }
      ]
    },
    {
      "cell_type": "code",
      "metadata": {
        "colab": {
          "base_uri": "https://localhost:8080/"
        },
        "id": "vvXq81o-nkEq",
        "outputId": "5b3ec660-358b-4b31-bb99-aa5cfec2dbd1"
      },
      "source": [
        "# 합분해 - 2225/골드5\n",
        "\n",
        "# 재귀함수풀이 : 시간초과\n",
        "# def cnt(n,k):\n",
        "#   if k == 1 :\n",
        "#     return 1\n",
        "#   elif k > 1:\n",
        "#     sum =0\n",
        "#     for i in range(k-1,n+1):\n",
        "#       sum += cnt(i,k-1)\n",
        "#     return sum + 1\n",
        "n, k = map(int, input().split())\n",
        "dp = [[0 for col in range(201)] for row in range(201)]\n",
        "for i in range(1,n+1):\n",
        "  dp[i][1] = 1\n",
        "  dp[i][2] = i+1\n",
        "for i in range(2,k+1):\n",
        "  dp[1][i] = i\n",
        "  for j in range(2,n+1):\n",
        "      dp[j][i] = (dp[j][i-1] + dp[j-1][i])%1000000000\n",
        "print(dp[n][k])\n",
        "\n",
        "\n",
        "# cnt(20, 3) = cnt(20,2) + cnt(19, 2) + cnt(18,2) + cnt(17,2) + ... + cnt(3,2) + cnt(2,2) + 1(20+0+0)\n",
        "# cnt(19, 3) = cnt(19,2) + cnt(18, 2)+ ... + cnt(2,2) + 1\n",
        "# 따라서, cnt(20,3) = cnt(20,2) + cnt(19,3)\n",
        "# cnt(n,k) = cnt(n,k-1) + cnt(n-1, k)\n",
        "# 1 1 18\n",
        "# 1 2 17\n",
        "# 1 3 16\n",
        "# ...\n",
        "# 1 18 1\n",
        "# 2 ..\n",
        "# ...\n",
        "# 17  1 2\n",
        "# 17\n",
        "\n",
        "# +\n",
        "# 0 0 20\n",
        "# 0 1 19\n"
      ],
      "execution_count": 23,
      "outputs": [
        {
          "output_type": "stream",
          "text": [
            "5 3\n",
            "21\n"
          ],
          "name": "stdout"
        }
      ]
    },
    {
      "cell_type": "code",
      "metadata": {
        "id": "iUORFT1g0d6m"
      },
      "source": [
        "# 암호코드 - 2011/실버1\n",
        "# 보류\n",
        "def code(s):\n",
        "  if len(s) == 1:\n",
        "    return 1\n",
        "  a = int(s[0])\n",
        "  if a > 2:\n",
        "    return code(s[1:])\n",
        "  \n",
        "s = input()\n",
        "if '0' in s:\n",
        "  print(0)\n",
        "else:\n"
      ],
      "execution_count": null,
      "outputs": []
    },
    {
      "cell_type": "code",
      "metadata": {
        "colab": {
          "base_uri": "https://localhost:8080/"
        },
        "id": "TPEUY2kc5khO",
        "outputId": "bcfe74e1-d6e2-4b20-eb50-478bc7e4140f"
      },
      "source": [
        "# 카드 구매하기 - 11052/실버1\n",
        "def pay(P, ):\n",
        "  arr = []\n",
        "\n",
        "n = int(input()) # 카드개수\n",
        "p = list(map(int,input().split()))\n",
        "p.insert(0,0) # 계산하기 쉽게 하기위해 p[0] = 0 추가\n",
        "pay = 0\n",
        "\n",
        "5 : 1,1,1,1,1 / 1,1,1,2 / 1,1,3 / 1,4 / 5 / 2,3\n",
        "# 경우의 수를 구해야함.\n",
        "for i in range(1,n+1):\n",
        "\n",
        "print(p)"
      ],
      "execution_count": 30,
      "outputs": [
        {
          "output_type": "stream",
          "text": [
            "4\n",
            "1 5 6 7\n",
            "[0, 1, 5, 6, 7]\n"
          ],
          "name": "stdout"
        }
      ]
    }
  ]
}