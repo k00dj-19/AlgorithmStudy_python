{
  "nbformat": 4,
  "nbformat_minor": 0,
  "metadata": {
    "colab": {
      "name": "baekjoon_stage8.ipynb",
      "provenance": [],
      "authorship_tag": "ABX9TyMMHGeKDMvUbvdcKjmKqwh4",
      "include_colab_link": true
    },
    "kernelspec": {
      "name": "python3",
      "display_name": "Python 3"
    },
    "language_info": {
      "name": "python"
    }
  },
  "cells": [
    {
      "cell_type": "markdown",
      "metadata": {
        "id": "view-in-github",
        "colab_type": "text"
      },
      "source": [
        "<a href=\"https://colab.research.google.com/github/k00dj-19/AlgorithmStudy_python/blob/master/baekjoon_stage8.ipynb\" target=\"_parent\"><img src=\"https://colab.research.google.com/assets/colab-badge.svg\" alt=\"Open In Colab\"/></a>"
      ]
    },
    {
      "cell_type": "code",
      "metadata": {
        "colab": {
          "base_uri": "https://localhost:8080/"
        },
        "id": "lvB4ziazEOpo",
        "outputId": "73a91fd9-acd1-4434-e28b-6bf1321c2595"
      },
      "source": [
        "#1 손익분기점\n",
        "a, b, c = map(int, input().split())\n",
        "print(-1 if b>=c else a//(c-b) + 1)"
      ],
      "execution_count": null,
      "outputs": [
        {
          "output_type": "stream",
          "text": [
            "3 2 1\n",
            "-1\n"
          ],
          "name": "stdout"
        }
      ]
    },
    {
      "cell_type": "code",
      "metadata": {
        "colab": {
          "base_uri": "https://localhost:8080/"
        },
        "id": "nDGxogaKGUd6",
        "outputId": "ed071b8c-b730-4a9b-a7a6-59d71801694c"
      },
      "source": [
        "#2 벌집-2292\n",
        "#1 #1\n",
        "#2-7 6  -> 2\n",
        "#8-19 12  ->3\n",
        "#20-37 18  ->4\n",
        "#38-61 24  ->5\n",
        "n= 0\n",
        "x = int(input())\n",
        "for i in range(1, 1000000000+1):\n",
        "  s = 1 + 3*i*(i-1)\n",
        "  if s >= x : \n",
        "    n = i\n",
        "    break\n",
        "print(n)"
      ],
      "execution_count": null,
      "outputs": [
        {
          "output_type": "stream",
          "text": [
            "62\n",
            "6\n"
          ],
          "name": "stdout"
        }
      ]
    },
    {
      "cell_type": "code",
      "metadata": {
        "colab": {
          "base_uri": "https://localhost:8080/"
        },
        "id": "qFgBCwuNOkvB",
        "outputId": "69974d54-a5de-4d52-8fc1-443ce560f7a1"
      },
      "source": [
        "#3 분수찾기-1193\n",
        "x = int(input())\n",
        "n = 1\n",
        "while True:\n",
        "  s = n*(n+1)//2\n",
        "  if x <= s : # 1 3 6 10 15\n",
        "    break\n",
        "  n += 1\n",
        "if n%2 == 1 :\n",
        "  print(\"{}/{}\".format(s-x+1,n-s+x))\n",
        "else :\n",
        "  print(\"{}/{}\".format(n-s+x,s-x+1))"
      ],
      "execution_count": null,
      "outputs": [
        {
          "output_type": "stream",
          "text": [
            "3\n",
            "2\n",
            "2/1\n"
          ],
          "name": "stdout"
        }
      ]
    },
    {
      "cell_type": "code",
      "metadata": {
        "colab": {
          "base_uri": "https://localhost:8080/"
        },
        "id": "VYGDlDJOTkJd",
        "outputId": "d5efbb58-2fe2-4346-ab99-44fe24332f25"
      },
      "source": [
        "#4 달팽이는 올라가고 싶다 - 2869\n",
        "a,b,v = map(int, input().split())\n",
        "if a <= b: exit()\n",
        "n = (v-b)//(a-b) \n",
        "if (v-b)%(a-b) != 0 : n+=1\n",
        "print(n)\n",
        "# (-b + a) * n + b > v\n",
        "# n > (v-b) /(a-b)"
      ],
      "execution_count": null,
      "outputs": [
        {
          "output_type": "stream",
          "text": [
            "100 99 1000000000\n",
            "999999901\n"
          ],
          "name": "stdout"
        }
      ]
    },
    {
      "cell_type": "code",
      "metadata": {
        "id": "LgvFeWvjWsjw",
        "colab": {
          "base_uri": "https://localhost:8080/"
        },
        "outputId": "ce2b73a6-e5e2-4c5f-e5e9-230e7cbea41f"
      },
      "source": [
        "#5 ACM 호텔 - 10250\n",
        "t = int(input())\n",
        "for i in range(t):\n",
        "  h,w,n = map(int,input().split())\n",
        "  # 층 = n%h , 호수 = n//h + 1\n",
        "  if n > h*w or h < 1 or w > 99 or n < 1 : exit()\n",
        "  stair = n%h\n",
        "  num = n//h + 1\n",
        "  if n%h == 0 : \n",
        "    stair = h\n",
        "    num = n//h\n",
        "  print(num + 100*(stair))"
      ],
      "execution_count": null,
      "outputs": [
        {
          "output_type": "stream",
          "text": [
            "1\n",
            "6 12 6\n",
            "601\n"
          ],
          "name": "stdout"
        }
      ]
    },
    {
      "cell_type": "code",
      "metadata": {
        "colab": {
          "base_uri": "https://localhost:8080/"
        },
        "id": "tTbIKOwvIh8T",
        "outputId": "b57815e7-8e35-4f71-b47d-21b83cc45b9c"
      },
      "source": [
        "#6 부녀회장이 될테야 - 2775\n",
        "# 이차 배열 활용해서 풀이 \n",
        "t = int(input())\n",
        "for i in range(t):\n",
        "  k = int(input())\n",
        "  n = int(input())\n",
        "  sum = 0\n",
        "  array = [[0 for col in range(n+1)] for row in range(k+1)]\n",
        "  for i in range(1,n+1):\n",
        "    array[0][i] = i\n",
        "  for a in range(1, k+1):\n",
        "    for b in range(1,n+1):\n",
        "      for c in range(1, b+1):\n",
        "        array[a][b] += array[a-1][c]\n",
        "  print(array[k][n])\n",
        "  # for i in range(k+1):\n",
        "  #   for j in range(n+1):\n",
        "  #     print(array[i][j], end='  ')\n",
        "  #   print(\"\\n\")\n",
        " "
      ],
      "execution_count": null,
      "outputs": [
        {
          "output_type": "stream",
          "text": [
            "2\n",
            "1\n",
            "3\n",
            "6\n",
            "2\n",
            "3\n",
            "10\n"
          ],
          "name": "stdout"
        }
      ]
    },
    {
      "cell_type": "code",
      "metadata": {
        "colab": {
          "base_uri": "https://localhost:8080/"
        },
        "id": "oUlizAcTLvGE",
        "outputId": "1eb9a627-20cc-488a-ebe2-9e39f33010b2"
      },
      "source": [
        "#7 설탕 배달 - 2839\n",
        "n = int(input())\n",
        "a = 0\n",
        "kg_5 = 0\n",
        "kg_3 = 0\n",
        "while 1:\n",
        "  if n - 5*a < 0 :\n",
        "     break\n",
        "  if (n - 5*a)%3 == 0:\n",
        "    kg_5 = a\n",
        "    kg_3 = (n-5*a)//3\n",
        "  a+=1\n",
        "if kg_5 == 0 and kg_3 == 0 :\n",
        "  print(-1)\n",
        "else : \n",
        "  print(kg_5 + kg_3)"
      ],
      "execution_count": null,
      "outputs": [
        {
          "output_type": "stream",
          "text": [
            "18\n",
            "4\n"
          ],
          "name": "stdout"
        }
      ]
    },
    {
      "cell_type": "code",
      "metadata": {
        "colab": {
          "base_uri": "https://localhost:8080/"
        },
        "id": "e8yk8W5lnjdc",
        "outputId": "82c32984-ee4e-4105-bd06-5aa9332e7e77"
      },
      "source": [
        "#8 큰 수 A+B - 10757\n",
        "a, b = map(int, input().split())\n",
        "print(a+b)"
      ],
      "execution_count": null,
      "outputs": [
        {
          "output_type": "stream",
          "text": [
            "9223372036854775807 9223372036854775808\n",
            "18446744073709551615\n"
          ],
          "name": "stdout"
        }
      ]
    },
    {
      "cell_type": "code",
      "metadata": {
        "colab": {
          "base_uri": "https://localhost:8080/"
        },
        "id": "vKyFyw1hp4Mb",
        "outputId": "fea309a2-d093-48cd-8880-b5723a93639c"
      },
      "source": [
        "#9 Fly me to the Alpha Centauri - 1011\n",
        "# 어려웠다... 직접 써보고 관계를 찾아서 풀었다.\n",
        "t = int(input())\n",
        "for i in range(t):\n",
        "  x, y = map(int, input().split())\n",
        "  goal = y-x\n",
        "  count = 0\n",
        "  for n in range(goal): \n",
        "    if n*n < goal <= n*(n+1):\n",
        "      count = 2*n\n",
        "      break\n",
        "    elif n*(n+1) < goal <= (n+1)*(n+1):\n",
        "      count = 2*n + 1\n",
        "      break\n",
        "    else : continue\n",
        "  print(count)\n",
        "\n",
        "    # count 는 최대 y-x개   \n",
        "    # 1=1\n",
        "    # 2=1,1\n",
        "    # 3=1,1,1\n",
        "    # 4=1,2,1\n",
        "    # 5=1.2.1,1\n",
        "    # 6=1,2,2,1\n",
        "    # 7=1,2,1,2,1\n",
        "    # 8=1,2,2,2,1\n",
        "    # 9=1,2,3,2,1\n",
        "    #10=1,1,2,3,2,1\n",
        "    #11=1,2,2,3,2,1\n",
        "    #12=1,2,3,3,2,1\n",
        "    #13=1,1,2,3,3,2,1\n",
        "    #14=1,2,2,3,3,2,1\n",
        "    #15=1,2,3,3,3,2,1\n",
        "    #16=1,2,3,4,3,2,1\n",
        "    #17=1,1,2,3,4,3,2,1\n",
        "    #18=1,2,2,3,4,3,2,1\n",
        "    #19=1,2,3,3,4,3,2,1\n",
        "    #20=1,2,3,4,4,3,2,1\n",
        "    #21=1,1,2,3,4,4,3,2,1\n",
        "    #22\n",
        "    #23\n",
        "    #24\n",
        "    #25=1,2,3,4,5,4,3,2,1\n",
        "    #26~30 : \n",
        "    #30=1,2,3,4,5,5,4,3,2,1\n",
        "    # 숫자개수 : 1,2,3,4,5,6,7,8,9,10,11\n",
        "    # 같은 개수  1,1,2,2,3,3,4,4,5, 5, 6\n",
        "    #            1,2,4,6,9,12,16,20,25,30,36\n",
        "    #  1 + 2 + 3 + 2 + 1 = 9\n",
        "    #  1 + 2 + 3 + 4 + 3 + 2 + 1 = 16  \n",
        "    #  1 + 2 +.. + n + n-1 + n-2 + ... +2 + 1 = n^2\n",
        "    #  개수는 2*n - 1"
      ],
      "execution_count": null,
      "outputs": [
        {
          "output_type": "stream",
          "text": [
            "3\n",
            "0 3\n",
            "3\n",
            "1 5\n",
            "3\n",
            "45 50\n",
            "4\n"
          ],
          "name": "stdout"
        }
      ]
    }
  ]
}