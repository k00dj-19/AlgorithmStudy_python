{
  "nbformat": 4,
  "nbformat_minor": 0,
  "metadata": {
    "colab": {
      "name": "baekjoon_stage12.ipynb",
      "provenance": [],
      "authorship_tag": "ABX9TyNWqBVzB9rHKApD7YR40OVb",
      "include_colab_link": true
    },
    "kernelspec": {
      "name": "python3",
      "display_name": "Python 3"
    },
    "language_info": {
      "name": "python"
    }
  },
  "cells": [
    {
      "cell_type": "markdown",
      "metadata": {
        "id": "view-in-github",
        "colab_type": "text"
      },
      "source": [
        "<a href=\"https://colab.research.google.com/github/k00dj-19/AlgorithmStudy_python/blob/master/baekjoon_stage12.ipynb\" target=\"_parent\"><img src=\"https://colab.research.google.com/assets/colab-badge.svg\" alt=\"Open In Colab\"/></a>"
      ]
    },
    {
      "cell_type": "markdown",
      "metadata": {
        "id": "X2HRMVgLt6x8"
      },
      "source": [
        "정렬"
      ]
    },
    {
      "cell_type": "code",
      "metadata": {
        "colab": {
          "base_uri": "https://localhost:8080/"
        },
        "id": "sdX4HbBFt-hy",
        "outputId": "51df43a8-bcb4-4358-c521-3dfc5d5f4063"
      },
      "source": [
        "#1 수 정렬하기 - 2750\n",
        "n = int(input())\n",
        "arr = []\n",
        "for i in range(n):\n",
        "  arr.append(int(input()))\n",
        "arr.sort()\n",
        "for j in arr:\n",
        "  print(j)"
      ],
      "execution_count": 2,
      "outputs": [
        {
          "output_type": "stream",
          "text": [
            "5\n",
            "5\n",
            "2\n",
            "3\n",
            "4\n",
            "1\n",
            "1\n",
            "2\n",
            "3\n",
            "4\n",
            "5\n"
          ],
          "name": "stdout"
        }
      ]
    },
    {
      "cell_type": "code",
      "metadata": {
        "id": "K3thzpnLu6DA"
      },
      "source": [
        "#2 수 정렬하기2 - 2751\n",
        "n = int(input())\n",
        "arr = []\n",
        "for i in range(n):\n",
        "  arr.append(int(input()))\n",
        "arr.sort()\n",
        "for j in arr:\n",
        "  print(j)"
      ],
      "execution_count": null,
      "outputs": []
    },
    {
      "cell_type": "code",
      "metadata": {
        "colab": {
          "base_uri": "https://localhost:8080/"
        },
        "id": "Oz-fW_bgwVji",
        "outputId": "29c72a95-cf0f-4f74-b4fc-6094a5893b5d"
      },
      "source": [
        "#3 수 정렬하기3 - 10989\n",
        "# 카운팅 정렬\n",
        "import sys\n",
        "def sortedArr(n):\n",
        "  inputArr = []\n",
        "  outputArr = [-1]*n\n",
        "  countingArr = [0]*10000\n",
        "  for i in range(n):\n",
        "    inputArr.append(int(sys.stdin.readline()))\n",
        "    #inputArr.append(int(input()))\n",
        "  for num in inputArr:\n",
        "    countingArr[num] += 1\n",
        "  for k in range(10000):\n",
        "    countingArr[k+1] += countingArr[k]\n",
        "  for j in arr:\n",
        "    outputArr[countingArr[j] - 1] = j\n",
        "    countingArr[j] -= 1\n",
        "  return outputArr\n",
        "N = int(input())\n",
        "for k in sortedArr(N):\n",
        "  print(k)\n",
        "\n",
        "# 시간초과.."
      ],
      "execution_count": 9,
      "outputs": [
        {
          "output_type": "stream",
          "text": [
            "10\n",
            "5\n",
            "2\n",
            "3\n",
            "1\n",
            "4\n",
            "2\n",
            "3\n",
            "5\n",
            "1\n",
            "7\n",
            "1\n",
            "1\n",
            "2\n",
            "2\n",
            "3\n",
            "3\n",
            "4\n",
            "5\n",
            "5\n",
            "7\n"
          ],
          "name": "stdout"
        }
      ]
    },
    {
      "cell_type": "code",
      "metadata": {
        "id": "6IyC8J146-Pg"
      },
      "source": [
        "#3 \n",
        "import sys\n",
        "N = int(input())\n",
        "check_list = [0] * 10001\n",
        "\n",
        "for i in range(N):\n",
        "  input_num = int(sys.stdin.readline())\n",
        "  check_list[input_num] += 1 \n",
        "\n",
        "for i in range(10001): \n",
        "  if check_list[i] != 0: \n",
        "    for j in range(check_list[i]): \n",
        "      print(i)\n",
        "\n"
      ],
      "execution_count": null,
      "outputs": []
    },
    {
      "cell_type": "code",
      "metadata": {
        "id": "8NV7SoM1A--5"
      },
      "source": [
        "\n",
        "del range"
      ],
      "execution_count": 28,
      "outputs": []
    },
    {
      "cell_type": "code",
      "metadata": {
        "colab": {
          "base_uri": "https://localhost:8080/"
        },
        "id": "Xh7oR98e1kfL",
        "outputId": "0cdf8a3e-7a5d-45ab-8d91-ccffd9cb435d"
      },
      "source": [
        "#4 통계학 - 2108\n",
        "import sys\n",
        "N = int(input())\n",
        "arr = []\n",
        "for i in range(N):\n",
        "  arr.append(int(sys.stdin.readline()))\n",
        "avg = round(sum(arr)/N)\n",
        "arr.sort()\n",
        "mid = arr[N//2]\n",
        "range1 = arr[N-1] - arr[0]\n",
        "\n",
        "countArr = [0]*8001\n",
        "for j in arr:\n",
        "  countArr[4000+j] += arr.count(j)\n",
        "mode = []  \n",
        "for k in range(len(countArr)):\n",
        "  if countArr[k] == max(countArr):\n",
        "    mode.append(k)\n",
        "many = mode[0] - 4000\n",
        "if len(mode) > 1:\n",
        "  many = mode[1] - 4000\n",
        "\n",
        "print(avg)\n",
        "print(mid)\n",
        "print(many)\n",
        "print(range1)\n",
        "\n",
        "# 시간 초과..."
      ],
      "execution_count": 31,
      "outputs": [
        {
          "output_type": "stream",
          "text": [
            "5\n",
            "-1\n",
            "-2\n",
            "-3\n",
            "-1\n",
            "-2\n",
            "-2\n",
            "-2\n",
            "-1\n",
            "2\n"
          ],
          "name": "stdout"
        }
      ]
    },
    {
      "cell_type": "code",
      "metadata": {
        "colab": {
          "base_uri": "https://localhost:8080/"
        },
        "id": "s2xW6m2vAKhS",
        "outputId": "f5d8bf7a-218c-4bd2-d22a-107e0e7404b8"
      },
      "source": [
        "#4\n",
        "# collections.Counter 이용\n",
        "from collections import Counter\n",
        "import sys\n",
        "N = int(input())\n",
        "arr = []\n",
        "for i in range(N):\n",
        "  arr.append(int(input()))\n",
        "  #arr.append(int(sys.stdin.readline()))\n",
        "avg = round(sum(arr)/N)\n",
        "arr.sort()\n",
        "mid = arr[N//2]\n",
        "range1 = arr[N-1] - arr[0]\n",
        "\n",
        "mode_dict = Counter(arr)\n",
        "modes = mode_dict.most_common()\n",
        "if len(arr) > 1:\n",
        "  if modes[0][1] == modes[1][1]:\n",
        "    mode = modes[1][0]\n",
        "  else:\n",
        "    mode = modes[0][0]\n",
        "else :\n",
        "  mode = modes[0][0] \n",
        "# print(type(modes))\n",
        "# print(modes)\n",
        "\n",
        "\n",
        "print(avg)\n",
        "print(mid)\n",
        "print(mode)\n",
        "print(range1)"
      ],
      "execution_count": 35,
      "outputs": [
        {
          "output_type": "stream",
          "text": [
            "5\n",
            "-1\n",
            "-2\n",
            "-3\n",
            "-1\n",
            "-2\n",
            "<class 'list'>\n",
            "[(-2, 2), (-1, 2), (-3, 1)]\n",
            "-2\n",
            "-2\n",
            "-1\n",
            "2\n"
          ],
          "name": "stdout"
        }
      ]
    },
    {
      "cell_type": "code",
      "metadata": {
        "id": "4E4aY81_9lTg"
      },
      "source": [
        ""
      ],
      "execution_count": null,
      "outputs": []
    }
  ]
}