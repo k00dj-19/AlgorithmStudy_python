{
  "nbformat": 4,
  "nbformat_minor": 0,
  "metadata": {
    "colab": {
      "name": "baekjoon_stage11.ipynb",
      "provenance": [],
      "collapsed_sections": [],
      "authorship_tag": "ABX9TyMeWGaRtX9yUhQB9x0/y6wX",
      "include_colab_link": true
    },
    "kernelspec": {
      "name": "python3",
      "display_name": "Python 3"
    },
    "language_info": {
      "name": "python"
    }
  },
  "cells": [
    {
      "cell_type": "markdown",
      "metadata": {
        "id": "view-in-github",
        "colab_type": "text"
      },
      "source": [
        "<a href=\"https://colab.research.google.com/github/k00dj-19/AlgorithmStudy_python/blob/master/baekjoon_stage11.ipynb\" target=\"_parent\"><img src=\"https://colab.research.google.com/assets/colab-badge.svg\" alt=\"Open In Colab\"/></a>"
      ]
    },
    {
      "cell_type": "markdown",
      "metadata": {
        "id": "nQz75xISxLBm"
      },
      "source": [
        "브루트 포스"
      ]
    },
    {
      "cell_type": "code",
      "metadata": {
        "id": "GPlA03F2xNrd",
        "colab": {
          "base_uri": "https://localhost:8080/"
        },
        "outputId": "6e45a17d-1ca2-4a86-b885-10eadad808ea"
      },
      "source": [
        "#1 블랙잭 - 2798\n",
        "def search(N,M,array):\n",
        "  nearNum = 0\n",
        "  for i in range(N-2):\n",
        "    for j in range(i+1,N-1):\n",
        "      for k in range(j+1,N):\n",
        "        sum = array[i] + array[j] + array[k]\n",
        "        if sum == M:\n",
        "          return sum\n",
        "        elif sum < M and abs(M-nearNum) > abs(M-sum):\n",
        "          nearNum = sum\n",
        "        \n",
        "  return nearNum\n",
        "\n",
        "n, m = map(int, input().split())\n",
        "arr = list(map(int, input().split()))\n",
        "if len(arr) != n : exit()\n",
        "print(search(n,m,arr))\n",
        "\n",
        "\n"
      ],
      "execution_count": null,
      "outputs": [
        {
          "output_type": "stream",
          "text": [
            "10 500\n",
            "93 181 245 214 315 36 185 138 216 295\n",
            "497\n"
          ],
          "name": "stdout"
        }
      ]
    },
    {
      "cell_type": "code",
      "metadata": {
        "id": "7scTbnHw3bkJ",
        "colab": {
          "base_uri": "https://localhost:8080/"
        },
        "outputId": "b2861aa9-bfe4-4694-9392-7a6fd93e9148"
      },
      "source": [
        "#2 분해합 - 2231\n",
        "def findConstructor(N):\n",
        "  for i in range(1, N+1):\n",
        "    temp = i\n",
        "    for j in str(i):\n",
        "      temp += int(j)\n",
        "    if temp == N:\n",
        "       print(i)\n",
        "       break\n",
        "    if i == N:\n",
        "      print(0)\n",
        "      \n",
        "n = int(input()) \n",
        "findConstructor(n)\n"
      ],
      "execution_count": null,
      "outputs": [
        {
          "output_type": "stream",
          "text": [
            "510\n",
            "489\n"
          ],
          "name": "stdout"
        }
      ]
    },
    {
      "cell_type": "code",
      "metadata": {
        "colab": {
          "base_uri": "https://localhost:8080/"
        },
        "id": "NICJ8abOxfzT",
        "outputId": "76b16cd4-2e9b-4514-d35e-db79d2df8da0"
      },
      "source": [
        "#3 덩치 - 7568\n",
        "n = int(input())\n",
        "x_arr = []\n",
        "y_arr = []\n",
        "score_arr = [n+1]*n\n",
        "for i in range(n):\n",
        "  x,y = map(int, input().split())\n",
        "  x_arr.append(x)\n",
        "  y_arr.append(y)\n",
        "for j in range(len(x_arr)):\n",
        "  for k in range(len(x_arr)):\n",
        "    if x_arr[j] < x_arr[k] and y_arr[j] < y_arr[k]:\n",
        "      continue\n",
        "    else :\n",
        "      score_arr[j] -= 1\n",
        "for score in score_arr:\n",
        "  print(score, end=\" \")"
      ],
      "execution_count": 8,
      "outputs": [
        {
          "output_type": "stream",
          "text": [
            "2\n",
            "11 55\n",
            "11 55\n",
            "1 1 "
          ],
          "name": "stdout"
        }
      ]
    },
    {
      "cell_type": "code",
      "metadata": {
        "colab": {
          "base_uri": "https://localhost:8080/"
        },
        "id": "Z-yw3BYKs-ML",
        "outputId": "7e576f49-d586-4ba5-fb68-70f61937d65e"
      },
      "source": [
        "#4 체스판 다시 칠하기 - 1018\n",
        "def count(arr88):\n",
        "  s1 = \"BWBWBWBW\"\n",
        "  s2 = \"WBWBWBWB\"\n",
        "  cntB=0\n",
        "  cntW=0\n",
        "  # 왼쪽 위가 B일때,\n",
        "  for i in range(8):\n",
        "    for j in range(8):\n",
        "      if i % 2 == 0 :\n",
        "        if s1[j] != arr88[i][j]:\n",
        "          cntB += 1 \n",
        "      else :  \n",
        "        if s2[j] != arr88[i][j]:\n",
        "          cntB += 1  \n",
        "  # 왼쪽 위가 W일때,\n",
        "  for i in range(8):\n",
        "    for j in range(8):\n",
        "      if i % 2 == 0 : \n",
        "        cntW += 1 if s2[j] != arr88[i][j] else 0\n",
        "      else :  #\n",
        "        cntW += 1 if s1[j] != arr88[i][j] else 0\n",
        "  return min(cntB,cntW)\n",
        "\n",
        "n,m = map(int,input().split())\n",
        "arr = []\n",
        "for i in range(n):\n",
        "  arr.append(input())\n",
        "temp = [] # 8*8로 쪼갠 배열\n",
        "arr_cnt = [] \n",
        "\n",
        "\n",
        "for j in range(n-8 + 1):\n",
        "  for k in range(m-8 + 1):\n",
        "    temp = [arr[i][k:k+8] for i in range(j,j+8)]\n",
        "    arr_cnt.append(count(temp))\n",
        "    \n",
        "print(min(arr_cnt))"
      ],
      "execution_count": 26,
      "outputs": [
        {
          "output_type": "stream",
          "text": [
            "10 13\n",
            "BBBBBBBBWBWBW\n",
            "BBBBBBBBBWBWB\n",
            "BBBBBBBBWBWBW\n",
            "BBBBBBBBBWBWB\n",
            "BBBBBBBBWBWBW\n",
            "BBBBBBBBBWBWB\n",
            "BBBBBBBBWBWBW\n",
            "BBBBBBBBBWBWB\n",
            "WWWWWWWWWWBWB\n",
            "WWWWWWWWWWBWB\n",
            "['BBBBBBBB', 'BBBBBBBB', 'BBBBBBBB', 'BBBBBBBB', 'BBBBBBBB', 'BBBBBBBB', 'BBBBBBBB', 'BBBBBBBB']\n",
            "B\n",
            "['BBBBBBBW', 'BBBBBBBB', 'BBBBBBBW', 'BBBBBBBB', 'BBBBBBBW', 'BBBBBBBB', 'BBBBBBBW', 'BBBBBBBB']\n",
            "B\n",
            "['BBBBBBWB', 'BBBBBBBW', 'BBBBBBWB', 'BBBBBBBW', 'BBBBBBWB', 'BBBBBBBW', 'BBBBBBWB', 'BBBBBBBW']\n",
            "B\n",
            "['BBBBBWBW', 'BBBBBBWB', 'BBBBBWBW', 'BBBBBBWB', 'BBBBBWBW', 'BBBBBBWB', 'BBBBBWBW', 'BBBBBBWB']\n",
            "B\n",
            "['BBBBWBWB', 'BBBBBWBW', 'BBBBWBWB', 'BBBBBWBW', 'BBBBWBWB', 'BBBBBWBW', 'BBBBWBWB', 'BBBBBWBW']\n",
            "B\n",
            "['BBBWBWBW', 'BBBBWBWB', 'BBBWBWBW', 'BBBBWBWB', 'BBBWBWBW', 'BBBBWBWB', 'BBBWBWBW', 'BBBBWBWB']\n",
            "B\n",
            "['BBBBBBBB', 'BBBBBBBB', 'BBBBBBBB', 'BBBBBBBB', 'BBBBBBBB', 'BBBBBBBB', 'BBBBBBBB', 'WWWWWWWW']\n",
            "B\n",
            "['BBBBBBBB', 'BBBBBBBW', 'BBBBBBBB', 'BBBBBBBW', 'BBBBBBBB', 'BBBBBBBW', 'BBBBBBBB', 'WWWWWWWW']\n",
            "B\n",
            "['BBBBBBBW', 'BBBBBBWB', 'BBBBBBBW', 'BBBBBBWB', 'BBBBBBBW', 'BBBBBBWB', 'BBBBBBBW', 'WWWWWWWW']\n",
            "B\n",
            "['BBBBBBWB', 'BBBBBWBW', 'BBBBBBWB', 'BBBBBWBW', 'BBBBBBWB', 'BBBBBWBW', 'BBBBBBWB', 'WWWWWWWB']\n",
            "B\n",
            "['BBBBBWBW', 'BBBBWBWB', 'BBBBBWBW', 'BBBBWBWB', 'BBBBBWBW', 'BBBBWBWB', 'BBBBBWBW', 'WWWWWWBW']\n",
            "B\n",
            "['BBBBWBWB', 'BBBWBWBW', 'BBBBWBWB', 'BBBWBWBW', 'BBBBWBWB', 'BBBWBWBW', 'BBBBWBWB', 'WWWWWBWB']\n",
            "B\n",
            "['BBBBBBBB', 'BBBBBBBB', 'BBBBBBBB', 'BBBBBBBB', 'BBBBBBBB', 'BBBBBBBB', 'WWWWWWWW', 'WWWWWWWW']\n",
            "B\n",
            "['BBBBBBBW', 'BBBBBBBB', 'BBBBBBBW', 'BBBBBBBB', 'BBBBBBBW', 'BBBBBBBB', 'WWWWWWWW', 'WWWWWWWW']\n",
            "B\n",
            "['BBBBBBWB', 'BBBBBBBW', 'BBBBBBWB', 'BBBBBBBW', 'BBBBBBWB', 'BBBBBBBW', 'WWWWWWWW', 'WWWWWWWW']\n",
            "B\n",
            "['BBBBBWBW', 'BBBBBBWB', 'BBBBBWBW', 'BBBBBBWB', 'BBBBBWBW', 'BBBBBBWB', 'WWWWWWWB', 'WWWWWWWB']\n",
            "B\n",
            "['BBBBWBWB', 'BBBBBWBW', 'BBBBWBWB', 'BBBBBWBW', 'BBBBWBWB', 'BBBBBWBW', 'WWWWWWBW', 'WWWWWWBW']\n",
            "B\n",
            "['BBBWBWBW', 'BBBBWBWB', 'BBBWBWBW', 'BBBBWBWB', 'BBBWBWBW', 'BBBBWBWB', 'WWWWWBWB', 'WWWWWBWB']\n",
            "B\n",
            "[32, 28, 24, 20, 16, 12, 32, 29, 25, 23, 19, 17, 32, 29, 26, 23, 20, 17]\n",
            "12\n"
          ],
          "name": "stdout"
        }
      ]
    },
    {
      "cell_type": "code",
      "metadata": {
        "colab": {
          "base_uri": "https://localhost:8080/"
        },
        "id": "1xkszuiqwxA6",
        "outputId": "7243dcd7-8b07-415d-b2da-f5b2c3520854"
      },
      "source": [
        "arr = list(input())\n",
        "print(arr)\n"
      ],
      "execution_count": 15,
      "outputs": [
        {
          "output_type": "stream",
          "text": [
            "adfasdf\n",
            "['adfasdf']\n"
          ],
          "name": "stdout"
        }
      ]
    }
  ]
}